{
 "cells": [
  {
   "cell_type": "markdown",
   "id": "b1c10e1d-2811-428c-b5ef-b7dd8de7086d",
   "metadata": {},
   "source": [
    "<h1>Data Cleaning for KB Heatmap</h1>"
   ]
  },
  {
   "cell_type": "markdown",
   "id": "0b825746-31c0-490c-a05c-5ddd08449e89",
   "metadata": {},
   "source": [
    "by ERMITANO, Kate Justine\n",
    "\n",
    "<b>Supervisor:</b> Miss Fherlyn Yet"
   ]
  },
  {
   "cell_type": "markdown",
   "id": "49fcf723-9813-4157-a568-590536650e24",
   "metadata": {},
   "source": [
    "<h2>Read Dataset</h2>"
   ]
  },
  {
   "cell_type": "code",
   "execution_count": 1,
   "id": "35cea05b-1f39-4972-bb35-0547bbdd818d",
   "metadata": {},
   "outputs": [],
   "source": [
    "# import pandas and numpy\n",
    "import pandas as pd\n",
    "import numpy as np"
   ]
  },
  {
   "cell_type": "code",
   "execution_count": 2,
   "id": "a50e0fe6-81b0-4912-8058-cb67051b1391",
   "metadata": {},
   "outputs": [],
   "source": [
    "KB_df = pd.read_csv(\"../KB_Products_Heatmap_Masterfile.csv\")"
   ]
  },
  {
   "cell_type": "code",
   "execution_count": 3,
   "id": "645ee023-ea2a-4240-888f-79d4307a71b4",
   "metadata": {},
   "outputs": [
    {
     "name": "stdout",
     "output_type": "stream",
     "text": [
      "<class 'pandas.core.frame.DataFrame'>\n",
      "RangeIndex: 4491 entries, 0 to 4490\n",
      "Data columns (total 15 columns):\n",
      " #   Column          Non-Null Count  Dtype  \n",
      "---  ------          --------------  -----  \n",
      " 0   Business Model  4491 non-null   object \n",
      " 1   Category        4491 non-null   object \n",
      " 2   Subcategory     4490 non-null   object \n",
      " 3   Company Name    4491 non-null   object \n",
      " 4   Address         4491 non-null   object \n",
      " 5   Latitude        4491 non-null   float64\n",
      " 6   Longitude       4491 non-null   float64\n",
      " 7   State           4491 non-null   object \n",
      " 8   Country         4491 non-null   object \n",
      " 9   Contact No.     4077 non-null   object \n",
      " 10  Fax No.         1555 non-null   object \n",
      " 11  Website         4353 non-null   object \n",
      " 12  Email           2753 non-null   object \n",
      " 13  Annual sales    3767 non-null   object \n",
      " 14  Employees       3567 non-null   object \n",
      "dtypes: float64(2), object(13)\n",
      "memory usage: 526.4+ KB\n"
     ]
    }
   ],
   "source": [
    "KB_df.info()"
   ]
  },
  {
   "cell_type": "markdown",
   "id": "8348846c-0052-4b41-b02c-13d80d77cca7",
   "metadata": {},
   "source": [
    "<h2>Perform Data Cleaning</h2>"
   ]
  },
  {
   "cell_type": "code",
   "execution_count": 4,
   "id": "ceea41bc-149b-4f4b-ab9e-6729722b2cd1",
   "metadata": {},
   "outputs": [
    {
     "data": {
      "text/plain": [
       "array(['India', 'United Arab Emirates', 'USA', 'Taiwan', 'United Kingdom',\n",
       "       'Vietnam', 'China', 'Canada', 'France', 'Czech Republic', 'Kenya',\n",
       "       'Nigeria', 'Malaysia', 'Singapore', 'Thailand', 'Indonesia',\n",
       "       'Germany', 'Italy', 'Ireland', 'Norway', 'Romania', 'Netherlands',\n",
       "       'Sweden', 'Switzerland', 'Japan', 'Philippines', 'South Korea',\n",
       "       'Turkey', 'Austria', 'Portugal', 'Greece', 'Poland'], dtype=object)"
      ]
     },
     "execution_count": 4,
     "metadata": {},
     "output_type": "execute_result"
    }
   ],
   "source": [
    "KB_df['Country'].unique()"
   ]
  },
  {
   "cell_type": "code",
   "execution_count": 5,
   "id": "d2189376-1622-4820-bd52-ed113c9fb68a",
   "metadata": {},
   "outputs": [
    {
     "data": {
      "text/plain": [
       "array(['Maharashtra', 'Tamil Nadu', 'Karnataka', 'Telangana',\n",
       "       'West Bengal', 'Uttar Pradesh', 'Gujarat', 'Goa', 'Haryana',\n",
       "       'Odisha', 'Madhya Pradesh', 'Delhi', 'Punjab', 'Uttarakhand',\n",
       "       'Andhra Pradesh', 'Rajasthan', 'Himachal Pradesh',\n",
       "       'Dadra and Nagar Haveli and Daman and Diu', 'Jharkhand',\n",
       "       'North Eastern India', 'Kerala', 'Sikkim', 'Ras Al Khaimah',\n",
       "       'Indiana', 'Georgia', 'Minnesota', 'Connecticut', 'North Carolina',\n",
       "       'Missouri', 'New York', 'Ohio', 'Kentucky', 'Washington',\n",
       "       'Nebraska', 'Illinois', 'Iowa', 'Wisconsin', 'Florida',\n",
       "       'New Hampshire', 'Tennessee', 'Louisiana', 'California', 'Texas',\n",
       "       'Michigan', 'Pennsylvania', 'Vermont', 'Oregon', 'South Carolina',\n",
       "       'New Jersey', 'Nevada', 'Colorado', 'Oklahoma', 'Massachusetts',\n",
       "       'Alabama', 'Utah', 'Maine', 'Taipei', 'New Taipei', 'Taoyuan',\n",
       "       'Hsinchu', 'Taichung', 'Chiayi', 'Miaoli', 'Tainan', 'Changhua',\n",
       "       'Kaohsiung', 'Yunlin', 'Nantou', 'Taoyuan ', 'Lincolnshire',\n",
       "       'Cheshire', 'West Midlands', 'Staffordshire', 'Lancashire',\n",
       "       'North Yorkshire', 'Greater London', 'South East England',\n",
       "       'Hampshire', 'Scotland', 'Kent', 'West Yorkshire',\n",
       "       'North West England', 'Hertfordshire', 'East Midlands',\n",
       "       'Greater Manchester', 'Bristol', 'Lanarkshire', 'Essex',\n",
       "       'South Yorkshire', 'Binh Duong', 'Ho Chi Minh', 'Jiangsu',\n",
       "       'Shandong', 'Guangdong', 'Sichuan', 'Hong Kong', 'Anhui',\n",
       "       'Shanghai', 'Chongqing', 'Henan', 'Zhejiang', 'Hebei', 'Beijing',\n",
       "       'Tianjin', 'Shaanxi', 'Liaoning', 'Guizhou', 'Gansu', 'Hubei',\n",
       "       'Heilongjiang', 'Fujian', 'Jiangxi', 'Ontario', 'Hunan',\n",
       "       'Île-de-France', 'Nouvelle-Aquitaine',\n",
       "       'Centre‑Val\\u202fde\\u202fLoire', 'Hauts‑de‑France',\n",
       "       'Grand\\u202fEst', 'Occitanie', 'Auvergne-Rhône-Alpes',\n",
       "       'Bourgogne-Franche-Comté', 'Normandie ', 'Normandie',\n",
       "       'Pays de la Loire', 'Provence-Alpes-Côte d’Azur', 'Bretagne',\n",
       "       'South Moravian', 'Olomouc', 'Karlovy Vary', 'Ústí nad Labem',\n",
       "       'Central Bohemian', 'Plzeň', 'Zlín', 'Pardubice', 'Prague',\n",
       "       'Moravian-Silesian', 'Liberec', 'Hradec Králové', 'Vysočina',\n",
       "       'South Bohemian', 'Nairobi', 'Kiambu', 'Kajiado', 'Machakos',\n",
       "       'Mombasa', 'Kisumu', 'Kisii', 'Uasin Gishu', 'Trans-Nzoia',\n",
       "       'Nakuru', 'Meru', 'Embu', 'Nyeri', 'Kilifi', 'Kwale', 'Tana River',\n",
       "       'Lamu', 'Makueni', 'Bungoma', 'Migori', 'Tharaka Nithi', 'Lagos',\n",
       "       'FCT', 'Plateau', 'Kano', 'Delta', 'Enugu', 'Adamawa', 'Ondo',\n",
       "       'Ogun', 'Cross River', 'Niger', 'Kwara', 'Kaduna', 'Oyo', 'Edo',\n",
       "       'Benue', 'Abia', 'Imo', 'Rivers', 'Kogi', 'Anambra', 'Perak',\n",
       "       'Selangor', 'Johor', 'Sabah', 'Sarawak', 'Penang', 'Melaka',\n",
       "       'Central Region', 'Negeri Sembilan', 'Pahang', 'Terengganu',\n",
       "       'Bangkok', 'Kelantan', 'Kedah', 'East Region', 'North-East Region',\n",
       "       'West Region', 'North Region', 'Banten', 'West Java', 'Jakarta',\n",
       "       'Kepulauan Riau', 'Central Java', 'Bali', 'Yogyakarta',\n",
       "       'Samut\\xa0Prakan', 'Khon Kaen', 'Rayong', 'Nonthaburi',\n",
       "       'East Java', 'South Sulawesi', 'East Kalimantan',\n",
       "       'Central Kalimantan', 'South East Sulawesi', 'Nakhon Pathom',\n",
       "       'Chon Buri', 'Songkhla', 'Phuket', 'Chiang Mai', 'Surat Thani',\n",
       "       'Pathum Thani', 'Prachuap Khiri Khan', 'Samut Sakhon',\n",
       "       'Chachoengsao', 'Samut Songkhram', 'Ayutthaya', 'Prachin Buri',\n",
       "       'Saraburi', 'Samut Prakan', 'Rhineland-Palatinate',\n",
       "       'Baden-Württemberg', 'Bavaria', 'North Rhine-Westphalia', 'Saxony',\n",
       "       'Mecklenburg-Vorpommern', 'Hesse', 'Saxony-Anhalt',\n",
       "       'Schleswig-Holstein', 'Hamburg', 'Lower Saxony', 'Thuringia',\n",
       "       'Saarland', 'Brandenburg', 'Veneto', 'Lazio', 'Marche',\n",
       "       'Emilia-Romagna', 'Campania', 'Lombardy', 'Tuscany', 'Piedmont',\n",
       "       'Friuli-Venezia Giulia', 'Apulia', 'Abruzzo', 'Sicily', 'Trento',\n",
       "       'Gloucestershire', 'Northamptonshire', 'Cambridgeshire',\n",
       "       'Somerset ', 'Buckinghamshire', 'Derbyshire', 'Aberdeenshire',\n",
       "       'Cornwall', 'Berkshire', 'West Sussex', 'Monmouthshire (Wales)',\n",
       "       'Cardiff (Wales)', 'County Durham', 'North Ayrshire (Scotland)',\n",
       "       'Tyne and Wear', 'Oxfordshire', 'Wiltshire', 'Shropshire',\n",
       "       'South Lanarkshire (Scotland)', 'Leicestershire', 'Surrey',\n",
       "       'Merseyside', 'Worcestershire', 'Somerset', 'Warwickshire',\n",
       "       'Suffolk', 'Nottinghamshire', 'Devon', 'Vale of Glamorgan',\n",
       "       'West Midlands (Dudley, West Midlands UA)', 'Dublin', 'Cork',\n",
       "       'Carlow', 'Meath', 'Wicklow', 'Limerick', 'Wexford', 'Mayo',\n",
       "       'Leitrim', 'Galway', 'Louth', 'Ennis', 'South Sumatra', 'Lampung',\n",
       "       'North Sumatra', 'Viken', 'Skagerrak', 'Vestland', 'Rogaland',\n",
       "       'Innlandet', 'Trøndelag', 'Agder', 'Møre og Romsdal',\n",
       "       'Bucuresti-Ilfov', 'Oltenia', 'Dobrogea', 'Banat', 'Transilvania',\n",
       "       'Muntenia', 'Moldova', 'Crișana', 'North Brabant', 'Gelderland',\n",
       "       'South Holland', 'North Holland', 'Utrecht', 'Flevoland',\n",
       "       'Overijssel', 'Limburg', 'Friesland', 'Drenthe', 'Groningen',\n",
       "       'Skåne', 'Västra Götaland', 'Kronoberg', 'Västmanland',\n",
       "       'Västerbotten', 'Värmland', 'Stockholm', 'Jönköping', 'Halland',\n",
       "       'Örebro', 'Dalarna', 'Blekinge', 'Kalmar', 'Solna', 'Södermanland',\n",
       "       'Malmö', 'Norrbotten', 'Östergötland', 'Uppsala', 'Västernorrland',\n",
       "       'Jura', 'St. Gallen', 'Valais', 'Zürich', 'Graubünden',\n",
       "       'Solothurn', 'Lucerne', 'Bern', 'Zug', 'Geneve', 'Vaud',\n",
       "       'Basel-Landschaft', 'Ticino', 'Neuchâtel', 'Thurgau', 'Aargau',\n",
       "       'Obwalden', 'Schaffhausen', 'Tokyo', 'Yamanashi', 'Shizuoka',\n",
       "       'Saitama', 'Kanagawa', 'Fukushima', 'Aichi', 'Osaka', 'Mie',\n",
       "       'Nara', 'Hiroshima', 'Hyogo', 'Niigata', 'Miyagi', 'Gunma',\n",
       "       'Hokkaido', 'Kagoshima', 'Ibaraki', 'Oita', 'Kumamoto', 'Fukuoka',\n",
       "       'Kochi', 'Toyama', 'Kyoto', 'Chiba', 'Ishikawa', 'Shiga', 'Iwate',\n",
       "       'Yamagata', 'Nagano', 'Kagawa', 'Gifu', 'Saga', 'Laguna',\n",
       "       'Metro Manila', 'Rizal', 'Pampanga', 'Cavite', 'Metro Manila ',\n",
       "       'Cebu ', 'Davao del Sur', 'Bulacan', 'Gyeonggi-do', 'Busan',\n",
       "       'Gyeongsangbuk-do', 'Chungcheongnam-do', 'Seoul', 'Jeollanam-do',\n",
       "       'Gyeongsangnam-do', 'Chungcheongbuk-do', 'Jeollabuk-do',\n",
       "       'Gangwon-do', 'Jeju', 'Marmara', 'Aegean', 'Central Anatolia',\n",
       "       'Mediterranean', 'Eastern Anatolia', 'Southeast Anatolia',\n",
       "       'Black Sea Region', 'Oberösterreich', 'Niederösterreich',\n",
       "       'Salzburg', 'Tirol', 'Steiermark', 'Kärnten', 'Vorarlberg',\n",
       "       'Aveiro ', 'Águeda', 'Porto', 'Aveiro', 'Leiria', 'Lisbon ',\n",
       "       'Lisbon', 'Braga', 'Setúbal', 'Castelo\\u202fBranco',\n",
       "       'Central Macedonia', 'Attica', 'Hanoi', 'Quang Nam', 'Ha Noi',\n",
       "       'Dong Nai', 'Ho Chi Minh ', 'Hà Nội', 'Đà Nẵng', 'Gliwice',\n",
       "       'Katowice', 'Warszawa', 'Pyrzyce', 'Wrocław', 'Kraków', 'Tuczępy',\n",
       "       'Poznań', 'Piekary Śląskie', 'Gdańsk', 'Włocławek', 'Tychy',\n",
       "       'Tarczyn', 'Białystok', 'Sosnowiec', 'Opoczno', 'Police',\n",
       "       'Palędzie', 'Szamocin', 'Bolesławiec', 'Dziekanów Leśny',\n",
       "       'Kujawsko-Pomorskie', 'Chmielów', 'Radom', 'Opole', 'Żarów',\n",
       "       'Pobiedziska', 'Nieporet', 'Pszczonów', 'Rogi', 'Krakow',\n",
       "       'Świebodzin', 'Krosno Odrzańskie', 'Łańcut', 'Czarnków', 'Łódź',\n",
       "       'Gądki', 'Ustroń', 'Bytom', 'Otwock', 'Pleszew',\n",
       "       'Dąbrowa Górnicza', 'Olkusz', 'Nowy Sącz', 'Zawiercie', 'Toruń',\n",
       "       'Sulejówek', 'Bielsko-Biała', 'Murowana Goślina', 'Mokry Dwór',\n",
       "       'Leszno', 'Brenna', 'Bydgoszcz', 'Szczecin', 'Kopcie', 'Wałbrzych',\n",
       "       'Rybnik', 'Mielec', 'Wolbrom', 'Koszalin', 'Czaniec', 'Legnica',\n",
       "       'Sanok', 'Kokotów', 'Podłęże', 'Macierzysz', 'Mysłowice', 'Wyry',\n",
       "       'Kielce', 'Jasienica', 'Nowy Tomyśl', 'Nowy Targ', 'Inowrocław',\n",
       "       'Śmigiel', 'Krępice', 'Jawor', 'Gdynia', 'Komorów', 'Namysłów',\n",
       "       'Łomża', 'Balice', 'Pleśna', 'Lisi Ogon', 'Milicz', 'Malbork',\n",
       "       'Bielsko', 'Michałowice', 'Zwoleń', 'Luboń', 'Chrzanów', 'Zamość'],\n",
       "      dtype=object)"
      ]
     },
     "execution_count": 5,
     "metadata": {},
     "output_type": "execute_result"
    }
   ],
   "source": [
    "KB_df['State'].unique()"
   ]
  },
  {
   "cell_type": "code",
   "execution_count": 6,
   "id": "01d43d65-73d7-42ec-92a6-1f56ad4d92ae",
   "metadata": {},
   "outputs": [
    {
     "data": {
      "text/plain": [
       "Business Model    False\n",
       "Category          False\n",
       "Subcategory        True\n",
       "Company Name      False\n",
       "Address           False\n",
       "Latitude          False\n",
       "Longitude         False\n",
       "State             False\n",
       "Country           False\n",
       "Contact No.        True\n",
       "Fax No.            True\n",
       "Website            True\n",
       "Email              True\n",
       "Annual sales       True\n",
       "Employees          True\n",
       "dtype: bool"
      ]
     },
     "execution_count": 6,
     "metadata": {},
     "output_type": "execute_result"
    }
   ],
   "source": [
    "KB_df.isnull().any()"
   ]
  },
  {
   "cell_type": "markdown",
   "id": "38a0714e-e6c5-4926-a3db-5dc110d607b8",
   "metadata": {},
   "source": [
    "<h3>Resolve Annual Sales</h3>"
   ]
  },
  {
   "cell_type": "code",
   "execution_count": 7,
   "id": "66aa9a69-be14-47f6-a9be-7c11acd84081",
   "metadata": {},
   "outputs": [
    {
     "data": {
      "text/plain": [
       "4471         $20,303.00\n",
       "4472         $82,813.00\n",
       "4473         $76,036.00\n",
       "4474        $157,987.00\n",
       "4475         $82,813.00\n",
       "4476     $11,223,300.00\n",
       "4477         $82,813.00\n",
       "4478      $3,322,600.00\n",
       "4479     $31,594,700.00\n",
       "4480     $30,206,400.00\n",
       "4481     $11,909,900.00\n",
       "4482     $12,157,800.00\n",
       "4483      $3,861,300.00\n",
       "4484         $82,813.00\n",
       "4485        $117,236.00\n",
       "4486        $454,943.00\n",
       "4487      $6,898,700.00\n",
       "4488        $284,815.00\n",
       "4489         $82,813.00\n",
       "4490    $154,063,800.00\n",
       "Name: Annual sales, dtype: object"
      ]
     },
     "execution_count": 7,
     "metadata": {},
     "output_type": "execute_result"
    }
   ],
   "source": [
    "KB_df['Annual sales'].tail(20)"
   ]
  },
  {
   "cell_type": "code",
   "execution_count": 8,
   "id": "103485d5-88ff-4e93-9a41-48b57b86255b",
   "metadata": {},
   "outputs": [],
   "source": [
    "KB_df['Annual sales'] = KB_df['Annual sales'].str.replace(r'[\\$,]', '', regex=True).str.replace('-', '')"
   ]
  },
  {
   "cell_type": "code",
   "execution_count": 9,
   "id": "5810e074-bc18-4e06-8281-62ccc98abad6",
   "metadata": {},
   "outputs": [],
   "source": [
    "KB_df['Annual sales'] = pd.to_numeric(KB_df['Annual sales'], errors='coerce').astype('float64')"
   ]
  },
  {
   "cell_type": "markdown",
   "id": "2017d42d-dd62-440f-b5bd-3c74c8e28477",
   "metadata": {},
   "source": [
    "<h4>Fill Null Values</h4>"
   ]
  },
  {
   "cell_type": "code",
   "execution_count": 10,
   "id": "f7c1fcbc-2f8d-4633-9589-2f487823f694",
   "metadata": {},
   "outputs": [],
   "source": [
    "Annual_sales_median = KB_df['Annual sales'].median()"
   ]
  },
  {
   "cell_type": "code",
   "execution_count": 11,
   "id": "17aac519-b0b0-410c-8081-afdf5c0d95ae",
   "metadata": {},
   "outputs": [],
   "source": [
    "Annual_sales_mean = KB_df['Annual sales'].mean()"
   ]
  },
  {
   "cell_type": "code",
   "execution_count": 12,
   "id": "6feee2ee-b745-4ba1-b8f8-8836a0a90ae4",
   "metadata": {},
   "outputs": [
    {
     "name": "stdout",
     "output_type": "stream",
     "text": [
      "8138299.0\n",
      "1237421215.6921756\n"
     ]
    }
   ],
   "source": [
    "print(Annual_sales_median)\n",
    "print(Annual_sales_mean)"
   ]
  },
  {
   "cell_type": "code",
   "execution_count": 13,
   "id": "47e939dd-67fb-4fe9-918e-8fb9bc065ccf",
   "metadata": {},
   "outputs": [],
   "source": [
    "KB_df['Annual sales'] = KB_df['Annual sales'].fillna(Annual_sales_median)"
   ]
  },
  {
   "cell_type": "markdown",
   "id": "0e86cff0-a382-4ada-84e8-6b82345af16a",
   "metadata": {},
   "source": [
    "<h3>Resolve Employees</h3>"
   ]
  },
  {
   "cell_type": "code",
   "execution_count": 14,
   "id": "ee969205-3cf6-42c8-9abe-07d08c6f7837",
   "metadata": {},
   "outputs": [
    {
     "data": {
      "text/plain": [
       "4471      5\n",
       "4472      1\n",
       "4473      1\n",
       "4474      6\n",
       "4475      1\n",
       "4476     50\n",
       "4477      1\n",
       "4478     34\n",
       "4479    200\n",
       "4480    243\n",
       "4481    171\n",
       "4482    101\n",
       "4483    203\n",
       "4484      1\n",
       "4485      5\n",
       "4486      1\n",
       "4487     15\n",
       "4488      5\n",
       "4489      1\n",
       "4490    357\n",
       "Name: Employees, dtype: object"
      ]
     },
     "execution_count": 14,
     "metadata": {},
     "output_type": "execute_result"
    }
   ],
   "source": [
    "KB_df['Employees'].tail(20)"
   ]
  },
  {
   "cell_type": "code",
   "execution_count": 15,
   "id": "a23b74cb-dab9-46ff-bf74-778b42421169",
   "metadata": {},
   "outputs": [],
   "source": [
    "KB_df['Employees'] = KB_df['Employees'].str.replace(r'[\\$,]', '', regex=True).str.replace('-', '')"
   ]
  },
  {
   "cell_type": "code",
   "execution_count": 16,
   "id": "49515029-d38b-4567-8c78-b6d96c2c0e45",
   "metadata": {},
   "outputs": [],
   "source": [
    "KB_df['Employees'] = pd.to_numeric(KB_df['Employees'], errors='coerce').astype('Int64')"
   ]
  },
  {
   "cell_type": "markdown",
   "id": "3a819933-cead-4560-bf3b-b1fe40f5f073",
   "metadata": {},
   "source": [
    "<h4>Fill Null Values</h4>"
   ]
  },
  {
   "cell_type": "code",
   "execution_count": 17,
   "id": "abfec1ac-33fd-4a72-b0c8-9edd16477f2f",
   "metadata": {},
   "outputs": [
    {
     "data": {
      "text/plain": [
       "97172"
      ]
     },
     "execution_count": 17,
     "metadata": {},
     "output_type": "execute_result"
    }
   ],
   "source": [
    "Employees_mean = round(KB_df['Employees'].mean())\n",
    "int(Employees_mean)"
   ]
  },
  {
   "cell_type": "code",
   "execution_count": 18,
   "id": "c56d7625-cada-4ea8-8720-a27a6910e697",
   "metadata": {},
   "outputs": [
    {
     "data": {
      "text/plain": [
       "50"
      ]
     },
     "execution_count": 18,
     "metadata": {},
     "output_type": "execute_result"
    }
   ],
   "source": [
    "Employees_median = round(KB_df['Employees'].median())\n",
    "int(Employees_median)"
   ]
  },
  {
   "cell_type": "code",
   "execution_count": 19,
   "id": "ef9d8b49-b820-4435-8285-64b7c3bb3917",
   "metadata": {},
   "outputs": [],
   "source": [
    "KB_df['Employees'] = KB_df['Employees'].fillna(int(Employees_median))"
   ]
  },
  {
   "cell_type": "markdown",
   "id": "1c7ffbfd-7d34-4f46-ab75-35fb807972b0",
   "metadata": {},
   "source": [
    "<h3>Detect and Resolve Outliers</h3>"
   ]
  },
  {
   "cell_type": "code",
   "execution_count": 20,
   "id": "426c6727-0bb3-4eaa-b758-6873f62ef20c",
   "metadata": {},
   "outputs": [],
   "source": [
    "%matplotlib inline\n",
    "# import the library\n",
    "import matplotlib.pyplot as plt\n",
    "# set up a theme for all visuals\n",
    "plt.style.use('fivethirtyeight')"
   ]
  },
  {
   "cell_type": "code",
   "execution_count": 21,
   "id": "2c838783-82e2-4aeb-a141-434e376ebe51",
   "metadata": {},
   "outputs": [
    {
     "data": {
      "text/plain": [
       "<matplotlib.collections.PathCollection at 0x15233509550>"
      ]
     },
     "execution_count": 21,
     "metadata": {},
     "output_type": "execute_result"
    }
   ],
   "source": [
    "#plt.figure(figsize=(12,6))\n",
    "plt.scatter(KB_df['Employees'], KB_df['Annual sales'], color='#fc67a5')"
   ]
  },
  {
   "cell_type": "code",
   "execution_count": 22,
   "id": "8850c796-dce6-4d1a-b75b-48851e7afa71",
   "metadata": {},
   "outputs": [
    {
     "data": {
      "image/png": "[encoded data removed]",
      "text/plain": [
       "<Figure size 640x480 with 1 Axes>"
      ]
     },
     "metadata": {},
     "output_type": "display_data"
    }
   ],
   "source": [
    "plt.show()"
   ]
  },
  {
   "cell_type": "code",
   "execution_count": 23,
   "id": "86e125ba-e5b1-46a1-8179-570a8d203077",
   "metadata": {},
   "outputs": [],
   "source": [
    "# Calculate IQR for 'sales'\n",
    "Q1 = KB_df['Annual sales'].quantile(0.25)\n",
    "Q3 = KB_df['Annual sales'].quantile(0.75)\n",
    "IQR = Q3 - Q1\n",
    "lower_bound = Q1 - 1.5 * IQR\n",
    "upper_bound = Q3 + 1.5 * IQR"
   ]
  },
  {
   "cell_type": "code",
   "execution_count": 24,
   "id": "aec9e1f3-f66c-4053-91ed-ad05c71f1083",
   "metadata": {},
   "outputs": [],
   "source": [
    "KB_df['Annual sales log'] = np.log10(KB_df['Annual sales'] + 1)"
   ]
  },
  {
   "cell_type": "code",
   "execution_count": 25,
   "id": "7cabf7bb-6d9d-4287-a6ce-6be448abed46",
   "metadata": {},
   "outputs": [],
   "source": [
    "KB_df['Employees log'] = np.log10(KB_df['Employees'] + 1)"
   ]
  },
  {
   "cell_type": "code",
   "execution_count": 26,
   "id": "e26af871-8fea-40b5-8418-d8c46fb01c3e",
   "metadata": {},
   "outputs": [
    {
     "data": {
      "text/plain": [
       "<matplotlib.collections.PathCollection at 0x152336347d0>"
      ]
     },
     "execution_count": 26,
     "metadata": {},
     "output_type": "execute_result"
    }
   ],
   "source": [
    "#plt.figure(figsize=(12,6))\n",
    "plt.scatter(KB_df['Employees log'], KB_df['Annual sales log'], color='#fc67a5')"
   ]
  },
  {
   "cell_type": "code",
   "execution_count": 27,
   "id": "a5771b7c-7189-4fa7-aa2b-a0fb19a8932a",
   "metadata": {},
   "outputs": [
    {
     "data": {
      "image/png": "[encoded data removed]",
      "text/plain": [
       "<Figure size 640x480 with 1 Axes>"
      ]
     },
     "metadata": {},
     "output_type": "display_data"
    }
   ],
   "source": [
    "plt.show()"
   ]
  },
  {
   "cell_type": "markdown",
   "id": "bce193e4-0755-49bd-be77-4517e0119c8f",
   "metadata": {},
   "source": [
    "<h4>Fill Null Values</h4>"
   ]
  },
  {
   "cell_type": "code",
   "execution_count": 28,
   "id": "a85ad5bd-02d6-457c-8cba-9daf93abd4a4",
   "metadata": {},
   "outputs": [],
   "source": [
    "Annual_sales_mean = round(KB_df['Annual sales log'].mean())\n",
    "KB_df['Annual sales log'] = KB_df['Annual sales log'].fillna(int(Annual_sales_mean))"
   ]
  },
  {
   "cell_type": "code",
   "execution_count": 29,
   "id": "8ed90218-2dc6-4875-a421-ad3f93c54ddf",
   "metadata": {},
   "outputs": [],
   "source": [
    "Employees_log_mean = round(KB_df['Employees log'].mean())\n",
    "KB_df['Employees log'] = KB_df['Employees log'].fillna(int(Employees_log_mean))"
   ]
  },
  {
   "cell_type": "markdown",
   "id": "8dcb5ce4-9118-4ea7-a9a2-c330ed4ce054",
   "metadata": {},
   "source": [
    "<h3>Resolve Categories</h3>"
   ]
  },
  {
   "cell_type": "code",
   "execution_count": 30,
   "id": "d9140bbf-9b1b-4e59-ab70-a891625a88b8",
   "metadata": {},
   "outputs": [
    {
     "data": {
      "text/plain": [
       "array(['Actuators', 'Ceramics', 'Coffee Grinders',\n",
       "       'Commercial / Industrial Ovens',\n",
       "       'Commercial Washing/Drying Machine', 'Door Openers',\n",
       "       'Duct Cleaning', 'Ice Cream/Ice Dispensing Machines',\n",
       "       'Kitchen Exhaust Fans', 'Knife Grinding', 'Medical', 'Mixers',\n",
       "       'Pumps', 'Medical Equipment', 'Packaging Machine'], dtype=object)"
      ]
     },
     "execution_count": 30,
     "metadata": {},
     "output_type": "execute_result"
    }
   ],
   "source": [
    "KB_df['Category'].unique()"
   ]
  },
  {
   "cell_type": "code",
   "execution_count": 31,
   "id": "afd7435f-c18d-4695-a298-7a70688866b2",
   "metadata": {},
   "outputs": [],
   "source": [
    "KB_df['Category'] = KB_df['Category'].str.replace('Medical Equipment','Medical')"
   ]
  },
  {
   "cell_type": "code",
   "execution_count": 32,
   "id": "d634032a-1b8e-4e20-8e43-8b97843d5d98",
   "metadata": {},
   "outputs": [],
   "source": [
    "KB_df = KB_df[~KB_df['Category'].isin(['Packaging Machine'])]"
   ]
  },
  {
   "cell_type": "markdown",
   "id": "7c62138c-3763-4924-b0b1-b8280536717a",
   "metadata": {},
   "source": [
    "<h3>Resolve Repetitive Companies</h3>"
   ]
  },
  {
   "cell_type": "code",
   "execution_count": 33,
   "id": "81adcc9d-a376-40d6-ba73-8ffe37e685d6",
   "metadata": {},
   "outputs": [
    {
     "data": {
      "text/plain": [
       "array(['KSB Limited - Registered Office',\n",
       "       'KSB Limited - Manufacturing Plant (Pimpri)',\n",
       "       'KSB Limited - Manufacturing Plant (Chinchwad)', ...,\n",
       "       'MUDTEST SP Z O O', 'BMG TRADE BARTŁOMIEJ GRABOWSKI', 'TOYA S A'],\n",
       "      dtype=object)"
      ]
     },
     "execution_count": 33,
     "metadata": {},
     "output_type": "execute_result"
    }
   ],
   "source": [
    "KB_df['Company Name'].unique()"
   ]
  },
  {
   "cell_type": "code",
   "execution_count": 34,
   "id": "bc74ec3c-1181-4f10-8c37-e2a19cee6dba",
   "metadata": {},
   "outputs": [],
   "source": [
    "KB_df['Company Parent Name'] = KB_df.loc[:, 'Company Name']"
   ]
  },
  {
   "cell_type": "code",
   "execution_count": 35,
   "id": "9c86c1ee-e604-44c2-853f-30a0f8ea516a",
   "metadata": {},
   "outputs": [],
   "source": [
    "KB_df['Company Parent Name'] = KB_df['Company Parent Name'].str.split(' - ').str[0]"
   ]
  },
  {
   "cell_type": "code",
   "execution_count": 36,
   "id": "18475408-9f3c-41d8-8d71-10c99e9848e8",
   "metadata": {},
   "outputs": [
    {
     "data": {
      "text/html": [
       "<div>\n",
       "<style scoped>\n",
       "    .dataframe tbody tr th:only-of-type {\n",
       "        vertical-align: middle;\n",
       "    }\n",
       "\n",
       "    .dataframe tbody tr th {\n",
       "        vertical-align: top;\n",
       "    }\n",
       "\n",
       "    .dataframe thead th {\n",
       "        text-align: right;\n",
       "    }\n",
       "</style>\n",
       "<table border=\"1\" class=\"dataframe\">\n",
       "  <thead>\n",
       "    <tr style=\"text-align: right;\">\n",
       "      <th></th>\n",
       "      <th>Business Model</th>\n",
       "      <th>Category</th>\n",
       "      <th>Subcategory</th>\n",
       "      <th>Company Name</th>\n",
       "      <th>Address</th>\n",
       "      <th>Latitude</th>\n",
       "      <th>Longitude</th>\n",
       "      <th>State</th>\n",
       "      <th>Country</th>\n",
       "      <th>Contact No.</th>\n",
       "      <th>Fax No.</th>\n",
       "      <th>Website</th>\n",
       "      <th>Email</th>\n",
       "      <th>Annual sales</th>\n",
       "      <th>Employees</th>\n",
       "      <th>Annual sales log</th>\n",
       "      <th>Employees log</th>\n",
       "      <th>Company Parent Name</th>\n",
       "    </tr>\n",
       "  </thead>\n",
       "  <tbody>\n",
       "    <tr>\n",
       "      <th>0</th>\n",
       "      <td>OEM</td>\n",
       "      <td>Actuators</td>\n",
       "      <td>Actuators</td>\n",
       "      <td>KSB Limited - Registered Office</td>\n",
       "      <td>Office No. 601, Runwal R-Square, L.B.S. Marg, ...</td>\n",
       "      <td>19.1700</td>\n",
       "      <td>72.9400</td>\n",
       "      <td>Maharashtra</td>\n",
       "      <td>India</td>\n",
       "      <td>91 20 2710 1000</td>\n",
       "      <td>NaN</td>\n",
       "      <td>ksb.com</td>\n",
       "      <td>NaN</td>\n",
       "      <td>220000000.0</td>\n",
       "      <td>341</td>\n",
       "      <td>8.342423</td>\n",
       "      <td>2.534026</td>\n",
       "      <td>KSB Limited</td>\n",
       "    </tr>\n",
       "    <tr>\n",
       "      <th>1</th>\n",
       "      <td>OEM</td>\n",
       "      <td>Actuators</td>\n",
       "      <td>Actuators</td>\n",
       "      <td>KSB Limited - Manufacturing Plant (Pimpri)</td>\n",
       "      <td>Pimpri, Pune, Maharashtra, India</td>\n",
       "      <td>18.6200</td>\n",
       "      <td>73.8000</td>\n",
       "      <td>Maharashtra</td>\n",
       "      <td>India</td>\n",
       "      <td>91 20 2710 1000</td>\n",
       "      <td>NaN</td>\n",
       "      <td>ksb.comen-in</td>\n",
       "      <td>NaN</td>\n",
       "      <td>220000000.0</td>\n",
       "      <td>341</td>\n",
       "      <td>8.342423</td>\n",
       "      <td>2.534026</td>\n",
       "      <td>KSB Limited</td>\n",
       "    </tr>\n",
       "    <tr>\n",
       "      <th>2</th>\n",
       "      <td>OEM</td>\n",
       "      <td>Actuators</td>\n",
       "      <td>Actuators</td>\n",
       "      <td>KSB Limited - Manufacturing Plant (Chinchwad)</td>\n",
       "      <td>Chinchwad, Pune, Maharashtra, India</td>\n",
       "      <td>18.6400</td>\n",
       "      <td>73.8000</td>\n",
       "      <td>Maharashtra</td>\n",
       "      <td>India</td>\n",
       "      <td>91 20 2710 1000</td>\n",
       "      <td>NaN</td>\n",
       "      <td>ksb.comen-in</td>\n",
       "      <td>NaN</td>\n",
       "      <td>220000000.0</td>\n",
       "      <td>341</td>\n",
       "      <td>8.342423</td>\n",
       "      <td>2.534026</td>\n",
       "      <td>KSB Limited</td>\n",
       "    </tr>\n",
       "    <tr>\n",
       "      <th>3</th>\n",
       "      <td>OEM</td>\n",
       "      <td>Actuators</td>\n",
       "      <td>Actuators</td>\n",
       "      <td>KSB Limited - Manufacturing Plant (Khandala)</td>\n",
       "      <td>Khandala, Satara District, Maharashtra, India</td>\n",
       "      <td>18.0300</td>\n",
       "      <td>73.9500</td>\n",
       "      <td>Maharashtra</td>\n",
       "      <td>India</td>\n",
       "      <td>91 20 2710 1000</td>\n",
       "      <td>NaN</td>\n",
       "      <td>ksb.comen-in</td>\n",
       "      <td>NaN</td>\n",
       "      <td>220000000.0</td>\n",
       "      <td>341</td>\n",
       "      <td>8.342423</td>\n",
       "      <td>2.534026</td>\n",
       "      <td>KSB Limited</td>\n",
       "    </tr>\n",
       "    <tr>\n",
       "      <th>4</th>\n",
       "      <td>OEM</td>\n",
       "      <td>Actuators</td>\n",
       "      <td>Actuators</td>\n",
       "      <td>KSB Limited - Manufacturing Plant (Vambori)</td>\n",
       "      <td>Vambori, Ahmednagar District, Maharashtra, India</td>\n",
       "      <td>19.3000</td>\n",
       "      <td>74.8000</td>\n",
       "      <td>Maharashtra</td>\n",
       "      <td>India</td>\n",
       "      <td>91 20 2710 1000</td>\n",
       "      <td>NaN</td>\n",
       "      <td>ksb.comen-in</td>\n",
       "      <td>NaN</td>\n",
       "      <td>220000000.0</td>\n",
       "      <td>341</td>\n",
       "      <td>8.342423</td>\n",
       "      <td>2.534026</td>\n",
       "      <td>KSB Limited</td>\n",
       "    </tr>\n",
       "    <tr>\n",
       "      <th>5</th>\n",
       "      <td>OEM</td>\n",
       "      <td>Actuators</td>\n",
       "      <td>Actuators</td>\n",
       "      <td>KSB Limited - Manufacturing Plant (Sinnar)</td>\n",
       "      <td>Sinnar, Nashik District, Maharashtra, India</td>\n",
       "      <td>19.9000</td>\n",
       "      <td>74.0000</td>\n",
       "      <td>Maharashtra</td>\n",
       "      <td>India</td>\n",
       "      <td>91 20 2710 1000</td>\n",
       "      <td>NaN</td>\n",
       "      <td>ksb.comen-in</td>\n",
       "      <td>NaN</td>\n",
       "      <td>220000000.0</td>\n",
       "      <td>341</td>\n",
       "      <td>8.342423</td>\n",
       "      <td>2.534026</td>\n",
       "      <td>KSB Limited</td>\n",
       "    </tr>\n",
       "    <tr>\n",
       "      <th>6</th>\n",
       "      <td>OEM</td>\n",
       "      <td>Actuators</td>\n",
       "      <td>Actuators</td>\n",
       "      <td>KSB Limited - Manufacturing Plant (Coimbatore)</td>\n",
       "      <td>Coimbatore, Tamil Nadu, India</td>\n",
       "      <td>11.0000</td>\n",
       "      <td>76.9600</td>\n",
       "      <td>Tamil Nadu</td>\n",
       "      <td>India</td>\n",
       "      <td>91 20 2710 1000</td>\n",
       "      <td>NaN</td>\n",
       "      <td>ksb.comen-in</td>\n",
       "      <td>NaN</td>\n",
       "      <td>220000000.0</td>\n",
       "      <td>341</td>\n",
       "      <td>8.342423</td>\n",
       "      <td>2.534026</td>\n",
       "      <td>KSB Limited</td>\n",
       "    </tr>\n",
       "    <tr>\n",
       "      <th>7</th>\n",
       "      <td>OEM</td>\n",
       "      <td>Actuators</td>\n",
       "      <td>Actuators</td>\n",
       "      <td>Rotork India - Headquarters</td>\n",
       "      <td>28B, Ambattur Industrial Estate (North), Chenn...</td>\n",
       "      <td>13.0861</td>\n",
       "      <td>80.1645</td>\n",
       "      <td>Tamil Nadu</td>\n",
       "      <td>India</td>\n",
       "      <td>91 44 3955 5600</td>\n",
       "      <td>NaN</td>\n",
       "      <td>rotork.com</td>\n",
       "      <td>NaN</td>\n",
       "      <td>40400000.0</td>\n",
       "      <td>316</td>\n",
       "      <td>7.606381</td>\n",
       "      <td>2.501059</td>\n",
       "      <td>Rotork India</td>\n",
       "    </tr>\n",
       "    <tr>\n",
       "      <th>8</th>\n",
       "      <td>OEM</td>\n",
       "      <td>Actuators</td>\n",
       "      <td>Actuators</td>\n",
       "      <td>Rotork India - Manufacturing Plant (Jigani)</td>\n",
       "      <td>Jigani, Bangalore, Karnataka, India</td>\n",
       "      <td>12.7500</td>\n",
       "      <td>77.6500</td>\n",
       "      <td>Karnataka</td>\n",
       "      <td>India</td>\n",
       "      <td>NaN</td>\n",
       "      <td>NaN</td>\n",
       "      <td>rotork.com</td>\n",
       "      <td>NaN</td>\n",
       "      <td>40400000.0</td>\n",
       "      <td>316</td>\n",
       "      <td>7.606381</td>\n",
       "      <td>2.501059</td>\n",
       "      <td>Rotork India</td>\n",
       "    </tr>\n",
       "    <tr>\n",
       "      <th>9</th>\n",
       "      <td>OEM</td>\n",
       "      <td>Actuators</td>\n",
       "      <td>Actuators</td>\n",
       "      <td>AUMA India Private Limited - Office (Chennai)</td>\n",
       "      <td># 10 21, Eden Villa, First Floor, Flat No. 4, ...</td>\n",
       "      <td>13.0827</td>\n",
       "      <td>80.2707</td>\n",
       "      <td>Tamil Nadu</td>\n",
       "      <td>India</td>\n",
       "      <td>91 44 4552 4447</td>\n",
       "      <td>NaN</td>\n",
       "      <td>auma.comen_IN</td>\n",
       "      <td>NaN</td>\n",
       "      <td>46749700.0</td>\n",
       "      <td>291</td>\n",
       "      <td>7.669779</td>\n",
       "      <td>2.465383</td>\n",
       "      <td>AUMA India Private Limited</td>\n",
       "    </tr>\n",
       "    <tr>\n",
       "      <th>10</th>\n",
       "      <td>OEM</td>\n",
       "      <td>Actuators</td>\n",
       "      <td>Actuators</td>\n",
       "      <td>AUMA India Private Limited - Office (Hyderabad)</td>\n",
       "      <td>H.No 29 C, 2nd floor, Vengal Rao Nagar, Hydera...</td>\n",
       "      <td>17.4300</td>\n",
       "      <td>78.4800</td>\n",
       "      <td>Telangana</td>\n",
       "      <td>India</td>\n",
       "      <td>91 9342694012</td>\n",
       "      <td>NaN</td>\n",
       "      <td>auma.comen_IN</td>\n",
       "      <td>NaN</td>\n",
       "      <td>46749700.0</td>\n",
       "      <td>291</td>\n",
       "      <td>7.669779</td>\n",
       "      <td>2.465383</td>\n",
       "      <td>AUMA India Private Limited</td>\n",
       "    </tr>\n",
       "    <tr>\n",
       "      <th>11</th>\n",
       "      <td>OEM</td>\n",
       "      <td>Actuators</td>\n",
       "      <td>Actuators</td>\n",
       "      <td>AUMA India Private Limited - Office (Pune)</td>\n",
       "      <td>#405, Supreme Headquarters, Premises Co-Op Soc...</td>\n",
       "      <td>18.5700</td>\n",
       "      <td>73.7700</td>\n",
       "      <td>Maharashtra</td>\n",
       "      <td>India</td>\n",
       "      <td>91 9763728621</td>\n",
       "      <td>NaN</td>\n",
       "      <td>auma.comen_IN</td>\n",
       "      <td>NaN</td>\n",
       "      <td>46749700.0</td>\n",
       "      <td>291</td>\n",
       "      <td>7.669779</td>\n",
       "      <td>2.465383</td>\n",
       "      <td>AUMA India Private Limited</td>\n",
       "    </tr>\n",
       "    <tr>\n",
       "      <th>12</th>\n",
       "      <td>OEM</td>\n",
       "      <td>Actuators</td>\n",
       "      <td>Actuators</td>\n",
       "      <td>AUMA India Private Limited - Office (Kolkata)</td>\n",
       "      <td>72H, M.G. Road, Tollygunge, Kolkata, 700082, I...</td>\n",
       "      <td>22.5700</td>\n",
       "      <td>88.3600</td>\n",
       "      <td>West Bengal</td>\n",
       "      <td>India</td>\n",
       "      <td>91 9937431333</td>\n",
       "      <td>NaN</td>\n",
       "      <td>auma.comen_IN</td>\n",
       "      <td>NaN</td>\n",
       "      <td>46749700.0</td>\n",
       "      <td>291</td>\n",
       "      <td>7.669779</td>\n",
       "      <td>2.465383</td>\n",
       "      <td>AUMA India Private Limited</td>\n",
       "    </tr>\n",
       "    <tr>\n",
       "      <th>13</th>\n",
       "      <td>OEM</td>\n",
       "      <td>Actuators</td>\n",
       "      <td>Actuators</td>\n",
       "      <td>AUMA India Private Limited - Office (Noida)</td>\n",
       "      <td>1310, TOWER A, THE CORENTHUM PLOT. NO. A-41, S...</td>\n",
       "      <td>28.6200</td>\n",
       "      <td>77.3700</td>\n",
       "      <td>Uttar Pradesh</td>\n",
       "      <td>India</td>\n",
       "      <td>91 120-4272851-54</td>\n",
       "      <td>91 120-3060523</td>\n",
       "      <td>auma.comen_IN</td>\n",
       "      <td>NaN</td>\n",
       "      <td>46749700.0</td>\n",
       "      <td>291</td>\n",
       "      <td>7.669779</td>\n",
       "      <td>2.465383</td>\n",
       "      <td>AUMA India Private Limited</td>\n",
       "    </tr>\n",
       "    <tr>\n",
       "      <th>14</th>\n",
       "      <td>OEM</td>\n",
       "      <td>Actuators</td>\n",
       "      <td>Actuators</td>\n",
       "      <td>AUMA India Private Limited - Office (Bangalore)</td>\n",
       "      <td>Plot No 38-A &amp; 39-B, II Phase Peenya Industria...</td>\n",
       "      <td>13.0300</td>\n",
       "      <td>77.5000</td>\n",
       "      <td>Karnataka</td>\n",
       "      <td>India</td>\n",
       "      <td>91 80 2839 4365</td>\n",
       "      <td>91 80 2839 2809</td>\n",
       "      <td>auma.comen_IN</td>\n",
       "      <td>NaN</td>\n",
       "      <td>46749700.0</td>\n",
       "      <td>291</td>\n",
       "      <td>7.669779</td>\n",
       "      <td>2.465383</td>\n",
       "      <td>AUMA India Private Limited</td>\n",
       "    </tr>\n",
       "    <tr>\n",
       "      <th>15</th>\n",
       "      <td>OEM</td>\n",
       "      <td>Actuators</td>\n",
       "      <td>Actuators</td>\n",
       "      <td>Emerson Automation Solutions Intelligentplatfo...</td>\n",
       "      <td>BUILDING NO.8, GROUND FLOOR, VELANKANI TECH PA...</td>\n",
       "      <td>12.8400</td>\n",
       "      <td>77.6600</td>\n",
       "      <td>Karnataka</td>\n",
       "      <td>India</td>\n",
       "      <td>91 80 4251 5300</td>\n",
       "      <td>NaN</td>\n",
       "      <td>emerson.com</td>\n",
       "      <td>NaN</td>\n",
       "      <td>16036999.0</td>\n",
       "      <td>106</td>\n",
       "      <td>7.205123</td>\n",
       "      <td>2.029384</td>\n",
       "      <td>Emerson Automation Solutions Intelligentplatfo...</td>\n",
       "    </tr>\n",
       "    <tr>\n",
       "      <th>16</th>\n",
       "      <td>OEM</td>\n",
       "      <td>Actuators</td>\n",
       "      <td>Actuators</td>\n",
       "      <td>Flowserve India Controls Pvt. Ltd. - Headquarters</td>\n",
       "      <td>Bengaluru, Karnataka, India (Specific address ...</td>\n",
       "      <td>12.9716</td>\n",
       "      <td>77.5946</td>\n",
       "      <td>Karnataka</td>\n",
       "      <td>India</td>\n",
       "      <td>91 80 4014 6200</td>\n",
       "      <td>NaN</td>\n",
       "      <td>flowserve.com</td>\n",
       "      <td>NaN</td>\n",
       "      <td>218504400.0</td>\n",
       "      <td>1706</td>\n",
       "      <td>8.339460</td>\n",
       "      <td>3.232234</td>\n",
       "      <td>Flowserve India Controls Pvt. Ltd.</td>\n",
       "    </tr>\n",
       "    <tr>\n",
       "      <th>17</th>\n",
       "      <td>OEM</td>\n",
       "      <td>Actuators</td>\n",
       "      <td>Actuators</td>\n",
       "      <td>Flowserve India - Manufacturing Facility (Coim...</td>\n",
       "      <td>Coimbatore, Tamil Nadu, India</td>\n",
       "      <td>11.0000</td>\n",
       "      <td>76.9600</td>\n",
       "      <td>Tamil Nadu</td>\n",
       "      <td>India</td>\n",
       "      <td>91 80 4014 6200</td>\n",
       "      <td>NaN</td>\n",
       "      <td>flowserve.com</td>\n",
       "      <td>NaN</td>\n",
       "      <td>218504400.0</td>\n",
       "      <td>1706</td>\n",
       "      <td>8.339460</td>\n",
       "      <td>3.232234</td>\n",
       "      <td>Flowserve India</td>\n",
       "    </tr>\n",
       "    <tr>\n",
       "      <th>18</th>\n",
       "      <td>OEM</td>\n",
       "      <td>Actuators</td>\n",
       "      <td>Actuators</td>\n",
       "      <td>Flowserve India - Valve Manufacturing Facility...</td>\n",
       "      <td>Bangalore, Karnataka, India</td>\n",
       "      <td>12.9716</td>\n",
       "      <td>77.5946</td>\n",
       "      <td>Karnataka</td>\n",
       "      <td>India</td>\n",
       "      <td>91 80 4014 6200</td>\n",
       "      <td>NaN</td>\n",
       "      <td>flowserve.com</td>\n",
       "      <td>NaN</td>\n",
       "      <td>218504400.0</td>\n",
       "      <td>1706</td>\n",
       "      <td>8.339460</td>\n",
       "      <td>3.232234</td>\n",
       "      <td>Flowserve India</td>\n",
       "    </tr>\n",
       "  </tbody>\n",
       "</table>\n",
       "</div>"
      ],
      "text/plain": [
       "   Business Model   Category Subcategory  \\\n",
       "0             OEM  Actuators   Actuators   \n",
       "1             OEM  Actuators   Actuators   \n",
       "2             OEM  Actuators   Actuators   \n",
       "3             OEM  Actuators   Actuators   \n",
       "4             OEM  Actuators   Actuators   \n",
       "5             OEM  Actuators   Actuators   \n",
       "6             OEM  Actuators   Actuators   \n",
       "7             OEM  Actuators   Actuators   \n",
       "8             OEM  Actuators   Actuators   \n",
       "9             OEM  Actuators   Actuators   \n",
       "10            OEM  Actuators   Actuators   \n",
       "11            OEM  Actuators   Actuators   \n",
       "12            OEM  Actuators   Actuators   \n",
       "13            OEM  Actuators   Actuators   \n",
       "14            OEM  Actuators   Actuators   \n",
       "15            OEM  Actuators   Actuators   \n",
       "16            OEM  Actuators   Actuators   \n",
       "17            OEM  Actuators   Actuators   \n",
       "18            OEM  Actuators   Actuators   \n",
       "\n",
       "                                         Company Name  \\\n",
       "0                     KSB Limited - Registered Office   \n",
       "1          KSB Limited - Manufacturing Plant (Pimpri)   \n",
       "2       KSB Limited - Manufacturing Plant (Chinchwad)   \n",
       "3        KSB Limited - Manufacturing Plant (Khandala)   \n",
       "4         KSB Limited - Manufacturing Plant (Vambori)   \n",
       "5          KSB Limited - Manufacturing Plant (Sinnar)   \n",
       "6      KSB Limited - Manufacturing Plant (Coimbatore)   \n",
       "7                         Rotork India - Headquarters   \n",
       "8         Rotork India - Manufacturing Plant (Jigani)   \n",
       "9       AUMA India Private Limited - Office (Chennai)   \n",
       "10    AUMA India Private Limited - Office (Hyderabad)   \n",
       "11         AUMA India Private Limited - Office (Pune)   \n",
       "12      AUMA India Private Limited - Office (Kolkata)   \n",
       "13        AUMA India Private Limited - Office (Noida)   \n",
       "14    AUMA India Private Limited - Office (Bangalore)   \n",
       "15  Emerson Automation Solutions Intelligentplatfo...   \n",
       "16  Flowserve India Controls Pvt. Ltd. - Headquarters   \n",
       "17  Flowserve India - Manufacturing Facility (Coim...   \n",
       "18  Flowserve India - Valve Manufacturing Facility...   \n",
       "\n",
       "                                              Address  Latitude  Longitude  \\\n",
       "0   Office No. 601, Runwal R-Square, L.B.S. Marg, ...   19.1700    72.9400   \n",
       "1                    Pimpri, Pune, Maharashtra, India   18.6200    73.8000   \n",
       "2                 Chinchwad, Pune, Maharashtra, India   18.6400    73.8000   \n",
       "3       Khandala, Satara District, Maharashtra, India   18.0300    73.9500   \n",
       "4    Vambori, Ahmednagar District, Maharashtra, India   19.3000    74.8000   \n",
       "5         Sinnar, Nashik District, Maharashtra, India   19.9000    74.0000   \n",
       "6                       Coimbatore, Tamil Nadu, India   11.0000    76.9600   \n",
       "7   28B, Ambattur Industrial Estate (North), Chenn...   13.0861    80.1645   \n",
       "8                 Jigani, Bangalore, Karnataka, India   12.7500    77.6500   \n",
       "9   # 10 21, Eden Villa, First Floor, Flat No. 4, ...   13.0827    80.2707   \n",
       "10  H.No 29 C, 2nd floor, Vengal Rao Nagar, Hydera...   17.4300    78.4800   \n",
       "11  #405, Supreme Headquarters, Premises Co-Op Soc...   18.5700    73.7700   \n",
       "12  72H, M.G. Road, Tollygunge, Kolkata, 700082, I...   22.5700    88.3600   \n",
       "13  1310, TOWER A, THE CORENTHUM PLOT. NO. A-41, S...   28.6200    77.3700   \n",
       "14  Plot No 38-A & 39-B, II Phase Peenya Industria...   13.0300    77.5000   \n",
       "15  BUILDING NO.8, GROUND FLOOR, VELANKANI TECH PA...   12.8400    77.6600   \n",
       "16  Bengaluru, Karnataka, India (Specific address ...   12.9716    77.5946   \n",
       "17                      Coimbatore, Tamil Nadu, India   11.0000    76.9600   \n",
       "18                        Bangalore, Karnataka, India   12.9716    77.5946   \n",
       "\n",
       "            State Country        Contact No.          Fax No.        Website  \\\n",
       "0     Maharashtra   India    91 20 2710 1000              NaN        ksb.com   \n",
       "1     Maharashtra   India    91 20 2710 1000              NaN   ksb.comen-in   \n",
       "2     Maharashtra   India    91 20 2710 1000              NaN   ksb.comen-in   \n",
       "3     Maharashtra   India    91 20 2710 1000              NaN   ksb.comen-in   \n",
       "4     Maharashtra   India    91 20 2710 1000              NaN   ksb.comen-in   \n",
       "5     Maharashtra   India    91 20 2710 1000              NaN   ksb.comen-in   \n",
       "6      Tamil Nadu   India    91 20 2710 1000              NaN   ksb.comen-in   \n",
       "7      Tamil Nadu   India    91 44 3955 5600              NaN     rotork.com   \n",
       "8       Karnataka   India                NaN              NaN     rotork.com   \n",
       "9      Tamil Nadu   India    91 44 4552 4447              NaN  auma.comen_IN   \n",
       "10      Telangana   India      91 9342694012              NaN  auma.comen_IN   \n",
       "11    Maharashtra   India      91 9763728621              NaN  auma.comen_IN   \n",
       "12    West Bengal   India      91 9937431333              NaN  auma.comen_IN   \n",
       "13  Uttar Pradesh   India  91 120-4272851-54   91 120-3060523  auma.comen_IN   \n",
       "14      Karnataka   India    91 80 2839 4365  91 80 2839 2809  auma.comen_IN   \n",
       "15      Karnataka   India    91 80 4251 5300              NaN    emerson.com   \n",
       "16      Karnataka   India    91 80 4014 6200              NaN  flowserve.com   \n",
       "17     Tamil Nadu   India    91 80 4014 6200              NaN  flowserve.com   \n",
       "18      Karnataka   India    91 80 4014 6200              NaN  flowserve.com   \n",
       "\n",
       "   Email  Annual sales  Employees  Annual sales log  Employees log  \\\n",
       "0    NaN   220000000.0        341          8.342423       2.534026   \n",
       "1    NaN   220000000.0        341          8.342423       2.534026   \n",
       "2    NaN   220000000.0        341          8.342423       2.534026   \n",
       "3    NaN   220000000.0        341          8.342423       2.534026   \n",
       "4    NaN   220000000.0        341          8.342423       2.534026   \n",
       "5    NaN   220000000.0        341          8.342423       2.534026   \n",
       "6    NaN   220000000.0        341          8.342423       2.534026   \n",
       "7    NaN    40400000.0        316          7.606381       2.501059   \n",
       "8    NaN    40400000.0        316          7.606381       2.501059   \n",
       "9    NaN    46749700.0        291          7.669779       2.465383   \n",
       "10   NaN    46749700.0        291          7.669779       2.465383   \n",
       "11   NaN    46749700.0        291          7.669779       2.465383   \n",
       "12   NaN    46749700.0        291          7.669779       2.465383   \n",
       "13   NaN    46749700.0        291          7.669779       2.465383   \n",
       "14   NaN    46749700.0        291          7.669779       2.465383   \n",
       "15   NaN    16036999.0        106          7.205123       2.029384   \n",
       "16   NaN   218504400.0       1706          8.339460       3.232234   \n",
       "17   NaN   218504400.0       1706          8.339460       3.232234   \n",
       "18   NaN   218504400.0       1706          8.339460       3.232234   \n",
       "\n",
       "                                  Company Parent Name  \n",
       "0                                         KSB Limited  \n",
       "1                                         KSB Limited  \n",
       "2                                         KSB Limited  \n",
       "3                                         KSB Limited  \n",
       "4                                         KSB Limited  \n",
       "5                                         KSB Limited  \n",
       "6                                         KSB Limited  \n",
       "7                                        Rotork India  \n",
       "8                                        Rotork India  \n",
       "9                          AUMA India Private Limited  \n",
       "10                         AUMA India Private Limited  \n",
       "11                         AUMA India Private Limited  \n",
       "12                         AUMA India Private Limited  \n",
       "13                         AUMA India Private Limited  \n",
       "14                         AUMA India Private Limited  \n",
       "15  Emerson Automation Solutions Intelligentplatfo...  \n",
       "16                 Flowserve India Controls Pvt. Ltd.  \n",
       "17                                    Flowserve India  \n",
       "18                                    Flowserve India  "
      ]
     },
     "execution_count": 36,
     "metadata": {},
     "output_type": "execute_result"
    }
   ],
   "source": [
    "KB_df.head(19)"
   ]
  },
  {
   "cell_type": "code",
   "execution_count": 37,
   "id": "b82575a9-53f2-49bc-be88-647c8989c1ec",
   "metadata": {},
   "outputs": [],
   "source": [
    "new_KB_df = KB_df[['Company Parent Name', 'Annual sales', 'Employees', 'Country', 'State']]"
   ]
  },
  {
   "cell_type": "code",
   "execution_count": 38,
   "id": "f40518d5-de50-4dde-a66d-708985d77170",
   "metadata": {},
   "outputs": [
    {
     "data": {
      "text/html": [
       "<div>\n",
       "<style scoped>\n",
       "    .dataframe tbody tr th:only-of-type {\n",
       "        vertical-align: middle;\n",
       "    }\n",
       "\n",
       "    .dataframe tbody tr th {\n",
       "        vertical-align: top;\n",
       "    }\n",
       "\n",
       "    .dataframe thead th {\n",
       "        text-align: right;\n",
       "    }\n",
       "</style>\n",
       "<table border=\"1\" class=\"dataframe\">\n",
       "  <thead>\n",
       "    <tr style=\"text-align: right;\">\n",
       "      <th></th>\n",
       "      <th>Company Parent Name</th>\n",
       "      <th>Annual sales</th>\n",
       "      <th>Employees</th>\n",
       "      <th>Country</th>\n",
       "      <th>State</th>\n",
       "    </tr>\n",
       "  </thead>\n",
       "  <tbody>\n",
       "    <tr>\n",
       "      <th>0</th>\n",
       "      <td>KSB Limited</td>\n",
       "      <td>220000000.0</td>\n",
       "      <td>341</td>\n",
       "      <td>India</td>\n",
       "      <td>Maharashtra</td>\n",
       "    </tr>\n",
       "    <tr>\n",
       "      <th>1</th>\n",
       "      <td>KSB Limited</td>\n",
       "      <td>220000000.0</td>\n",
       "      <td>341</td>\n",
       "      <td>India</td>\n",
       "      <td>Maharashtra</td>\n",
       "    </tr>\n",
       "    <tr>\n",
       "      <th>2</th>\n",
       "      <td>KSB Limited</td>\n",
       "      <td>220000000.0</td>\n",
       "      <td>341</td>\n",
       "      <td>India</td>\n",
       "      <td>Maharashtra</td>\n",
       "    </tr>\n",
       "    <tr>\n",
       "      <th>3</th>\n",
       "      <td>KSB Limited</td>\n",
       "      <td>220000000.0</td>\n",
       "      <td>341</td>\n",
       "      <td>India</td>\n",
       "      <td>Maharashtra</td>\n",
       "    </tr>\n",
       "    <tr>\n",
       "      <th>4</th>\n",
       "      <td>KSB Limited</td>\n",
       "      <td>220000000.0</td>\n",
       "      <td>341</td>\n",
       "      <td>India</td>\n",
       "      <td>Maharashtra</td>\n",
       "    </tr>\n",
       "    <tr>\n",
       "      <th>...</th>\n",
       "      <td>...</td>\n",
       "      <td>...</td>\n",
       "      <td>...</td>\n",
       "      <td>...</td>\n",
       "      <td>...</td>\n",
       "    </tr>\n",
       "    <tr>\n",
       "      <th>4486</th>\n",
       "      <td>POLMIX AST SP Z O O</td>\n",
       "      <td>454943.0</td>\n",
       "      <td>1</td>\n",
       "      <td>Poland</td>\n",
       "      <td>Gdańsk</td>\n",
       "    </tr>\n",
       "    <tr>\n",
       "      <th>4487</th>\n",
       "      <td>RAFSTAL SP Z O O</td>\n",
       "      <td>6898700.0</td>\n",
       "      <td>15</td>\n",
       "      <td>Poland</td>\n",
       "      <td>Piekary Śląskie</td>\n",
       "    </tr>\n",
       "    <tr>\n",
       "      <th>4488</th>\n",
       "      <td>MUDTEST SP Z O O</td>\n",
       "      <td>284815.0</td>\n",
       "      <td>5</td>\n",
       "      <td>Poland</td>\n",
       "      <td>Chrzanów</td>\n",
       "    </tr>\n",
       "    <tr>\n",
       "      <th>4489</th>\n",
       "      <td>BMG TRADE BARTŁOMIEJ GRABOWSKI</td>\n",
       "      <td>82813.0</td>\n",
       "      <td>1</td>\n",
       "      <td>Poland</td>\n",
       "      <td>Zamość</td>\n",
       "    </tr>\n",
       "    <tr>\n",
       "      <th>4490</th>\n",
       "      <td>TOYA S A</td>\n",
       "      <td>154063800.0</td>\n",
       "      <td>357</td>\n",
       "      <td>Poland</td>\n",
       "      <td>Wrocław</td>\n",
       "    </tr>\n",
       "  </tbody>\n",
       "</table>\n",
       "<p>4425 rows × 5 columns</p>\n",
       "</div>"
      ],
      "text/plain": [
       "                 Company Parent Name  Annual sales  Employees Country  \\\n",
       "0                        KSB Limited   220000000.0        341   India   \n",
       "1                        KSB Limited   220000000.0        341   India   \n",
       "2                        KSB Limited   220000000.0        341   India   \n",
       "3                        KSB Limited   220000000.0        341   India   \n",
       "4                        KSB Limited   220000000.0        341   India   \n",
       "...                              ...           ...        ...     ...   \n",
       "4486             POLMIX AST SP Z O O      454943.0          1  Poland   \n",
       "4487                RAFSTAL SP Z O O     6898700.0         15  Poland   \n",
       "4488                MUDTEST SP Z O O      284815.0          5  Poland   \n",
       "4489  BMG TRADE BARTŁOMIEJ GRABOWSKI       82813.0          1  Poland   \n",
       "4490                        TOYA S A   154063800.0        357  Poland   \n",
       "\n",
       "                State  \n",
       "0         Maharashtra  \n",
       "1         Maharashtra  \n",
       "2         Maharashtra  \n",
       "3         Maharashtra  \n",
       "4         Maharashtra  \n",
       "...               ...  \n",
       "4486           Gdańsk  \n",
       "4487  Piekary Śląskie  \n",
       "4488         Chrzanów  \n",
       "4489           Zamość  \n",
       "4490          Wrocław  \n",
       "\n",
       "[4425 rows x 5 columns]"
      ]
     },
     "execution_count": 38,
     "metadata": {},
     "output_type": "execute_result"
    }
   ],
   "source": [
    "new_KB_df"
   ]
  },
  {
   "cell_type": "code",
   "execution_count": 39,
   "id": "8ada38a5-1beb-40ee-a66d-eeaf982109c9",
   "metadata": {},
   "outputs": [
    {
     "name": "stderr",
     "output_type": "stream",
     "text": [
      "C:\\Users\\katee\\AppData\\Local\\Temp\\ipykernel_13804\\4205214630.py:1: SettingWithCopyWarning: \n",
      "A value is trying to be set on a copy of a slice from a DataFrame.\n",
      "Try using .loc[row_indexer,col_indexer] = value instead\n",
      "\n",
      "See the caveats in the documentation: https://pandas.pydata.org/pandas-docs/stable/user_guide/indexing.html#returning-a-view-versus-a-copy\n",
      "  new_KB_df['Company Parent Name'] = new_KB_df['Company Parent Name'].str.title()\n"
     ]
    }
   ],
   "source": [
    "new_KB_df['Company Parent Name'] = new_KB_df['Company Parent Name'].str.title()"
   ]
  },
  {
   "cell_type": "code",
   "execution_count": 40,
   "id": "3a274e50-a5eb-442b-97dc-62e6e5668ffc",
   "metadata": {},
   "outputs": [],
   "source": [
    "new_KB_df = new_KB_df.drop_duplicates(subset=['Company Parent Name'], keep='first')"
   ]
  },
  {
   "cell_type": "code",
   "execution_count": 41,
   "id": "46407d85-d389-4a7b-8c6d-6129715ead1a",
   "metadata": {},
   "outputs": [
    {
     "name": "stdout",
     "output_type": "stream",
     "text": [
      "<class 'pandas.core.frame.DataFrame'>\n",
      "Index: 3385 entries, 0 to 4490\n",
      "Data columns (total 5 columns):\n",
      " #   Column               Non-Null Count  Dtype  \n",
      "---  ------               --------------  -----  \n",
      " 0   Company Parent Name  3385 non-null   object \n",
      " 1   Annual sales         3385 non-null   float64\n",
      " 2   Employees            3385 non-null   Int64  \n",
      " 3   Country              3385 non-null   object \n",
      " 4   State                3385 non-null   object \n",
      "dtypes: Int64(1), float64(1), object(3)\n",
      "memory usage: 162.0+ KB\n"
     ]
    }
   ],
   "source": [
    "new_KB_df.info()"
   ]
  },
  {
   "cell_type": "code",
   "execution_count": 43,
   "id": "47cfdf3d-e9e4-4459-a861-8e005aaef2d8",
   "metadata": {},
   "outputs": [
    {
     "data": {
      "text/html": [
       "<div>\n",
       "<style scoped>\n",
       "    .dataframe tbody tr th:only-of-type {\n",
       "        vertical-align: middle;\n",
       "    }\n",
       "\n",
       "    .dataframe tbody tr th {\n",
       "        vertical-align: top;\n",
       "    }\n",
       "\n",
       "    .dataframe thead th {\n",
       "        text-align: right;\n",
       "    }\n",
       "</style>\n",
       "<table border=\"1\" class=\"dataframe\">\n",
       "  <thead>\n",
       "    <tr style=\"text-align: right;\">\n",
       "      <th></th>\n",
       "      <th>Company Parent Name</th>\n",
       "      <th>Annual sales</th>\n",
       "      <th>Employees</th>\n",
       "      <th>Country</th>\n",
       "      <th>State</th>\n",
       "    </tr>\n",
       "  </thead>\n",
       "  <tbody>\n",
       "    <tr>\n",
       "      <th>0</th>\n",
       "      <td>Ksb Limited</td>\n",
       "      <td>220000000.0</td>\n",
       "      <td>341</td>\n",
       "      <td>India</td>\n",
       "      <td>Maharashtra</td>\n",
       "    </tr>\n",
       "    <tr>\n",
       "      <th>7</th>\n",
       "      <td>Rotork India</td>\n",
       "      <td>40400000.0</td>\n",
       "      <td>316</td>\n",
       "      <td>India</td>\n",
       "      <td>Tamil Nadu</td>\n",
       "    </tr>\n",
       "    <tr>\n",
       "      <th>9</th>\n",
       "      <td>Auma India Private Limited</td>\n",
       "      <td>46749700.0</td>\n",
       "      <td>291</td>\n",
       "      <td>India</td>\n",
       "      <td>Tamil Nadu</td>\n",
       "    </tr>\n",
       "    <tr>\n",
       "      <th>15</th>\n",
       "      <td>Emerson Automation Solutions Intelligentplatfo...</td>\n",
       "      <td>16036999.0</td>\n",
       "      <td>106</td>\n",
       "      <td>India</td>\n",
       "      <td>Karnataka</td>\n",
       "    </tr>\n",
       "    <tr>\n",
       "      <th>16</th>\n",
       "      <td>Flowserve India Controls Pvt. Ltd.</td>\n",
       "      <td>218504400.0</td>\n",
       "      <td>1706</td>\n",
       "      <td>India</td>\n",
       "      <td>Karnataka</td>\n",
       "    </tr>\n",
       "    <tr>\n",
       "      <th>...</th>\n",
       "      <td>...</td>\n",
       "      <td>...</td>\n",
       "      <td>...</td>\n",
       "      <td>...</td>\n",
       "      <td>...</td>\n",
       "    </tr>\n",
       "    <tr>\n",
       "      <th>4486</th>\n",
       "      <td>Polmix Ast Sp Z O O</td>\n",
       "      <td>454943.0</td>\n",
       "      <td>1</td>\n",
       "      <td>Poland</td>\n",
       "      <td>Gdańsk</td>\n",
       "    </tr>\n",
       "    <tr>\n",
       "      <th>4487</th>\n",
       "      <td>Rafstal Sp Z O O</td>\n",
       "      <td>6898700.0</td>\n",
       "      <td>15</td>\n",
       "      <td>Poland</td>\n",
       "      <td>Piekary Śląskie</td>\n",
       "    </tr>\n",
       "    <tr>\n",
       "      <th>4488</th>\n",
       "      <td>Mudtest Sp Z O O</td>\n",
       "      <td>284815.0</td>\n",
       "      <td>5</td>\n",
       "      <td>Poland</td>\n",
       "      <td>Chrzanów</td>\n",
       "    </tr>\n",
       "    <tr>\n",
       "      <th>4489</th>\n",
       "      <td>Bmg Trade Bartłomiej Grabowski</td>\n",
       "      <td>82813.0</td>\n",
       "      <td>1</td>\n",
       "      <td>Poland</td>\n",
       "      <td>Zamość</td>\n",
       "    </tr>\n",
       "    <tr>\n",
       "      <th>4490</th>\n",
       "      <td>Toya S A</td>\n",
       "      <td>154063800.0</td>\n",
       "      <td>357</td>\n",
       "      <td>Poland</td>\n",
       "      <td>Wrocław</td>\n",
       "    </tr>\n",
       "  </tbody>\n",
       "</table>\n",
       "<p>3385 rows × 5 columns</p>\n",
       "</div>"
      ],
      "text/plain": [
       "                                    Company Parent Name  Annual sales  \\\n",
       "0                                           Ksb Limited   220000000.0   \n",
       "7                                          Rotork India    40400000.0   \n",
       "9                            Auma India Private Limited    46749700.0   \n",
       "15    Emerson Automation Solutions Intelligentplatfo...    16036999.0   \n",
       "16                   Flowserve India Controls Pvt. Ltd.   218504400.0   \n",
       "...                                                 ...           ...   \n",
       "4486                                Polmix Ast Sp Z O O      454943.0   \n",
       "4487                                   Rafstal Sp Z O O     6898700.0   \n",
       "4488                                   Mudtest Sp Z O O      284815.0   \n",
       "4489                     Bmg Trade Bartłomiej Grabowski       82813.0   \n",
       "4490                                           Toya S A   154063800.0   \n",
       "\n",
       "      Employees Country            State  \n",
       "0           341   India      Maharashtra  \n",
       "7           316   India       Tamil Nadu  \n",
       "9           291   India       Tamil Nadu  \n",
       "15          106   India        Karnataka  \n",
       "16         1706   India        Karnataka  \n",
       "...         ...     ...              ...  \n",
       "4486          1  Poland           Gdańsk  \n",
       "4487         15  Poland  Piekary Śląskie  \n",
       "4488          5  Poland         Chrzanów  \n",
       "4489          1  Poland           Zamość  \n",
       "4490        357  Poland          Wrocław  \n",
       "\n",
       "[3385 rows x 5 columns]"
      ]
     },
     "execution_count": 43,
     "metadata": {},
     "output_type": "execute_result"
    }
   ],
   "source": [
    "new_KB_df"
   ]
  },
  {
   "cell_type": "markdown",
   "id": "f32ec16a-7d2f-4b27-9e55-b9851039818a",
   "metadata": {},
   "source": [
    "<h2>Save CSV File</h2>"
   ]
  },
  {
   "cell_type": "code",
   "execution_count": 42,
   "id": "93c1e7ce-8696-462d-a88a-80c047d1b4f9",
   "metadata": {},
   "outputs": [],
   "source": [
    "KB_df.to_csv('Clean_Masterfile.csv', index=False)"
   ]
  },
  {
   "cell_type": "code",
   "execution_count": 44,
   "id": "9b7fc3e3-f3ed-4005-9896-7de44bfef213",
   "metadata": {},
   "outputs": [],
   "source": [
    "new_KB_df.to_csv('Companies_Sales_Employees.csv', index=False)"
   ]
  },
  {
   "cell_type": "code",
   "execution_count": null,
   "id": "6d64b7d1-e1ad-4b1d-83fa-06781780eef0",
   "metadata": {},
   "outputs": [],
   "source": []
  }
 ],
 "metadata": {
  "kernelspec": {
   "display_name": "Python 3 (ipykernel)",
   "language": "python",
   "name": "python3"
  },
  "language_info": {
   "codemirror_mode": {
    "name": "ipython",
    "version": 3
   },
   "file_extension": ".py",
   "mimetype": "text/x-python",
   "name": "python",
   "nbconvert_exporter": "python",
   "pygments_lexer": "ipython3",
   "version": "3.13.5"
  }
 },
 "nbformat": 4,
 "nbformat_minor": 5
}
