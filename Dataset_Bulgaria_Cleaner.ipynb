{
 "cells": [
  {
   "cell_type": "markdown",
   "id": "b79498cd-12b6-4d2b-94bd-c4e41029c65a",
   "metadata": {},
   "source": [
    "<h1>🧽 Data Cleaning - Dataset B (0001-1085) 🧽</h1>"
   ]
  },
  {
   "cell_type": "markdown",
   "id": "89925648-edf6-436f-9862-b290e465d89a",
   "metadata": {},
   "source": [
    "Perform data cleaning on a segment in Dataset B."
   ]
  },
  {
   "cell_type": "markdown",
   "id": "3454fa3c-1e3d-4da5-9878-9f6927211f14",
   "metadata": {},
   "source": [
    "<h2>🗃 Import Libraries</h2>"
   ]
  },
  {
   "cell_type": "code",
   "execution_count": 1,
   "id": "a2ed452e-dd63-4480-9910-1008632be87f",
   "metadata": {
    "scrolled": true
   },
   "outputs": [],
   "source": [
    "#pip install geopandas matplotlib folium shapely"
   ]
  },
  {
   "cell_type": "code",
   "execution_count": 2,
   "id": "b31c7798-b73c-4301-93eb-fb537ff02313",
   "metadata": {},
   "outputs": [],
   "source": [
    "%matplotlib inline\n",
    "import pandas as pd\n",
    "import numpy as np\n",
    "import matplotlib.pyplot as plt\n",
    "import geopandas as gpd\n",
    "import folium\n",
    "import webbrowser"
   ]
  },
  {
   "cell_type": "markdown",
   "id": "fd5ba2c8-aa3d-4fdf-9a87-7fd84aabeeeb",
   "metadata": {},
   "source": [
    "<h2>📤 Upload Dataset</h2>"
   ]
  },
  {
   "cell_type": "code",
   "execution_count": 3,
   "id": "fc25ba34-0c33-425d-9939-22633a14ccc3",
   "metadata": {},
   "outputs": [],
   "source": [
    "B_Original_df = pd.read_csv(\"datasets\\input\\Dataset_B.csv\")"
   ]
  },
  {
   "cell_type": "markdown",
   "id": "86bdd2e3-4b5c-4f62-81d8-78ac10f3cca0",
   "metadata": {},
   "source": [
    "<h2>🔍 Inspect Dataset</h2>"
   ]
  },
  {
   "cell_type": "markdown",
   "id": "42961717-f4d0-4d06-abd1-9100d79df7b1",
   "metadata": {},
   "source": [
    "<h3>Check Data Types</h3>"
   ]
  },
  {
   "cell_type": "code",
   "execution_count": 4,
   "id": "8ef4f457-60cd-421e-b481-0c9c169cd9cc",
   "metadata": {},
   "outputs": [
    {
     "name": "stdout",
     "output_type": "stream",
     "text": [
      "<class 'pandas.core.frame.DataFrame'>\n",
      "RangeIndex: 1864 entries, 0 to 1863\n",
      "Data columns (total 15 columns):\n",
      " #   Column          Non-Null Count  Dtype  \n",
      "---  ------          --------------  -----  \n",
      " 0   Business Model  1864 non-null   object \n",
      " 1   Category        1864 non-null   object \n",
      " 2   Subcategory     10 non-null     object \n",
      " 3   Company Name    1864 non-null   object \n",
      " 4   Address         1864 non-null   object \n",
      " 5   Latitude        1779 non-null   float64\n",
      " 6   Longitude       1779 non-null   float64\n",
      " 7   State           1862 non-null   object \n",
      " 8   Country         1864 non-null   object \n",
      " 9   Contact No.     1785 non-null   object \n",
      " 10  Fax No.         307 non-null    object \n",
      " 11  Website         437 non-null    object \n",
      " 12  Email           321 non-null    object \n",
      " 13  Capital USD $   1426 non-null   object \n",
      " 14  Employees       725 non-null    object \n",
      "dtypes: float64(2), object(13)\n",
      "memory usage: 218.6+ KB\n"
     ]
    }
   ],
   "source": [
    "B_Original_df.info()"
   ]
  },
  {
   "cell_type": "markdown",
   "id": "9cc6884d-0abf-41dc-b869-1863b5233371",
   "metadata": {},
   "source": [
    "<h3>Check For Null Values</h3>"
   ]
  },
  {
   "cell_type": "code",
   "execution_count": 5,
   "id": "6f6ed489-da0e-4204-9f84-7a43965d15a3",
   "metadata": {},
   "outputs": [
    {
     "data": {
      "text/plain": [
       "Business Model    False\n",
       "Category          False\n",
       "Subcategory        True\n",
       "Company Name      False\n",
       "Address           False\n",
       "Latitude           True\n",
       "Longitude          True\n",
       "State              True\n",
       "Country           False\n",
       "Contact No.        True\n",
       "Fax No.            True\n",
       "Website            True\n",
       "Email              True\n",
       "Capital USD $      True\n",
       "Employees          True\n",
       "dtype: bool"
      ]
     },
     "execution_count": 5,
     "metadata": {},
     "output_type": "execute_result"
    }
   ],
   "source": [
    "B_Original_df.isnull().any()"
   ]
  },
  {
   "cell_type": "markdown",
   "id": "ddd96995-bc02-40ed-8a47-bcc4a3f87960",
   "metadata": {},
   "source": [
    "<h3>Summarize Dataset</h3>"
   ]
  },
  {
   "cell_type": "code",
   "execution_count": 6,
   "id": "3fd4f44d-799d-418b-ab72-241a68937b15",
   "metadata": {},
   "outputs": [
    {
     "data": {
      "text/html": [
       "<div>\n",
       "<style scoped>\n",
       "    .dataframe tbody tr th:only-of-type {\n",
       "        vertical-align: middle;\n",
       "    }\n",
       "\n",
       "    .dataframe tbody tr th {\n",
       "        vertical-align: top;\n",
       "    }\n",
       "\n",
       "    .dataframe thead th {\n",
       "        text-align: right;\n",
       "    }\n",
       "</style>\n",
       "<table border=\"1\" class=\"dataframe\">\n",
       "  <thead>\n",
       "    <tr style=\"text-align: right;\">\n",
       "      <th></th>\n",
       "      <th>Latitude</th>\n",
       "      <th>Longitude</th>\n",
       "    </tr>\n",
       "  </thead>\n",
       "  <tbody>\n",
       "    <tr>\n",
       "      <th>count</th>\n",
       "      <td>1779.000000</td>\n",
       "      <td>1779.000000</td>\n",
       "    </tr>\n",
       "    <tr>\n",
       "      <th>mean</th>\n",
       "      <td>42.365284</td>\n",
       "      <td>24.675297</td>\n",
       "    </tr>\n",
       "    <tr>\n",
       "      <th>std</th>\n",
       "      <td>4.553125</td>\n",
       "      <td>8.840733</td>\n",
       "    </tr>\n",
       "    <tr>\n",
       "      <th>min</th>\n",
       "      <td>-37.737455</td>\n",
       "      <td>-99.462582</td>\n",
       "    </tr>\n",
       "    <tr>\n",
       "      <th>25%</th>\n",
       "      <td>42.097707</td>\n",
       "      <td>23.620812</td>\n",
       "    </tr>\n",
       "    <tr>\n",
       "      <th>50%</th>\n",
       "      <td>42.634591</td>\n",
       "      <td>24.745500</td>\n",
       "    </tr>\n",
       "    <tr>\n",
       "      <th>75%</th>\n",
       "      <td>43.014080</td>\n",
       "      <td>25.625748</td>\n",
       "    </tr>\n",
       "    <tr>\n",
       "      <th>max</th>\n",
       "      <td>53.148688</td>\n",
       "      <td>150.630222</td>\n",
       "    </tr>\n",
       "  </tbody>\n",
       "</table>\n",
       "</div>"
      ],
      "text/plain": [
       "          Latitude    Longitude\n",
       "count  1779.000000  1779.000000\n",
       "mean     42.365284    24.675297\n",
       "std       4.553125     8.840733\n",
       "min     -37.737455   -99.462582\n",
       "25%      42.097707    23.620812\n",
       "50%      42.634591    24.745500\n",
       "75%      43.014080    25.625748\n",
       "max      53.148688   150.630222"
      ]
     },
     "execution_count": 6,
     "metadata": {},
     "output_type": "execute_result"
    }
   ],
   "source": [
    "B_Original_df.describe()"
   ]
  },
  {
   "cell_type": "markdown",
   "id": "1020895d-3672-4d76-a32b-1cfb5cacba76",
   "metadata": {},
   "source": [
    "<h3>Check Random Samples</h3>"
   ]
  },
  {
   "cell_type": "code",
   "execution_count": 7,
   "id": "367ae3d5-2875-4f30-a8f4-0f64cbf23fde",
   "metadata": {},
   "outputs": [
    {
     "data": {
      "text/html": [
       "<div>\n",
       "<style scoped>\n",
       "    .dataframe tbody tr th:only-of-type {\n",
       "        vertical-align: middle;\n",
       "    }\n",
       "\n",
       "    .dataframe tbody tr th {\n",
       "        vertical-align: top;\n",
       "    }\n",
       "\n",
       "    .dataframe thead th {\n",
       "        text-align: right;\n",
       "    }\n",
       "</style>\n",
       "<table border=\"1\" class=\"dataframe\">\n",
       "  <thead>\n",
       "    <tr style=\"text-align: right;\">\n",
       "      <th></th>\n",
       "      <th>Business Model</th>\n",
       "      <th>Category</th>\n",
       "      <th>Subcategory</th>\n",
       "      <th>Company Name</th>\n",
       "      <th>Address</th>\n",
       "      <th>Latitude</th>\n",
       "      <th>Longitude</th>\n",
       "      <th>State</th>\n",
       "      <th>Country</th>\n",
       "      <th>Contact No.</th>\n",
       "      <th>Fax No.</th>\n",
       "      <th>Website</th>\n",
       "      <th>Email</th>\n",
       "      <th>Capital USD $</th>\n",
       "      <th>Employees</th>\n",
       "    </tr>\n",
       "  </thead>\n",
       "  <tbody>\n",
       "    <tr>\n",
       "      <th>901</th>\n",
       "      <td>OEM</td>\n",
       "      <td>Woodworking Machinery</td>\n",
       "      <td>NaN</td>\n",
       "      <td>KOLEV-2005</td>\n",
       "      <td>19 str. BILKA str.,Plachkovtsi,Bulgaria,5360</td>\n",
       "      <td>42.828812</td>\n",
       "      <td>25.480829</td>\n",
       "      <td>Plachkovtsi</td>\n",
       "      <td>Bulgaria</td>\n",
       "      <td>359 (0)82 833127</td>\n",
       "      <td>NaN</td>\n",
       "      <td>NaN</td>\n",
       "      <td>NaN</td>\n",
       "      <td>508,074.00</td>\n",
       "      <td>NaN</td>\n",
       "    </tr>\n",
       "    <tr>\n",
       "      <th>1738</th>\n",
       "      <td>OEM</td>\n",
       "      <td>Packaging</td>\n",
       "      <td>NaN</td>\n",
       "      <td>PAVLOLES</td>\n",
       "      <td>38 YURIY GAGARIN,Slivata,Bulgaria,3668</td>\n",
       "      <td>43.761760</td>\n",
       "      <td>23.042560</td>\n",
       "      <td>Slivata</td>\n",
       "      <td>Bulgaria</td>\n",
       "      <td>359 (0)88 8719902</td>\n",
       "      <td>NaN</td>\n",
       "      <td>NaN</td>\n",
       "      <td>NaN</td>\n",
       "      <td>1,486,000.00</td>\n",
       "      <td>NaN</td>\n",
       "    </tr>\n",
       "    <tr>\n",
       "      <th>1654</th>\n",
       "      <td>OEM</td>\n",
       "      <td>Weighing Machines</td>\n",
       "      <td>NaN</td>\n",
       "      <td>ELOPAR</td>\n",
       "      <td>45 Evropa blvd.,Yambol,Bulgaria,8600</td>\n",
       "      <td>42.490479</td>\n",
       "      <td>26.495035</td>\n",
       "      <td>Yambol</td>\n",
       "      <td>Bulgaria</td>\n",
       "      <td>359 (0)88 6405563</td>\n",
       "      <td>NaN</td>\n",
       "      <td>NaN</td>\n",
       "      <td>NaN</td>\n",
       "      <td>2,641,100.00</td>\n",
       "      <td>NaN</td>\n",
       "    </tr>\n",
       "    <tr>\n",
       "      <th>65</th>\n",
       "      <td>OEM</td>\n",
       "      <td>Tools, Cutters, Moulds, and Dies</td>\n",
       "      <td>NaN</td>\n",
       "      <td>TECHNOPANEL</td>\n",
       "      <td>49? Balgaria blvd. - Triaditsa Distr., Entr. A...</td>\n",
       "      <td>42.666843</td>\n",
       "      <td>23.290023</td>\n",
       "      <td>Sofia</td>\n",
       "      <td>Bulgaria</td>\n",
       "      <td>359 (0)88 4115332</td>\n",
       "      <td>359 (0)2 9942423</td>\n",
       "      <td>http://www.technopanel.com</td>\n",
       "      <td>office@technopanel.com</td>\n",
       "      <td>NaN</td>\n",
       "      <td>NaN</td>\n",
       "    </tr>\n",
       "    <tr>\n",
       "      <th>625</th>\n",
       "      <td>OEM</td>\n",
       "      <td>Agricultural Machinery</td>\n",
       "      <td>NaN</td>\n",
       "      <td>TRAKTOR</td>\n",
       "      <td>1 GRIVISHKO SHOSE,Pleven,Bulgaria,5800</td>\n",
       "      <td>43.414884</td>\n",
       "      <td>24.656209</td>\n",
       "      <td>Pleven</td>\n",
       "      <td>Bulgaria</td>\n",
       "      <td>359 (0)64 838206</td>\n",
       "      <td>NaN</td>\n",
       "      <td>NaN</td>\n",
       "      <td>NaN</td>\n",
       "      <td>1,656,339.56</td>\n",
       "      <td>59</td>\n",
       "    </tr>\n",
       "  </tbody>\n",
       "</table>\n",
       "</div>"
      ],
      "text/plain": [
       "     Business Model                          Category Subcategory  \\\n",
       "901             OEM             Woodworking Machinery         NaN   \n",
       "1738            OEM                         Packaging         NaN   \n",
       "1654            OEM                 Weighing Machines         NaN   \n",
       "65              OEM  Tools, Cutters, Moulds, and Dies         NaN   \n",
       "625             OEM            Agricultural Machinery         NaN   \n",
       "\n",
       "     Company Name                                            Address  \\\n",
       "901    KOLEV-2005       19 str. BILKA str.,Plachkovtsi,Bulgaria,5360   \n",
       "1738     PAVLOLES             38 YURIY GAGARIN,Slivata,Bulgaria,3668   \n",
       "1654       ELOPAR               45 Evropa blvd.,Yambol,Bulgaria,8600   \n",
       "65    TECHNOPANEL  49? Balgaria blvd. - Triaditsa Distr., Entr. A...   \n",
       "625       TRAKTOR             1 GRIVISHKO SHOSE,Pleven,Bulgaria,5800   \n",
       "\n",
       "       Latitude  Longitude        State   Country        Contact No.  \\\n",
       "901   42.828812  25.480829  Plachkovtsi  Bulgaria   359 (0)82 833127   \n",
       "1738  43.761760  23.042560      Slivata  Bulgaria  359 (0)88 8719902   \n",
       "1654  42.490479  26.495035       Yambol  Bulgaria  359 (0)88 6405563   \n",
       "65    42.666843  23.290023        Sofia  Bulgaria  359 (0)88 4115332   \n",
       "625   43.414884  24.656209       Pleven  Bulgaria   359 (0)64 838206   \n",
       "\n",
       "               Fax No.                     Website                   Email  \\\n",
       "901                NaN                         NaN                     NaN   \n",
       "1738               NaN                         NaN                     NaN   \n",
       "1654               NaN                         NaN                     NaN   \n",
       "65    359 (0)2 9942423  http://www.technopanel.com  office@technopanel.com   \n",
       "625                NaN                         NaN                     NaN   \n",
       "\n",
       "     Capital USD $ Employees  \n",
       "901     508,074.00       NaN  \n",
       "1738  1,486,000.00       NaN  \n",
       "1654  2,641,100.00       NaN  \n",
       "65             NaN       NaN  \n",
       "625   1,656,339.56        59  "
      ]
     },
     "execution_count": 7,
     "metadata": {},
     "output_type": "execute_result"
    }
   ],
   "source": [
    "B_Original_df.sample(5)"
   ]
  },
  {
   "cell_type": "markdown",
   "id": "26950a76-578e-4473-9438-60d7b44c7028",
   "metadata": {},
   "source": [
    "<h2>🧼 Clean Dataset</h2>"
   ]
  },
  {
   "cell_type": "markdown",
   "id": "f1f4d451-3e6a-43f5-a6f4-bacc13d3af49",
   "metadata": {},
   "source": [
    "<h3>✂️ Remove Irrelevant Data</h3>"
   ]
  },
  {
   "cell_type": "markdown",
   "id": "56eb6a99-3b95-4249-a73f-425e04e8f7ee",
   "metadata": {},
   "source": [
    "<h4>Confirm Shape</h4>"
   ]
  },
  {
   "cell_type": "code",
   "execution_count": 8,
   "id": "e4ff7462-3136-4f70-9620-87deaa8ce18a",
   "metadata": {},
   "outputs": [
    {
     "data": {
      "text/plain": [
       "(1864, 15)"
      ]
     },
     "execution_count": 8,
     "metadata": {},
     "output_type": "execute_result"
    }
   ],
   "source": [
    "B_Original_df.shape"
   ]
  },
  {
   "cell_type": "markdown",
   "id": "38d56b4a-767e-4cf8-a9c8-3173c744b76b",
   "metadata": {},
   "source": [
    "<h4>Peek Dataframe</h4>"
   ]
  },
  {
   "cell_type": "code",
   "execution_count": 9,
   "id": "ce4f3f66-841b-417a-b6ca-a4c48e40abb4",
   "metadata": {},
   "outputs": [
    {
     "data": {
      "text/html": [
       "<div>\n",
       "<style scoped>\n",
       "    .dataframe tbody tr th:only-of-type {\n",
       "        vertical-align: middle;\n",
       "    }\n",
       "\n",
       "    .dataframe tbody tr th {\n",
       "        vertical-align: top;\n",
       "    }\n",
       "\n",
       "    .dataframe thead th {\n",
       "        text-align: right;\n",
       "    }\n",
       "</style>\n",
       "<table border=\"1\" class=\"dataframe\">\n",
       "  <thead>\n",
       "    <tr style=\"text-align: right;\">\n",
       "      <th></th>\n",
       "      <th>Business Model</th>\n",
       "      <th>Category</th>\n",
       "      <th>Subcategory</th>\n",
       "      <th>Company Name</th>\n",
       "      <th>Address</th>\n",
       "      <th>Latitude</th>\n",
       "      <th>Longitude</th>\n",
       "      <th>State</th>\n",
       "      <th>Country</th>\n",
       "      <th>Contact No.</th>\n",
       "      <th>Fax No.</th>\n",
       "      <th>Website</th>\n",
       "      <th>Email</th>\n",
       "      <th>Capital USD $</th>\n",
       "      <th>Employees</th>\n",
       "    </tr>\n",
       "  </thead>\n",
       "  <tbody>\n",
       "    <tr>\n",
       "      <th>0</th>\n",
       "      <td>OEM</td>\n",
       "      <td>Metal Cutting Tools</td>\n",
       "      <td>NaN</td>\n",
       "      <td>MACHINE COMMERCE LTD</td>\n",
       "      <td>11 Kozanovska str.,Asenovgrad,Bulgaria,4230</td>\n",
       "      <td>42.016030</td>\n",
       "      <td>24.877286</td>\n",
       "      <td>Asenovgrad</td>\n",
       "      <td>Bulgaria</td>\n",
       "      <td>359 (0)88 6399355</td>\n",
       "      <td>359 (0)331 63030</td>\n",
       "      <td>NaN</td>\n",
       "      <td>NaN</td>\n",
       "      <td>3,109,200.00</td>\n",
       "      <td>NaN</td>\n",
       "    </tr>\n",
       "    <tr>\n",
       "      <th>1</th>\n",
       "      <td>OEM</td>\n",
       "      <td>Metal Cutting Tools</td>\n",
       "      <td>NaN</td>\n",
       "      <td>ZMM - SLIVEN</td>\n",
       "      <td>16 Bansko Shose str.,Sliven,Bulgaria,8800</td>\n",
       "      <td>42.639093</td>\n",
       "      <td>26.303853</td>\n",
       "      <td>Sliven</td>\n",
       "      <td>Bulgaria</td>\n",
       "      <td>359 (0)44 622891</td>\n",
       "      <td>359 (0)44 662563</td>\n",
       "      <td>http://www.zmmsliven.com</td>\n",
       "      <td>office@zmmbulgaria.com</td>\n",
       "      <td>15,227,800.00</td>\n",
       "      <td>NaN</td>\n",
       "    </tr>\n",
       "    <tr>\n",
       "      <th>2</th>\n",
       "      <td>OEM</td>\n",
       "      <td>Metal Cutting Tools</td>\n",
       "      <td>NaN</td>\n",
       "      <td>UNITECH-TROYAN</td>\n",
       "      <td>229 str. GENERAL KARTSOV,Troyan,Bulgaria,5600</td>\n",
       "      <td>42.869076</td>\n",
       "      <td>24.711611</td>\n",
       "      <td>Troyan</td>\n",
       "      <td>Bulgaria</td>\n",
       "      <td>359 (0)88 5329733</td>\n",
       "      <td>NaN</td>\n",
       "      <td>NaN</td>\n",
       "      <td>NaN</td>\n",
       "      <td>534,693.00</td>\n",
       "      <td>NaN</td>\n",
       "    </tr>\n",
       "  </tbody>\n",
       "</table>\n",
       "</div>"
      ],
      "text/plain": [
       "  Business Model             Category Subcategory          Company Name  \\\n",
       "0            OEM  Metal Cutting Tools         NaN  MACHINE COMMERCE LTD   \n",
       "1            OEM  Metal Cutting Tools         NaN          ZMM - SLIVEN   \n",
       "2            OEM  Metal Cutting Tools         NaN        UNITECH-TROYAN   \n",
       "\n",
       "                                         Address   Latitude  Longitude  \\\n",
       "0    11 Kozanovska str.,Asenovgrad,Bulgaria,4230  42.016030  24.877286   \n",
       "1      16 Bansko Shose str.,Sliven,Bulgaria,8800  42.639093  26.303853   \n",
       "2  229 str. GENERAL KARTSOV,Troyan,Bulgaria,5600  42.869076  24.711611   \n",
       "\n",
       "        State   Country        Contact No.           Fax No.  \\\n",
       "0  Asenovgrad  Bulgaria  359 (0)88 6399355  359 (0)331 63030   \n",
       "1      Sliven  Bulgaria   359 (0)44 622891  359 (0)44 662563   \n",
       "2      Troyan  Bulgaria  359 (0)88 5329733               NaN   \n",
       "\n",
       "                    Website                   Email  Capital USD $ Employees  \n",
       "0                       NaN                     NaN   3,109,200.00       NaN  \n",
       "1  http://www.zmmsliven.com  office@zmmbulgaria.com  15,227,800.00       NaN  \n",
       "2                       NaN                     NaN     534,693.00       NaN  "
      ]
     },
     "execution_count": 9,
     "metadata": {},
     "output_type": "execute_result"
    }
   ],
   "source": [
    "B_Original_df.head(3)"
   ]
  },
  {
   "cell_type": "code",
   "execution_count": 10,
   "id": "4d6a0245-b70f-44a9-a912-0387224ba7bd",
   "metadata": {
    "scrolled": true
   },
   "outputs": [
    {
     "data": {
      "text/html": [
       "<div>\n",
       "<style scoped>\n",
       "    .dataframe tbody tr th:only-of-type {\n",
       "        vertical-align: middle;\n",
       "    }\n",
       "\n",
       "    .dataframe tbody tr th {\n",
       "        vertical-align: top;\n",
       "    }\n",
       "\n",
       "    .dataframe thead th {\n",
       "        text-align: right;\n",
       "    }\n",
       "</style>\n",
       "<table border=\"1\" class=\"dataframe\">\n",
       "  <thead>\n",
       "    <tr style=\"text-align: right;\">\n",
       "      <th></th>\n",
       "      <th>Business Model</th>\n",
       "      <th>Category</th>\n",
       "      <th>Subcategory</th>\n",
       "      <th>Company Name</th>\n",
       "      <th>Address</th>\n",
       "      <th>Latitude</th>\n",
       "      <th>Longitude</th>\n",
       "      <th>State</th>\n",
       "      <th>Country</th>\n",
       "      <th>Contact No.</th>\n",
       "      <th>Fax No.</th>\n",
       "      <th>Website</th>\n",
       "      <th>Email</th>\n",
       "      <th>Capital USD $</th>\n",
       "      <th>Employees</th>\n",
       "    </tr>\n",
       "  </thead>\n",
       "  <tbody>\n",
       "    <tr>\n",
       "      <th>1861</th>\n",
       "      <td>Distributor</td>\n",
       "      <td>Industrial Automation</td>\n",
       "      <td>NXP Semiconductors</td>\n",
       "      <td>Future</td>\n",
       "      <td>23 Andrej Saharov Street, Sofia, Bulgaria</td>\n",
       "      <td>42.654166</td>\n",
       "      <td>23.371124</td>\n",
       "      <td>Sofia</td>\n",
       "      <td>Bulgaria</td>\n",
       "      <td>359-2-974-5952</td>\n",
       "      <td>NaN</td>\n",
       "      <td>https://www.futureelectronics.com/</td>\n",
       "      <td>NaN</td>\n",
       "      <td>NaN</td>\n",
       "      <td>NaN</td>\n",
       "    </tr>\n",
       "    <tr>\n",
       "      <th>1862</th>\n",
       "      <td>Distributor</td>\n",
       "      <td>Industrial Automation</td>\n",
       "      <td>NXP Semiconductors</td>\n",
       "      <td>Mouser Electronics</td>\n",
       "      <td>AZ Tower Pražákova 1008/69 639 00 Brno</td>\n",
       "      <td>49.176166</td>\n",
       "      <td>16.605594</td>\n",
       "      <td>NaN</td>\n",
       "      <td>Bulgaria</td>\n",
       "      <td>420-517070880</td>\n",
       "      <td>NaN</td>\n",
       "      <td>https://www.mouser.bg/manufacturer/nxp-semicon...</td>\n",
       "      <td>bulgaria@mouser.com</td>\n",
       "      <td>NaN</td>\n",
       "      <td>NaN</td>\n",
       "    </tr>\n",
       "    <tr>\n",
       "      <th>1863</th>\n",
       "      <td>Distributor</td>\n",
       "      <td>Drives</td>\n",
       "      <td>Schaeffler</td>\n",
       "      <td>Bultech EOOD</td>\n",
       "      <td>Rokfeler 69 2850 Petrich Bulgaria</td>\n",
       "      <td>41.398143</td>\n",
       "      <td>23.206045</td>\n",
       "      <td>Petrich</td>\n",
       "      <td>Bulgaria</td>\n",
       "      <td>NaN</td>\n",
       "      <td>NaN</td>\n",
       "      <td>https://bultech-bg.com/</td>\n",
       "      <td>bultechpe@gmail.com</td>\n",
       "      <td>NaN</td>\n",
       "      <td>NaN</td>\n",
       "    </tr>\n",
       "  </tbody>\n",
       "</table>\n",
       "</div>"
      ],
      "text/plain": [
       "     Business Model               Category         Subcategory  \\\n",
       "1861    Distributor  Industrial Automation  NXP Semiconductors   \n",
       "1862    Distributor  Industrial Automation  NXP Semiconductors   \n",
       "1863    Distributor                 Drives          Schaeffler   \n",
       "\n",
       "            Company Name                                    Address  \\\n",
       "1861              Future  23 Andrej Saharov Street, Sofia, Bulgaria   \n",
       "1862  Mouser Electronics     AZ Tower Pražákova 1008/69 639 00 Brno   \n",
       "1863        Bultech EOOD          Rokfeler 69 2850 Petrich Bulgaria   \n",
       "\n",
       "       Latitude  Longitude    State   Country     Contact No. Fax No.  \\\n",
       "1861  42.654166  23.371124    Sofia  Bulgaria  359-2-974-5952     NaN   \n",
       "1862  49.176166  16.605594      NaN  Bulgaria   420-517070880     NaN   \n",
       "1863  41.398143  23.206045  Petrich  Bulgaria             NaN     NaN   \n",
       "\n",
       "                                                Website                Email  \\\n",
       "1861                 https://www.futureelectronics.com/                  NaN   \n",
       "1862  https://www.mouser.bg/manufacturer/nxp-semicon...  bulgaria@mouser.com   \n",
       "1863                            https://bultech-bg.com/  bultechpe@gmail.com   \n",
       "\n",
       "     Capital USD $ Employees  \n",
       "1861           NaN       NaN  \n",
       "1862           NaN       NaN  \n",
       "1863           NaN       NaN  "
      ]
     },
     "execution_count": 10,
     "metadata": {},
     "output_type": "execute_result"
    }
   ],
   "source": [
    "B_Original_df.tail(3)"
   ]
  },
  {
   "cell_type": "code",
   "execution_count": 15,
   "id": "31b5a499-00d9-4e8c-9816-8ca2d25fe2dd",
   "metadata": {},
   "outputs": [
    {
     "data": {
      "text/html": [
       "<div>\n",
       "<style scoped>\n",
       "    .dataframe tbody tr th:only-of-type {\n",
       "        vertical-align: middle;\n",
       "    }\n",
       "\n",
       "    .dataframe tbody tr th {\n",
       "        vertical-align: top;\n",
       "    }\n",
       "\n",
       "    .dataframe thead th {\n",
       "        text-align: right;\n",
       "    }\n",
       "</style>\n",
       "<table border=\"1\" class=\"dataframe\">\n",
       "  <thead>\n",
       "    <tr style=\"text-align: right;\">\n",
       "      <th></th>\n",
       "      <th>Status</th>\n",
       "      <th>Business Model</th>\n",
       "      <th>Category</th>\n",
       "      <th>Valid Category/Business Model</th>\n",
       "      <th>Subcategory</th>\n",
       "      <th>Company</th>\n",
       "      <th>Address</th>\n",
       "      <th>Latitude</th>\n",
       "      <th>Longitude</th>\n",
       "      <th>State</th>\n",
       "      <th>Country</th>\n",
       "      <th>Contact No.</th>\n",
       "      <th>Fax No.</th>\n",
       "      <th>Website</th>\n",
       "      <th>Email</th>\n",
       "      <th>Annual Sales</th>\n",
       "      <th>Annual Sales (Range)</th>\n",
       "      <th>Employees</th>\n",
       "    </tr>\n",
       "  </thead>\n",
       "  <tbody>\n",
       "    <tr>\n",
       "      <th>51</th>\n",
       "      <td>Incorrect</td>\n",
       "      <td>OEM</td>\n",
       "      <td>Casting</td>\n",
       "      <td>Invalid</td>\n",
       "      <td>Alloy Aluminium Die Costing Products, Air Poll...</td>\n",
       "      <td>KOREA ENVIRONMENTAL INDUSTRY &amp; TECHNOLOGY INST...</td>\n",
       "      <td>215,Jinheung-ro, Eunpyeong-guSeoul 03367South ...</td>\n",
       "      <td>37.610183</td>\n",
       "      <td>126.933201</td>\n",
       "      <td>Seoul</td>\n",
       "      <td>South Korea</td>\n",
       "      <td>NaN</td>\n",
       "      <td>+82 23800599</td>\n",
       "      <td>https://keiti.re.kr/en/index.do</td>\n",
       "      <td>NaN</td>\n",
       "      <td>474,417,504.00</td>\n",
       "      <td>$100,000,000 and above</td>\n",
       "      <td>571.0</td>\n",
       "    </tr>\n",
       "    <tr>\n",
       "      <th>52</th>\n",
       "      <td>Incorrect</td>\n",
       "      <td>OEM</td>\n",
       "      <td>Special Machine Tools</td>\n",
       "      <td>Invalid</td>\n",
       "      <td>Steel Strapping Companies, Canned Fruit Making...</td>\n",
       "      <td>Dongwon F And B Co., Ltd.</td>\n",
       "      <td>68 Mabang-ro Seocho-gu Seoul, Korea</td>\n",
       "      <td>37.477780</td>\n",
       "      <td>127.044042</td>\n",
       "      <td>Seoul</td>\n",
       "      <td>South Korea</td>\n",
       "      <td>NaN</td>\n",
       "      <td>NaN</td>\n",
       "      <td>https://dw.co.kr/default.htm</td>\n",
       "      <td>NaN</td>\n",
       "      <td>3,009,636,300.00</td>\n",
       "      <td>$100,000,000 and above</td>\n",
       "      <td>1700.0</td>\n",
       "    </tr>\n",
       "    <tr>\n",
       "      <th>90</th>\n",
       "      <td>Incorrect</td>\n",
       "      <td>OEM</td>\n",
       "      <td>Machinery for Processing Plastics</td>\n",
       "      <td>Invalid</td>\n",
       "      <td>Laminators</td>\n",
       "      <td>DONGJIN SEMICHEM CO., LTD.</td>\n",
       "      <td>644, Baekbeom-ro, Seo-gu, Incheon 22824South K...</td>\n",
       "      <td>37.478971</td>\n",
       "      <td>126.685034</td>\n",
       "      <td>Incheon</td>\n",
       "      <td>South Korea</td>\n",
       "      <td>NaN</td>\n",
       "      <td>+82 23259459</td>\n",
       "      <td>https://dongjin.com</td>\n",
       "      <td>NaN</td>\n",
       "      <td>1,107,483,400.00</td>\n",
       "      <td>$100,000,000 and above</td>\n",
       "      <td>4999.0</td>\n",
       "    </tr>\n",
       "    <tr>\n",
       "      <th>105</th>\n",
       "      <td>Incorrect</td>\n",
       "      <td>End-User</td>\n",
       "      <td>Leather</td>\n",
       "      <td>Invalid</td>\n",
       "      <td>Tanning, Dressing, or Dyeing of Leather &amp; Fur</td>\n",
       "      <td>A Ko Co., Ltd.</td>\n",
       "      <td>126 Gamaeul-Gil, Gonjiam-Up 012723 Gwangju Sou...</td>\n",
       "      <td>37.355834</td>\n",
       "      <td>127.387048</td>\n",
       "      <td>Gyeonggi-do</td>\n",
       "      <td>South Korea</td>\n",
       "      <td>+82 31 548 2992</td>\n",
       "      <td>NaN</td>\n",
       "      <td>NaN</td>\n",
       "      <td>NaN</td>\n",
       "      <td>6,100,000.00</td>\n",
       "      <td>$1,000,000 to $9,999,999</td>\n",
       "      <td>11.0</td>\n",
       "    </tr>\n",
       "    <tr>\n",
       "      <th>122</th>\n",
       "      <td>Incorrect</td>\n",
       "      <td>OEM</td>\n",
       "      <td>Paper Making &amp; Converting Machinery</td>\n",
       "      <td>Invalid</td>\n",
       "      <td>Highest Consistency Cleaners, Highest Consiste...</td>\n",
       "      <td>OCI COMPANY LTD.</td>\n",
       "      <td>94, Sogong-ro, Jung-guSeoul 04532South Korea</td>\n",
       "      <td>37.563313</td>\n",
       "      <td>126.980458</td>\n",
       "      <td>Seoul</td>\n",
       "      <td>South Korea</td>\n",
       "      <td>NaN</td>\n",
       "      <td>+82 27779097</td>\n",
       "      <td>https://oci.co.kr</td>\n",
       "      <td>NaN</td>\n",
       "      <td>3,503,487,000.00</td>\n",
       "      <td>$100,000,000 and above</td>\n",
       "      <td>1667.0</td>\n",
       "    </tr>\n",
       "    <tr>\n",
       "      <th>...</th>\n",
       "      <td>...</td>\n",
       "      <td>...</td>\n",
       "      <td>...</td>\n",
       "      <td>...</td>\n",
       "      <td>...</td>\n",
       "      <td>...</td>\n",
       "      <td>...</td>\n",
       "      <td>...</td>\n",
       "      <td>...</td>\n",
       "      <td>...</td>\n",
       "      <td>...</td>\n",
       "      <td>...</td>\n",
       "      <td>...</td>\n",
       "      <td>...</td>\n",
       "      <td>...</td>\n",
       "      <td>...</td>\n",
       "      <td>...</td>\n",
       "      <td>...</td>\n",
       "    </tr>\n",
       "    <tr>\n",
       "      <th>6535</th>\n",
       "      <td>Incorrect</td>\n",
       "      <td>OEM</td>\n",
       "      <td>Household Machinery</td>\n",
       "      <td>Invalid</td>\n",
       "      <td>home appliances, water purifer</td>\n",
       "      <td>Enstar Co., Ltd.</td>\n",
       "      <td>1148-3, Sooweolam 3-ri, Seotan-myeon, Pyeongta...</td>\n",
       "      <td>37.102208</td>\n",
       "      <td>127.021456</td>\n",
       "      <td>Gyeonggi-do</td>\n",
       "      <td>South Korea</td>\n",
       "      <td>NaN</td>\n",
       "      <td>NaN</td>\n",
       "      <td>NaN</td>\n",
       "      <td>NaN</td>\n",
       "      <td>4,148,000.00</td>\n",
       "      <td>$1,000,000 to $9,999,999</td>\n",
       "      <td>9.0</td>\n",
       "    </tr>\n",
       "    <tr>\n",
       "      <th>6563</th>\n",
       "      <td>Incorrect</td>\n",
       "      <td>OEM</td>\n",
       "      <td>Shoe Making Machinery</td>\n",
       "      <td>Invalid</td>\n",
       "      <td>Cutting Machine Plastic Sheet</td>\n",
       "      <td>INCHEON EPS CO.,LTD.</td>\n",
       "      <td>50, Anyogol-gil, Hyangnam-eup, Hwaseong-siGyeo...</td>\n",
       "      <td>37.107125</td>\n",
       "      <td>126.963562</td>\n",
       "      <td>Gyeonggi-do</td>\n",
       "      <td>South Korea</td>\n",
       "      <td>NaN</td>\n",
       "      <td>+82 31 359 9015</td>\n",
       "      <td>https://iceps.co.kr</td>\n",
       "      <td>NaN</td>\n",
       "      <td>15,479,112.00</td>\n",
       "      <td>$10,000,000 to $19,999,999</td>\n",
       "      <td>44.0</td>\n",
       "    </tr>\n",
       "    <tr>\n",
       "      <th>6569</th>\n",
       "      <td>Incorrect</td>\n",
       "      <td>OEM</td>\n",
       "      <td>Machinery Equipment for Foundry Plant</td>\n",
       "      <td>Invalid</td>\n",
       "      <td>Die Casting Machines</td>\n",
       "      <td>Cor-Tek MIC Corporation</td>\n",
       "      <td>203, Sang-dongGyeonggi-do, South Korea</td>\n",
       "      <td>37.297282</td>\n",
       "      <td>127.639615</td>\n",
       "      <td>Gyeonggi-do</td>\n",
       "      <td>South Korea</td>\n",
       "      <td>NaN</td>\n",
       "      <td>NaN</td>\n",
       "      <td>NaN</td>\n",
       "      <td>NaN</td>\n",
       "      <td>11,142,000.00</td>\n",
       "      <td>$10,000,000 to $19,999,999</td>\n",
       "      <td>16.0</td>\n",
       "    </tr>\n",
       "    <tr>\n",
       "      <th>6576</th>\n",
       "      <td>Incorrect</td>\n",
       "      <td>OEM</td>\n",
       "      <td>Household Machinery</td>\n",
       "      <td>Invalid</td>\n",
       "      <td>Household Juice-extractors</td>\n",
       "      <td>Best Green Corp.</td>\n",
       "      <td>Rm 4-201 103 Seodun-dong, Kwonsun-guGyeonggi-d...</td>\n",
       "      <td>37.267378</td>\n",
       "      <td>126.986431</td>\n",
       "      <td>Gyeonggi-do</td>\n",
       "      <td>South Korea</td>\n",
       "      <td>NaN</td>\n",
       "      <td>+82 31 293 3887</td>\n",
       "      <td>NaN</td>\n",
       "      <td>NaN</td>\n",
       "      <td>3,715,075.00</td>\n",
       "      <td>$1,000,000 to $9,999,999</td>\n",
       "      <td>6.0</td>\n",
       "    </tr>\n",
       "    <tr>\n",
       "      <th>6591</th>\n",
       "      <td>Incorrect</td>\n",
       "      <td>OEM</td>\n",
       "      <td>Transportation Equipment</td>\n",
       "      <td>Invalid</td>\n",
       "      <td>Motor Vehicles And Parts</td>\n",
       "      <td>ULTRA INNOVATION LTD.</td>\n",
       "      <td>70, Sunmoon-ro 221beon-gil, Tangjeong-myeonAsa...</td>\n",
       "      <td>36.797958</td>\n",
       "      <td>127.073349</td>\n",
       "      <td>Chungcheongnam-do</td>\n",
       "      <td>South Korea</td>\n",
       "      <td>NaN</td>\n",
       "      <td>NaN</td>\n",
       "      <td>https://ultrai.co.kr</td>\n",
       "      <td>NaN</td>\n",
       "      <td>5,078,738.00</td>\n",
       "      <td>$1,000,000 to $9,999,999</td>\n",
       "      <td>12.0</td>\n",
       "    </tr>\n",
       "  </tbody>\n",
       "</table>\n",
       "<p>706 rows × 18 columns</p>\n",
       "</div>"
      ],
      "text/plain": [
       "         Status Business Model                               Category  \\\n",
       "51    Incorrect            OEM                                Casting   \n",
       "52    Incorrect            OEM                  Special Machine Tools   \n",
       "90    Incorrect            OEM      Machinery for Processing Plastics   \n",
       "105   Incorrect       End-User                                Leather   \n",
       "122   Incorrect            OEM    Paper Making & Converting Machinery   \n",
       "...         ...            ...                                    ...   \n",
       "6535  Incorrect            OEM                    Household Machinery   \n",
       "6563  Incorrect            OEM                  Shoe Making Machinery   \n",
       "6569  Incorrect            OEM  Machinery Equipment for Foundry Plant   \n",
       "6576  Incorrect            OEM                    Household Machinery   \n",
       "6591  Incorrect            OEM               Transportation Equipment   \n",
       "\n",
       "     Valid Category/Business Model  \\\n",
       "51                         Invalid   \n",
       "52                         Invalid   \n",
       "90                         Invalid   \n",
       "105                        Invalid   \n",
       "122                        Invalid   \n",
       "...                            ...   \n",
       "6535                       Invalid   \n",
       "6563                       Invalid   \n",
       "6569                       Invalid   \n",
       "6576                       Invalid   \n",
       "6591                       Invalid   \n",
       "\n",
       "                                            Subcategory  \\\n",
       "51    Alloy Aluminium Die Costing Products, Air Poll...   \n",
       "52    Steel Strapping Companies, Canned Fruit Making...   \n",
       "90                                           Laminators   \n",
       "105       Tanning, Dressing, or Dyeing of Leather & Fur   \n",
       "122   Highest Consistency Cleaners, Highest Consiste...   \n",
       "...                                                 ...   \n",
       "6535                     home appliances, water purifer   \n",
       "6563                      Cutting Machine Plastic Sheet   \n",
       "6569                               Die Casting Machines   \n",
       "6576                         Household Juice-extractors   \n",
       "6591                           Motor Vehicles And Parts   \n",
       "\n",
       "                                                Company  \\\n",
       "51    KOREA ENVIRONMENTAL INDUSTRY & TECHNOLOGY INST...   \n",
       "52                            Dongwon F And B Co., Ltd.   \n",
       "90                           DONGJIN SEMICHEM CO., LTD.   \n",
       "105                                      A Ko Co., Ltd.   \n",
       "122                                    OCI COMPANY LTD.   \n",
       "...                                                 ...   \n",
       "6535                                   Enstar Co., Ltd.   \n",
       "6563                               INCHEON EPS CO.,LTD.   \n",
       "6569                            Cor-Tek MIC Corporation   \n",
       "6576                                   Best Green Corp.   \n",
       "6591                              ULTRA INNOVATION LTD.   \n",
       "\n",
       "                                                Address   Latitude  \\\n",
       "51    215,Jinheung-ro, Eunpyeong-guSeoul 03367South ...  37.610183   \n",
       "52                  68 Mabang-ro Seocho-gu Seoul, Korea  37.477780   \n",
       "90    644, Baekbeom-ro, Seo-gu, Incheon 22824South K...  37.478971   \n",
       "105   126 Gamaeul-Gil, Gonjiam-Up 012723 Gwangju Sou...  37.355834   \n",
       "122        94, Sogong-ro, Jung-guSeoul 04532South Korea  37.563313   \n",
       "...                                                 ...        ...   \n",
       "6535  1148-3, Sooweolam 3-ri, Seotan-myeon, Pyeongta...  37.102208   \n",
       "6563  50, Anyogol-gil, Hyangnam-eup, Hwaseong-siGyeo...  37.107125   \n",
       "6569             203, Sang-dongGyeonggi-do, South Korea  37.297282   \n",
       "6576  Rm 4-201 103 Seodun-dong, Kwonsun-guGyeonggi-d...  37.267378   \n",
       "6591  70, Sunmoon-ro 221beon-gil, Tangjeong-myeonAsa...  36.797958   \n",
       "\n",
       "       Longitude              State      Country      Contact No.  \\\n",
       "51    126.933201              Seoul  South Korea              NaN   \n",
       "52    127.044042              Seoul  South Korea              NaN   \n",
       "90    126.685034            Incheon  South Korea              NaN   \n",
       "105   127.387048        Gyeonggi-do  South Korea  +82 31 548 2992   \n",
       "122   126.980458              Seoul  South Korea              NaN   \n",
       "...          ...                ...          ...              ...   \n",
       "6535  127.021456        Gyeonggi-do  South Korea              NaN   \n",
       "6563  126.963562        Gyeonggi-do  South Korea              NaN   \n",
       "6569  127.639615        Gyeonggi-do  South Korea              NaN   \n",
       "6576  126.986431        Gyeonggi-do  South Korea              NaN   \n",
       "6591  127.073349  Chungcheongnam-do  South Korea              NaN   \n",
       "\n",
       "              Fax No.                          Website Email  \\\n",
       "51       +82 23800599  https://keiti.re.kr/en/index.do   NaN   \n",
       "52                NaN     https://dw.co.kr/default.htm   NaN   \n",
       "90       +82 23259459              https://dongjin.com   NaN   \n",
       "105               NaN                              NaN   NaN   \n",
       "122      +82 27779097                https://oci.co.kr   NaN   \n",
       "...               ...                              ...   ...   \n",
       "6535              NaN                              NaN   NaN   \n",
       "6563  +82 31 359 9015              https://iceps.co.kr   NaN   \n",
       "6569              NaN                              NaN   NaN   \n",
       "6576  +82 31 293 3887                              NaN   NaN   \n",
       "6591              NaN             https://ultrai.co.kr   NaN   \n",
       "\n",
       "          Annual Sales        Annual Sales (Range)  Employees  \n",
       "51      474,417,504.00      $100,000,000 and above      571.0  \n",
       "52    3,009,636,300.00      $100,000,000 and above     1700.0  \n",
       "90    1,107,483,400.00      $100,000,000 and above     4999.0  \n",
       "105       6,100,000.00    $1,000,000 to $9,999,999       11.0  \n",
       "122   3,503,487,000.00      $100,000,000 and above     1667.0  \n",
       "...                ...                         ...        ...  \n",
       "6535      4,148,000.00    $1,000,000 to $9,999,999        9.0  \n",
       "6563     15,479,112.00  $10,000,000 to $19,999,999       44.0  \n",
       "6569     11,142,000.00  $10,000,000 to $19,999,999       16.0  \n",
       "6576      3,715,075.00    $1,000,000 to $9,999,999        6.0  \n",
       "6591      5,078,738.00    $1,000,000 to $9,999,999       12.0  \n",
       "\n",
       "[706 rows x 18 columns]"
      ]
     },
     "execution_count": 15,
     "metadata": {},
     "output_type": "execute_result"
    }
   ],
   "source": [
    "K_Incorrect_df"
   ]
  },
  {
   "cell_type": "markdown",
   "id": "b2cd0955-a013-46b5-b4d5-4ac80140877a",
   "metadata": {},
   "source": [
    "<h4>Rename Column From 'Capital USD $' To 'Annual Sales'</h4>"
   ]
  },
  {
   "cell_type": "code",
   "execution_count": 14,
   "id": "f31d71b2-1585-49c7-9df6-ff515cbcd26b",
   "metadata": {},
   "outputs": [],
   "source": [
    "B_Original_df.rename(columns={'Capital USD $': 'Annual Sales'}, inplace=True)"
   ]
  },
  {
   "cell_type": "code",
   "execution_count": 15,
   "id": "f2969b1e-b787-4132-a5df-f2b493aa19fb",
   "metadata": {},
   "outputs": [
    {
     "data": {
      "text/html": [
       "<div>\n",
       "<style scoped>\n",
       "    .dataframe tbody tr th:only-of-type {\n",
       "        vertical-align: middle;\n",
       "    }\n",
       "\n",
       "    .dataframe tbody tr th {\n",
       "        vertical-align: top;\n",
       "    }\n",
       "\n",
       "    .dataframe thead th {\n",
       "        text-align: right;\n",
       "    }\n",
       "</style>\n",
       "<table border=\"1\" class=\"dataframe\">\n",
       "  <thead>\n",
       "    <tr style=\"text-align: right;\">\n",
       "      <th></th>\n",
       "      <th>Business Model</th>\n",
       "      <th>Category</th>\n",
       "      <th>Subcategory</th>\n",
       "      <th>Company Name</th>\n",
       "      <th>Address</th>\n",
       "      <th>Latitude</th>\n",
       "      <th>Longitude</th>\n",
       "      <th>State</th>\n",
       "      <th>Country</th>\n",
       "      <th>Contact No.</th>\n",
       "      <th>Fax No.</th>\n",
       "      <th>Website</th>\n",
       "      <th>Email</th>\n",
       "      <th>Annual Sales</th>\n",
       "      <th>Employees</th>\n",
       "    </tr>\n",
       "  </thead>\n",
       "  <tbody>\n",
       "    <tr>\n",
       "      <th>1460</th>\n",
       "      <td>OEM</td>\n",
       "      <td>Hardware Metal Products and Products of Other ...</td>\n",
       "      <td>NaN</td>\n",
       "      <td>A.D.HOLD</td>\n",
       "      <td>4 Devnya str. - Odesos Distr.,Varna,Bulgaria,9000</td>\n",
       "      <td>43.206051</td>\n",
       "      <td>27.890805</td>\n",
       "      <td>Varna</td>\n",
       "      <td>Bulgaria</td>\n",
       "      <td>359 (0)52 631946</td>\n",
       "      <td>NaN</td>\n",
       "      <td>NaN</td>\n",
       "      <td>NaN</td>\n",
       "      <td>7,540,669.92</td>\n",
       "      <td>89</td>\n",
       "    </tr>\n",
       "    <tr>\n",
       "      <th>1615</th>\n",
       "      <td>OEM</td>\n",
       "      <td>Services</td>\n",
       "      <td>NaN</td>\n",
       "      <td>CHIKO</td>\n",
       "      <td>19 Ul. Georgi Kyoseivanov str.,Peshtera,Bulgar...</td>\n",
       "      <td>42.032814</td>\n",
       "      <td>24.301878</td>\n",
       "      <td>Peshtera</td>\n",
       "      <td>Bulgaria</td>\n",
       "      <td>359 (0)350 65719</td>\n",
       "      <td>NaN</td>\n",
       "      <td>https://www.bebemarket.bg/en-gb/chicco-en-gb</td>\n",
       "      <td>info@bebemarket.bg</td>\n",
       "      <td>340,838.00</td>\n",
       "      <td>16</td>\n",
       "    </tr>\n",
       "    <tr>\n",
       "      <th>408</th>\n",
       "      <td>OEM</td>\n",
       "      <td>Packaging</td>\n",
       "      <td>NaN</td>\n",
       "      <td>OFSET</td>\n",
       "      <td>20 Ravnishte - Ovcha Kupel Distr.,Sofia,Bulgar...</td>\n",
       "      <td>NaN</td>\n",
       "      <td>NaN</td>\n",
       "      <td>Sofia</td>\n",
       "      <td>Bulgaria</td>\n",
       "      <td>359 (0)89 9838260</td>\n",
       "      <td>NaN</td>\n",
       "      <td>NaN</td>\n",
       "      <td>NaN</td>\n",
       "      <td>NaN</td>\n",
       "      <td>NaN</td>\n",
       "    </tr>\n",
       "    <tr>\n",
       "      <th>1248</th>\n",
       "      <td>OEM</td>\n",
       "      <td>Electric Machinery</td>\n",
       "      <td>NaN</td>\n",
       "      <td>ELNA</td>\n",
       "      <td>5 Ul. Sinchets str.,Gabrovo,Bulgaria,5300</td>\n",
       "      <td>42.881825</td>\n",
       "      <td>25.317926</td>\n",
       "      <td>Gabrovo</td>\n",
       "      <td>Bulgaria</td>\n",
       "      <td>359 (0)66 803503</td>\n",
       "      <td>NaN</td>\n",
       "      <td>NaN</td>\n",
       "      <td>NaN</td>\n",
       "      <td>NaN</td>\n",
       "      <td>NaN</td>\n",
       "    </tr>\n",
       "    <tr>\n",
       "      <th>984</th>\n",
       "      <td>OEM</td>\n",
       "      <td>Woodworking Machinery</td>\n",
       "      <td>NaN</td>\n",
       "      <td>ELBA - 99</td>\n",
       "      <td>3 str. DR HRISTO MOMCHILOV,Elena,Bulgaria,5070</td>\n",
       "      <td>42.929890</td>\n",
       "      <td>25.877378</td>\n",
       "      <td>Elena</td>\n",
       "      <td>Bulgaria</td>\n",
       "      <td>359 (0)6151 2122</td>\n",
       "      <td>NaN</td>\n",
       "      <td>NaN</td>\n",
       "      <td>NaN</td>\n",
       "      <td>3,472.00</td>\n",
       "      <td>NaN</td>\n",
       "    </tr>\n",
       "  </tbody>\n",
       "</table>\n",
       "</div>"
      ],
      "text/plain": [
       "     Business Model                                           Category  \\\n",
       "1460            OEM  Hardware Metal Products and Products of Other ...   \n",
       "1615            OEM                                           Services   \n",
       "408             OEM                                          Packaging   \n",
       "1248            OEM                                 Electric Machinery   \n",
       "984             OEM                              Woodworking Machinery   \n",
       "\n",
       "     Subcategory Company Name  \\\n",
       "1460         NaN     A.D.HOLD   \n",
       "1615         NaN        CHIKO   \n",
       "408          NaN        OFSET   \n",
       "1248         NaN         ELNA   \n",
       "984          NaN    ELBA - 99   \n",
       "\n",
       "                                                Address   Latitude  Longitude  \\\n",
       "1460  4 Devnya str. - Odesos Distr.,Varna,Bulgaria,9000  43.206051  27.890805   \n",
       "1615  19 Ul. Georgi Kyoseivanov str.,Peshtera,Bulgar...  42.032814  24.301878   \n",
       "408   20 Ravnishte - Ovcha Kupel Distr.,Sofia,Bulgar...        NaN        NaN   \n",
       "1248          5 Ul. Sinchets str.,Gabrovo,Bulgaria,5300  42.881825  25.317926   \n",
       "984      3 str. DR HRISTO MOMCHILOV,Elena,Bulgaria,5070  42.929890  25.877378   \n",
       "\n",
       "         State   Country        Contact No. Fax No.  \\\n",
       "1460     Varna  Bulgaria   359 (0)52 631946     NaN   \n",
       "1615  Peshtera  Bulgaria   359 (0)350 65719     NaN   \n",
       "408      Sofia  Bulgaria  359 (0)89 9838260     NaN   \n",
       "1248   Gabrovo  Bulgaria   359 (0)66 803503     NaN   \n",
       "984      Elena  Bulgaria   359 (0)6151 2122     NaN   \n",
       "\n",
       "                                           Website               Email  \\\n",
       "1460                                           NaN                 NaN   \n",
       "1615  https://www.bebemarket.bg/en-gb/chicco-en-gb  info@bebemarket.bg   \n",
       "408                                            NaN                 NaN   \n",
       "1248                                           NaN                 NaN   \n",
       "984                                            NaN                 NaN   \n",
       "\n",
       "      Annual Sales Employees  \n",
       "1460  7,540,669.92        89  \n",
       "1615    340,838.00        16  \n",
       "408            NaN       NaN  \n",
       "1248           NaN       NaN  \n",
       "984       3,472.00       NaN  "
      ]
     },
     "execution_count": 15,
     "metadata": {},
     "output_type": "execute_result"
    }
   ],
   "source": [
    "B_Original_df.sample(5)"
   ]
  },
  {
   "cell_type": "markdown",
   "id": "1ee70284-d8c0-4ae7-b69a-e88bbf66f70d",
   "metadata": {},
   "source": [
    "<h3>⚠️ Fix Formatting Issues</h3>"
   ]
  },
  {
   "cell_type": "markdown",
   "id": "2bb54b01-5eb7-436f-931f-01d801b38a14",
   "metadata": {},
   "source": [
    "<h4>Check DType</h4>"
   ]
  },
  {
   "cell_type": "code",
   "execution_count": 22,
   "id": "52f91c86-68e1-4900-b6db-e9b17090a11a",
   "metadata": {},
   "outputs": [
    {
     "name": "stdout",
     "output_type": "stream",
     "text": [
      "<class 'pandas.core.frame.DataFrame'>\n",
      "RangeIndex: 1864 entries, 0 to 1863\n",
      "Data columns (total 15 columns):\n",
      " #   Column          Non-Null Count  Dtype  \n",
      "---  ------          --------------  -----  \n",
      " 0   Business Model  1864 non-null   object \n",
      " 1   Category        1864 non-null   object \n",
      " 2   Subcategory     10 non-null     object \n",
      " 3   Company Name    1864 non-null   object \n",
      " 4   Address         1864 non-null   object \n",
      " 5   Latitude        1779 non-null   float64\n",
      " 6   Longitude       1779 non-null   float64\n",
      " 7   State           1862 non-null   object \n",
      " 8   Country         1864 non-null   object \n",
      " 9   Contact No.     1785 non-null   object \n",
      " 10  Fax No.         307 non-null    object \n",
      " 11  Website         437 non-null    object \n",
      " 12  Email           321 non-null    object \n",
      " 13  Annual Sales    1426 non-null   Float64\n",
      " 14  Employees       725 non-null    Int64  \n",
      "dtypes: Float64(1), Int64(1), float64(2), object(11)\n",
      "memory usage: 222.2+ KB\n"
     ]
    }
   ],
   "source": [
    "B_Original_df.info()"
   ]
  },
  {
   "cell_type": "markdown",
   "id": "3a95da3f-b77c-450e-9933-ea62779174ec",
   "metadata": {},
   "source": [
    "<h4>Change Annual Sales 'object' to 'float128'</h4>"
   ]
  },
  {
   "cell_type": "code",
   "execution_count": 17,
   "id": "f2cff618-000f-455a-afb3-840576ef326b",
   "metadata": {},
   "outputs": [],
   "source": [
    "B_Original_df['Annual Sales'] = B_Original_df['Annual Sales'].str.replace(',', '')"
   ]
  },
  {
   "cell_type": "code",
   "execution_count": 18,
   "id": "20b06fa0-db5b-4cca-ab54-af0eac04a17b",
   "metadata": {},
   "outputs": [],
   "source": [
    "B_Original_df['Annual Sales'] = pd.to_numeric(B_Original_df['Annual Sales'], errors='coerce').astype('Float64')"
   ]
  },
  {
   "cell_type": "markdown",
   "id": "3a8e0f77-9b8c-4f2c-959e-1a9c3d11e5d9",
   "metadata": {},
   "source": [
    "<h4>Change Employees 'float64' to 'int64'</h4>"
   ]
  },
  {
   "cell_type": "code",
   "execution_count": 20,
   "id": "b739d574-e6a3-4a98-8b27-6069032af3d2",
   "metadata": {},
   "outputs": [],
   "source": [
    "B_Original_df['Employees'] = B_Original_df['Employees'].str.replace(',', '')"
   ]
  },
  {
   "cell_type": "code",
   "execution_count": 21,
   "id": "fda51f0b-697a-4412-99e9-cca4420a96b2",
   "metadata": {},
   "outputs": [],
   "source": [
    "B_Original_df['Employees'] = B_Original_df['Employees'].astype('Int64')"
   ]
  },
  {
   "cell_type": "markdown",
   "id": "fc5452ce-06f3-4028-b3e5-b4e53f036083",
   "metadata": {},
   "source": [
    "<h4>Format Contact No.</h4>"
   ]
  },
  {
   "cell_type": "code",
   "execution_count": 24,
   "id": "74635ea0-e917-4f47-a84d-20cecedcb063",
   "metadata": {},
   "outputs": [],
   "source": [
    "B_Original_df['Contact No.'] = B_Original_df['Contact No.'].str.replace('-', '').str.replace('(', '').str.replace(')', '').str.replace(' ', '')"
   ]
  },
  {
   "cell_type": "code",
   "execution_count": 31,
   "id": "82d11518-c4e7-4c1b-b019-6ee6fb364830",
   "metadata": {},
   "outputs": [
    {
     "data": {
      "text/plain": [
       "0                     NaN\n",
       "1       (+82) 6-1797-9825\n",
       "2        (+82) 2-9211-766\n",
       "3       (+82) 4-3219-5200\n",
       "4                     NaN\n",
       "              ...        \n",
       "6590    (+82) 2-2659-1116\n",
       "6592                  NaN\n",
       "6593                  NaN\n",
       "6594                  NaN\n",
       "6595                  NaN\n",
       "Name: Contact No., Length: 5890, dtype: object"
      ]
     },
     "execution_count": 31,
     "metadata": {},
     "output_type": "execute_result"
    }
   ],
   "source": [
    "B_Original_df['Contact No.']"
   ]
  },
  {
   "cell_type": "code",
   "execution_count": 26,
   "id": "3941040d-4163-40eb-98bc-1d78693f187b",
   "metadata": {},
   "outputs": [],
   "source": [
    "B_Original_df['Contact No.'] = B_Original_df['Contact No.'].str.slice_replace(start = 0, stop = 0, repl = '(')\n",
    "B_Original_df['Contact No.'] = B_Original_df['Contact No.'].str.slice_replace(start = 4, stop = 4, repl = ')')"
   ]
  },
  {
   "cell_type": "code",
   "execution_count": 28,
   "id": "26c629da-40d5-4370-9592-120ea649fafe",
   "metadata": {},
   "outputs": [],
   "source": [
    "B_Original_df['Contact No.'] = B_Original_df['Contact No.'].str.slice_replace(start = 5, stop = 5, repl = ' ')\n",
    "B_Original_df['Contact No.'] = B_Original_df['Contact No.'].str.slice_replace(start = 7, stop = 7, repl = '-')"
   ]
  },
  {
   "cell_type": "code",
   "execution_count": 30,
   "id": "4a94c163-9371-41a1-ae7a-b16156052cd5",
   "metadata": {},
   "outputs": [],
   "source": [
    "B_Original_df['Contact No.'] = B_Original_df['Contact No.'].str.slice_replace(start = 12, stop = 12, repl = '-')"
   ]
  },
  {
   "cell_type": "markdown",
   "id": "db3f73ff-c2a7-4172-a067-bfd1babec143",
   "metadata": {},
   "source": [
    "<h4>Format Fax No.</h4>"
   ]
  },
  {
   "cell_type": "code",
   "execution_count": 32,
   "id": "e417b77c-29ea-4189-8e85-81da7e2b96a5",
   "metadata": {},
   "outputs": [],
   "source": [
    "B_Original_df['Fax No.'] = B_Original_df['Fax No.'].str.replace('-', '').str.replace('(', '').str.replace(')', '').str.replace(' ', '')"
   ]
  },
  {
   "cell_type": "code",
   "execution_count": 37,
   "id": "614eca41-3b6a-41e7-b2e6-c0e0ee6f6c94",
   "metadata": {},
   "outputs": [
    {
     "data": {
      "text/plain": [
       "0       (+82) 4-1331-5191\n",
       "1                     NaN\n",
       "2                     NaN\n",
       "3                     NaN\n",
       "4       (+82) 3-1377-7347\n",
       "              ...        \n",
       "6590    (+82) 2-6096-6165\n",
       "6592    (+82) 2-3443-1136\n",
       "6593    (+82) 2-2145-4543\n",
       "6594     (+82) 2-5820-116\n",
       "6595    (+82) 4-2862-4170\n",
       "Name: Fax No., Length: 5890, dtype: object"
      ]
     },
     "execution_count": 37,
     "metadata": {},
     "output_type": "execute_result"
    }
   ],
   "source": [
    "B_Original_df['Fax No.']"
   ]
  },
  {
   "cell_type": "code",
   "execution_count": 34,
   "id": "3406f38e-3a4c-4932-9a7c-55c23507e7ec",
   "metadata": {},
   "outputs": [],
   "source": [
    "B_Original_df['Fax No.'] = B_Original_df['Fax No.'].str.slice_replace(start = 0, stop = 0, repl = '(')\n",
    "B_Original_df['Fax No.'] = B_Original_df['Fax No.'].str.slice_replace(start = 4, stop = 4, repl = ')')"
   ]
  },
  {
   "cell_type": "code",
   "execution_count": 35,
   "id": "acd978ed-d4ac-4020-a4d0-c6e547854655",
   "metadata": {},
   "outputs": [],
   "source": [
    "B_Original_df['Fax No.'] = B_Original_df['Fax No.'].str.slice_replace(start = 5, stop = 5, repl = ' ')\n",
    "B_Original_df['Fax No.'] = B_Original_df['Fax No.'].str.slice_replace(start = 7, stop = 7, repl = '-')"
   ]
  },
  {
   "cell_type": "code",
   "execution_count": 36,
   "id": "2b8a797b-c50a-43e7-953d-0dd3a4180836",
   "metadata": {},
   "outputs": [],
   "source": [
    "B_Original_df['Fax No.'] = B_Original_df['Fax No.'].str.slice_replace(start = 12, stop = 12, repl = '-')"
   ]
  },
  {
   "cell_type": "markdown",
   "id": "681cc0a7-55f1-4ff1-ad93-8d62f4f48951",
   "metadata": {},
   "source": [
    "<h4>Format Website</h4>"
   ]
  },
  {
   "cell_type": "code",
   "execution_count": 38,
   "id": "c0ee11b5-25ba-4b51-ad1b-e6c53ddf2f47",
   "metadata": {},
   "outputs": [],
   "source": [
    "B_Original_df['Website'] = B_Original_df['Website'].str.replace('https://', '')\n",
    "B_Original_df['Website'] = B_Original_df['Website'].str.replace('http://', '')"
   ]
  },
  {
   "cell_type": "code",
   "execution_count": 39,
   "id": "0e3ace19-e3a5-4e1f-a30d-c022c1cccd4d",
   "metadata": {},
   "outputs": [
    {
     "data": {
      "text/plain": [
       "0       dwpolychem.com/home/eng/\n",
       "1                 hyoseok.co.kr/\n",
       "2                   bugunfnc.com\n",
       "3                     abov.co.kr\n",
       "4               altoendaewoo.com\n",
       "                  ...           \n",
       "6590                 61cns.co.kr\n",
       "6592              haeseung.co.kr\n",
       "6593                         NaN\n",
       "6594               hanmaek.co.kr\n",
       "6595                         NaN\n",
       "Name: Website, Length: 5890, dtype: object"
      ]
     },
     "execution_count": 39,
     "metadata": {},
     "output_type": "execute_result"
    }
   ],
   "source": [
    "B_Original_df['Website']"
   ]
  },
  {
   "cell_type": "markdown",
   "id": "212b8d33-d849-49e8-8c4c-084185db0a17",
   "metadata": {},
   "source": [
    "<h4>Finalize DType</h4>"
   ]
  },
  {
   "cell_type": "code",
   "execution_count": 41,
   "id": "88707862-604f-4c7b-ae05-ee81df1d88ef",
   "metadata": {},
   "outputs": [
    {
     "name": "stdout",
     "output_type": "stream",
     "text": [
      "<class 'pandas.core.frame.DataFrame'>\n",
      "Index: 5890 entries, 0 to 6595\n",
      "Data columns (total 18 columns):\n",
      " #   Column                         Non-Null Count  Dtype  \n",
      "---  ------                         --------------  -----  \n",
      " 0   Status                         1901 non-null   object \n",
      " 1   Business Model                 5890 non-null   object \n",
      " 2   Category                       5890 non-null   object \n",
      " 3   Valid Category/Business Model  5890 non-null   object \n",
      " 4   Subcategory                    5543 non-null   object \n",
      " 5   Company                        5890 non-null   object \n",
      " 6   Address                        5890 non-null   object \n",
      " 7   Latitude                       5890 non-null   float64\n",
      " 8   Longitude                      5890 non-null   float64\n",
      " 9   State                          5890 non-null   object \n",
      " 10  Country                        5890 non-null   object \n",
      " 11  Contact No.                    1264 non-null   object \n",
      " 12  Fax No.                        3525 non-null   object \n",
      " 13  Website                        3540 non-null   object \n",
      " 14  Email                          282 non-null    object \n",
      " 15  Annual Sales                   2063 non-null   Float64\n",
      " 16  Annual Sales (Range)           2063 non-null   object \n",
      " 17  Employees                      1515 non-null   float64\n",
      "dtypes: Float64(1), float64(3), object(14)\n",
      "memory usage: 880.0+ KB\n"
     ]
    }
   ],
   "source": [
    "B_Original_df.info()"
   ]
  },
  {
   "cell_type": "markdown",
   "id": "352b61c0-adbe-462a-ba7d-878ebff9daca",
   "metadata": {},
   "source": [
    "<h3>🎏 Remove Duplicate Records</h3>"
   ]
  },
  {
   "cell_type": "markdown",
   "id": "cef03d1b-f604-400d-a40e-ee5684e7e55f",
   "metadata": {},
   "source": [
    "<h4>Check Current Shape of Dataframe</h4>"
   ]
  },
  {
   "cell_type": "code",
   "execution_count": 42,
   "id": "964198a5-c843-403d-9e45-63dc6302cd7c",
   "metadata": {},
   "outputs": [
    {
     "data": {
      "text/plain": [
       "(5890, 18)"
      ]
     },
     "execution_count": 42,
     "metadata": {},
     "output_type": "execute_result"
    }
   ],
   "source": [
    "B_Original_df.shape"
   ]
  },
  {
   "cell_type": "markdown",
   "id": "0130be5d-dc1b-489f-a2b5-e05ebd7c54d9",
   "metadata": {},
   "source": [
    "<h4>Count Duplicate Rows for Validation</h4>"
   ]
  },
  {
   "cell_type": "code",
   "execution_count": 44,
   "id": "a9393560-d5be-4de9-8f7c-a57d0ed2b9f9",
   "metadata": {},
   "outputs": [
    {
     "data": {
      "text/plain": [
       "0"
      ]
     },
     "execution_count": 44,
     "metadata": {},
     "output_type": "execute_result"
    }
   ],
   "source": [
    "duplicate_rows = B_Original_df[B_Original_df.duplicated()]\n",
    "duplicate_rows.shape[0]"
   ]
  },
  {
   "cell_type": "markdown",
   "id": "1f621a86-c25e-4083-8031-ae08c144f950",
   "metadata": {},
   "source": [
    "<h4>Check New Shape of Dataframe</h4>"
   ]
  },
  {
   "cell_type": "code",
   "execution_count": 45,
   "id": "8820317d-819a-46c5-a125-ed45edab2539",
   "metadata": {},
   "outputs": [
    {
     "data": {
      "text/plain": [
       "(5890, 18)"
      ]
     },
     "execution_count": 45,
     "metadata": {},
     "output_type": "execute_result"
    }
   ],
   "source": [
    "B_Original_df.shape"
   ]
  },
  {
   "cell_type": "markdown",
   "id": "b43913d4-e329-4203-a0fd-b240451d8f8b",
   "metadata": {},
   "source": [
    "<h3>🌐 Validate Geolocation Data</h3>"
   ]
  },
  {
   "cell_type": "markdown",
   "id": "fcea42f9-77b9-47dc-a61d-e2a8f2de0388",
   "metadata": {},
   "source": [
    "<h4>Get Country Borders</h4>"
   ]
  },
  {
   "cell_type": "code",
   "execution_count": 46,
   "id": "785a878b-762f-4d79-983c-e6ea289eec28",
   "metadata": {},
   "outputs": [],
   "source": [
    "geo_df = gpd.read_file(\"https://d2ad6b4ur7yvpq.cloudfront.net/naturalearth-3.3.0/ne_50m_admin_0_countries.geojson\")"
   ]
  },
  {
   "cell_type": "code",
   "execution_count": 47,
   "id": "424c078b-23dc-48b6-912d-ea2b2a625150",
   "metadata": {},
   "outputs": [],
   "source": [
    "country = geo_df[geo_df['name'] == 'Korea']"
   ]
  },
  {
   "cell_type": "markdown",
   "id": "e004b2c1-5802-483c-bb84-cb73f1207f63",
   "metadata": {},
   "source": [
    "<h4>Convert To GeoDataFrame</h4>"
   ]
  },
  {
   "cell_type": "code",
   "execution_count": 48,
   "id": "b2a3160a-4869-4439-8433-33a6dd08bbba",
   "metadata": {},
   "outputs": [],
   "source": [
    "B_Original_df_copy = B_Original_df"
   ]
  },
  {
   "cell_type": "code",
   "execution_count": 49,
   "id": "e8260795-70da-4272-adca-c4018e8962fa",
   "metadata": {},
   "outputs": [],
   "source": [
    "geo_df = gpd.GeoDataFrame(B_Original_df_copy, geometry = gpd.points_from_xy(\n",
    "    B_Original_df_copy['Longitude'], B_Original_df_copy['Latitude']), crs=\"EPSG:4326\")"
   ]
  },
  {
   "cell_type": "markdown",
   "id": "0c535c85-712c-4477-ae2d-54a975da7ba7",
   "metadata": {},
   "source": [
    "<h4>Check Coordinates</h4>"
   ]
  },
  {
   "cell_type": "code",
   "execution_count": 50,
   "id": "fc8a5ec3-ece5-4580-8030-3ca479bf1b4c",
   "metadata": {},
   "outputs": [],
   "source": [
    "points_within = gpd.sjoin(geo_df, country, how='inner', predicate='within')"
   ]
  },
  {
   "cell_type": "code",
   "execution_count": 51,
   "id": "59ec4c7e-319b-4a21-91f1-43586a2e369c",
   "metadata": {},
   "outputs": [],
   "source": [
    "points_outside = geo_df[~geo_df.index.isin(points_within.index)]"
   ]
  },
  {
   "cell_type": "code",
   "execution_count": 52,
   "id": "7732c92a-dd53-4f45-91df-9342b417b4ab",
   "metadata": {
    "scrolled": true
   },
   "outputs": [
    {
     "name": "stdout",
     "output_type": "stream",
     "text": [
      "Points inside the country:\n",
      "\n"
     ]
    },
    {
     "data": {
      "text/html": [
       "<div>\n",
       "<style scoped>\n",
       "    .dataframe tbody tr th:only-of-type {\n",
       "        vertical-align: middle;\n",
       "    }\n",
       "\n",
       "    .dataframe tbody tr th {\n",
       "        vertical-align: top;\n",
       "    }\n",
       "\n",
       "    .dataframe thead th {\n",
       "        text-align: right;\n",
       "    }\n",
       "</style>\n",
       "<table border=\"1\" class=\"dataframe\">\n",
       "  <thead>\n",
       "    <tr style=\"text-align: right;\">\n",
       "      <th></th>\n",
       "      <th>Status</th>\n",
       "      <th>Business Model</th>\n",
       "      <th>Category</th>\n",
       "      <th>Valid Category/Business Model</th>\n",
       "      <th>Subcategory</th>\n",
       "      <th>Company</th>\n",
       "      <th>Address</th>\n",
       "      <th>Latitude</th>\n",
       "      <th>Longitude</th>\n",
       "      <th>State</th>\n",
       "      <th>...</th>\n",
       "      <th>continent</th>\n",
       "      <th>region_un</th>\n",
       "      <th>subregion</th>\n",
       "      <th>region_wb</th>\n",
       "      <th>name_len</th>\n",
       "      <th>long_len</th>\n",
       "      <th>abbrev_len</th>\n",
       "      <th>tiny</th>\n",
       "      <th>homepart</th>\n",
       "      <th>featureclass</th>\n",
       "    </tr>\n",
       "  </thead>\n",
       "  <tbody>\n",
       "    <tr>\n",
       "      <th>0</th>\n",
       "      <td>Correct</td>\n",
       "      <td>OEM</td>\n",
       "      <td>Machinery for Processing Plastics</td>\n",
       "      <td>Invalid</td>\n",
       "      <td>Glass Fiber Moulding Press, Glass Fiber Making...</td>\n",
       "      <td>DAEWOONG CO.LTD</td>\n",
       "      <td>937-24, Hwanggeumtteul-ro, Sinam-myeon, Yesan-...</td>\n",
       "      <td>36.729137</td>\n",
       "      <td>126.777398</td>\n",
       "      <td>Chungcheongnam-do</td>\n",
       "      <td>...</td>\n",
       "      <td>Asia</td>\n",
       "      <td>Asia</td>\n",
       "      <td>Eastern Asia</td>\n",
       "      <td>East Asia &amp; Pacific</td>\n",
       "      <td>5</td>\n",
       "      <td>17</td>\n",
       "      <td>4</td>\n",
       "      <td>-99</td>\n",
       "      <td>1</td>\n",
       "      <td>Admin-0 country</td>\n",
       "    </tr>\n",
       "    <tr>\n",
       "      <th>2</th>\n",
       "      <td>NaN</td>\n",
       "      <td>End-User</td>\n",
       "      <td>Textile</td>\n",
       "      <td>Invalid</td>\n",
       "      <td>Women's Apparel</td>\n",
       "      <td>BUGUNFNC.CO.,LTD</td>\n",
       "      <td>173, Digital-ro, Geumcheon-gu, SEOUL</td>\n",
       "      <td>37.477926</td>\n",
       "      <td>126.886056</td>\n",
       "      <td>Seoul</td>\n",
       "      <td>...</td>\n",
       "      <td>Asia</td>\n",
       "      <td>Asia</td>\n",
       "      <td>Eastern Asia</td>\n",
       "      <td>East Asia &amp; Pacific</td>\n",
       "      <td>5</td>\n",
       "      <td>17</td>\n",
       "      <td>4</td>\n",
       "      <td>-99</td>\n",
       "      <td>1</td>\n",
       "      <td>Admin-0 country</td>\n",
       "    </tr>\n",
       "    <tr>\n",
       "      <th>3</th>\n",
       "      <td>NaN</td>\n",
       "      <td>End-User</td>\n",
       "      <td>Electronics</td>\n",
       "      <td>Invalid</td>\n",
       "      <td>NaN</td>\n",
       "      <td>ABOV Semiconductor Co., Ltd.</td>\n",
       "      <td>93 Gangni 1-gil, Ochang-eup, Cheongwon-gu Cheo...</td>\n",
       "      <td>36.706719</td>\n",
       "      <td>127.432323</td>\n",
       "      <td>Chungcheongbuk-do</td>\n",
       "      <td>...</td>\n",
       "      <td>Asia</td>\n",
       "      <td>Asia</td>\n",
       "      <td>Eastern Asia</td>\n",
       "      <td>East Asia &amp; Pacific</td>\n",
       "      <td>5</td>\n",
       "      <td>17</td>\n",
       "      <td>4</td>\n",
       "      <td>-99</td>\n",
       "      <td>1</td>\n",
       "      <td>Admin-0 country</td>\n",
       "    </tr>\n",
       "    <tr>\n",
       "      <th>4</th>\n",
       "      <td>Correct</td>\n",
       "      <td>End-User</td>\n",
       "      <td>Appliances</td>\n",
       "      <td>Invalid</td>\n",
       "      <td>NaN</td>\n",
       "      <td>ALTOEN DAEWOO Co., Ltd.</td>\n",
       "      <td>23-7 Dongtansandan 9-gil Hwaseong, Gyeonggi, 1...</td>\n",
       "      <td>37.175970</td>\n",
       "      <td>127.089778</td>\n",
       "      <td>Gyeonggi-do</td>\n",
       "      <td>...</td>\n",
       "      <td>Asia</td>\n",
       "      <td>Asia</td>\n",
       "      <td>Eastern Asia</td>\n",
       "      <td>East Asia &amp; Pacific</td>\n",
       "      <td>5</td>\n",
       "      <td>17</td>\n",
       "      <td>4</td>\n",
       "      <td>-99</td>\n",
       "      <td>1</td>\n",
       "      <td>Admin-0 country</td>\n",
       "    </tr>\n",
       "    <tr>\n",
       "      <th>5</th>\n",
       "      <td>NaN</td>\n",
       "      <td>End-User</td>\n",
       "      <td>Textile</td>\n",
       "      <td>Invalid</td>\n",
       "      <td>NaN</td>\n",
       "      <td>3Q INTERNATIONAL LTD</td>\n",
       "      <td>1/F 135-3 Baumoe-ro, Seocho-gu Seoul, Seoul, 6...</td>\n",
       "      <td>37.476293</td>\n",
       "      <td>127.035454</td>\n",
       "      <td>Seoul</td>\n",
       "      <td>...</td>\n",
       "      <td>Asia</td>\n",
       "      <td>Asia</td>\n",
       "      <td>Eastern Asia</td>\n",
       "      <td>East Asia &amp; Pacific</td>\n",
       "      <td>5</td>\n",
       "      <td>17</td>\n",
       "      <td>4</td>\n",
       "      <td>-99</td>\n",
       "      <td>1</td>\n",
       "      <td>Admin-0 country</td>\n",
       "    </tr>\n",
       "    <tr>\n",
       "      <th>...</th>\n",
       "      <td>...</td>\n",
       "      <td>...</td>\n",
       "      <td>...</td>\n",
       "      <td>...</td>\n",
       "      <td>...</td>\n",
       "      <td>...</td>\n",
       "      <td>...</td>\n",
       "      <td>...</td>\n",
       "      <td>...</td>\n",
       "      <td>...</td>\n",
       "      <td>...</td>\n",
       "      <td>...</td>\n",
       "      <td>...</td>\n",
       "      <td>...</td>\n",
       "      <td>...</td>\n",
       "      <td>...</td>\n",
       "      <td>...</td>\n",
       "      <td>...</td>\n",
       "      <td>...</td>\n",
       "      <td>...</td>\n",
       "      <td>...</td>\n",
       "    </tr>\n",
       "    <tr>\n",
       "      <th>6589</th>\n",
       "      <td>NaN</td>\n",
       "      <td>OEM</td>\n",
       "      <td>Industrial Turnkey Plant</td>\n",
       "      <td>Invalid</td>\n",
       "      <td>Velvet Making Plant</td>\n",
       "      <td>HUE COSMEDICS INC.</td>\n",
       "      <td>1373-4, Seonyu-ri, Munsan-euGyeonggi-do, South...</td>\n",
       "      <td>37.862226</td>\n",
       "      <td>126.809451</td>\n",
       "      <td>Gyeonggi-do</td>\n",
       "      <td>...</td>\n",
       "      <td>Asia</td>\n",
       "      <td>Asia</td>\n",
       "      <td>Eastern Asia</td>\n",
       "      <td>East Asia &amp; Pacific</td>\n",
       "      <td>5</td>\n",
       "      <td>17</td>\n",
       "      <td>4</td>\n",
       "      <td>-99</td>\n",
       "      <td>1</td>\n",
       "      <td>Admin-0 country</td>\n",
       "    </tr>\n",
       "    <tr>\n",
       "      <th>6590</th>\n",
       "      <td>NaN</td>\n",
       "      <td>End-User</td>\n",
       "      <td>Non-Metallic</td>\n",
       "      <td>Invalid</td>\n",
       "      <td>Glass and glass products</td>\n",
       "      <td>Ryukil C&amp;S</td>\n",
       "      <td>#702, Kukdong Vip Bldg Yeouido-Dong 70-Gi None...</td>\n",
       "      <td>37.518060</td>\n",
       "      <td>126.942637</td>\n",
       "      <td>Seoul</td>\n",
       "      <td>...</td>\n",
       "      <td>Asia</td>\n",
       "      <td>Asia</td>\n",
       "      <td>Eastern Asia</td>\n",
       "      <td>East Asia &amp; Pacific</td>\n",
       "      <td>5</td>\n",
       "      <td>17</td>\n",
       "      <td>4</td>\n",
       "      <td>-99</td>\n",
       "      <td>1</td>\n",
       "      <td>Admin-0 country</td>\n",
       "    </tr>\n",
       "    <tr>\n",
       "      <th>6592</th>\n",
       "      <td>Correct</td>\n",
       "      <td>OEM</td>\n",
       "      <td>Transportation Equipment</td>\n",
       "      <td>Invalid</td>\n",
       "      <td>Bumper For Cars</td>\n",
       "      <td>HAESEUNG INTERNATIONAL CO., LTD.</td>\n",
       "      <td>78-3, Samsung-dong, Gangnam-guGyeonggi-do 135-...</td>\n",
       "      <td>37.519310</td>\n",
       "      <td>127.058030</td>\n",
       "      <td>Seoul</td>\n",
       "      <td>...</td>\n",
       "      <td>Asia</td>\n",
       "      <td>Asia</td>\n",
       "      <td>Eastern Asia</td>\n",
       "      <td>East Asia &amp; Pacific</td>\n",
       "      <td>5</td>\n",
       "      <td>17</td>\n",
       "      <td>4</td>\n",
       "      <td>-99</td>\n",
       "      <td>1</td>\n",
       "      <td>Admin-0 country</td>\n",
       "    </tr>\n",
       "    <tr>\n",
       "      <th>6593</th>\n",
       "      <td>NaN</td>\n",
       "      <td>OEM</td>\n",
       "      <td>Food Machinery</td>\n",
       "      <td>Invalid</td>\n",
       "      <td>Seed Sprouter</td>\n",
       "      <td>Han Mac Gbn</td>\n",
       "      <td>Suite A-1309 Galleria Palace 40 Jamsil-dong So...</td>\n",
       "      <td>37.511373</td>\n",
       "      <td>127.092957</td>\n",
       "      <td>Seoul</td>\n",
       "      <td>...</td>\n",
       "      <td>Asia</td>\n",
       "      <td>Asia</td>\n",
       "      <td>Eastern Asia</td>\n",
       "      <td>East Asia &amp; Pacific</td>\n",
       "      <td>5</td>\n",
       "      <td>17</td>\n",
       "      <td>4</td>\n",
       "      <td>-99</td>\n",
       "      <td>1</td>\n",
       "      <td>Admin-0 country</td>\n",
       "    </tr>\n",
       "    <tr>\n",
       "      <th>6595</th>\n",
       "      <td>NaN</td>\n",
       "      <td>OEM</td>\n",
       "      <td>Industrial Turnkey Plant</td>\n",
       "      <td>Invalid</td>\n",
       "      <td>Wire Mesh Making Plant</td>\n",
       "      <td>KUK JAE METAL CO LTD</td>\n",
       "      <td>68, Bongdae-Ri, Jeondong-Myun, Younggi-KunChoo...</td>\n",
       "      <td>36.675813</td>\n",
       "      <td>127.266375</td>\n",
       "      <td>Chungcheongnam-do</td>\n",
       "      <td>...</td>\n",
       "      <td>Asia</td>\n",
       "      <td>Asia</td>\n",
       "      <td>Eastern Asia</td>\n",
       "      <td>East Asia &amp; Pacific</td>\n",
       "      <td>5</td>\n",
       "      <td>17</td>\n",
       "      <td>4</td>\n",
       "      <td>-99</td>\n",
       "      <td>1</td>\n",
       "      <td>Admin-0 country</td>\n",
       "    </tr>\n",
       "  </tbody>\n",
       "</table>\n",
       "<p>5214 rows × 83 columns</p>\n",
       "</div>"
      ],
      "text/plain": [
       "       Status Business Model                           Category  \\\n",
       "0     Correct            OEM  Machinery for Processing Plastics   \n",
       "2         NaN       End-User                            Textile   \n",
       "3         NaN       End-User                        Electronics   \n",
       "4     Correct       End-User                         Appliances   \n",
       "5         NaN       End-User                            Textile   \n",
       "...       ...            ...                                ...   \n",
       "6589      NaN            OEM           Industrial Turnkey Plant   \n",
       "6590      NaN       End-User                       Non-Metallic   \n",
       "6592  Correct            OEM           Transportation Equipment   \n",
       "6593      NaN            OEM                     Food Machinery   \n",
       "6595      NaN            OEM           Industrial Turnkey Plant   \n",
       "\n",
       "     Valid Category/Business Model  \\\n",
       "0                          Invalid   \n",
       "2                          Invalid   \n",
       "3                          Invalid   \n",
       "4                          Invalid   \n",
       "5                          Invalid   \n",
       "...                            ...   \n",
       "6589                       Invalid   \n",
       "6590                       Invalid   \n",
       "6592                       Invalid   \n",
       "6593                       Invalid   \n",
       "6595                       Invalid   \n",
       "\n",
       "                                            Subcategory  \\\n",
       "0     Glass Fiber Moulding Press, Glass Fiber Making...   \n",
       "2                                       Women's Apparel   \n",
       "3                                                   NaN   \n",
       "4                                                   NaN   \n",
       "5                                                   NaN   \n",
       "...                                                 ...   \n",
       "6589                                Velvet Making Plant   \n",
       "6590                           Glass and glass products   \n",
       "6592                                    Bumper For Cars   \n",
       "6593                                      Seed Sprouter   \n",
       "6595                             Wire Mesh Making Plant   \n",
       "\n",
       "                               Company  \\\n",
       "0                      DAEWOONG CO.LTD   \n",
       "2                     BUGUNFNC.CO.,LTD   \n",
       "3         ABOV Semiconductor Co., Ltd.   \n",
       "4              ALTOEN DAEWOO Co., Ltd.   \n",
       "5                 3Q INTERNATIONAL LTD   \n",
       "...                                ...   \n",
       "6589                HUE COSMEDICS INC.   \n",
       "6590                        Ryukil C&S   \n",
       "6592  HAESEUNG INTERNATIONAL CO., LTD.   \n",
       "6593                       Han Mac Gbn   \n",
       "6595              KUK JAE METAL CO LTD   \n",
       "\n",
       "                                                Address   Latitude  \\\n",
       "0     937-24, Hwanggeumtteul-ro, Sinam-myeon, Yesan-...  36.729137   \n",
       "2                  173, Digital-ro, Geumcheon-gu, SEOUL  37.477926   \n",
       "3     93 Gangni 1-gil, Ochang-eup, Cheongwon-gu Cheo...  36.706719   \n",
       "4     23-7 Dongtansandan 9-gil Hwaseong, Gyeonggi, 1...  37.175970   \n",
       "5     1/F 135-3 Baumoe-ro, Seocho-gu Seoul, Seoul, 6...  37.476293   \n",
       "...                                                 ...        ...   \n",
       "6589  1373-4, Seonyu-ri, Munsan-euGyeonggi-do, South...  37.862226   \n",
       "6590  #702, Kukdong Vip Bldg Yeouido-Dong 70-Gi None...  37.518060   \n",
       "6592  78-3, Samsung-dong, Gangnam-guGyeonggi-do 135-...  37.519310   \n",
       "6593  Suite A-1309 Galleria Palace 40 Jamsil-dong So...  37.511373   \n",
       "6595  68, Bongdae-Ri, Jeondong-Myun, Younggi-KunChoo...  36.675813   \n",
       "\n",
       "       Longitude              State  ... continent region_un     subregion  \\\n",
       "0     126.777398  Chungcheongnam-do  ...      Asia      Asia  Eastern Asia   \n",
       "2     126.886056              Seoul  ...      Asia      Asia  Eastern Asia   \n",
       "3     127.432323  Chungcheongbuk-do  ...      Asia      Asia  Eastern Asia   \n",
       "4     127.089778        Gyeonggi-do  ...      Asia      Asia  Eastern Asia   \n",
       "5     127.035454              Seoul  ...      Asia      Asia  Eastern Asia   \n",
       "...          ...                ...  ...       ...       ...           ...   \n",
       "6589  126.809451        Gyeonggi-do  ...      Asia      Asia  Eastern Asia   \n",
       "6590  126.942637              Seoul  ...      Asia      Asia  Eastern Asia   \n",
       "6592  127.058030              Seoul  ...      Asia      Asia  Eastern Asia   \n",
       "6593  127.092957              Seoul  ...      Asia      Asia  Eastern Asia   \n",
       "6595  127.266375  Chungcheongnam-do  ...      Asia      Asia  Eastern Asia   \n",
       "\n",
       "                region_wb name_len  long_len abbrev_len  tiny homepart  \\\n",
       "0     East Asia & Pacific        5        17          4   -99        1   \n",
       "2     East Asia & Pacific        5        17          4   -99        1   \n",
       "3     East Asia & Pacific        5        17          4   -99        1   \n",
       "4     East Asia & Pacific        5        17          4   -99        1   \n",
       "5     East Asia & Pacific        5        17          4   -99        1   \n",
       "...                   ...      ...       ...        ...   ...      ...   \n",
       "6589  East Asia & Pacific        5        17          4   -99        1   \n",
       "6590  East Asia & Pacific        5        17          4   -99        1   \n",
       "6592  East Asia & Pacific        5        17          4   -99        1   \n",
       "6593  East Asia & Pacific        5        17          4   -99        1   \n",
       "6595  East Asia & Pacific        5        17          4   -99        1   \n",
       "\n",
       "         featureclass  \n",
       "0     Admin-0 country  \n",
       "2     Admin-0 country  \n",
       "3     Admin-0 country  \n",
       "4     Admin-0 country  \n",
       "5     Admin-0 country  \n",
       "...               ...  \n",
       "6589  Admin-0 country  \n",
       "6590  Admin-0 country  \n",
       "6592  Admin-0 country  \n",
       "6593  Admin-0 country  \n",
       "6595  Admin-0 country  \n",
       "\n",
       "[5214 rows x 83 columns]"
      ]
     },
     "execution_count": 52,
     "metadata": {},
     "output_type": "execute_result"
    }
   ],
   "source": [
    "print(\"Points inside the country:\\n\")\n",
    "points_within"
   ]
  },
  {
   "cell_type": "code",
   "execution_count": 53,
   "id": "348d209d-3ed5-4fd6-a114-38b58a57777d",
   "metadata": {
    "scrolled": true
   },
   "outputs": [
    {
     "name": "stdout",
     "output_type": "stream",
     "text": [
      "Coordinates outside the country:\n"
     ]
    },
    {
     "data": {
      "text/html": [
       "<div>\n",
       "<style scoped>\n",
       "    .dataframe tbody tr th:only-of-type {\n",
       "        vertical-align: middle;\n",
       "    }\n",
       "\n",
       "    .dataframe tbody tr th {\n",
       "        vertical-align: top;\n",
       "    }\n",
       "\n",
       "    .dataframe thead th {\n",
       "        text-align: right;\n",
       "    }\n",
       "</style>\n",
       "<table border=\"1\" class=\"dataframe\">\n",
       "  <thead>\n",
       "    <tr style=\"text-align: right;\">\n",
       "      <th></th>\n",
       "      <th>Status</th>\n",
       "      <th>Business Model</th>\n",
       "      <th>Category</th>\n",
       "      <th>Valid Category/Business Model</th>\n",
       "      <th>Subcategory</th>\n",
       "      <th>Company</th>\n",
       "      <th>Address</th>\n",
       "      <th>Latitude</th>\n",
       "      <th>Longitude</th>\n",
       "      <th>State</th>\n",
       "      <th>Country</th>\n",
       "      <th>Contact No.</th>\n",
       "      <th>Fax No.</th>\n",
       "      <th>Website</th>\n",
       "      <th>Email</th>\n",
       "      <th>Annual Sales</th>\n",
       "      <th>Annual Sales (Range)</th>\n",
       "      <th>Employees</th>\n",
       "      <th>geometry</th>\n",
       "    </tr>\n",
       "  </thead>\n",
       "  <tbody>\n",
       "    <tr>\n",
       "      <th>1</th>\n",
       "      <td>NaN</td>\n",
       "      <td>End-User</td>\n",
       "      <td>Steel</td>\n",
       "      <td>Invalid</td>\n",
       "      <td>Other Basic Metals</td>\n",
       "      <td>HYOSUK CO., LTD.</td>\n",
       "      <td>2148-33, Jecheol-ro, Gwangyang-si, Jeollanam-d...</td>\n",
       "      <td>34.913518</td>\n",
       "      <td>127.748018</td>\n",
       "      <td>Jeollanam-do</td>\n",
       "      <td>South Korea</td>\n",
       "      <td>(+82) 6-1797-9825</td>\n",
       "      <td>NaN</td>\n",
       "      <td>hyoseok.co.kr/</td>\n",
       "      <td>NaN</td>\n",
       "      <td>&lt;NA&gt;</td>\n",
       "      <td>NaN</td>\n",
       "      <td>NaN</td>\n",
       "      <td>POINT (127.74802 34.91352)</td>\n",
       "    </tr>\n",
       "    <tr>\n",
       "      <th>6</th>\n",
       "      <td>NaN</td>\n",
       "      <td>End-User</td>\n",
       "      <td>Electronics</td>\n",
       "      <td>Invalid</td>\n",
       "      <td>,</td>\n",
       "      <td>Ace Technologies Corp.</td>\n",
       "      <td>16 Harmony-ro 187beon-gil, Yeonsu-gu Incheon, ...</td>\n",
       "      <td>37.379267</td>\n",
       "      <td>126.641643</td>\n",
       "      <td>Incheon</td>\n",
       "      <td>South Korea</td>\n",
       "      <td>(+82) 3-2818-5500</td>\n",
       "      <td>(+82) 3-2818-5505</td>\n",
       "      <td>acetech.co.kr</td>\n",
       "      <td>NaN</td>\n",
       "      <td>&lt;NA&gt;</td>\n",
       "      <td>NaN</td>\n",
       "      <td>NaN</td>\n",
       "      <td>POINT (126.64164 37.37927)</td>\n",
       "    </tr>\n",
       "    <tr>\n",
       "      <th>12</th>\n",
       "      <td>Correct</td>\n",
       "      <td>End-User</td>\n",
       "      <td>HVAC</td>\n",
       "      <td>Invalid</td>\n",
       "      <td>,</td>\n",
       "      <td>Arsystem Co.,Ltd</td>\n",
       "      <td>Rm 201 32 Gyeongje-ro Siheung, Gyeonggi, 15095...</td>\n",
       "      <td>37.339943</td>\n",
       "      <td>126.701940</td>\n",
       "      <td>Gyeonggi-do</td>\n",
       "      <td>South Korea</td>\n",
       "      <td>NaN</td>\n",
       "      <td>NaN</td>\n",
       "      <td>arsystem.co.kr</td>\n",
       "      <td>NaN</td>\n",
       "      <td>&lt;NA&gt;</td>\n",
       "      <td>NaN</td>\n",
       "      <td>NaN</td>\n",
       "      <td>POINT (126.70194 37.33994)</td>\n",
       "    </tr>\n",
       "    <tr>\n",
       "      <th>18</th>\n",
       "      <td>Correct</td>\n",
       "      <td>End-User</td>\n",
       "      <td>HVAC</td>\n",
       "      <td>Invalid</td>\n",
       "      <td>,</td>\n",
       "      <td>BLUENIX Co., Ltd.</td>\n",
       "      <td>17 Emtibeui 3-ro, Danwon-gu Ansan, Gyeonggi, 1...</td>\n",
       "      <td>37.294729</td>\n",
       "      <td>126.772460</td>\n",
       "      <td>Gyeonggi-do</td>\n",
       "      <td>South Korea</td>\n",
       "      <td>NaN</td>\n",
       "      <td>(+82) 3-1491-1603</td>\n",
       "      <td>bluenix.com</td>\n",
       "      <td>info@bluenix.com</td>\n",
       "      <td>&lt;NA&gt;</td>\n",
       "      <td>NaN</td>\n",
       "      <td>NaN</td>\n",
       "      <td>POINT (126.77246 37.29473)</td>\n",
       "    </tr>\n",
       "    <tr>\n",
       "      <th>20</th>\n",
       "      <td>NaN</td>\n",
       "      <td>End-User</td>\n",
       "      <td>Steel</td>\n",
       "      <td>Invalid</td>\n",
       "      <td>NaN</td>\n",
       "      <td>A1 Special Steel Co.,Ltd.</td>\n",
       "      <td>146 Mayu-ro Siheung, Gyeonggi, 15110 Republic ...</td>\n",
       "      <td>37.330434</td>\n",
       "      <td>126.722744</td>\n",
       "      <td>Gyeonggi-do</td>\n",
       "      <td>South Korea</td>\n",
       "      <td>NaN</td>\n",
       "      <td>NaN</td>\n",
       "      <td>a1specialsteel.com/gnuboard4</td>\n",
       "      <td>NaN</td>\n",
       "      <td>&lt;NA&gt;</td>\n",
       "      <td>NaN</td>\n",
       "      <td>NaN</td>\n",
       "      <td>POINT (126.72274 37.33043)</td>\n",
       "    </tr>\n",
       "    <tr>\n",
       "      <th>...</th>\n",
       "      <td>...</td>\n",
       "      <td>...</td>\n",
       "      <td>...</td>\n",
       "      <td>...</td>\n",
       "      <td>...</td>\n",
       "      <td>...</td>\n",
       "      <td>...</td>\n",
       "      <td>...</td>\n",
       "      <td>...</td>\n",
       "      <td>...</td>\n",
       "      <td>...</td>\n",
       "      <td>...</td>\n",
       "      <td>...</td>\n",
       "      <td>...</td>\n",
       "      <td>...</td>\n",
       "      <td>...</td>\n",
       "      <td>...</td>\n",
       "      <td>...</td>\n",
       "      <td>...</td>\n",
       "    </tr>\n",
       "    <tr>\n",
       "      <th>6574</th>\n",
       "      <td>NaN</td>\n",
       "      <td>OEM</td>\n",
       "      <td>Forging &amp; Stamping</td>\n",
       "      <td>Invalid</td>\n",
       "      <td>Aerospace Forging Parts</td>\n",
       "      <td>Han Jin heavy Industries Co. Ltd</td>\n",
       "      <td>233 Taejong-ro, Bongnaedong 5(o)-ga, Yeongdo-g...</td>\n",
       "      <td>35.096496</td>\n",
       "      <td>129.050293</td>\n",
       "      <td>Busan</td>\n",
       "      <td>South Korea</td>\n",
       "      <td>NaN</td>\n",
       "      <td>NaN</td>\n",
       "      <td>NaN</td>\n",
       "      <td>NaN</td>\n",
       "      <td>&lt;NA&gt;</td>\n",
       "      <td>NaN</td>\n",
       "      <td>NaN</td>\n",
       "      <td>POINT (129.05029 35.0965)</td>\n",
       "    </tr>\n",
       "    <tr>\n",
       "      <th>6575</th>\n",
       "      <td>NaN</td>\n",
       "      <td>OEM</td>\n",
       "      <td>Food Machinery</td>\n",
       "      <td>Invalid</td>\n",
       "      <td>Soy Beans Oil Extraction Plants</td>\n",
       "      <td>HAN JIN INDUSTRY</td>\n",
       "      <td>437, Mangyang-ro, Yeosu-si, Jeollanam-do 05962...</td>\n",
       "      <td>34.784948</td>\n",
       "      <td>127.750082</td>\n",
       "      <td>Jeollanam-do</td>\n",
       "      <td>South Korea</td>\n",
       "      <td>NaN</td>\n",
       "      <td>(+82) 6-1651-9814</td>\n",
       "      <td>hanjin.koreasme.com</td>\n",
       "      <td>NaN</td>\n",
       "      <td>&lt;NA&gt;</td>\n",
       "      <td>NaN</td>\n",
       "      <td>NaN</td>\n",
       "      <td>POINT (127.75008 34.78495)</td>\n",
       "    </tr>\n",
       "    <tr>\n",
       "      <th>6577</th>\n",
       "      <td>Correct</td>\n",
       "      <td>End-User</td>\n",
       "      <td>Steel</td>\n",
       "      <td>Invalid</td>\n",
       "      <td>Forging, Pressing, Stamping, or Roll-Forming o...</td>\n",
       "      <td>Hyundai Steel</td>\n",
       "      <td>1 Songhyeon-Dong Dong-Gu 401-712 Incheon South...</td>\n",
       "      <td>37.480999</td>\n",
       "      <td>126.642253</td>\n",
       "      <td>Incheon</td>\n",
       "      <td>South Korea</td>\n",
       "      <td>(+82) 3-2760-2114</td>\n",
       "      <td>NaN</td>\n",
       "      <td>hyundai-steel.com</td>\n",
       "      <td>NaN</td>\n",
       "      <td>24000000000.0</td>\n",
       "      <td>$100,000,000 and above</td>\n",
       "      <td>11234.0</td>\n",
       "      <td>POINT (126.64225 37.481)</td>\n",
       "    </tr>\n",
       "    <tr>\n",
       "      <th>6581</th>\n",
       "      <td>NaN</td>\n",
       "      <td>OEM</td>\n",
       "      <td>Metal Cutting Tools</td>\n",
       "      <td>Invalid</td>\n",
       "      <td>Gear Reducer</td>\n",
       "      <td>Han Kook Chain Motor Co., Ltd.</td>\n",
       "      <td>627,Gojan-dong ,Namdong-gu,Incheon, South Korea</td>\n",
       "      <td>37.405428</td>\n",
       "      <td>126.690827</td>\n",
       "      <td>Incheon</td>\n",
       "      <td>South Korea</td>\n",
       "      <td>NaN</td>\n",
       "      <td>(+82) 3-2815-8059</td>\n",
       "      <td>NaN</td>\n",
       "      <td>NaN</td>\n",
       "      <td>&lt;NA&gt;</td>\n",
       "      <td>NaN</td>\n",
       "      <td>NaN</td>\n",
       "      <td>POINT (126.69083 37.40543)</td>\n",
       "    </tr>\n",
       "    <tr>\n",
       "      <th>6594</th>\n",
       "      <td>NaN</td>\n",
       "      <td>OEM</td>\n",
       "      <td>Dryers</td>\n",
       "      <td>Invalid</td>\n",
       "      <td>Heating, ventilation, Heat Exchangers, air con...</td>\n",
       "      <td>HAN MAEK HEAVY IND CO.,LTD</td>\n",
       "      <td>222, Hyeomnyeok-ro, Siheung-si,Gyeonggi-do 015...</td>\n",
       "      <td>37.347277</td>\n",
       "      <td>126.712545</td>\n",
       "      <td>Gyeonggi-do</td>\n",
       "      <td>South Korea</td>\n",
       "      <td>NaN</td>\n",
       "      <td>(+82) 2-5820-116</td>\n",
       "      <td>hanmaek.co.kr</td>\n",
       "      <td>NaN</td>\n",
       "      <td>&lt;NA&gt;</td>\n",
       "      <td>NaN</td>\n",
       "      <td>NaN</td>\n",
       "      <td>POINT (126.71254 37.34728)</td>\n",
       "    </tr>\n",
       "  </tbody>\n",
       "</table>\n",
       "<p>676 rows × 19 columns</p>\n",
       "</div>"
      ],
      "text/plain": [
       "       Status Business Model             Category  \\\n",
       "1         NaN       End-User                Steel   \n",
       "6         NaN       End-User          Electronics   \n",
       "12    Correct       End-User                 HVAC   \n",
       "18    Correct       End-User                 HVAC   \n",
       "20        NaN       End-User                Steel   \n",
       "...       ...            ...                  ...   \n",
       "6574      NaN            OEM   Forging & Stamping   \n",
       "6575      NaN            OEM       Food Machinery   \n",
       "6577  Correct       End-User                Steel   \n",
       "6581      NaN            OEM  Metal Cutting Tools   \n",
       "6594      NaN            OEM               Dryers   \n",
       "\n",
       "     Valid Category/Business Model  \\\n",
       "1                          Invalid   \n",
       "6                          Invalid   \n",
       "12                         Invalid   \n",
       "18                         Invalid   \n",
       "20                         Invalid   \n",
       "...                            ...   \n",
       "6574                       Invalid   \n",
       "6575                       Invalid   \n",
       "6577                       Invalid   \n",
       "6581                       Invalid   \n",
       "6594                       Invalid   \n",
       "\n",
       "                                            Subcategory  \\\n",
       "1                                    Other Basic Metals   \n",
       "6                                                     ,   \n",
       "12                                                    ,   \n",
       "18                                                    ,   \n",
       "20                                                  NaN   \n",
       "...                                                 ...   \n",
       "6574                            Aerospace Forging Parts   \n",
       "6575                    Soy Beans Oil Extraction Plants   \n",
       "6577  Forging, Pressing, Stamping, or Roll-Forming o...   \n",
       "6581                                       Gear Reducer   \n",
       "6594  Heating, ventilation, Heat Exchangers, air con...   \n",
       "\n",
       "                               Company  \\\n",
       "1                     HYOSUK CO., LTD.   \n",
       "6               Ace Technologies Corp.   \n",
       "12                    Arsystem Co.,Ltd   \n",
       "18                   BLUENIX Co., Ltd.   \n",
       "20           A1 Special Steel Co.,Ltd.   \n",
       "...                                ...   \n",
       "6574  Han Jin heavy Industries Co. Ltd   \n",
       "6575                  HAN JIN INDUSTRY   \n",
       "6577                     Hyundai Steel   \n",
       "6581    Han Kook Chain Motor Co., Ltd.   \n",
       "6594        HAN MAEK HEAVY IND CO.,LTD   \n",
       "\n",
       "                                                Address   Latitude  \\\n",
       "1     2148-33, Jecheol-ro, Gwangyang-si, Jeollanam-d...  34.913518   \n",
       "6     16 Harmony-ro 187beon-gil, Yeonsu-gu Incheon, ...  37.379267   \n",
       "12    Rm 201 32 Gyeongje-ro Siheung, Gyeonggi, 15095...  37.339943   \n",
       "18    17 Emtibeui 3-ro, Danwon-gu Ansan, Gyeonggi, 1...  37.294729   \n",
       "20    146 Mayu-ro Siheung, Gyeonggi, 15110 Republic ...  37.330434   \n",
       "...                                                 ...        ...   \n",
       "6574  233 Taejong-ro, Bongnaedong 5(o)-ga, Yeongdo-g...  35.096496   \n",
       "6575  437, Mangyang-ro, Yeosu-si, Jeollanam-do 05962...  34.784948   \n",
       "6577  1 Songhyeon-Dong Dong-Gu 401-712 Incheon South...  37.480999   \n",
       "6581    627,Gojan-dong ,Namdong-gu,Incheon, South Korea  37.405428   \n",
       "6594  222, Hyeomnyeok-ro, Siheung-si,Gyeonggi-do 015...  37.347277   \n",
       "\n",
       "       Longitude         State      Country        Contact No.  \\\n",
       "1     127.748018  Jeollanam-do  South Korea  (+82) 6-1797-9825   \n",
       "6     126.641643       Incheon  South Korea  (+82) 3-2818-5500   \n",
       "12    126.701940   Gyeonggi-do  South Korea                NaN   \n",
       "18    126.772460   Gyeonggi-do  South Korea                NaN   \n",
       "20    126.722744   Gyeonggi-do  South Korea                NaN   \n",
       "...          ...           ...          ...                ...   \n",
       "6574  129.050293         Busan  South Korea                NaN   \n",
       "6575  127.750082  Jeollanam-do  South Korea                NaN   \n",
       "6577  126.642253       Incheon  South Korea  (+82) 3-2760-2114   \n",
       "6581  126.690827       Incheon  South Korea                NaN   \n",
       "6594  126.712545   Gyeonggi-do  South Korea                NaN   \n",
       "\n",
       "                Fax No.                       Website             Email  \\\n",
       "1                   NaN                hyoseok.co.kr/               NaN   \n",
       "6     (+82) 3-2818-5505                 acetech.co.kr               NaN   \n",
       "12                  NaN                arsystem.co.kr               NaN   \n",
       "18    (+82) 3-1491-1603                   bluenix.com  info@bluenix.com   \n",
       "20                  NaN  a1specialsteel.com/gnuboard4               NaN   \n",
       "...                 ...                           ...               ...   \n",
       "6574                NaN                           NaN               NaN   \n",
       "6575  (+82) 6-1651-9814           hanjin.koreasme.com               NaN   \n",
       "6577                NaN             hyundai-steel.com               NaN   \n",
       "6581  (+82) 3-2815-8059                           NaN               NaN   \n",
       "6594   (+82) 2-5820-116                 hanmaek.co.kr               NaN   \n",
       "\n",
       "       Annual Sales    Annual Sales (Range)  Employees  \\\n",
       "1              <NA>                     NaN        NaN   \n",
       "6              <NA>                     NaN        NaN   \n",
       "12             <NA>                     NaN        NaN   \n",
       "18             <NA>                     NaN        NaN   \n",
       "20             <NA>                     NaN        NaN   \n",
       "...             ...                     ...        ...   \n",
       "6574           <NA>                     NaN        NaN   \n",
       "6575           <NA>                     NaN        NaN   \n",
       "6577  24000000000.0  $100,000,000 and above    11234.0   \n",
       "6581           <NA>                     NaN        NaN   \n",
       "6594           <NA>                     NaN        NaN   \n",
       "\n",
       "                        geometry  \n",
       "1     POINT (127.74802 34.91352)  \n",
       "6     POINT (126.64164 37.37927)  \n",
       "12    POINT (126.70194 37.33994)  \n",
       "18    POINT (126.77246 37.29473)  \n",
       "20    POINT (126.72274 37.33043)  \n",
       "...                          ...  \n",
       "6574   POINT (129.05029 35.0965)  \n",
       "6575  POINT (127.75008 34.78495)  \n",
       "6577    POINT (126.64225 37.481)  \n",
       "6581  POINT (126.69083 37.40543)  \n",
       "6594  POINT (126.71254 37.34728)  \n",
       "\n",
       "[676 rows x 19 columns]"
      ]
     },
     "execution_count": 53,
     "metadata": {},
     "output_type": "execute_result"
    }
   ],
   "source": [
    "print(\"Coordinates outside the country:\")\n",
    "points_outside"
   ]
  },
  {
   "cell_type": "code",
   "execution_count": 54,
   "id": "87a7e313-a552-4e33-bd51-bfa4190201a7",
   "metadata": {},
   "outputs": [
    {
     "data": {
      "text/plain": [
       "5214"
      ]
     },
     "execution_count": 54,
     "metadata": {},
     "output_type": "execute_result"
    }
   ],
   "source": [
    "points_within.shape[0]"
   ]
  },
  {
   "cell_type": "code",
   "execution_count": 55,
   "id": "3450d41f-0439-4885-9c3a-f90c65a573e3",
   "metadata": {},
   "outputs": [
    {
     "data": {
      "text/plain": [
       "676"
      ]
     },
     "execution_count": 55,
     "metadata": {},
     "output_type": "execute_result"
    }
   ],
   "source": [
    "points_outside.shape[0]"
   ]
  },
  {
   "cell_type": "code",
   "execution_count": 57,
   "id": "d3089a8e-c4c6-4cc0-83b8-6cb92e988ae1",
   "metadata": {},
   "outputs": [
    {
     "data": {
      "text/plain": [
       "5890"
      ]
     },
     "execution_count": 57,
     "metadata": {},
     "output_type": "execute_result"
    }
   ],
   "source": [
    "B_Original_df_copy.shape[0]"
   ]
  },
  {
   "cell_type": "markdown",
   "id": "c4d2426c-7dab-4ccb-bc91-d447c6a63df0",
   "metadata": {},
   "source": [
    "<h4>Visualization</h4>"
   ]
  },
  {
   "cell_type": "code",
   "execution_count": 58,
   "id": "d3f5d460-6806-4c91-b74a-74ddde5a24c3",
   "metadata": {},
   "outputs": [
    {
     "data": {
      "image/png": "[encoded data removed]",
      "text/plain": [
       "<Figure size 1200x1200 with 1 Axes>"
      ]
     },
     "metadata": {},
     "output_type": "display_data"
    }
   ],
   "source": [
    "fig, ax = plt.subplots(figsize=(12, 12))\n",
    "country.plot(ax=ax, color='lightgrey', edgecolor='grey')\n",
    "points_within.plot(ax=ax, color='#67c8fc', markersize=30, label='Inside')\n",
    "geo_df[~geo_df.index.isin(points_within.index)].plot(ax=ax, color='#fc8a67', markersize=60, label='Outside')\n",
    "\n",
    "plt.title(\"Coordinates in Country Borders\")\n",
    "plt.legend()\n",
    "plt.show()"
   ]
  },
  {
   "cell_type": "markdown",
   "id": "f31b9e0b-9d56-4a98-be40-e9a4983bd5c5",
   "metadata": {},
   "source": [
    "<h4>Inspect Rows with Outside Coordinates</h4>"
   ]
  },
  {
   "cell_type": "code",
   "execution_count": 60,
   "id": "c40870e2-63a6-4235-b5e3-25fa04233e00",
   "metadata": {},
   "outputs": [
    {
     "data": {
      "text/html": [
       "<div>\n",
       "<style scoped>\n",
       "    .dataframe tbody tr th:only-of-type {\n",
       "        vertical-align: middle;\n",
       "    }\n",
       "\n",
       "    .dataframe tbody tr th {\n",
       "        vertical-align: top;\n",
       "    }\n",
       "\n",
       "    .dataframe thead th {\n",
       "        text-align: right;\n",
       "    }\n",
       "</style>\n",
       "<table border=\"1\" class=\"dataframe\">\n",
       "  <thead>\n",
       "    <tr style=\"text-align: right;\">\n",
       "      <th></th>\n",
       "      <th>Company</th>\n",
       "      <th>Latitude</th>\n",
       "      <th>Longitude</th>\n",
       "    </tr>\n",
       "  </thead>\n",
       "  <tbody>\n",
       "    <tr>\n",
       "      <th>1</th>\n",
       "      <td>HYOSUK CO., LTD.</td>\n",
       "      <td>34.913518</td>\n",
       "      <td>127.748018</td>\n",
       "    </tr>\n",
       "    <tr>\n",
       "      <th>6</th>\n",
       "      <td>Ace Technologies Corp.</td>\n",
       "      <td>37.379267</td>\n",
       "      <td>126.641643</td>\n",
       "    </tr>\n",
       "    <tr>\n",
       "      <th>12</th>\n",
       "      <td>Arsystem Co.,Ltd</td>\n",
       "      <td>37.339943</td>\n",
       "      <td>126.701940</td>\n",
       "    </tr>\n",
       "    <tr>\n",
       "      <th>18</th>\n",
       "      <td>BLUENIX Co., Ltd.</td>\n",
       "      <td>37.294729</td>\n",
       "      <td>126.772460</td>\n",
       "    </tr>\n",
       "    <tr>\n",
       "      <th>20</th>\n",
       "      <td>A1 Special Steel Co.,Ltd.</td>\n",
       "      <td>37.330434</td>\n",
       "      <td>126.722744</td>\n",
       "    </tr>\n",
       "    <tr>\n",
       "      <th>...</th>\n",
       "      <td>...</td>\n",
       "      <td>...</td>\n",
       "      <td>...</td>\n",
       "    </tr>\n",
       "    <tr>\n",
       "      <th>6574</th>\n",
       "      <td>Han Jin heavy Industries Co. Ltd</td>\n",
       "      <td>35.096496</td>\n",
       "      <td>129.050293</td>\n",
       "    </tr>\n",
       "    <tr>\n",
       "      <th>6575</th>\n",
       "      <td>HAN JIN INDUSTRY</td>\n",
       "      <td>34.784948</td>\n",
       "      <td>127.750082</td>\n",
       "    </tr>\n",
       "    <tr>\n",
       "      <th>6577</th>\n",
       "      <td>Hyundai Steel</td>\n",
       "      <td>37.480999</td>\n",
       "      <td>126.642253</td>\n",
       "    </tr>\n",
       "    <tr>\n",
       "      <th>6581</th>\n",
       "      <td>Han Kook Chain Motor Co., Ltd.</td>\n",
       "      <td>37.405428</td>\n",
       "      <td>126.690827</td>\n",
       "    </tr>\n",
       "    <tr>\n",
       "      <th>6594</th>\n",
       "      <td>HAN MAEK HEAVY IND CO.,LTD</td>\n",
       "      <td>37.347277</td>\n",
       "      <td>126.712545</td>\n",
       "    </tr>\n",
       "  </tbody>\n",
       "</table>\n",
       "<p>675 rows × 3 columns</p>\n",
       "</div>"
      ],
      "text/plain": [
       "                               Company   Latitude   Longitude\n",
       "1                     HYOSUK CO., LTD.  34.913518  127.748018\n",
       "6               Ace Technologies Corp.  37.379267  126.641643\n",
       "12                    Arsystem Co.,Ltd  37.339943  126.701940\n",
       "18                   BLUENIX Co., Ltd.  37.294729  126.772460\n",
       "20           A1 Special Steel Co.,Ltd.  37.330434  126.722744\n",
       "...                                ...        ...         ...\n",
       "6574  Han Jin heavy Industries Co. Ltd  35.096496  129.050293\n",
       "6575                  HAN JIN INDUSTRY  34.784948  127.750082\n",
       "6577                     Hyundai Steel  37.480999  126.642253\n",
       "6581    Han Kook Chain Motor Co., Ltd.  37.405428  126.690827\n",
       "6594        HAN MAEK HEAVY IND CO.,LTD  37.347277  126.712545\n",
       "\n",
       "[675 rows x 3 columns]"
      ]
     },
     "execution_count": 60,
     "metadata": {},
     "output_type": "execute_result"
    }
   ],
   "source": [
    "points_outside[['Company', 'Latitude', 'Longitude']].drop_duplicates()"
   ]
  },
  {
   "cell_type": "code",
   "execution_count": 61,
   "id": "662a735a-207d-42c0-8ae1-88e5a0451957",
   "metadata": {},
   "outputs": [],
   "source": [
    "country_projected = country.to_crs(\"EPSG:3857\")\n",
    "centroid = country_projected.geometry.centroid.to_crs(\"EPSG:4326\")\n",
    "center_lat, center_lon = centroid.y.mean(), centroid.x.mean()"
   ]
  },
  {
   "cell_type": "code",
   "execution_count": 64,
   "id": "772ba3e7-49fd-4350-8287-785324d71ab1",
   "metadata": {},
   "outputs": [],
   "source": [
    "m = folium.Map(location=[center_lat, center_lon], zoom_start=5)\n",
    "\n",
    "folium.GeoJson(country).add_to(m)\n",
    "\n",
    "for idx, row in points_outside.iterrows():\n",
    "    color = 'lightblue' if idx in points_within.index else 'lightred'\n",
    "    folium.Marker(\n",
    "        location=[row['Latitude'], row['Longitude']],\n",
    "        popup=row['Company'],\n",
    "        icon=folium.Icon(color=color)\n",
    "    ).add_to(m)\n",
    "\n",
    "m.save('map2.html')"
   ]
  },
  {
   "cell_type": "code",
   "execution_count": 65,
   "id": "4bad5cab-0a0c-43e3-baca-233e73d358ad",
   "metadata": {},
   "outputs": [
    {
     "data": {
      "text/plain": [
       "True"
      ]
     },
     "execution_count": 65,
     "metadata": {},
     "output_type": "execute_result"
    }
   ],
   "source": [
    "webbrowser.open('map2.html',new = 2)"
   ]
  },
  {
   "cell_type": "markdown",
   "id": "8feaaaea-11ee-490b-aaa6-a2aacfd80e97",
   "metadata": {},
   "source": [
    "<h4>Set Status to Incorrect</h4>"
   ]
  },
  {
   "cell_type": "code",
   "execution_count": 87,
   "id": "e6c7e039-9663-4159-aac9-26417e42008c",
   "metadata": {},
   "outputs": [],
   "source": [
    "B_Original_df.loc[points_outside.index, 'Status'] = 'Incorrect'"
   ]
  },
  {
   "cell_type": "code",
   "execution_count": 88,
   "id": "5616e88b-1b40-4e21-b5ae-b4306007c853",
   "metadata": {},
   "outputs": [
    {
     "data": {
      "text/plain": [
       "1       Incorrect\n",
       "6       Incorrect\n",
       "12      Incorrect\n",
       "18      Incorrect\n",
       "20      Incorrect\n",
       "          ...    \n",
       "6574    Incorrect\n",
       "6575    Incorrect\n",
       "6577    Incorrect\n",
       "6581    Incorrect\n",
       "6594    Incorrect\n",
       "Name: Status, Length: 676, dtype: object"
      ]
     },
     "execution_count": 88,
     "metadata": {},
     "output_type": "execute_result"
    }
   ],
   "source": [
    "B_Original_df.loc[points_outside.index, 'Status']"
   ]
  },
  {
   "cell_type": "markdown",
   "id": "0d0c9426-7a0b-44f0-b436-cd3740f1eb71",
   "metadata": {},
   "source": [
    "<h4>Transfer Incorrect Data</h4>"
   ]
  },
  {
   "cell_type": "code",
   "execution_count": 92,
   "id": "dedb3623-1868-4554-893a-b47a1cac2353",
   "metadata": {},
   "outputs": [
    {
     "data": {
      "text/plain": [
       "1382"
      ]
     },
     "execution_count": 92,
     "metadata": {},
     "output_type": "execute_result"
    }
   ],
   "source": [
    "K_Incorrect_df.shape[0]"
   ]
  },
  {
   "cell_type": "code",
   "execution_count": 90,
   "id": "b2325c86-0402-40ee-a5ce-11e5d6ec4b1a",
   "metadata": {},
   "outputs": [],
   "source": [
    "incorrect = B_Original_df[B_Original_df['Status'] == 'Incorrect']"
   ]
  },
  {
   "cell_type": "code",
   "execution_count": 91,
   "id": "57eb99b5-b2d4-4a1d-bfda-27d560678457",
   "metadata": {},
   "outputs": [],
   "source": [
    "K_Incorrect_df = pd.concat([K_Incorrect_df, incorrect], ignore_index=True)"
   ]
  },
  {
   "cell_type": "code",
   "execution_count": 95,
   "id": "6f4ec3f1-6065-4f73-84c8-bfa69d54f55f",
   "metadata": {},
   "outputs": [
    {
     "data": {
      "text/plain": [
       "5214"
      ]
     },
     "execution_count": 95,
     "metadata": {},
     "output_type": "execute_result"
    }
   ],
   "source": [
    "B_Original_df.shape[0]"
   ]
  },
  {
   "cell_type": "code",
   "execution_count": 94,
   "id": "a58a1228-a366-4238-87e6-c2178f64eb96",
   "metadata": {},
   "outputs": [],
   "source": [
    "B_Original_df = B_Original_df[~(B_Original_df['Status'] == 'Incorrect')]"
   ]
  },
  {
   "cell_type": "markdown",
   "id": "dd3ffdc9-57d2-43c9-bb2b-a92e5b799bed",
   "metadata": {},
   "source": [
    "<h3>📝 Correct Incorrect Entries</h3>"
   ]
  },
  {
   "cell_type": "markdown",
   "id": "bce84e55-dc1c-4efb-b15f-cd8b28920316",
   "metadata": {},
   "source": [
    "<h4>Resolve Busines Model</h4>"
   ]
  },
  {
   "cell_type": "code",
   "execution_count": 67,
   "id": "d5d5dfdd-99ba-48ad-aca5-ba7f27af28c5",
   "metadata": {},
   "outputs": [
    {
     "data": {
      "text/plain": [
       "array(['OEM', 'End-User', 'System Integrator', 'Distributor'],\n",
       "      dtype=object)"
      ]
     },
     "execution_count": 67,
     "metadata": {},
     "output_type": "execute_result"
    }
   ],
   "source": [
    "B_Original_df['Business Model'].unique()"
   ]
  },
  {
   "cell_type": "markdown",
   "id": "5296d473-0ceb-4596-8dfb-72e7902f5396",
   "metadata": {},
   "source": [
    "<h4>Resolve Category</h4>"
   ]
  },
  {
   "cell_type": "code",
   "execution_count": 68,
   "id": "07f01f3c-bc2f-4861-b7cf-6b43b3c36228",
   "metadata": {},
   "outputs": [
    {
     "data": {
      "text/plain": [
       "array(['Agricultural Machinery', 'Agriculture',\n",
       "       'Apparatus & Machinery For Chemical Industry', 'Apparel',\n",
       "       'Appliances', 'Automatic Machinery & Equipment', 'Automation',\n",
       "       'Automotive', 'Bearing', 'Beverage', 'Boiler', 'Builder',\n",
       "       'Casting', 'Chemicals', 'Construction', 'Construction Machinery',\n",
       "       'Drives', 'Dryers', 'Electric Machinery', 'Electrical',\n",
       "       'Electronics', 'Electronics & Electrical', 'Energy',\n",
       "       'Equipment For Smelting Plant & Rolling Mills', 'Fabricated Metal',\n",
       "       'Fishing, Animal & Husbandry Machinery', 'Food', 'Food Machinery',\n",
       "       'Forging & Stamping', 'Freezing & Air Conditioning Equipment',\n",
       "       'Furniture', 'Grinders, Crushers & Screen Machines', 'HVAC',\n",
       "       'Hardware, Metal Products & Other Products Of Materials',\n",
       "       'Heat Treatment Equipment', 'Household Machinery',\n",
       "       'Hydraulic Presses, Pneumatic & Hydraulic Machinery', 'Hydraulics',\n",
       "       'Industrial Equipment', 'Industrial Furnace',\n",
       "       'Industrial Turnkey Plant', 'Internal Combustion Engines',\n",
       "       'Laundry & Dry Cleaning Machinery', 'Leather',\n",
       "       'Machinery Equipment For Services',\n",
       "       'Machinery Equipment for Foundry Plant',\n",
       "       'Machinery For Non-Metallic Mineral Products',\n",
       "       'Machinery for Clothing Industry',\n",
       "       'Machinery for Leather Industry',\n",
       "       'Machinery for Processing Plastics',\n",
       "       'Machinery for Rubber Industry', 'Marine',\n",
       "       'Material Handling Machinery', 'Medical', 'Metal Cutting Tools',\n",
       "       'Metal Forming Machinery', 'Metals', 'Mining Machinery',\n",
       "       'NC Machines', 'Non-Metallic', 'Office Machinery',\n",
       "       'Packaging Machinery', 'Paper',\n",
       "       'Paper Making & Converting Machinery', 'Petrol', 'Pharmaceutical',\n",
       "       'Piping System',\n",
       "       'Planning, Consulting & Construction of Complete Industrial Plant',\n",
       "       'Plastics', 'Pollution Control Equipment',\n",
       "       'Precision Machinery, Inspecting & Testing Equipment', 'Printing',\n",
       "       'Productronics', 'Pumps, Fans, Compressors & Vacuum Pumps', 'R&D',\n",
       "       'Refrigerating Equipment',\n",
       "       'Repair, Maintenance & Installation Of Machinery', 'Robotics',\n",
       "       'Rubber', 'Semiconductors', 'Sewing Machine',\n",
       "       'Shoe Making Machinery', 'Special Machine Tools', 'Steel',\n",
       "       'Subcontract Services', 'Textile', 'Textile Machinery',\n",
       "       'Tools, Cutters, Moulds, & Dies', 'Transportation Equipment',\n",
       "       'Water', 'Welding & Cutting Machinery', 'Wood',\n",
       "       'Woodworking Machinery'], dtype=object)"
      ]
     },
     "execution_count": 68,
     "metadata": {},
     "output_type": "execute_result"
    }
   ],
   "source": [
    "Categories = np.sort(B_Original_df['Category'].unique())\n",
    "Categories"
   ]
  },
  {
   "cell_type": "markdown",
   "id": "3f76dea5-5f29-42b8-9657-218b5f648bb2",
   "metadata": {},
   "source": [
    "<h4>Resolve Subcategory</h4>"
   ]
  },
  {
   "cell_type": "code",
   "execution_count": 69,
   "id": "947e6ba3-d9bb-4c24-bc17-8151b2127a20",
   "metadata": {},
   "outputs": [],
   "source": [
    "B_Original_df['Subcategory'] = B_Original_df['Subcategory'].str.title()"
   ]
  },
  {
   "cell_type": "code",
   "execution_count": 72,
   "id": "34630918-9744-4b35-98ac-91c3f72255cb",
   "metadata": {},
   "outputs": [],
   "source": [
    "B_Original_df['Subcategory'] = B_Original_df['Subcategory'].str.replace(',','')"
   ]
  },
  {
   "cell_type": "markdown",
   "id": "2806aae4-1c73-43e1-a60e-fecd4e7709d6",
   "metadata": {},
   "source": [
    "<h4>Resolve State</h4>"
   ]
  },
  {
   "cell_type": "code",
   "execution_count": 75,
   "id": "8d707978-54fe-4efe-a877-5115bd521ca2",
   "metadata": {},
   "outputs": [
    {
     "data": {
      "text/plain": [
       "array(['Chungcheongnam-do', 'Jeollanam-do', 'Seoul', 'Chungcheongbuk-do',\n",
       "       'Gyeonggi-do', 'Incheon', 'Ulsan', 'Daegu', 'Sejong',\n",
       "       'Gyeongsangbuk-do', 'Gyeongsangnam-do', 'Daejeon', 'Busan',\n",
       "       'Gangwon-do', 'Gwangju', 'Jeju-do', 'Jeollabuk-do'], dtype=object)"
      ]
     },
     "execution_count": 75,
     "metadata": {},
     "output_type": "execute_result"
    }
   ],
   "source": [
    "B_Original_df['State'].unique()"
   ]
  },
  {
   "cell_type": "markdown",
   "id": "f675fcb1-2421-4f67-b1c8-51f10f62c0f9",
   "metadata": {},
   "source": [
    "<h4>Resolve Country</h4>"
   ]
  },
  {
   "cell_type": "code",
   "execution_count": 76,
   "id": "8c219009-c19c-4214-828f-6bb85adee189",
   "metadata": {},
   "outputs": [
    {
     "data": {
      "text/plain": [
       "array(['South Korea'], dtype=object)"
      ]
     },
     "execution_count": 76,
     "metadata": {},
     "output_type": "execute_result"
    }
   ],
   "source": [
    "B_Original_df['Country'].unique()"
   ]
  },
  {
   "cell_type": "markdown",
   "id": "00f8a3cd-f580-443c-815e-e830efb4703a",
   "metadata": {},
   "source": [
    "<h3>📈 Detect and Treat Outliers</h3>"
   ]
  },
  {
   "cell_type": "code",
   "execution_count": 77,
   "id": "14a95183-f66d-417e-92cd-b81694702f37",
   "metadata": {},
   "outputs": [],
   "source": [
    "plt.style.use('fivethirtyeight')"
   ]
  },
  {
   "cell_type": "markdown",
   "id": "5751a598-2f89-494d-8c9d-cecf63f4430f",
   "metadata": {},
   "source": [
    "<h4>Check Latitude</h4>"
   ]
  },
  {
   "cell_type": "code",
   "execution_count": 78,
   "id": "9ae49084-d7a9-4c68-9d9f-d3325ee2da4d",
   "metadata": {},
   "outputs": [
    {
     "data": {
      "image/png": "[encoded data removed]",
      "text/plain": [
       "<Figure size 640x480 with 1 Axes>"
      ]
     },
     "metadata": {},
     "output_type": "display_data"
    }
   ],
   "source": [
    "plt.scatter(B_Original_df['Latitude'], B_Original_df['Latitude'], color='#fc67a5')\n",
    "plt.show()"
   ]
  },
  {
   "cell_type": "markdown",
   "id": "81aefccb-be79-4e32-9b6b-e37152ac5bf2",
   "metadata": {},
   "source": [
    "<h4>Check Longitude</h4>"
   ]
  },
  {
   "cell_type": "code",
   "execution_count": 79,
   "id": "048bab99-0cc3-4a5b-b991-459469d9d9b6",
   "metadata": {},
   "outputs": [
    {
     "data": {
      "image/png": "[encoded data removed]",
      "text/plain": [
       "<Figure size 640x480 with 1 Axes>"
      ]
     },
     "metadata": {},
     "output_type": "display_data"
    }
   ],
   "source": [
    "plt.scatter(B_Original_df['Longitude'], B_Original_df['Longitude'], color='#fc8a67')\n",
    "plt.show()"
   ]
  },
  {
   "cell_type": "markdown",
   "id": "4035715d-aafc-49b5-8ad0-9ebb476ced6a",
   "metadata": {},
   "source": [
    "<h4>Check Annual Sales</h4>"
   ]
  },
  {
   "cell_type": "code",
   "execution_count": 81,
   "id": "0c25f6d0-4d30-49f6-bc3e-81f2cd144af5",
   "metadata": {},
   "outputs": [
    {
     "data": {
      "image/png": "[encoded data removed]",
      "text/plain": [
       "<Figure size 640x480 with 1 Axes>"
      ]
     },
     "metadata": {},
     "output_type": "display_data"
    }
   ],
   "source": [
    "plt.scatter(B_Original_df['Annual Sales'], B_Original_df['Annual Sales'], color='#67fcc8')\n",
    "plt.show()"
   ]
  },
  {
   "cell_type": "markdown",
   "id": "425dee82-a53b-4411-9889-18fb01b4ad10",
   "metadata": {},
   "source": [
    "<h4>Check Employees</h4>"
   ]
  },
  {
   "cell_type": "code",
   "execution_count": 82,
   "id": "18a06ecc-6e13-4db2-93b9-4a6c1c8fcbb9",
   "metadata": {},
   "outputs": [
    {
     "data": {
      "image/png": "[encoded data removed]",
      "text/plain": [
       "<Figure size 640x480 with 1 Axes>"
      ]
     },
     "metadata": {},
     "output_type": "display_data"
    }
   ],
   "source": [
    "plt.scatter(B_Original_df['Employees'], B_Original_df['Employees'], color='#67c8fc')\n",
    "plt.show()"
   ]
  },
  {
   "cell_type": "markdown",
   "id": "dbcdf8af-4094-421d-a92b-aeb3f702bd7f",
   "metadata": {},
   "source": [
    "So far, there are <b>no outliers</b> in the dataset."
   ]
  },
  {
   "cell_type": "markdown",
   "id": "456adbf8-ee88-48db-9264-9ee848a234ca",
   "metadata": {},
   "source": [
    "<h2>🔎 Finalize Dataset</h2>"
   ]
  },
  {
   "cell_type": "markdown",
   "id": "48f2ac96-4f9f-4415-a58b-86f5988c72ec",
   "metadata": {},
   "source": [
    "<h3>Check Data Types</h3>"
   ]
  },
  {
   "cell_type": "code",
   "execution_count": 99,
   "id": "d8064f12-3816-409c-9d70-cefbd589207d",
   "metadata": {},
   "outputs": [
    {
     "name": "stdout",
     "output_type": "stream",
     "text": [
      "<class 'pandas.core.frame.DataFrame'>\n",
      "Index: 5214 entries, 0 to 6595\n",
      "Data columns (total 19 columns):\n",
      " #   Column                         Non-Null Count  Dtype  \n",
      "---  ------                         --------------  -----  \n",
      " 0   Status                         1677 non-null   object \n",
      " 1   Business Model                 5214 non-null   object \n",
      " 2   Category                       5214 non-null   object \n",
      " 3   Valid Category/Business Model  5214 non-null   object \n",
      " 4   Subcategory                    4908 non-null   object \n",
      " 5   Company                        5214 non-null   object \n",
      " 6   Address                        5214 non-null   object \n",
      " 7   Latitude                       5214 non-null   float64\n",
      " 8   Longitude                      5214 non-null   float64\n",
      " 9   State                          5214 non-null   object \n",
      " 10  Country                        5214 non-null   object \n",
      " 11  Contact No.                    1110 non-null   object \n",
      " 12  Fax No.                        3113 non-null   object \n",
      " 13  Website                        3122 non-null   object \n",
      " 14  Email                          242 non-null    object \n",
      " 15  Annual Sales                   1840 non-null   Float64\n",
      " 16  Annual Sales (Range)           1840 non-null   object \n",
      " 17  Employees                      1377 non-null   Int64  \n",
      " 18  Incorrect                      0 non-null      object \n",
      "dtypes: Float64(1), Int64(1), float64(2), object(15)\n",
      "memory usage: 824.9+ KB\n"
     ]
    }
   ],
   "source": [
    "B_Original_df.info()"
   ]
  },
  {
   "cell_type": "markdown",
   "id": "b21ae3d5-bd37-47ba-b438-1458372deefa",
   "metadata": {},
   "source": [
    "<h3>Check For Null Values</h3>"
   ]
  },
  {
   "cell_type": "code",
   "execution_count": 100,
   "id": "3358bab1-6725-49ce-a3de-e692cf246089",
   "metadata": {},
   "outputs": [
    {
     "data": {
      "text/plain": [
       "Status                            True\n",
       "Business Model                   False\n",
       "Category                         False\n",
       "Valid Category/Business Model    False\n",
       "Subcategory                       True\n",
       "Company                          False\n",
       "Address                          False\n",
       "Latitude                         False\n",
       "Longitude                        False\n",
       "State                            False\n",
       "Country                          False\n",
       "Contact No.                       True\n",
       "Fax No.                           True\n",
       "Website                           True\n",
       "Email                             True\n",
       "Annual Sales                      True\n",
       "Annual Sales (Range)              True\n",
       "Employees                         True\n",
       "Incorrect                         True\n",
       "dtype: bool"
      ]
     },
     "execution_count": 100,
     "metadata": {},
     "output_type": "execute_result"
    }
   ],
   "source": [
    "B_Original_df.isnull().any()"
   ]
  },
  {
   "cell_type": "markdown",
   "id": "b68d5e1e-9aa7-4d48-823d-4b6a18018d5c",
   "metadata": {},
   "source": [
    "<h3>Summarize Dataset</h3>"
   ]
  },
  {
   "cell_type": "code",
   "execution_count": 101,
   "id": "3f62a23c-b6fc-41c7-8282-3a9d4776254c",
   "metadata": {},
   "outputs": [
    {
     "data": {
      "text/html": [
       "<div>\n",
       "<style scoped>\n",
       "    .dataframe tbody tr th:only-of-type {\n",
       "        vertical-align: middle;\n",
       "    }\n",
       "\n",
       "    .dataframe tbody tr th {\n",
       "        vertical-align: top;\n",
       "    }\n",
       "\n",
       "    .dataframe thead th {\n",
       "        text-align: right;\n",
       "    }\n",
       "</style>\n",
       "<table border=\"1\" class=\"dataframe\">\n",
       "  <thead>\n",
       "    <tr style=\"text-align: right;\">\n",
       "      <th></th>\n",
       "      <th>Latitude</th>\n",
       "      <th>Longitude</th>\n",
       "      <th>Annual Sales</th>\n",
       "      <th>Employees</th>\n",
       "    </tr>\n",
       "  </thead>\n",
       "  <tbody>\n",
       "    <tr>\n",
       "      <th>count</th>\n",
       "      <td>5214.000000</td>\n",
       "      <td>5214.000000</td>\n",
       "      <td>1840.0</td>\n",
       "      <td>1377.0</td>\n",
       "    </tr>\n",
       "    <tr>\n",
       "      <th>mean</th>\n",
       "      <td>36.831264</td>\n",
       "      <td>127.442084</td>\n",
       "      <td>760808453.261413</td>\n",
       "      <td>456.944808</td>\n",
       "    </tr>\n",
       "    <tr>\n",
       "      <th>std</th>\n",
       "      <td>0.899603</td>\n",
       "      <td>0.797900</td>\n",
       "      <td>5931098412.397326</td>\n",
       "      <td>2770.520663</td>\n",
       "    </tr>\n",
       "    <tr>\n",
       "      <th>min</th>\n",
       "      <td>33.258930</td>\n",
       "      <td>126.243515</td>\n",
       "      <td>58312.0</td>\n",
       "      <td>1.0</td>\n",
       "    </tr>\n",
       "    <tr>\n",
       "      <th>25%</th>\n",
       "      <td>35.954991</td>\n",
       "      <td>126.906336</td>\n",
       "      <td>17708262.0</td>\n",
       "      <td>32.0</td>\n",
       "    </tr>\n",
       "    <tr>\n",
       "      <th>50%</th>\n",
       "      <td>37.317116</td>\n",
       "      <td>127.057657</td>\n",
       "      <td>55195600.0</td>\n",
       "      <td>81.0</td>\n",
       "    </tr>\n",
       "    <tr>\n",
       "      <th>75%</th>\n",
       "      <td>37.510522</td>\n",
       "      <td>127.766922</td>\n",
       "      <td>197069062.5</td>\n",
       "      <td>249.0</td>\n",
       "    </tr>\n",
       "    <tr>\n",
       "      <th>max</th>\n",
       "      <td>38.233460</td>\n",
       "      <td>129.553072</td>\n",
       "      <td>158476877300.0</td>\n",
       "      <td>72001.0</td>\n",
       "    </tr>\n",
       "  </tbody>\n",
       "</table>\n",
       "</div>"
      ],
      "text/plain": [
       "          Latitude    Longitude       Annual Sales    Employees\n",
       "count  5214.000000  5214.000000             1840.0       1377.0\n",
       "mean     36.831264   127.442084   760808453.261413   456.944808\n",
       "std       0.899603     0.797900  5931098412.397326  2770.520663\n",
       "min      33.258930   126.243515            58312.0          1.0\n",
       "25%      35.954991   126.906336         17708262.0         32.0\n",
       "50%      37.317116   127.057657         55195600.0         81.0\n",
       "75%      37.510522   127.766922        197069062.5        249.0\n",
       "max      38.233460   129.553072     158476877300.0      72001.0"
      ]
     },
     "execution_count": 101,
     "metadata": {},
     "output_type": "execute_result"
    }
   ],
   "source": [
    "B_Original_df.describe()"
   ]
  },
  {
   "cell_type": "markdown",
   "id": "8680a20b-3ecf-4fee-9a77-75dbff1b10d4",
   "metadata": {},
   "source": [
    "<h3>Check Random Samples</h3>"
   ]
  },
  {
   "cell_type": "code",
   "execution_count": 102,
   "id": "ba75c1be-1806-4dc0-99de-043e80c3565c",
   "metadata": {},
   "outputs": [
    {
     "data": {
      "text/html": [
       "<div>\n",
       "<style scoped>\n",
       "    .dataframe tbody tr th:only-of-type {\n",
       "        vertical-align: middle;\n",
       "    }\n",
       "\n",
       "    .dataframe tbody tr th {\n",
       "        vertical-align: top;\n",
       "    }\n",
       "\n",
       "    .dataframe thead th {\n",
       "        text-align: right;\n",
       "    }\n",
       "</style>\n",
       "<table border=\"1\" class=\"dataframe\">\n",
       "  <thead>\n",
       "    <tr style=\"text-align: right;\">\n",
       "      <th></th>\n",
       "      <th>Status</th>\n",
       "      <th>Business Model</th>\n",
       "      <th>Category</th>\n",
       "      <th>Valid Category/Business Model</th>\n",
       "      <th>Subcategory</th>\n",
       "      <th>Company</th>\n",
       "      <th>Address</th>\n",
       "      <th>Latitude</th>\n",
       "      <th>Longitude</th>\n",
       "      <th>State</th>\n",
       "      <th>Country</th>\n",
       "      <th>Contact No.</th>\n",
       "      <th>Fax No.</th>\n",
       "      <th>Website</th>\n",
       "      <th>Email</th>\n",
       "      <th>Annual Sales</th>\n",
       "      <th>Annual Sales (Range)</th>\n",
       "      <th>Employees</th>\n",
       "      <th>Incorrect</th>\n",
       "    </tr>\n",
       "  </thead>\n",
       "  <tbody>\n",
       "    <tr>\n",
       "      <th>3462</th>\n",
       "      <td>NaN</td>\n",
       "      <td>OEM</td>\n",
       "      <td>Casting</td>\n",
       "      <td>Invalid</td>\n",
       "      <td>Costing For Textile Machinery Use</td>\n",
       "      <td>DAIRO MC CO., LTD</td>\n",
       "      <td>Rm 512 Hakun-ri 117 Hwanggeum-ro Yangchon-eup,...</td>\n",
       "      <td>37.617106</td>\n",
       "      <td>126.621029</td>\n",
       "      <td>Gyeonggi-do</td>\n",
       "      <td>South Korea</td>\n",
       "      <td>(+82) 2-8525-191</td>\n",
       "      <td>NaN</td>\n",
       "      <td>na4.dnbi.com/dnbiweb/#/dnbi/internationalEcf/f...</td>\n",
       "      <td>NaN</td>\n",
       "      <td>&lt;NA&gt;</td>\n",
       "      <td>NaN</td>\n",
       "      <td>&lt;NA&gt;</td>\n",
       "      <td>NaN</td>\n",
       "    </tr>\n",
       "    <tr>\n",
       "      <th>1522</th>\n",
       "      <td>Correct</td>\n",
       "      <td>End-User</td>\n",
       "      <td>Automotive</td>\n",
       "      <td>Invalid</td>\n",
       "      <td>Other Basic Metals Other Basic Metals</td>\n",
       "      <td>HANDS CORPORATION LTD.</td>\n",
       "      <td>50, Gajeong-ro 37beon-gil, Seo-gu, INCHEON</td>\n",
       "      <td>37.488754</td>\n",
       "      <td>126.665191</td>\n",
       "      <td>Incheon</td>\n",
       "      <td>South Korea</td>\n",
       "      <td>NaN</td>\n",
       "      <td>NaN</td>\n",
       "      <td>handscorp.co.kr</td>\n",
       "      <td>NaN</td>\n",
       "      <td>582134700.0</td>\n",
       "      <td>$100,000,000 and above</td>\n",
       "      <td>1213</td>\n",
       "      <td>NaN</td>\n",
       "    </tr>\n",
       "    <tr>\n",
       "      <th>3258</th>\n",
       "      <td>NaN</td>\n",
       "      <td>OEM</td>\n",
       "      <td>Metal Cutting Tools</td>\n",
       "      <td>Invalid</td>\n",
       "      <td>Metal Turning Machines Gear Cutting Machines</td>\n",
       "      <td>DAESUNG HI-TECH CO., LTD</td>\n",
       "      <td>10, Techno-daero 2-gil, Hyeonpung-myeon, Dalse...</td>\n",
       "      <td>35.687709</td>\n",
       "      <td>128.446577</td>\n",
       "      <td>Daegu</td>\n",
       "      <td>South Korea</td>\n",
       "      <td>NaN</td>\n",
       "      <td>(+82) 5-3592-6559</td>\n",
       "      <td>topdsht.com/eng/</td>\n",
       "      <td>NaN</td>\n",
       "      <td>&lt;NA&gt;</td>\n",
       "      <td>NaN</td>\n",
       "      <td>&lt;NA&gt;</td>\n",
       "      <td>NaN</td>\n",
       "    </tr>\n",
       "    <tr>\n",
       "      <th>5066</th>\n",
       "      <td>NaN</td>\n",
       "      <td>OEM</td>\n",
       "      <td>Special Machine Tools</td>\n",
       "      <td>Invalid</td>\n",
       "      <td>Needles</td>\n",
       "      <td>EINS MED CO.,LTD</td>\n",
       "      <td>307, Ssangyong IT Twintower 1, 442-17, Sangdae...</td>\n",
       "      <td>37.431980</td>\n",
       "      <td>127.176401</td>\n",
       "      <td>Gyeonggi-do</td>\n",
       "      <td>South Korea</td>\n",
       "      <td>NaN</td>\n",
       "      <td>(+82) 3-1608-5245</td>\n",
       "      <td>einsmed.com/</td>\n",
       "      <td>NaN</td>\n",
       "      <td>&lt;NA&gt;</td>\n",
       "      <td>NaN</td>\n",
       "      <td>&lt;NA&gt;</td>\n",
       "      <td>NaN</td>\n",
       "    </tr>\n",
       "    <tr>\n",
       "      <th>5084</th>\n",
       "      <td>NaN</td>\n",
       "      <td>OEM</td>\n",
       "      <td>Woodworking Machinery</td>\n",
       "      <td>Invalid</td>\n",
       "      <td>Band Sawing Machines For Woodworking</td>\n",
       "      <td>Mac Nels Agencies Pte., Ltd.</td>\n",
       "      <td>61 YANGHWA-RO MAPO-GU SEOUL KOREA</td>\n",
       "      <td>37.550822</td>\n",
       "      <td>126.915069</td>\n",
       "      <td>Seoul</td>\n",
       "      <td>South Korea</td>\n",
       "      <td>NaN</td>\n",
       "      <td>NaN</td>\n",
       "      <td>NaN</td>\n",
       "      <td>NaN</td>\n",
       "      <td>&lt;NA&gt;</td>\n",
       "      <td>NaN</td>\n",
       "      <td>&lt;NA&gt;</td>\n",
       "      <td>NaN</td>\n",
       "    </tr>\n",
       "  </tbody>\n",
       "</table>\n",
       "</div>"
      ],
      "text/plain": [
       "       Status Business Model               Category  \\\n",
       "3462      NaN            OEM                Casting   \n",
       "1522  Correct       End-User             Automotive   \n",
       "3258      NaN            OEM    Metal Cutting Tools   \n",
       "5066      NaN            OEM  Special Machine Tools   \n",
       "5084      NaN            OEM  Woodworking Machinery   \n",
       "\n",
       "     Valid Category/Business Model  \\\n",
       "3462                       Invalid   \n",
       "1522                       Invalid   \n",
       "3258                       Invalid   \n",
       "5066                       Invalid   \n",
       "5084                       Invalid   \n",
       "\n",
       "                                       Subcategory  \\\n",
       "3462             Costing For Textile Machinery Use   \n",
       "1522         Other Basic Metals Other Basic Metals   \n",
       "3258  Metal Turning Machines Gear Cutting Machines   \n",
       "5066                                       Needles   \n",
       "5084          Band Sawing Machines For Woodworking   \n",
       "\n",
       "                           Company  \\\n",
       "3462             DAIRO MC CO., LTD   \n",
       "1522        HANDS CORPORATION LTD.   \n",
       "3258      DAESUNG HI-TECH CO., LTD   \n",
       "5066              EINS MED CO.,LTD   \n",
       "5084  Mac Nels Agencies Pte., Ltd.   \n",
       "\n",
       "                                                Address   Latitude  \\\n",
       "3462  Rm 512 Hakun-ri 117 Hwanggeum-ro Yangchon-eup,...  37.617106   \n",
       "1522         50, Gajeong-ro 37beon-gil, Seo-gu, INCHEON  37.488754   \n",
       "3258  10, Techno-daero 2-gil, Hyeonpung-myeon, Dalse...  35.687709   \n",
       "5066  307, Ssangyong IT Twintower 1, 442-17, Sangdae...  37.431980   \n",
       "5084                  61 YANGHWA-RO MAPO-GU SEOUL KOREA  37.550822   \n",
       "\n",
       "       Longitude        State      Country       Contact No.  \\\n",
       "3462  126.621029  Gyeonggi-do  South Korea  (+82) 2-8525-191   \n",
       "1522  126.665191      Incheon  South Korea               NaN   \n",
       "3258  128.446577        Daegu  South Korea               NaN   \n",
       "5066  127.176401  Gyeonggi-do  South Korea               NaN   \n",
       "5084  126.915069        Seoul  South Korea               NaN   \n",
       "\n",
       "                Fax No.                                            Website  \\\n",
       "3462                NaN  na4.dnbi.com/dnbiweb/#/dnbi/internationalEcf/f...   \n",
       "1522                NaN                                    handscorp.co.kr   \n",
       "3258  (+82) 5-3592-6559                                   topdsht.com/eng/   \n",
       "5066  (+82) 3-1608-5245                                       einsmed.com/   \n",
       "5084                NaN                                                NaN   \n",
       "\n",
       "     Email  Annual Sales    Annual Sales (Range)  Employees Incorrect  \n",
       "3462   NaN          <NA>                     NaN       <NA>       NaN  \n",
       "1522   NaN   582134700.0  $100,000,000 and above       1213       NaN  \n",
       "3258   NaN          <NA>                     NaN       <NA>       NaN  \n",
       "5066   NaN          <NA>                     NaN       <NA>       NaN  \n",
       "5084   NaN          <NA>                     NaN       <NA>       NaN  "
      ]
     },
     "execution_count": 102,
     "metadata": {},
     "output_type": "execute_result"
    }
   ],
   "source": [
    "B_Original_df.sample(5)"
   ]
  },
  {
   "cell_type": "markdown",
   "id": "dfec6be9-43d8-442a-b2aa-e477a11d9887",
   "metadata": {},
   "source": [
    "<h2>📥 Download Dataset</h2>"
   ]
  },
  {
   "cell_type": "code",
   "execution_count": 103,
   "id": "7c1f39d4-8dfd-4dc2-ac78-ac672c1ef2dd",
   "metadata": {},
   "outputs": [],
   "source": [
    "B_Original_df.to_csv('datasets\\output\\Dataset_Korea_cleaned.csv', index=False)"
   ]
  },
  {
   "cell_type": "code",
   "execution_count": 104,
   "id": "52e19f36-9b06-4dc0-9b7d-11977a9f5ab0",
   "metadata": {},
   "outputs": [],
   "source": [
    "K_Incorrect_df.to_csv('datasets\\output\\Dataset_Korea_incorrect.csv', index=False)"
   ]
  },
  {
   "cell_type": "markdown",
   "id": "efdcc591-cbad-41c6-8b05-c594cb5b454c",
   "metadata": {},
   "source": [
    "<h2>💌 Credits ✉️</h2>"
   ]
  },
  {
   "cell_type": "markdown",
   "id": "3a8d34dc-38fc-45d0-b4f6-de0ec498a5aa",
   "metadata": {},
   "source": [
    "This project is done by <b>ERMITANO, Kate Justine</b> as a part of the internship tasks under the instructions of <b>Miss Fherlyn Charl Yet</b>."
   ]
  }
 ],
 "metadata": {
  "kernelspec": {
   "display_name": "Python 3 (ipykernel)",
   "language": "python",
   "name": "python3"
  },
  "language_info": {
   "codemirror_mode": {
    "name": "ipython",
    "version": 3
   },
   "file_extension": ".py",
   "mimetype": "text/x-python",
   "name": "python",
   "nbconvert_exporter": "python",
   "pygments_lexer": "ipython3",
   "version": "3.13.5"
  }
 },
 "nbformat": 4,
 "nbformat_minor": 5
}
