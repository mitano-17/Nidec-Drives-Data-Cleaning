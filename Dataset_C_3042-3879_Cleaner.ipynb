{
 "cells": [
  {
   "cell_type": "markdown",
   "id": "b79498cd-12b6-4d2b-94bd-c4e41029c65a",
   "metadata": {},
   "source": [
    "<h1>🧽 Data Cleaning - Dataset C (3042-3879) 🧽</h1>"
   ]
  },
  {
   "cell_type": "markdown",
   "id": "89925648-edf6-436f-9862-b290e465d89a",
   "metadata": {},
   "source": [
    "Perform data cleaning on a segment in Dataset C."
   ]
  },
  {
   "cell_type": "markdown",
   "id": "3454fa3c-1e3d-4da5-9878-9f6927211f14",
   "metadata": {},
   "source": [
    "<h2>🗃 Import Libraries</h2>"
   ]
  },
  {
   "cell_type": "code",
   "execution_count": 1,
   "id": "a2ed452e-dd63-4480-9910-1008632be87f",
   "metadata": {
    "scrolled": true
   },
   "outputs": [],
   "source": [
    "#pip install geopandas matplotlib folium shapely"
   ]
  },
  {
   "cell_type": "code",
   "execution_count": 2,
   "id": "b31c7798-b73c-4301-93eb-fb537ff02313",
   "metadata": {},
   "outputs": [],
   "source": [
    "%matplotlib inline\n",
    "import pandas as pd\n",
    "import numpy as np\n",
    "import matplotlib.pyplot as plt\n",
    "import geopandas as gpd\n",
    "import folium\n",
    "import webbrowser"
   ]
  },
  {
   "cell_type": "markdown",
   "id": "fd5ba2c8-aa3d-4fdf-9a87-7fd84aabeeeb",
   "metadata": {},
   "source": [
    "<h2>📤 Upload Dataset</h2>"
   ]
  },
  {
   "cell_type": "code",
   "execution_count": 3,
   "id": "fc25ba34-0c33-425d-9939-22633a14ccc3",
   "metadata": {},
   "outputs": [],
   "source": [
    "C_Original_df = pd.read_csv(\"datasets\\input\\Dataset_C.csv\")"
   ]
  },
  {
   "cell_type": "markdown",
   "id": "86bdd2e3-4b5c-4f62-81d8-78ac10f3cca0",
   "metadata": {},
   "source": [
    "<h2>🔍 Inspect Dataset</h2>"
   ]
  },
  {
   "cell_type": "markdown",
   "id": "42961717-f4d0-4d06-abd1-9100d79df7b1",
   "metadata": {},
   "source": [
    "<h3>Check Data Types</h3>"
   ]
  },
  {
   "cell_type": "code",
   "execution_count": 4,
   "id": "8ef4f457-60cd-421e-b481-0c9c169cd9cc",
   "metadata": {},
   "outputs": [
    {
     "name": "stdout",
     "output_type": "stream",
     "text": [
      "<class 'pandas.core.frame.DataFrame'>\n",
      "RangeIndex: 4421 entries, 0 to 4420\n",
      "Data columns (total 16 columns):\n",
      " #   Column         Non-Null Count  Dtype  \n",
      "---  ------         --------------  -----  \n",
      " 0   Busines Model  4292 non-null   object \n",
      " 1   Category       4287 non-null   object \n",
      " 2   Subcategory    4284 non-null   object \n",
      " 3   Company Name   4392 non-null   object \n",
      " 4   Address        4287 non-null   object \n",
      " 5   Latitude       4284 non-null   object \n",
      " 6   Longitude      4284 non-null   object \n",
      " 7   State          4265 non-null   object \n",
      " 8   Country        4342 non-null   object \n",
      " 9   Contact No.    3986 non-null   object \n",
      " 10  Fax No.        2848 non-null   object \n",
      " 11  Website        4392 non-null   object \n",
      " 12  Email          15 non-null     object \n",
      " 13  Annual Sale    4286 non-null   object \n",
      " 14  Annual Sales   0 non-null      float64\n",
      " 15  Employees      4275 non-null   object \n",
      "dtypes: float64(1), object(15)\n",
      "memory usage: 552.8+ KB\n"
     ]
    }
   ],
   "source": [
    "C_Original_df.info()"
   ]
  },
  {
   "cell_type": "markdown",
   "id": "9cc6884d-0abf-41dc-b869-1863b5233371",
   "metadata": {},
   "source": [
    "<h3>Check For Null Values</h3>"
   ]
  },
  {
   "cell_type": "code",
   "execution_count": 5,
   "id": "6f6ed489-da0e-4204-9f84-7a43965d15a3",
   "metadata": {},
   "outputs": [
    {
     "data": {
      "text/plain": [
       "Busines Model    True\n",
       "Category         True\n",
       "Subcategory      True\n",
       "Company Name     True\n",
       "Address          True\n",
       "Latitude         True\n",
       "Longitude        True\n",
       "State            True\n",
       "Country          True\n",
       "Contact No.      True\n",
       "Fax No.          True\n",
       "Website          True\n",
       "Email            True\n",
       "Annual Sale      True\n",
       "Annual Sales     True\n",
       "Employees        True\n",
       "dtype: bool"
      ]
     },
     "execution_count": 5,
     "metadata": {},
     "output_type": "execute_result"
    }
   ],
   "source": [
    "C_Original_df.isnull().any()"
   ]
  },
  {
   "cell_type": "markdown",
   "id": "ddd96995-bc02-40ed-8a47-bcc4a3f87960",
   "metadata": {},
   "source": [
    "<h3>Summarize Dataset</h3>"
   ]
  },
  {
   "cell_type": "code",
   "execution_count": 6,
   "id": "3fd4f44d-799d-418b-ab72-241a68937b15",
   "metadata": {},
   "outputs": [
    {
     "data": {
      "text/html": [
       "<div>\n",
       "<style scoped>\n",
       "    .dataframe tbody tr th:only-of-type {\n",
       "        vertical-align: middle;\n",
       "    }\n",
       "\n",
       "    .dataframe tbody tr th {\n",
       "        vertical-align: top;\n",
       "    }\n",
       "\n",
       "    .dataframe thead th {\n",
       "        text-align: right;\n",
       "    }\n",
       "</style>\n",
       "<table border=\"1\" class=\"dataframe\">\n",
       "  <thead>\n",
       "    <tr style=\"text-align: right;\">\n",
       "      <th></th>\n",
       "      <th>Annual Sales</th>\n",
       "    </tr>\n",
       "  </thead>\n",
       "  <tbody>\n",
       "    <tr>\n",
       "      <th>count</th>\n",
       "      <td>0.0</td>\n",
       "    </tr>\n",
       "    <tr>\n",
       "      <th>mean</th>\n",
       "      <td>NaN</td>\n",
       "    </tr>\n",
       "    <tr>\n",
       "      <th>std</th>\n",
       "      <td>NaN</td>\n",
       "    </tr>\n",
       "    <tr>\n",
       "      <th>min</th>\n",
       "      <td>NaN</td>\n",
       "    </tr>\n",
       "    <tr>\n",
       "      <th>25%</th>\n",
       "      <td>NaN</td>\n",
       "    </tr>\n",
       "    <tr>\n",
       "      <th>50%</th>\n",
       "      <td>NaN</td>\n",
       "    </tr>\n",
       "    <tr>\n",
       "      <th>75%</th>\n",
       "      <td>NaN</td>\n",
       "    </tr>\n",
       "    <tr>\n",
       "      <th>max</th>\n",
       "      <td>NaN</td>\n",
       "    </tr>\n",
       "  </tbody>\n",
       "</table>\n",
       "</div>"
      ],
      "text/plain": [
       "       Annual Sales\n",
       "count           0.0\n",
       "mean            NaN\n",
       "std             NaN\n",
       "min             NaN\n",
       "25%             NaN\n",
       "50%             NaN\n",
       "75%             NaN\n",
       "max             NaN"
      ]
     },
     "execution_count": 6,
     "metadata": {},
     "output_type": "execute_result"
    }
   ],
   "source": [
    "C_Original_df.describe()"
   ]
  },
  {
   "cell_type": "markdown",
   "id": "1020895d-3672-4d76-a32b-1cfb5cacba76",
   "metadata": {},
   "source": [
    "<h3>Check Random Samples</h3>"
   ]
  },
  {
   "cell_type": "code",
   "execution_count": 7,
   "id": "367ae3d5-2875-4f30-a8f4-0f64cbf23fde",
   "metadata": {},
   "outputs": [
    {
     "data": {
      "text/html": [
       "<div>\n",
       "<style scoped>\n",
       "    .dataframe tbody tr th:only-of-type {\n",
       "        vertical-align: middle;\n",
       "    }\n",
       "\n",
       "    .dataframe tbody tr th {\n",
       "        vertical-align: top;\n",
       "    }\n",
       "\n",
       "    .dataframe thead th {\n",
       "        text-align: right;\n",
       "    }\n",
       "</style>\n",
       "<table border=\"1\" class=\"dataframe\">\n",
       "  <thead>\n",
       "    <tr style=\"text-align: right;\">\n",
       "      <th></th>\n",
       "      <th>Busines Model</th>\n",
       "      <th>Category</th>\n",
       "      <th>Subcategory</th>\n",
       "      <th>Company Name</th>\n",
       "      <th>Address</th>\n",
       "      <th>Latitude</th>\n",
       "      <th>Longitude</th>\n",
       "      <th>State</th>\n",
       "      <th>Country</th>\n",
       "      <th>Contact No.</th>\n",
       "      <th>Fax No.</th>\n",
       "      <th>Website</th>\n",
       "      <th>Email</th>\n",
       "      <th>Annual Sale</th>\n",
       "      <th>Annual Sales</th>\n",
       "      <th>Employees</th>\n",
       "    </tr>\n",
       "  </thead>\n",
       "  <tbody>\n",
       "    <tr>\n",
       "      <th>970</th>\n",
       "      <td>OEM</td>\n",
       "      <td>Construction Machinery</td>\n",
       "      <td>Construction Machinery</td>\n",
       "      <td>YAMAZEN CORPORATION - Tokyo Head Office</td>\n",
       "      <td>108-8217 2-16-2 Konan, Minato-ku, Tokyo Taiyo ...</td>\n",
       "      <td>35.6294</td>\n",
       "      <td>139.7401</td>\n",
       "      <td>Tokyo</td>\n",
       "      <td>Japan</td>\n",
       "      <td>03-6712-1344</td>\n",
       "      <td>03-6712-1328</td>\n",
       "      <td>https://www.yamazen.co.jp/</td>\n",
       "      <td>NaN</td>\n",
       "      <td>3,339,841,447.20</td>\n",
       "      <td>NaN</td>\n",
       "      <td>3,276</td>\n",
       "    </tr>\n",
       "    <tr>\n",
       "      <th>3820</th>\n",
       "      <td>OEM</td>\n",
       "      <td>Material Handling Machinery</td>\n",
       "      <td>Vibration Equipment</td>\n",
       "      <td>Sinfonia Technology Co., Ltd. - Toyohashi Seis...</td>\n",
       "      <td>441-3195 150 Motoyashiki, Sanya-cho, Toyohashi...</td>\n",
       "      <td>34.7201</td>\n",
       "      <td>137.4596</td>\n",
       "      <td>Aichi</td>\n",
       "      <td>Japan</td>\n",
       "      <td>0532-41-2121</td>\n",
       "      <td>0532-41-2179</td>\n",
       "      <td>https://www.sinfo-t.jp/company/business-base/</td>\n",
       "      <td>NaN</td>\n",
       "      <td>681,586,018.65</td>\n",
       "      <td>NaN</td>\n",
       "      <td>3,683</td>\n",
       "    </tr>\n",
       "    <tr>\n",
       "      <th>2343</th>\n",
       "      <td>OEM</td>\n",
       "      <td>Tools, Cutters, Moulds, &amp; Dies</td>\n",
       "      <td>Tools, Cutters, Moulds, &amp; Dies</td>\n",
       "      <td>RYODEN Co., Ltd. - Kagoshima Business Office</td>\n",
       "      <td>3F, Urban Square Kagoshima Bldg., 4-10 Kinseic...</td>\n",
       "      <td>31.5895</td>\n",
       "      <td>130.5571</td>\n",
       "      <td>Kagoshima</td>\n",
       "      <td>Japan</td>\n",
       "      <td>81-50-9002-4841</td>\n",
       "      <td>81-50-3133-4844</td>\n",
       "      <td>https://www.ryoden.co.jp/</td>\n",
       "      <td>NaN</td>\n",
       "      <td>1,705,925,111.04</td>\n",
       "      <td>NaN</td>\n",
       "      <td>1,360</td>\n",
       "    </tr>\n",
       "    <tr>\n",
       "      <th>1365</th>\n",
       "      <td>OEM</td>\n",
       "      <td>Special Machine Tools</td>\n",
       "      <td>Special Machine Tools</td>\n",
       "      <td>YAMAZEN CORPORATION - Fukuyama Branch</td>\n",
       "      <td>721-0907 1-19-16 Kasugacho, Fukuyama City, Hir...</td>\n",
       "      <td>34.5087</td>\n",
       "      <td>133.4067</td>\n",
       "      <td>Hiroshima</td>\n",
       "      <td>Japan</td>\n",
       "      <td>084-959-3330</td>\n",
       "      <td>084-945-6690</td>\n",
       "      <td>https://www.yamazen.co.jp/</td>\n",
       "      <td>NaN</td>\n",
       "      <td>3,339,841,447.20</td>\n",
       "      <td>NaN</td>\n",
       "      <td>3,276</td>\n",
       "    </tr>\n",
       "    <tr>\n",
       "      <th>3100</th>\n",
       "      <td>OEM</td>\n",
       "      <td>Machinery for Non-metallic Mineral Products</td>\n",
       "      <td>Machinery for Non-metallic Mineral Products</td>\n",
       "      <td>Shibaura Machine Co., Ltd. -</td>\n",
       "      <td>4F Fukoku Seimei Building, 2-2-2 Uchisaiwaicho...</td>\n",
       "      <td>35.6706</td>\n",
       "      <td>139.7553</td>\n",
       "      <td>Tokyo</td>\n",
       "      <td>Japan</td>\n",
       "      <td>03-3509-0200</td>\n",
       "      <td>03-3509-0333</td>\n",
       "      <td>https://www.shibaura-machine.co.jp/</td>\n",
       "      <td>NaN</td>\n",
       "      <td>1,074,278,578.35</td>\n",
       "      <td>NaN</td>\n",
       "      <td>3,507</td>\n",
       "    </tr>\n",
       "  </tbody>\n",
       "</table>\n",
       "</div>"
      ],
      "text/plain": [
       "     Busines Model                                     Category  \\\n",
       "970            OEM                       Construction Machinery   \n",
       "3820           OEM                  Material Handling Machinery   \n",
       "2343           OEM               Tools, Cutters, Moulds, & Dies   \n",
       "1365           OEM                        Special Machine Tools   \n",
       "3100           OEM  Machinery for Non-metallic Mineral Products   \n",
       "\n",
       "                                      Subcategory  \\\n",
       "970                        Construction Machinery   \n",
       "3820                          Vibration Equipment   \n",
       "2343               Tools, Cutters, Moulds, & Dies   \n",
       "1365                        Special Machine Tools   \n",
       "3100  Machinery for Non-metallic Mineral Products   \n",
       "\n",
       "                                           Company Name  \\\n",
       "970             YAMAZEN CORPORATION - Tokyo Head Office   \n",
       "3820  Sinfonia Technology Co., Ltd. - Toyohashi Seis...   \n",
       "2343       RYODEN Co., Ltd. - Kagoshima Business Office   \n",
       "1365              YAMAZEN CORPORATION - Fukuyama Branch   \n",
       "3100                      Shibaura Machine Co., Ltd. -    \n",
       "\n",
       "                                                Address Latitude Longitude  \\\n",
       "970   108-8217 2-16-2 Konan, Minato-ku, Tokyo Taiyo ...  35.6294  139.7401   \n",
       "3820  441-3195 150 Motoyashiki, Sanya-cho, Toyohashi...  34.7201  137.4596   \n",
       "2343  3F, Urban Square Kagoshima Bldg., 4-10 Kinseic...  31.5895  130.5571   \n",
       "1365  721-0907 1-19-16 Kasugacho, Fukuyama City, Hir...  34.5087  133.4067   \n",
       "3100  4F Fukoku Seimei Building, 2-2-2 Uchisaiwaicho...  35.6706  139.7553   \n",
       "\n",
       "           State Country      Contact No.          Fax No.  \\\n",
       "970        Tokyo   Japan     03-6712-1344     03-6712-1328   \n",
       "3820       Aichi   Japan     0532-41-2121     0532-41-2179   \n",
       "2343  Kagoshima    Japan  81-50-9002-4841  81-50-3133-4844   \n",
       "1365   Hiroshima   Japan     084-959-3330     084-945-6690   \n",
       "3100       Tokyo   Japan     03-3509-0200     03-3509-0333   \n",
       "\n",
       "                                            Website Email       Annual Sale  \\\n",
       "970                      https://www.yamazen.co.jp/   NaN  3,339,841,447.20   \n",
       "3820  https://www.sinfo-t.jp/company/business-base/   NaN    681,586,018.65   \n",
       "2343                      https://www.ryoden.co.jp/   NaN  1,705,925,111.04   \n",
       "1365                     https://www.yamazen.co.jp/   NaN  3,339,841,447.20   \n",
       "3100            https://www.shibaura-machine.co.jp/   NaN  1,074,278,578.35   \n",
       "\n",
       "      Annual Sales Employees  \n",
       "970            NaN     3,276  \n",
       "3820           NaN     3,683  \n",
       "2343           NaN     1,360  \n",
       "1365           NaN     3,276  \n",
       "3100           NaN     3,507  "
      ]
     },
     "execution_count": 7,
     "metadata": {},
     "output_type": "execute_result"
    }
   ],
   "source": [
    "C_Original_df.sample(5)"
   ]
  },
  {
   "cell_type": "markdown",
   "id": "26950a76-578e-4473-9438-60d7b44c7028",
   "metadata": {},
   "source": [
    "<h2>🧼 Clean Dataset</h2>"
   ]
  },
  {
   "cell_type": "markdown",
   "id": "f1f4d451-3e6a-43f5-a6f4-bacc13d3af49",
   "metadata": {},
   "source": [
    "<h3>✂️ Remove Irrelevant Data</h3>"
   ]
  },
  {
   "cell_type": "markdown",
   "id": "63080023-5126-4c96-9f90-988b5368d78b",
   "metadata": {},
   "source": [
    "<h4>Slice Dataframe</h4>"
   ]
  },
  {
   "cell_type": "code",
   "execution_count": 8,
   "id": "a8443452-77fa-4daa-8000-efbb1fd8a0eb",
   "metadata": {},
   "outputs": [],
   "source": [
    "C_df = C_Original_df.iloc[3042:3880]"
   ]
  },
  {
   "cell_type": "markdown",
   "id": "56eb6a99-3b95-4249-a73f-425e04e8f7ee",
   "metadata": {},
   "source": [
    "<h4>Confirm Shape</h4>"
   ]
  },
  {
   "cell_type": "code",
   "execution_count": 9,
   "id": "e4ff7462-3136-4f70-9620-87deaa8ce18a",
   "metadata": {},
   "outputs": [
    {
     "data": {
      "text/plain": [
       "(838, 16)"
      ]
     },
     "execution_count": 9,
     "metadata": {},
     "output_type": "execute_result"
    }
   ],
   "source": [
    "C_df.shape"
   ]
  },
  {
   "cell_type": "markdown",
   "id": "38d56b4a-767e-4cf8-a9c8-3173c744b76b",
   "metadata": {},
   "source": [
    "<h4>Peek Dataframe</h4>"
   ]
  },
  {
   "cell_type": "code",
   "execution_count": 10,
   "id": "ce4f3f66-841b-417a-b6ca-a4c48e40abb4",
   "metadata": {},
   "outputs": [
    {
     "data": {
      "text/html": [
       "<div>\n",
       "<style scoped>\n",
       "    .dataframe tbody tr th:only-of-type {\n",
       "        vertical-align: middle;\n",
       "    }\n",
       "\n",
       "    .dataframe tbody tr th {\n",
       "        vertical-align: top;\n",
       "    }\n",
       "\n",
       "    .dataframe thead th {\n",
       "        text-align: right;\n",
       "    }\n",
       "</style>\n",
       "<table border=\"1\" class=\"dataframe\">\n",
       "  <thead>\n",
       "    <tr style=\"text-align: right;\">\n",
       "      <th></th>\n",
       "      <th>Busines Model</th>\n",
       "      <th>Category</th>\n",
       "      <th>Subcategory</th>\n",
       "      <th>Company Name</th>\n",
       "      <th>Address</th>\n",
       "      <th>Latitude</th>\n",
       "      <th>Longitude</th>\n",
       "      <th>State</th>\n",
       "      <th>Country</th>\n",
       "      <th>Contact No.</th>\n",
       "      <th>Fax No.</th>\n",
       "      <th>Website</th>\n",
       "      <th>Email</th>\n",
       "      <th>Annual Sale</th>\n",
       "      <th>Annual Sales</th>\n",
       "      <th>Employees</th>\n",
       "    </tr>\n",
       "  </thead>\n",
       "  <tbody>\n",
       "    <tr>\n",
       "      <th>3042</th>\n",
       "      <td>OEM</td>\n",
       "      <td>Electric Machinery</td>\n",
       "      <td>Calibration Systems</td>\n",
       "      <td>Eagle Industry Co., Ltd. - Marine Division Kur...</td>\n",
       "      <td>737-0027 No. 8 1 Showa-cho, Kure City, Hiroshi...</td>\n",
       "      <td>34.2506</td>\n",
       "      <td>132.5651</td>\n",
       "      <td>Hiroshima</td>\n",
       "      <td>Japan</td>\n",
       "      <td>(0823) 25-7121</td>\n",
       "      <td>(0823) 25-7120</td>\n",
       "      <td>https://www.ekkeagle.com/jp</td>\n",
       "      <td>NaN</td>\n",
       "      <td>1,117,001,501.90</td>\n",
       "      <td>NaN</td>\n",
       "      <td>6,280</td>\n",
       "    </tr>\n",
       "    <tr>\n",
       "      <th>3043</th>\n",
       "      <td>OEM</td>\n",
       "      <td>Apparatus &amp; Machinery for Chemical Industry</td>\n",
       "      <td>Mechanical seal auxiliary equipment</td>\n",
       "      <td>Eagle Industry Co., Ltd. - Hiroshima Branch Sh...</td>\n",
       "      <td>746-0024 2-20-3 Koizumi, Shunan, Yamaguchi</td>\n",
       "      <td>34.0421</td>\n",
       "      <td>131.8069</td>\n",
       "      <td>Yamaguchi</td>\n",
       "      <td>Japan</td>\n",
       "      <td>(0834) 63-7648</td>\n",
       "      <td>(0834) 61-1054</td>\n",
       "      <td>https://www.ekkeagle.com/jp</td>\n",
       "      <td>NaN</td>\n",
       "      <td>1,117,001,501.90</td>\n",
       "      <td>NaN</td>\n",
       "      <td>6,280</td>\n",
       "    </tr>\n",
       "    <tr>\n",
       "      <th>3044</th>\n",
       "      <td>OEM</td>\n",
       "      <td>Piping System</td>\n",
       "      <td>Mechanical seal auxiliary equipment</td>\n",
       "      <td>Eagle Industry Co., Ltd. - Hiroshima Branch Sh...</td>\n",
       "      <td>746-0024 2-20-3 Koizumi, Shunan, Yamaguchi</td>\n",
       "      <td>34.0421</td>\n",
       "      <td>131.8069</td>\n",
       "      <td>Yamaguchi</td>\n",
       "      <td>Japan</td>\n",
       "      <td>(0834) 63-7648</td>\n",
       "      <td>(0834) 61-1054</td>\n",
       "      <td>https://www.ekkeagle.com/jp</td>\n",
       "      <td>NaN</td>\n",
       "      <td>1,117,001,501.90</td>\n",
       "      <td>NaN</td>\n",
       "      <td>6,280</td>\n",
       "    </tr>\n",
       "  </tbody>\n",
       "</table>\n",
       "</div>"
      ],
      "text/plain": [
       "     Busines Model                                     Category  \\\n",
       "3042           OEM                           Electric Machinery   \n",
       "3043           OEM  Apparatus & Machinery for Chemical Industry   \n",
       "3044           OEM                                Piping System   \n",
       "\n",
       "                              Subcategory  \\\n",
       "3042                  Calibration Systems   \n",
       "3043  Mechanical seal auxiliary equipment   \n",
       "3044  Mechanical seal auxiliary equipment   \n",
       "\n",
       "                                           Company Name  \\\n",
       "3042  Eagle Industry Co., Ltd. - Marine Division Kur...   \n",
       "3043  Eagle Industry Co., Ltd. - Hiroshima Branch Sh...   \n",
       "3044  Eagle Industry Co., Ltd. - Hiroshima Branch Sh...   \n",
       "\n",
       "                                                Address Latitude Longitude  \\\n",
       "3042  737-0027 No. 8 1 Showa-cho, Kure City, Hiroshi...  34.2506  132.5651   \n",
       "3043         746-0024 2-20-3 Koizumi, Shunan, Yamaguchi  34.0421  131.8069   \n",
       "3044         746-0024 2-20-3 Koizumi, Shunan, Yamaguchi  34.0421  131.8069   \n",
       "\n",
       "          State Country     Contact No.         Fax No.  \\\n",
       "3042  Hiroshima   Japan  (0823) 25-7121  (0823) 25-7120   \n",
       "3043  Yamaguchi   Japan  (0834) 63-7648  (0834) 61-1054   \n",
       "3044  Yamaguchi   Japan  (0834) 63-7648  (0834) 61-1054   \n",
       "\n",
       "                          Website Email       Annual Sale  Annual Sales  \\\n",
       "3042  https://www.ekkeagle.com/jp   NaN  1,117,001,501.90           NaN   \n",
       "3043  https://www.ekkeagle.com/jp   NaN  1,117,001,501.90           NaN   \n",
       "3044  https://www.ekkeagle.com/jp   NaN  1,117,001,501.90           NaN   \n",
       "\n",
       "     Employees  \n",
       "3042     6,280  \n",
       "3043     6,280  \n",
       "3044     6,280  "
      ]
     },
     "execution_count": 10,
     "metadata": {},
     "output_type": "execute_result"
    }
   ],
   "source": [
    "C_df.head(3)"
   ]
  },
  {
   "cell_type": "code",
   "execution_count": 11,
   "id": "4d6a0245-b70f-44a9-a912-0387224ba7bd",
   "metadata": {},
   "outputs": [
    {
     "data": {
      "text/html": [
       "<div>\n",
       "<style scoped>\n",
       "    .dataframe tbody tr th:only-of-type {\n",
       "        vertical-align: middle;\n",
       "    }\n",
       "\n",
       "    .dataframe tbody tr th {\n",
       "        vertical-align: top;\n",
       "    }\n",
       "\n",
       "    .dataframe thead th {\n",
       "        text-align: right;\n",
       "    }\n",
       "</style>\n",
       "<table border=\"1\" class=\"dataframe\">\n",
       "  <thead>\n",
       "    <tr style=\"text-align: right;\">\n",
       "      <th></th>\n",
       "      <th>Busines Model</th>\n",
       "      <th>Category</th>\n",
       "      <th>Subcategory</th>\n",
       "      <th>Company Name</th>\n",
       "      <th>Address</th>\n",
       "      <th>Latitude</th>\n",
       "      <th>Longitude</th>\n",
       "      <th>State</th>\n",
       "      <th>Country</th>\n",
       "      <th>Contact No.</th>\n",
       "      <th>Fax No.</th>\n",
       "      <th>Website</th>\n",
       "      <th>Email</th>\n",
       "      <th>Annual Sale</th>\n",
       "      <th>Annual Sales</th>\n",
       "      <th>Employees</th>\n",
       "    </tr>\n",
       "  </thead>\n",
       "  <tbody>\n",
       "    <tr>\n",
       "      <th>3877</th>\n",
       "      <td>OEM</td>\n",
       "      <td>Industrial Machinery</td>\n",
       "      <td>Industrial Machinery</td>\n",
       "      <td>Seika Corp. - Fukuoka Branch Office</td>\n",
       "      <td>810-0004 Fukuoka City Chuo Ward Watanabedori 2...</td>\n",
       "      <td>33.5828</td>\n",
       "      <td>130.4052</td>\n",
       "      <td>Fukuoka</td>\n",
       "      <td>Japan</td>\n",
       "      <td>092-731-0471</td>\n",
       "      <td>092-731-0955</td>\n",
       "      <td>https://www.seika.com/</td>\n",
       "      <td>NaN</td>\n",
       "      <td>576,204,668.25</td>\n",
       "      <td>NaN</td>\n",
       "      <td>1,040</td>\n",
       "    </tr>\n",
       "    <tr>\n",
       "      <th>3878</th>\n",
       "      <td>OEM</td>\n",
       "      <td>Industrial Machinery</td>\n",
       "      <td>Industrial Machinery</td>\n",
       "      <td>Seika Corp. - Kitakyushu Branch Office</td>\n",
       "      <td>802-0001 KMM Building 2-14-1 Asano, Kokurakita...</td>\n",
       "      <td>33.8887</td>\n",
       "      <td>130.8835</td>\n",
       "      <td>Fukuoka</td>\n",
       "      <td>Japan</td>\n",
       "      <td>093-541-1127</td>\n",
       "      <td>093-541-1277</td>\n",
       "      <td>https://www.seika.com/</td>\n",
       "      <td>NaN</td>\n",
       "      <td>576,204,668.25</td>\n",
       "      <td>NaN</td>\n",
       "      <td>1,040</td>\n",
       "    </tr>\n",
       "    <tr>\n",
       "      <th>3879</th>\n",
       "      <td>OEM</td>\n",
       "      <td>Industrial Machinery</td>\n",
       "      <td>Industrial Machinery</td>\n",
       "      <td>Seika Corp. - Oita Branch Office</td>\n",
       "      <td>9th floor, Nissei Oita Ekimae Building, 1-1-18...</td>\n",
       "      <td>33.2347</td>\n",
       "      <td>131.6061</td>\n",
       "      <td>Oita</td>\n",
       "      <td>Japan</td>\n",
       "      <td>097-534-1798</td>\n",
       "      <td>097-533-7494</td>\n",
       "      <td>https://www.seika.com/</td>\n",
       "      <td>NaN</td>\n",
       "      <td>576,204,668.25</td>\n",
       "      <td>NaN</td>\n",
       "      <td>1,040</td>\n",
       "    </tr>\n",
       "  </tbody>\n",
       "</table>\n",
       "</div>"
      ],
      "text/plain": [
       "     Busines Model              Category           Subcategory  \\\n",
       "3877           OEM  Industrial Machinery  Industrial Machinery   \n",
       "3878           OEM  Industrial Machinery  Industrial Machinery   \n",
       "3879           OEM  Industrial Machinery  Industrial Machinery   \n",
       "\n",
       "                                Company Name  \\\n",
       "3877     Seika Corp. - Fukuoka Branch Office   \n",
       "3878  Seika Corp. - Kitakyushu Branch Office   \n",
       "3879        Seika Corp. - Oita Branch Office   \n",
       "\n",
       "                                                Address Latitude Longitude  \\\n",
       "3877  810-0004 Fukuoka City Chuo Ward Watanabedori 2...  33.5828  130.4052   \n",
       "3878  802-0001 KMM Building 2-14-1 Asano, Kokurakita...  33.8887  130.8835   \n",
       "3879  9th floor, Nissei Oita Ekimae Building, 1-1-18...  33.2347  131.6061   \n",
       "\n",
       "         State Country   Contact No.       Fax No.                 Website  \\\n",
       "3877  Fukuoka    Japan  092-731-0471  092-731-0955  https://www.seika.com/   \n",
       "3878  Fukuoka    Japan  093-541-1127  093-541-1277  https://www.seika.com/   \n",
       "3879     Oita    Japan  097-534-1798  097-533-7494  https://www.seika.com/   \n",
       "\n",
       "     Email     Annual Sale  Annual Sales Employees  \n",
       "3877   NaN  576,204,668.25           NaN     1,040  \n",
       "3878   NaN  576,204,668.25           NaN     1,040  \n",
       "3879   NaN  576,204,668.25           NaN     1,040  "
      ]
     },
     "execution_count": 11,
     "metadata": {},
     "output_type": "execute_result"
    }
   ],
   "source": [
    "C_df.tail(3)"
   ]
  },
  {
   "cell_type": "markdown",
   "id": "f63ef34f-dcc9-47b7-8e5c-bb5ba3eb0f45",
   "metadata": {},
   "source": [
    "<h4>Remove Annual Sales Field</h4>"
   ]
  },
  {
   "cell_type": "code",
   "execution_count": 12,
   "id": "87eddd7d-8fb3-4d12-9e45-494ca9695774",
   "metadata": {},
   "outputs": [],
   "source": [
    "C_df = C_df.drop('Annual Sales', axis=1)"
   ]
  },
  {
   "cell_type": "code",
   "execution_count": 13,
   "id": "8e7b3b4b-ade5-42fb-9ecd-19e98ef6d482",
   "metadata": {},
   "outputs": [
    {
     "data": {
      "text/html": [
       "<div>\n",
       "<style scoped>\n",
       "    .dataframe tbody tr th:only-of-type {\n",
       "        vertical-align: middle;\n",
       "    }\n",
       "\n",
       "    .dataframe tbody tr th {\n",
       "        vertical-align: top;\n",
       "    }\n",
       "\n",
       "    .dataframe thead th {\n",
       "        text-align: right;\n",
       "    }\n",
       "</style>\n",
       "<table border=\"1\" class=\"dataframe\">\n",
       "  <thead>\n",
       "    <tr style=\"text-align: right;\">\n",
       "      <th></th>\n",
       "      <th>Busines Model</th>\n",
       "      <th>Category</th>\n",
       "      <th>Subcategory</th>\n",
       "      <th>Company Name</th>\n",
       "      <th>Address</th>\n",
       "      <th>Latitude</th>\n",
       "      <th>Longitude</th>\n",
       "      <th>State</th>\n",
       "      <th>Country</th>\n",
       "      <th>Contact No.</th>\n",
       "      <th>Fax No.</th>\n",
       "      <th>Website</th>\n",
       "      <th>Email</th>\n",
       "      <th>Annual Sale</th>\n",
       "      <th>Employees</th>\n",
       "    </tr>\n",
       "  </thead>\n",
       "  <tbody>\n",
       "    <tr>\n",
       "      <th>3042</th>\n",
       "      <td>OEM</td>\n",
       "      <td>Electric Machinery</td>\n",
       "      <td>Calibration Systems</td>\n",
       "      <td>Eagle Industry Co., Ltd. - Marine Division Kur...</td>\n",
       "      <td>737-0027 No. 8 1 Showa-cho, Kure City, Hiroshi...</td>\n",
       "      <td>34.2506</td>\n",
       "      <td>132.5651</td>\n",
       "      <td>Hiroshima</td>\n",
       "      <td>Japan</td>\n",
       "      <td>(0823) 25-7121</td>\n",
       "      <td>(0823) 25-7120</td>\n",
       "      <td>https://www.ekkeagle.com/jp</td>\n",
       "      <td>NaN</td>\n",
       "      <td>1,117,001,501.90</td>\n",
       "      <td>6,280</td>\n",
       "    </tr>\n",
       "  </tbody>\n",
       "</table>\n",
       "</div>"
      ],
      "text/plain": [
       "     Busines Model            Category          Subcategory  \\\n",
       "3042           OEM  Electric Machinery  Calibration Systems   \n",
       "\n",
       "                                           Company Name  \\\n",
       "3042  Eagle Industry Co., Ltd. - Marine Division Kur...   \n",
       "\n",
       "                                                Address Latitude Longitude  \\\n",
       "3042  737-0027 No. 8 1 Showa-cho, Kure City, Hiroshi...  34.2506  132.5651   \n",
       "\n",
       "          State Country     Contact No.         Fax No.  \\\n",
       "3042  Hiroshima   Japan  (0823) 25-7121  (0823) 25-7120   \n",
       "\n",
       "                          Website Email       Annual Sale Employees  \n",
       "3042  https://www.ekkeagle.com/jp   NaN  1,117,001,501.90     6,280  "
      ]
     },
     "execution_count": 13,
     "metadata": {},
     "output_type": "execute_result"
    }
   ],
   "source": [
    "C_df.head(1)"
   ]
  },
  {
   "cell_type": "markdown",
   "id": "545e8ec8-5be5-4392-839e-d04d5f6d4c2e",
   "metadata": {},
   "source": [
    "<h4>Remove Newline Characters</h4>"
   ]
  },
  {
   "cell_type": "code",
   "execution_count": 14,
   "id": "a331727f-61b1-4363-ad6a-cea8bd3be1e9",
   "metadata": {},
   "outputs": [],
   "source": [
    "C_df = C_df.map(lambda x: x.replace('\\n', '') if isinstance(x, str) else x)"
   ]
  },
  {
   "cell_type": "code",
   "execution_count": 15,
   "id": "1647f954-abb6-41b2-b66a-b78025f2262b",
   "metadata": {},
   "outputs": [],
   "source": [
    "C_df = C_df.map(lambda x: x.replace('\\r', '') if isinstance(x, str) else x)"
   ]
  },
  {
   "cell_type": "markdown",
   "id": "bd2988cc-6e03-46eb-a974-656968028bfb",
   "metadata": {},
   "source": [
    "<h3>🕳 Handle Missing or Incomplete Data</h3>"
   ]
  },
  {
   "cell_type": "markdown",
   "id": "82365922-15fd-42c1-84ff-5dd3e9a17397",
   "metadata": {},
   "source": [
    "<h4>Check Field Status</h4>"
   ]
  },
  {
   "cell_type": "code",
   "execution_count": 16,
   "id": "00db81b8-4ed4-43ee-8ff6-23c1e4ebfb97",
   "metadata": {},
   "outputs": [
    {
     "data": {
      "text/plain": [
       "Busines Model     True\n",
       "Category         False\n",
       "Subcategory      False\n",
       "Company Name     False\n",
       "Address          False\n",
       "Latitude         False\n",
       "Longitude        False\n",
       "State             True\n",
       "Country           True\n",
       "Contact No.       True\n",
       "Fax No.           True\n",
       "Website          False\n",
       "Email             True\n",
       "Annual Sale      False\n",
       "Employees         True\n",
       "dtype: bool"
      ]
     },
     "execution_count": 16,
     "metadata": {},
     "output_type": "execute_result"
    }
   ],
   "source": [
    "C_df.isnull().any()"
   ]
  },
  {
   "cell_type": "code",
   "execution_count": 17,
   "id": "248b4bce-3a3f-46b7-9633-3da87d52308b",
   "metadata": {},
   "outputs": [
    {
     "data": {
      "text/plain": [
       "array(['OEM', 'End-user', nan], dtype=object)"
      ]
     },
     "execution_count": 17,
     "metadata": {},
     "output_type": "execute_result"
    }
   ],
   "source": [
    "C_df['Busines Model'].unique()"
   ]
  },
  {
   "cell_type": "markdown",
   "id": "5696b0ba-b481-438a-ab68-6556dacf7d66",
   "metadata": {},
   "source": [
    "<h4>Resolve Busines Model</h4>"
   ]
  },
  {
   "cell_type": "code",
   "execution_count": 18,
   "id": "0740f684-4d10-41a0-874f-6ab7e06047d8",
   "metadata": {},
   "outputs": [],
   "source": [
    "null_rows = C_df[C_df['Busines Model'].isna()]"
   ]
  },
  {
   "cell_type": "code",
   "execution_count": 19,
   "id": "75b84e0f-b8e5-4d08-8105-aca0dfedd788",
   "metadata": {},
   "outputs": [
    {
     "data": {
      "text/html": [
       "<div>\n",
       "<style scoped>\n",
       "    .dataframe tbody tr th:only-of-type {\n",
       "        vertical-align: middle;\n",
       "    }\n",
       "\n",
       "    .dataframe tbody tr th {\n",
       "        vertical-align: top;\n",
       "    }\n",
       "\n",
       "    .dataframe thead th {\n",
       "        text-align: right;\n",
       "    }\n",
       "</style>\n",
       "<table border=\"1\" class=\"dataframe\">\n",
       "  <thead>\n",
       "    <tr style=\"text-align: right;\">\n",
       "      <th></th>\n",
       "      <th>Busines Model</th>\n",
       "      <th>Category</th>\n",
       "      <th>Subcategory</th>\n",
       "      <th>Company Name</th>\n",
       "      <th>Address</th>\n",
       "      <th>Latitude</th>\n",
       "      <th>Longitude</th>\n",
       "      <th>State</th>\n",
       "      <th>Country</th>\n",
       "      <th>Contact No.</th>\n",
       "      <th>Fax No.</th>\n",
       "      <th>Website</th>\n",
       "      <th>Email</th>\n",
       "      <th>Annual Sale</th>\n",
       "      <th>Employees</th>\n",
       "    </tr>\n",
       "  </thead>\n",
       "  <tbody>\n",
       "    <tr>\n",
       "      <th>3754</th>\n",
       "      <td>NaN</td>\n",
       "      <td>Dryers</td>\n",
       "      <td>Drying/dehydration units</td>\n",
       "      <td>Tsukishima Holdings Co., Ltd. - Osaka Branch</td>\n",
       "      <td>541-0048　No. 6, Kawaramachi 3-chome, Chuo-ku, ...</td>\n",
       "      <td>34.6862</td>\n",
       "      <td>135.5033</td>\n",
       "      <td>NaN</td>\n",
       "      <td>Japan</td>\n",
       "      <td>(06)6229-1331</td>\n",
       "      <td>(06)6229-1415</td>\n",
       "      <td>https://www.tsk-g.co.jp/</td>\n",
       "      <td>NaN</td>\n",
       "      <td>824,652,887.25</td>\n",
       "      <td>3,517</td>\n",
       "    </tr>\n",
       "    <tr>\n",
       "      <th>3756</th>\n",
       "      <td>NaN</td>\n",
       "      <td>Pollution Control Equipment</td>\n",
       "      <td>Waste treatment support</td>\n",
       "      <td>Tsukishima Holdings Co., Ltd. - Kansai Branch</td>\n",
       "      <td>541-0048　No. 6, Kawaramachi 3-chome, Chuo-ku, ...</td>\n",
       "      <td>34.6862</td>\n",
       "      <td>135.5033</td>\n",
       "      <td>NaN</td>\n",
       "      <td>Japan</td>\n",
       "      <td>(06)6229-1331</td>\n",
       "      <td>(06)6229-1415</td>\n",
       "      <td>https://www.tsk-g.co.jp/</td>\n",
       "      <td>NaN</td>\n",
       "      <td>824,652,887.25</td>\n",
       "      <td>3,517</td>\n",
       "    </tr>\n",
       "    <tr>\n",
       "      <th>3766</th>\n",
       "      <td>NaN</td>\n",
       "      <td>Industrial Turnkey Plant</td>\n",
       "      <td>Large industrial equipment</td>\n",
       "      <td>Tsukishima Holdings Co., Ltd. - Muroran Factory</td>\n",
       "      <td>051-0006　35-2 Chazu-cho, Muroran City, Hokkaido</td>\n",
       "      <td>42.3274</td>\n",
       "      <td>140.9892</td>\n",
       "      <td>NaN</td>\n",
       "      <td>Japan</td>\n",
       "      <td>(0143)57-1100</td>\n",
       "      <td>(0143)57-1102</td>\n",
       "      <td>https://www.tsk-g.co.jp/</td>\n",
       "      <td>NaN</td>\n",
       "      <td>824,652,887.25</td>\n",
       "      <td>3,517</td>\n",
       "    </tr>\n",
       "    <tr>\n",
       "      <th>3767</th>\n",
       "      <td>NaN</td>\n",
       "      <td>Industrial Turnkey Plant</td>\n",
       "      <td>Welding and machining</td>\n",
       "      <td>Tsukishima Holdings Co., Ltd. - Muroran Factory</td>\n",
       "      <td>051-0006　35-2 Chazu-cho, Muroran City, Hokkaido</td>\n",
       "      <td>42.3274</td>\n",
       "      <td>140.9892</td>\n",
       "      <td>NaN</td>\n",
       "      <td>Japan</td>\n",
       "      <td>(0143)57-1100</td>\n",
       "      <td>(0143)57-1102</td>\n",
       "      <td>https://www.tsk-g.co.jp/</td>\n",
       "      <td>NaN</td>\n",
       "      <td>824,652,887.25</td>\n",
       "      <td>3,517</td>\n",
       "    </tr>\n",
       "  </tbody>\n",
       "</table>\n",
       "</div>"
      ],
      "text/plain": [
       "     Busines Model                     Category                 Subcategory  \\\n",
       "3754           NaN                       Dryers    Drying/dehydration units   \n",
       "3756           NaN  Pollution Control Equipment     Waste treatment support   \n",
       "3766           NaN     Industrial Turnkey Plant  Large industrial equipment   \n",
       "3767           NaN     Industrial Turnkey Plant       Welding and machining   \n",
       "\n",
       "                                         Company Name  \\\n",
       "3754     Tsukishima Holdings Co., Ltd. - Osaka Branch   \n",
       "3756    Tsukishima Holdings Co., Ltd. - Kansai Branch   \n",
       "3766  Tsukishima Holdings Co., Ltd. - Muroran Factory   \n",
       "3767  Tsukishima Holdings Co., Ltd. - Muroran Factory   \n",
       "\n",
       "                                                Address Latitude Longitude  \\\n",
       "3754  541-0048　No. 6, Kawaramachi 3-chome, Chuo-ku, ...  34.6862  135.5033   \n",
       "3756  541-0048　No. 6, Kawaramachi 3-chome, Chuo-ku, ...  34.6862  135.5033   \n",
       "3766    051-0006　35-2 Chazu-cho, Muroran City, Hokkaido  42.3274  140.9892   \n",
       "3767    051-0006　35-2 Chazu-cho, Muroran City, Hokkaido  42.3274  140.9892   \n",
       "\n",
       "     State Country    Contact No.        Fax No.                   Website  \\\n",
       "3754   NaN   Japan  (06)6229-1331  (06)6229-1415  https://www.tsk-g.co.jp/   \n",
       "3756   NaN   Japan  (06)6229-1331  (06)6229-1415  https://www.tsk-g.co.jp/   \n",
       "3766   NaN   Japan  (0143)57-1100  (0143)57-1102  https://www.tsk-g.co.jp/   \n",
       "3767   NaN   Japan  (0143)57-1100  (0143)57-1102  https://www.tsk-g.co.jp/   \n",
       "\n",
       "      Email     Annual Sale Employees  \n",
       "3754    NaN  824,652,887.25     3,517  \n",
       "3756    NaN  824,652,887.25     3,517  \n",
       "3766    NaN  824,652,887.25     3,517  \n",
       "3767    NaN  824,652,887.25     3,517  "
      ]
     },
     "execution_count": 19,
     "metadata": {},
     "output_type": "execute_result"
    }
   ],
   "source": [
    "null_rows"
   ]
  },
  {
   "cell_type": "code",
   "execution_count": 20,
   "id": "7120f8dd-e205-4b61-97ce-617424e5b683",
   "metadata": {},
   "outputs": [],
   "source": [
    "C_df['Busines Model'] = C_df['Busines Model'].fillna('OEM')"
   ]
  },
  {
   "cell_type": "markdown",
   "id": "078bac73-fc7e-4fe3-a2ea-928ad289e31f",
   "metadata": {},
   "source": [
    "<h4>Resolve State</h4>"
   ]
  },
  {
   "cell_type": "code",
   "execution_count": 21,
   "id": "0c5ba936-5964-49fb-8d4b-1c0bd8893c31",
   "metadata": {},
   "outputs": [],
   "source": [
    "null_rows = C_df[C_df['State'].isna()]"
   ]
  },
  {
   "cell_type": "code",
   "execution_count": 22,
   "id": "f5dcd3c8-b8a9-443c-b150-cf4f02865bc9",
   "metadata": {
    "scrolled": true
   },
   "outputs": [
    {
     "data": {
      "text/html": [
       "<div>\n",
       "<style scoped>\n",
       "    .dataframe tbody tr th:only-of-type {\n",
       "        vertical-align: middle;\n",
       "    }\n",
       "\n",
       "    .dataframe tbody tr th {\n",
       "        vertical-align: top;\n",
       "    }\n",
       "\n",
       "    .dataframe thead th {\n",
       "        text-align: right;\n",
       "    }\n",
       "</style>\n",
       "<table border=\"1\" class=\"dataframe\">\n",
       "  <thead>\n",
       "    <tr style=\"text-align: right;\">\n",
       "      <th></th>\n",
       "      <th>Busines Model</th>\n",
       "      <th>Category</th>\n",
       "      <th>Subcategory</th>\n",
       "      <th>Company Name</th>\n",
       "      <th>Address</th>\n",
       "      <th>Latitude</th>\n",
       "      <th>Longitude</th>\n",
       "      <th>State</th>\n",
       "      <th>Country</th>\n",
       "      <th>Contact No.</th>\n",
       "      <th>Fax No.</th>\n",
       "      <th>Website</th>\n",
       "      <th>Email</th>\n",
       "      <th>Annual Sale</th>\n",
       "      <th>Employees</th>\n",
       "    </tr>\n",
       "  </thead>\n",
       "  <tbody>\n",
       "    <tr>\n",
       "      <th>3751</th>\n",
       "      <td>OEM</td>\n",
       "      <td>Pollution Control Equipment</td>\n",
       "      <td>Water treatment systems</td>\n",
       "      <td>Tsukishima Holdings Co., Ltd. - East Japan Branch</td>\n",
       "      <td>104-0053　No. 5, Harumi 3-chome, Chuo-ku, Tokyo</td>\n",
       "      <td>35.7078</td>\n",
       "      <td>139.7795</td>\n",
       "      <td>NaN</td>\n",
       "      <td>Japan</td>\n",
       "      <td>(03)5560-6541</td>\n",
       "      <td>(03)5560-6593</td>\n",
       "      <td>https://www.tsk-g.co.jp/</td>\n",
       "      <td>NaN</td>\n",
       "      <td>824,652,887.25</td>\n",
       "      <td>3,517</td>\n",
       "    </tr>\n",
       "    <tr>\n",
       "      <th>3752</th>\n",
       "      <td>OEM</td>\n",
       "      <td>Planning, Consulting &amp; Construction of Complet...</td>\n",
       "      <td>Engineering support for water</td>\n",
       "      <td>Tsukishima Holdings Co., Ltd. - Kanto Branch</td>\n",
       "      <td>104-0053　No. 5, Harumi 3-chome, Chuo-ku, Tokyo</td>\n",
       "      <td>35.7078</td>\n",
       "      <td>139.7795</td>\n",
       "      <td>NaN</td>\n",
       "      <td>Japan</td>\n",
       "      <td>(03)5560-6542</td>\n",
       "      <td>(03)5560-6593</td>\n",
       "      <td>https://www.tsk-g.co.jp/</td>\n",
       "      <td>NaN</td>\n",
       "      <td>824,652,887.25</td>\n",
       "      <td>3,517</td>\n",
       "    </tr>\n",
       "    <tr>\n",
       "      <th>3753</th>\n",
       "      <td>OEM</td>\n",
       "      <td>Dryers</td>\n",
       "      <td>Wastewater treatment systems</td>\n",
       "      <td>Tsukishima Holdings Co., Ltd. - Osaka Branch</td>\n",
       "      <td>541-0048　No. 6, Kawaramachi 3-chome, Chuo-ku, ...</td>\n",
       "      <td>34.6862</td>\n",
       "      <td>135.5033</td>\n",
       "      <td>NaN</td>\n",
       "      <td>Japan</td>\n",
       "      <td>(06)6229-1331</td>\n",
       "      <td>(06)6229-1415</td>\n",
       "      <td>https://www.tsk-g.co.jp/</td>\n",
       "      <td>NaN</td>\n",
       "      <td>824,652,887.25</td>\n",
       "      <td>3,517</td>\n",
       "    </tr>\n",
       "    <tr>\n",
       "      <th>3754</th>\n",
       "      <td>OEM</td>\n",
       "      <td>Dryers</td>\n",
       "      <td>Drying/dehydration units</td>\n",
       "      <td>Tsukishima Holdings Co., Ltd. - Osaka Branch</td>\n",
       "      <td>541-0048　No. 6, Kawaramachi 3-chome, Chuo-ku, ...</td>\n",
       "      <td>34.6862</td>\n",
       "      <td>135.5033</td>\n",
       "      <td>NaN</td>\n",
       "      <td>Japan</td>\n",
       "      <td>(06)6229-1331</td>\n",
       "      <td>(06)6229-1415</td>\n",
       "      <td>https://www.tsk-g.co.jp/</td>\n",
       "      <td>NaN</td>\n",
       "      <td>824,652,887.25</td>\n",
       "      <td>3,517</td>\n",
       "    </tr>\n",
       "    <tr>\n",
       "      <th>3755</th>\n",
       "      <td>OEM</td>\n",
       "      <td>Pollution Control Equipment</td>\n",
       "      <td>Municipal sewage</td>\n",
       "      <td>Tsukishima Holdings Co., Ltd. - Kansai Branch</td>\n",
       "      <td>541-0048　No. 6, Kawaramachi 3-chome, Chuo-ku, ...</td>\n",
       "      <td>34.6862</td>\n",
       "      <td>135.5033</td>\n",
       "      <td>NaN</td>\n",
       "      <td>Japan</td>\n",
       "      <td>(06)6229-1331</td>\n",
       "      <td>(06)6229-1415</td>\n",
       "      <td>https://www.tsk-g.co.jp/</td>\n",
       "      <td>NaN</td>\n",
       "      <td>824,652,887.25</td>\n",
       "      <td>3,517</td>\n",
       "    </tr>\n",
       "    <tr>\n",
       "      <th>3756</th>\n",
       "      <td>OEM</td>\n",
       "      <td>Pollution Control Equipment</td>\n",
       "      <td>Waste treatment support</td>\n",
       "      <td>Tsukishima Holdings Co., Ltd. - Kansai Branch</td>\n",
       "      <td>541-0048　No. 6, Kawaramachi 3-chome, Chuo-ku, ...</td>\n",
       "      <td>34.6862</td>\n",
       "      <td>135.5033</td>\n",
       "      <td>NaN</td>\n",
       "      <td>Japan</td>\n",
       "      <td>(06)6229-1331</td>\n",
       "      <td>(06)6229-1415</td>\n",
       "      <td>https://www.tsk-g.co.jp/</td>\n",
       "      <td>NaN</td>\n",
       "      <td>824,652,887.25</td>\n",
       "      <td>3,517</td>\n",
       "    </tr>\n",
       "    <tr>\n",
       "      <th>3757</th>\n",
       "      <td>OEM</td>\n",
       "      <td>Planning, Consulting &amp; Construction of Complet...</td>\n",
       "      <td>Regional support for water</td>\n",
       "      <td>Tsukishima Holdings Co., Ltd. - Sapporo Branch</td>\n",
       "      <td>060-0807　1-2 Kitashichijo Nishi 4-chome, Kita-...</td>\n",
       "      <td>35.6556</td>\n",
       "      <td>139.7797</td>\n",
       "      <td>NaN</td>\n",
       "      <td>Japan</td>\n",
       "      <td>(011)726-0510</td>\n",
       "      <td>(011)726-0520</td>\n",
       "      <td>https://www.tsk-g.co.jp/</td>\n",
       "      <td>NaN</td>\n",
       "      <td>824,652,887.25</td>\n",
       "      <td>3,517</td>\n",
       "    </tr>\n",
       "    <tr>\n",
       "      <th>3758</th>\n",
       "      <td>OEM</td>\n",
       "      <td>Pollution Control Equipment</td>\n",
       "      <td>Water treatment consulting</td>\n",
       "      <td>Tsukishima Holdings Co., Ltd. - Sendai Branch</td>\n",
       "      <td>980-0014　11-2 Honmachi, Aoba-ku, Sendai (SK Se...</td>\n",
       "      <td>35.6563</td>\n",
       "      <td>139.7800</td>\n",
       "      <td>NaN</td>\n",
       "      <td>Japan</td>\n",
       "      <td>(022)227-9267</td>\n",
       "      <td>(022)223-0316</td>\n",
       "      <td>https://www.tsk-g.co.jp/</td>\n",
       "      <td>NaN</td>\n",
       "      <td>824,652,887.25</td>\n",
       "      <td>3,517</td>\n",
       "    </tr>\n",
       "    <tr>\n",
       "      <th>3759</th>\n",
       "      <td>OEM</td>\n",
       "      <td>Pollution Control Equipment</td>\n",
       "      <td>Environmental plant engineering</td>\n",
       "      <td>Tsukishima Holdings Co., Ltd. - Yokohama Branch</td>\n",
       "      <td>231-0012　1, 56 Aioicho 3-chome, Naka-ku, Yokoh...</td>\n",
       "      <td>35.6563</td>\n",
       "      <td>139.7800</td>\n",
       "      <td>NaN</td>\n",
       "      <td>Japan</td>\n",
       "      <td>(045)651-7331</td>\n",
       "      <td>(045)664-5086</td>\n",
       "      <td>https://www.tsk-g.co.jp/</td>\n",
       "      <td>NaN</td>\n",
       "      <td>824,652,887.25</td>\n",
       "      <td>3,517</td>\n",
       "    </tr>\n",
       "    <tr>\n",
       "      <th>3760</th>\n",
       "      <td>OEM</td>\n",
       "      <td>Pollution Control Equipment</td>\n",
       "      <td>Sales and project support for treatment plants</td>\n",
       "      <td>Tsukishima Holdings Co., Ltd. - Nagoya Branch</td>\n",
       "      <td>450-0003　No. 17, 29, Meieki Minami 1-chome, Na...</td>\n",
       "      <td>35.6563</td>\n",
       "      <td>139.7800</td>\n",
       "      <td>NaN</td>\n",
       "      <td>Japan</td>\n",
       "      <td>(052)581-2378</td>\n",
       "      <td>(052)581-1624</td>\n",
       "      <td>https://www.tsk-g.co.jp/</td>\n",
       "      <td>NaN</td>\n",
       "      <td>824,652,887.25</td>\n",
       "      <td>3,517</td>\n",
       "    </tr>\n",
       "    <tr>\n",
       "      <th>3761</th>\n",
       "      <td>OEM</td>\n",
       "      <td>Pollution Control Equipment</td>\n",
       "      <td>Environmental plant equipment sales and consul...</td>\n",
       "      <td>Tsukishima Holdings Co., Ltd. - China Branch</td>\n",
       "      <td>730-0015　No. 10, Hashimotocho, Naka-ku, Hirosh...</td>\n",
       "      <td>35.6648</td>\n",
       "      <td>139.7828</td>\n",
       "      <td>NaN</td>\n",
       "      <td>Japan</td>\n",
       "      <td>(082)227-3093</td>\n",
       "      <td>(082)223-8771</td>\n",
       "      <td>https://www.tsk-g.co.jp/</td>\n",
       "      <td>NaN</td>\n",
       "      <td>824,652,887.25</td>\n",
       "      <td>3,517</td>\n",
       "    </tr>\n",
       "    <tr>\n",
       "      <th>3762</th>\n",
       "      <td>OEM</td>\n",
       "      <td>Pollution Control Equipment</td>\n",
       "      <td>West Japan environmental engineering projects</td>\n",
       "      <td>Tsukishima Holdings Co., Ltd. - Fukuoka Branch</td>\n",
       "      <td>810-0062　Arato 2-chome No. 1 No. 5, Chuo-ku, F...</td>\n",
       "      <td>35.6560</td>\n",
       "      <td>139.7796</td>\n",
       "      <td>NaN</td>\n",
       "      <td>Japan</td>\n",
       "      <td>(092)741-5736</td>\n",
       "      <td>(092)761-4806</td>\n",
       "      <td>https://www.tsk-g.co.jp/</td>\n",
       "      <td>NaN</td>\n",
       "      <td>824,652,887.25</td>\n",
       "      <td>3,517</td>\n",
       "    </tr>\n",
       "    <tr>\n",
       "      <th>3763</th>\n",
       "      <td>OEM</td>\n",
       "      <td>Pollution Control Equipment</td>\n",
       "      <td>Local sales support for environmental systems</td>\n",
       "      <td>Tsukishima Holdings Co., Ltd. - Okinawa Office</td>\n",
       "      <td>901-2131　Makiminato 2-chome 54-No. 2, Urasoe C...</td>\n",
       "      <td>26.2626</td>\n",
       "      <td>127.7261</td>\n",
       "      <td>NaN</td>\n",
       "      <td>Japan</td>\n",
       "      <td>(098)874-5793</td>\n",
       "      <td>(098)874-6262</td>\n",
       "      <td>https://www.tsk-g.co.jp/</td>\n",
       "      <td>NaN</td>\n",
       "      <td>824,652,887.25</td>\n",
       "      <td>3,517</td>\n",
       "    </tr>\n",
       "    <tr>\n",
       "      <th>3764</th>\n",
       "      <td>OEM</td>\n",
       "      <td>Machinery Equipment for Services</td>\n",
       "      <td>Mechanical design</td>\n",
       "      <td>Tsukishima Holdings Co., Ltd. - Yachiyo Office</td>\n",
       "      <td>276-0022　3, 1807 Kamikono, Yachiyo City, Chiba...</td>\n",
       "      <td>35.7335</td>\n",
       "      <td>140.1331</td>\n",
       "      <td>NaN</td>\n",
       "      <td>Japan</td>\n",
       "      <td>(047)494-4300</td>\n",
       "      <td>(047)494-4321</td>\n",
       "      <td>https://www.tsk-g.co.jp/</td>\n",
       "      <td>NaN</td>\n",
       "      <td>824,652,887.25</td>\n",
       "      <td>3,517</td>\n",
       "    </tr>\n",
       "    <tr>\n",
       "      <th>3765</th>\n",
       "      <td>OEM</td>\n",
       "      <td>Industrial Turnkey Plant</td>\n",
       "      <td>Production of tanks</td>\n",
       "      <td>Tsukishima Holdings Co., Ltd. - Muroran Factory</td>\n",
       "      <td>051-0006　35-2 Chazu-cho, Muroran City, Hokkaido</td>\n",
       "      <td>42.3274</td>\n",
       "      <td>140.9892</td>\n",
       "      <td>NaN</td>\n",
       "      <td>Japan</td>\n",
       "      <td>(0143)57-1100</td>\n",
       "      <td>(0143)57-1102</td>\n",
       "      <td>https://www.tsk-g.co.jp/</td>\n",
       "      <td>NaN</td>\n",
       "      <td>824,652,887.25</td>\n",
       "      <td>3,517</td>\n",
       "    </tr>\n",
       "    <tr>\n",
       "      <th>3766</th>\n",
       "      <td>OEM</td>\n",
       "      <td>Industrial Turnkey Plant</td>\n",
       "      <td>Large industrial equipment</td>\n",
       "      <td>Tsukishima Holdings Co., Ltd. - Muroran Factory</td>\n",
       "      <td>051-0006　35-2 Chazu-cho, Muroran City, Hokkaido</td>\n",
       "      <td>42.3274</td>\n",
       "      <td>140.9892</td>\n",
       "      <td>NaN</td>\n",
       "      <td>Japan</td>\n",
       "      <td>(0143)57-1100</td>\n",
       "      <td>(0143)57-1102</td>\n",
       "      <td>https://www.tsk-g.co.jp/</td>\n",
       "      <td>NaN</td>\n",
       "      <td>824,652,887.25</td>\n",
       "      <td>3,517</td>\n",
       "    </tr>\n",
       "    <tr>\n",
       "      <th>3767</th>\n",
       "      <td>OEM</td>\n",
       "      <td>Industrial Turnkey Plant</td>\n",
       "      <td>Welding and machining</td>\n",
       "      <td>Tsukishima Holdings Co., Ltd. - Muroran Factory</td>\n",
       "      <td>051-0006　35-2 Chazu-cho, Muroran City, Hokkaido</td>\n",
       "      <td>42.3274</td>\n",
       "      <td>140.9892</td>\n",
       "      <td>NaN</td>\n",
       "      <td>Japan</td>\n",
       "      <td>(0143)57-1100</td>\n",
       "      <td>(0143)57-1102</td>\n",
       "      <td>https://www.tsk-g.co.jp/</td>\n",
       "      <td>NaN</td>\n",
       "      <td>824,652,887.25</td>\n",
       "      <td>3,517</td>\n",
       "    </tr>\n",
       "    <tr>\n",
       "      <th>3821</th>\n",
       "      <td>OEM</td>\n",
       "      <td>Productronics Machinery &amp; Equipment</td>\n",
       "      <td>Printing Systems</td>\n",
       "      <td>Sinfonia Technology Co., Ltd. - Ise Seisakusho...</td>\n",
       "      <td>516-8550 100 Takegahana-cho, Ise City, Mie Pre...</td>\n",
       "      <td>34.5093</td>\n",
       "      <td>136.7282</td>\n",
       "      <td>NaN</td>\n",
       "      <td>Japan</td>\n",
       "      <td>0596-36-1111</td>\n",
       "      <td>0596-36-0577</td>\n",
       "      <td>https://www.sinfo-t.jp/company/business-base/</td>\n",
       "      <td>NaN</td>\n",
       "      <td>681,586,018.65</td>\n",
       "      <td>3,683</td>\n",
       "    </tr>\n",
       "    <tr>\n",
       "      <th>3822</th>\n",
       "      <td>OEM</td>\n",
       "      <td>Precision Machinery, Inspecting &amp; Testing Equi...</td>\n",
       "      <td>Precision machining</td>\n",
       "      <td>Sinfonia Technology Co., Ltd. - Toba Factory</td>\n",
       "      <td>517-0011 1-19-1 Toba, Toba City, Mie Prefecture</td>\n",
       "      <td>34.4850</td>\n",
       "      <td>136.8279</td>\n",
       "      <td>NaN</td>\n",
       "      <td>Japan</td>\n",
       "      <td>0599-25-3231</td>\n",
       "      <td>0599-25-5162</td>\n",
       "      <td>https://www.sinfo-t.jp/company/business-base/</td>\n",
       "      <td>NaN</td>\n",
       "      <td>681,586,018.65</td>\n",
       "      <td>3,683</td>\n",
       "    </tr>\n",
       "  </tbody>\n",
       "</table>\n",
       "</div>"
      ],
      "text/plain": [
       "     Busines Model                                           Category  \\\n",
       "3751           OEM                        Pollution Control Equipment   \n",
       "3752           OEM  Planning, Consulting & Construction of Complet...   \n",
       "3753           OEM                                             Dryers   \n",
       "3754           OEM                                             Dryers   \n",
       "3755           OEM                        Pollution Control Equipment   \n",
       "3756           OEM                        Pollution Control Equipment   \n",
       "3757           OEM  Planning, Consulting & Construction of Complet...   \n",
       "3758           OEM                        Pollution Control Equipment   \n",
       "3759           OEM                        Pollution Control Equipment   \n",
       "3760           OEM                        Pollution Control Equipment   \n",
       "3761           OEM                        Pollution Control Equipment   \n",
       "3762           OEM                        Pollution Control Equipment   \n",
       "3763           OEM                        Pollution Control Equipment   \n",
       "3764           OEM                   Machinery Equipment for Services   \n",
       "3765           OEM                           Industrial Turnkey Plant   \n",
       "3766           OEM                           Industrial Turnkey Plant   \n",
       "3767           OEM                           Industrial Turnkey Plant   \n",
       "3821           OEM                Productronics Machinery & Equipment   \n",
       "3822           OEM  Precision Machinery, Inspecting & Testing Equi...   \n",
       "\n",
       "                                            Subcategory  \\\n",
       "3751                            Water treatment systems   \n",
       "3752                      Engineering support for water   \n",
       "3753                       Wastewater treatment systems   \n",
       "3754                           Drying/dehydration units   \n",
       "3755                                   Municipal sewage   \n",
       "3756                            Waste treatment support   \n",
       "3757                         Regional support for water   \n",
       "3758                         Water treatment consulting   \n",
       "3759                    Environmental plant engineering   \n",
       "3760     Sales and project support for treatment plants   \n",
       "3761  Environmental plant equipment sales and consul...   \n",
       "3762      West Japan environmental engineering projects   \n",
       "3763      Local sales support for environmental systems   \n",
       "3764                                  Mechanical design   \n",
       "3765                                Production of tanks   \n",
       "3766                         Large industrial equipment   \n",
       "3767                              Welding and machining   \n",
       "3821                                   Printing Systems   \n",
       "3822                                Precision machining   \n",
       "\n",
       "                                           Company Name  \\\n",
       "3751  Tsukishima Holdings Co., Ltd. - East Japan Branch   \n",
       "3752       Tsukishima Holdings Co., Ltd. - Kanto Branch   \n",
       "3753       Tsukishima Holdings Co., Ltd. - Osaka Branch   \n",
       "3754       Tsukishima Holdings Co., Ltd. - Osaka Branch   \n",
       "3755      Tsukishima Holdings Co., Ltd. - Kansai Branch   \n",
       "3756      Tsukishima Holdings Co., Ltd. - Kansai Branch   \n",
       "3757     Tsukishima Holdings Co., Ltd. - Sapporo Branch   \n",
       "3758      Tsukishima Holdings Co., Ltd. - Sendai Branch   \n",
       "3759    Tsukishima Holdings Co., Ltd. - Yokohama Branch   \n",
       "3760      Tsukishima Holdings Co., Ltd. - Nagoya Branch   \n",
       "3761       Tsukishima Holdings Co., Ltd. - China Branch   \n",
       "3762     Tsukishima Holdings Co., Ltd. - Fukuoka Branch   \n",
       "3763     Tsukishima Holdings Co., Ltd. - Okinawa Office   \n",
       "3764     Tsukishima Holdings Co., Ltd. - Yachiyo Office   \n",
       "3765    Tsukishima Holdings Co., Ltd. - Muroran Factory   \n",
       "3766    Tsukishima Holdings Co., Ltd. - Muroran Factory   \n",
       "3767    Tsukishima Holdings Co., Ltd. - Muroran Factory   \n",
       "3821  Sinfonia Technology Co., Ltd. - Ise Seisakusho...   \n",
       "3822       Sinfonia Technology Co., Ltd. - Toba Factory   \n",
       "\n",
       "                                                Address Latitude Longitude  \\\n",
       "3751     104-0053　No. 5, Harumi 3-chome, Chuo-ku, Tokyo  35.7078  139.7795   \n",
       "3752     104-0053　No. 5, Harumi 3-chome, Chuo-ku, Tokyo  35.7078  139.7795   \n",
       "3753  541-0048　No. 6, Kawaramachi 3-chome, Chuo-ku, ...  34.6862  135.5033   \n",
       "3754  541-0048　No. 6, Kawaramachi 3-chome, Chuo-ku, ...  34.6862  135.5033   \n",
       "3755  541-0048　No. 6, Kawaramachi 3-chome, Chuo-ku, ...  34.6862  135.5033   \n",
       "3756  541-0048　No. 6, Kawaramachi 3-chome, Chuo-ku, ...  34.6862  135.5033   \n",
       "3757  060-0807　1-2 Kitashichijo Nishi 4-chome, Kita-...  35.6556  139.7797   \n",
       "3758  980-0014　11-2 Honmachi, Aoba-ku, Sendai (SK Se...  35.6563  139.7800   \n",
       "3759  231-0012　1, 56 Aioicho 3-chome, Naka-ku, Yokoh...  35.6563  139.7800   \n",
       "3760  450-0003　No. 17, 29, Meieki Minami 1-chome, Na...  35.6563  139.7800   \n",
       "3761  730-0015　No. 10, Hashimotocho, Naka-ku, Hirosh...  35.6648  139.7828   \n",
       "3762  810-0062　Arato 2-chome No. 1 No. 5, Chuo-ku, F...  35.6560  139.7796   \n",
       "3763  901-2131　Makiminato 2-chome 54-No. 2, Urasoe C...  26.2626  127.7261   \n",
       "3764  276-0022　3, 1807 Kamikono, Yachiyo City, Chiba...  35.7335  140.1331   \n",
       "3765    051-0006　35-2 Chazu-cho, Muroran City, Hokkaido  42.3274  140.9892   \n",
       "3766    051-0006　35-2 Chazu-cho, Muroran City, Hokkaido  42.3274  140.9892   \n",
       "3767    051-0006　35-2 Chazu-cho, Muroran City, Hokkaido  42.3274  140.9892   \n",
       "3821  516-8550 100 Takegahana-cho, Ise City, Mie Pre...  34.5093  136.7282   \n",
       "3822    517-0011 1-19-1 Toba, Toba City, Mie Prefecture  34.4850  136.8279   \n",
       "\n",
       "     State Country    Contact No.        Fax No.  \\\n",
       "3751   NaN   Japan  (03)5560-6541  (03)5560-6593   \n",
       "3752   NaN   Japan  (03)5560-6542  (03)5560-6593   \n",
       "3753   NaN   Japan  (06)6229-1331  (06)6229-1415   \n",
       "3754   NaN   Japan  (06)6229-1331  (06)6229-1415   \n",
       "3755   NaN   Japan  (06)6229-1331  (06)6229-1415   \n",
       "3756   NaN   Japan  (06)6229-1331  (06)6229-1415   \n",
       "3757   NaN   Japan  (011)726-0510  (011)726-0520   \n",
       "3758   NaN   Japan  (022)227-9267  (022)223-0316   \n",
       "3759   NaN   Japan  (045)651-7331  (045)664-5086   \n",
       "3760   NaN   Japan  (052)581-2378  (052)581-1624   \n",
       "3761   NaN   Japan  (082)227-3093  (082)223-8771   \n",
       "3762   NaN   Japan  (092)741-5736  (092)761-4806   \n",
       "3763   NaN   Japan  (098)874-5793  (098)874-6262   \n",
       "3764   NaN   Japan  (047)494-4300  (047)494-4321   \n",
       "3765   NaN   Japan  (0143)57-1100  (0143)57-1102   \n",
       "3766   NaN   Japan  (0143)57-1100  (0143)57-1102   \n",
       "3767   NaN   Japan  (0143)57-1100  (0143)57-1102   \n",
       "3821   NaN   Japan   0596-36-1111   0596-36-0577   \n",
       "3822   NaN   Japan   0599-25-3231   0599-25-5162   \n",
       "\n",
       "                                            Website  Email     Annual Sale  \\\n",
       "3751                       https://www.tsk-g.co.jp/    NaN  824,652,887.25   \n",
       "3752                       https://www.tsk-g.co.jp/    NaN  824,652,887.25   \n",
       "3753                       https://www.tsk-g.co.jp/    NaN  824,652,887.25   \n",
       "3754                       https://www.tsk-g.co.jp/    NaN  824,652,887.25   \n",
       "3755                       https://www.tsk-g.co.jp/    NaN  824,652,887.25   \n",
       "3756                       https://www.tsk-g.co.jp/    NaN  824,652,887.25   \n",
       "3757                       https://www.tsk-g.co.jp/    NaN  824,652,887.25   \n",
       "3758                       https://www.tsk-g.co.jp/    NaN  824,652,887.25   \n",
       "3759                       https://www.tsk-g.co.jp/    NaN  824,652,887.25   \n",
       "3760                       https://www.tsk-g.co.jp/    NaN  824,652,887.25   \n",
       "3761                       https://www.tsk-g.co.jp/    NaN  824,652,887.25   \n",
       "3762                       https://www.tsk-g.co.jp/    NaN  824,652,887.25   \n",
       "3763                       https://www.tsk-g.co.jp/    NaN  824,652,887.25   \n",
       "3764                       https://www.tsk-g.co.jp/    NaN  824,652,887.25   \n",
       "3765                       https://www.tsk-g.co.jp/    NaN  824,652,887.25   \n",
       "3766                       https://www.tsk-g.co.jp/    NaN  824,652,887.25   \n",
       "3767                       https://www.tsk-g.co.jp/    NaN  824,652,887.25   \n",
       "3821  https://www.sinfo-t.jp/company/business-base/    NaN  681,586,018.65   \n",
       "3822  https://www.sinfo-t.jp/company/business-base/    NaN  681,586,018.65   \n",
       "\n",
       "     Employees  \n",
       "3751     3,517  \n",
       "3752     3,517  \n",
       "3753     3,517  \n",
       "3754     3,517  \n",
       "3755     3,517  \n",
       "3756     3,517  \n",
       "3757     3,517  \n",
       "3758     3,517  \n",
       "3759     3,517  \n",
       "3760     3,517  \n",
       "3761     3,517  \n",
       "3762     3,517  \n",
       "3763     3,517  \n",
       "3764     3,517  \n",
       "3765     3,517  \n",
       "3766     3,517  \n",
       "3767     3,517  \n",
       "3821     3,683  \n",
       "3822     3,683  "
      ]
     },
     "execution_count": 22,
     "metadata": {},
     "output_type": "execute_result"
    }
   ],
   "source": [
    "null_rows"
   ]
  },
  {
   "cell_type": "code",
   "execution_count": 23,
   "id": "c7aff029-70f8-491e-89a8-a8784537ed4e",
   "metadata": {},
   "outputs": [],
   "source": [
    "C_df.loc[3751:3752, 'State'] = 'Tokyo'\n",
    "C_df.loc[3753:3757, 'State'] = 'Osaka'\n",
    "C_df.loc[3758, 'State'] = 'Miyagi'\n",
    "C_df.loc[3759, 'State'] = 'Kanagawa'\n",
    "C_df.loc[3760, 'State'] = 'Kochi'\n",
    "C_df.loc[3761, 'State'] = 'Hiroshima'\n",
    "C_df.loc[3762, 'State'] = 'Fukuoka'\n",
    "C_df.loc[3763, 'State'] = 'Okinawa'\n",
    "C_df.loc[3764, 'State'] = 'Chiba'\n",
    "C_df.loc[3765:3767, 'State'] = 'Hokkaido'\n",
    "C_df.loc[3821:3822, 'State'] = 'Mie'"
   ]
  },
  {
   "cell_type": "code",
   "execution_count": 24,
   "id": "01695cdb-b08c-40c4-aefd-fa186863d94f",
   "metadata": {},
   "outputs": [
    {
     "data": {
      "text/plain": [
       "Busines Model                                                  OEM\n",
       "Category         Precision Machinery, Inspecting & Testing Equi...\n",
       "Subcategory                                    Precision machining\n",
       "Company Name          Sinfonia Technology Co., Ltd. - Toba Factory\n",
       "Address            517-0011 1-19-1 Toba, Toba City, Mie Prefecture\n",
       "Latitude                                                   34.4850\n",
       "Longitude                                                 136.8279\n",
       "State                                                          Mie\n",
       "Country                                                      Japan\n",
       "Contact No.                                           0599-25-3231\n",
       "Fax No.                                               0599-25-5162\n",
       "Website              https://www.sinfo-t.jp/company/business-base/\n",
       "Email                                                          NaN\n",
       "Annual Sale                                         681,586,018.65\n",
       "Employees                                                    3,683\n",
       "Name: 3822, dtype: object"
      ]
     },
     "execution_count": 24,
     "metadata": {},
     "output_type": "execute_result"
    }
   ],
   "source": [
    "C_df.loc[3822]"
   ]
  },
  {
   "cell_type": "markdown",
   "id": "ac24d64b-a688-4e02-8a52-799f3c56436d",
   "metadata": {},
   "source": [
    "<h4>Resolve Country</h4>"
   ]
  },
  {
   "cell_type": "code",
   "execution_count": 25,
   "id": "32906cd8-323d-4c91-8ad7-37cb9c3e5501",
   "metadata": {},
   "outputs": [
    {
     "data": {
      "text/plain": [
       "array(['Japan', nan], dtype=object)"
      ]
     },
     "execution_count": 25,
     "metadata": {},
     "output_type": "execute_result"
    }
   ],
   "source": [
    "C_df['Country'].unique()"
   ]
  },
  {
   "cell_type": "code",
   "execution_count": 26,
   "id": "3ca6410f-b123-4f78-8433-5f85d7b8bce2",
   "metadata": {},
   "outputs": [],
   "source": [
    "C_df['Country'] = C_df['Country'].fillna('Japan')"
   ]
  },
  {
   "cell_type": "markdown",
   "id": "1cbece71-105b-4054-925e-997a1364c9a1",
   "metadata": {},
   "source": [
    "<h4>Resolve Contact No.</h4>"
   ]
  },
  {
   "cell_type": "code",
   "execution_count": 27,
   "id": "600bd762-b9b1-4b58-8bdf-7671decd281b",
   "metadata": {},
   "outputs": [],
   "source": [
    "C_df['Contact No.'] = C_df['Contact No.'].fillna('')"
   ]
  },
  {
   "cell_type": "markdown",
   "id": "79980a34-db2e-4754-a5df-eed73566d338",
   "metadata": {},
   "source": [
    "<h4>Resolve Fax No.</h4>"
   ]
  },
  {
   "cell_type": "code",
   "execution_count": 28,
   "id": "65542f6b-9970-41ef-8bb0-cf7002aedcd6",
   "metadata": {},
   "outputs": [],
   "source": [
    "C_df['Fax No.'] = C_df['Fax No.'].fillna('')"
   ]
  },
  {
   "cell_type": "markdown",
   "id": "fa0271cc-3fe5-410a-a988-9ab6aeb26b84",
   "metadata": {},
   "source": [
    "<h4>Resolve Email</h4>"
   ]
  },
  {
   "cell_type": "code",
   "execution_count": 29,
   "id": "5f1145eb-24ad-4456-8faf-53e57c72f5b2",
   "metadata": {},
   "outputs": [],
   "source": [
    "C_df['Email'] = C_df['Email'].fillna('-')"
   ]
  },
  {
   "cell_type": "markdown",
   "id": "24e82f06-7c08-4e22-9c4e-c1f41402238d",
   "metadata": {},
   "source": [
    "<h4>Resolve Employees</h4>"
   ]
  },
  {
   "cell_type": "code",
   "execution_count": 30,
   "id": "5c1a7edb-286e-4a23-8748-fb830e1be73e",
   "metadata": {},
   "outputs": [],
   "source": [
    "null_rows = C_df[C_df['Employees'].isna()]"
   ]
  },
  {
   "cell_type": "code",
   "execution_count": 31,
   "id": "eaba222c-9797-437b-97ed-60a3e7fa647b",
   "metadata": {
    "scrolled": true
   },
   "outputs": [
    {
     "data": {
      "text/html": [
       "<div>\n",
       "<style scoped>\n",
       "    .dataframe tbody tr th:only-of-type {\n",
       "        vertical-align: middle;\n",
       "    }\n",
       "\n",
       "    .dataframe tbody tr th {\n",
       "        vertical-align: top;\n",
       "    }\n",
       "\n",
       "    .dataframe thead th {\n",
       "        text-align: right;\n",
       "    }\n",
       "</style>\n",
       "<table border=\"1\" class=\"dataframe\">\n",
       "  <thead>\n",
       "    <tr style=\"text-align: right;\">\n",
       "      <th></th>\n",
       "      <th>Busines Model</th>\n",
       "      <th>Category</th>\n",
       "      <th>Subcategory</th>\n",
       "      <th>Company Name</th>\n",
       "      <th>Address</th>\n",
       "      <th>Latitude</th>\n",
       "      <th>Longitude</th>\n",
       "      <th>State</th>\n",
       "      <th>Country</th>\n",
       "      <th>Contact No.</th>\n",
       "      <th>Fax No.</th>\n",
       "      <th>Website</th>\n",
       "      <th>Email</th>\n",
       "      <th>Annual Sale</th>\n",
       "      <th>Employees</th>\n",
       "    </tr>\n",
       "  </thead>\n",
       "  <tbody>\n",
       "    <tr>\n",
       "      <th>3277</th>\n",
       "      <td>OEM</td>\n",
       "      <td>Precision Machinery, Inspecting &amp; Testing Equi...</td>\n",
       "      <td>Digital Modeling, CG, Optical analysis</td>\n",
       "      <td>Arrk Corporation - Head Office</td>\n",
       "      <td>11th floor, Tatsuno Minamihonmachi Building, 2...</td>\n",
       "      <td>34.6789</td>\n",
       "      <td>135.5022</td>\n",
       "      <td>Osaka</td>\n",
       "      <td>Japan</td>\n",
       "      <td></td>\n",
       "      <td></td>\n",
       "      <td>https://jp.arrk.com/</td>\n",
       "      <td>-</td>\n",
       "      <td>79,378,900.00</td>\n",
       "      <td>NaN</td>\n",
       "    </tr>\n",
       "    <tr>\n",
       "      <th>3278</th>\n",
       "      <td>OEM</td>\n",
       "      <td>Productronics Machinery &amp; Equipment</td>\n",
       "      <td>Product design, Proof of Concept (POC)</td>\n",
       "      <td>Arrk Corporation - Tokyo Head Office</td>\n",
       "      <td>1-7-1 Izumi, Asaka City, Saitama Prefecture, 3...</td>\n",
       "      <td>35.8008</td>\n",
       "      <td>139.6019</td>\n",
       "      <td>Saitama</td>\n",
       "      <td>Japan</td>\n",
       "      <td>048-458-5055</td>\n",
       "      <td>048-458-5532</td>\n",
       "      <td>https://jp.arrk.com/</td>\n",
       "      <td>-</td>\n",
       "      <td>79,378,900.00</td>\n",
       "      <td>NaN</td>\n",
       "    </tr>\n",
       "    <tr>\n",
       "      <th>3279</th>\n",
       "      <td>OEM</td>\n",
       "      <td>Industrial Machinery</td>\n",
       "      <td>3D Printing, CNC Machining</td>\n",
       "      <td>Arrk Corporation - Head Office</td>\n",
       "      <td>11th floor, Tatsuno Minamihonmachi Building, 2...</td>\n",
       "      <td>34.6789</td>\n",
       "      <td>135.5022</td>\n",
       "      <td>Osaka</td>\n",
       "      <td>Japan</td>\n",
       "      <td></td>\n",
       "      <td></td>\n",
       "      <td>https://jp.arrk.com/</td>\n",
       "      <td>-</td>\n",
       "      <td>79,378,900.00</td>\n",
       "      <td>NaN</td>\n",
       "    </tr>\n",
       "    <tr>\n",
       "      <th>3280</th>\n",
       "      <td>OEM</td>\n",
       "      <td>Casting</td>\n",
       "      <td>Vacuum casting, Microwave molding</td>\n",
       "      <td>Arrk Corporation - Harajuku Factory</td>\n",
       "      <td>770 Harajuku Ipponsugi, Hidaka City, Saitama P...</td>\n",
       "      <td>35.9086</td>\n",
       "      <td>139.3432</td>\n",
       "      <td>Saitama</td>\n",
       "      <td>Japan</td>\n",
       "      <td></td>\n",
       "      <td></td>\n",
       "      <td>https://jp.arrk.com/</td>\n",
       "      <td>-</td>\n",
       "      <td>79,378,900.00</td>\n",
       "      <td>NaN</td>\n",
       "    </tr>\n",
       "    <tr>\n",
       "      <th>3281</th>\n",
       "      <td>OEM</td>\n",
       "      <td>Productronics Machinery &amp; Equipment</td>\n",
       "      <td>Resin processing, Block molding</td>\n",
       "      <td>Arrk Corporation - Harajuku Factory</td>\n",
       "      <td>770 Harajuku Ipponsugi, Hidaka City, Saitama P...</td>\n",
       "      <td>35.9086</td>\n",
       "      <td>139.3432</td>\n",
       "      <td>Saitama</td>\n",
       "      <td>Japan</td>\n",
       "      <td></td>\n",
       "      <td></td>\n",
       "      <td>https://jp.arrk.com/</td>\n",
       "      <td>-</td>\n",
       "      <td>79,378,900.00</td>\n",
       "      <td>NaN</td>\n",
       "    </tr>\n",
       "    <tr>\n",
       "      <th>3282</th>\n",
       "      <td>OEM</td>\n",
       "      <td>Productronics Machinery &amp; Equipment</td>\n",
       "      <td>Sheet Metal Processing</td>\n",
       "      <td>Arrk Corporation - Fujiyoshida Factory</td>\n",
       "      <td>2-12-8 Mukaihara, Fujiyoshida City, Yamanashi ...</td>\n",
       "      <td>35.4872</td>\n",
       "      <td>138.8067</td>\n",
       "      <td>Yamanashi</td>\n",
       "      <td>Japan</td>\n",
       "      <td>0555-24-1811</td>\n",
       "      <td>0555-20-1080</td>\n",
       "      <td>https://jp.arrk.com/</td>\n",
       "      <td>-</td>\n",
       "      <td>79,378,900.00</td>\n",
       "      <td>NaN</td>\n",
       "    </tr>\n",
       "    <tr>\n",
       "      <th>3283</th>\n",
       "      <td>OEM</td>\n",
       "      <td>Productronics Machinery &amp; Equipment</td>\n",
       "      <td>Simple mold, Injection molding, Small-scale pr...</td>\n",
       "      <td>Arrk Corporation - Fujiyoshida Factory</td>\n",
       "      <td>2-12-8 Mukaihara, Fujiyoshida City, Yamanashi ...</td>\n",
       "      <td>35.4872</td>\n",
       "      <td>138.8067</td>\n",
       "      <td>Yamanashi</td>\n",
       "      <td>Japan</td>\n",
       "      <td>0555-24-1811</td>\n",
       "      <td>0555-20-1080</td>\n",
       "      <td>https://jp.arrk.com/</td>\n",
       "      <td>-</td>\n",
       "      <td>79,378,900.00</td>\n",
       "      <td>NaN</td>\n",
       "    </tr>\n",
       "    <tr>\n",
       "      <th>3284</th>\n",
       "      <td>OEM</td>\n",
       "      <td>Productronics Machinery &amp; Equipment</td>\n",
       "      <td>Decoration/Surface treatment</td>\n",
       "      <td>Arrk Corporation - Fujiyoshida Factory</td>\n",
       "      <td>2-12-8 Mukaihara, Fujiyoshida City, Yamanashi ...</td>\n",
       "      <td>35.4872</td>\n",
       "      <td>138.8067</td>\n",
       "      <td>Yamanashi</td>\n",
       "      <td>Japan</td>\n",
       "      <td>0555-24-1811</td>\n",
       "      <td>0555-20-1080</td>\n",
       "      <td>https://jp.arrk.com/</td>\n",
       "      <td>-</td>\n",
       "      <td>79,378,900.00</td>\n",
       "      <td>NaN</td>\n",
       "    </tr>\n",
       "    <tr>\n",
       "      <th>3285</th>\n",
       "      <td>OEM</td>\n",
       "      <td>Packaging Machinery</td>\n",
       "      <td>Packaging Solutions</td>\n",
       "      <td>Arrk Corporation - Osaka Branch Office</td>\n",
       "      <td>2-4-3 Kawamocho, Tondabayashi City, Osaka Pref...</td>\n",
       "      <td>34.5004</td>\n",
       "      <td>135.5973</td>\n",
       "      <td>Osaka</td>\n",
       "      <td>Japan</td>\n",
       "      <td>0721-24-0403</td>\n",
       "      <td>0721-24-0455</td>\n",
       "      <td>https://jp.arrk.com/</td>\n",
       "      <td>-</td>\n",
       "      <td>79,378,900.00</td>\n",
       "      <td>NaN</td>\n",
       "    </tr>\n",
       "    <tr>\n",
       "      <th>3286</th>\n",
       "      <td>OEM</td>\n",
       "      <td>Subcontract Services</td>\n",
       "      <td>A combination of design, engineering, prototyp...</td>\n",
       "      <td>Arrk Corporation - Fujiyoshida Factory</td>\n",
       "      <td>2-12-8 Mukaihara, Fujiyoshida City, Yamanashi ...</td>\n",
       "      <td>35.4872</td>\n",
       "      <td>138.8067</td>\n",
       "      <td>Yamanashi</td>\n",
       "      <td>Japan</td>\n",
       "      <td>0555-24-1811</td>\n",
       "      <td>0555-20-1080</td>\n",
       "      <td>https://jp.arrk.com/</td>\n",
       "      <td>-</td>\n",
       "      <td>79,378,900.00</td>\n",
       "      <td>NaN</td>\n",
       "    </tr>\n",
       "    <tr>\n",
       "      <th>3287</th>\n",
       "      <td>OEM</td>\n",
       "      <td>Productronics Machinery &amp; Equipment</td>\n",
       "      <td>Proof of Concept (POC)</td>\n",
       "      <td>Arrk Corporation - Tokyo Head Office</td>\n",
       "      <td>1-7-1 Izumi, Asaka City, Saitama Prefecture, 3...</td>\n",
       "      <td>35.8008</td>\n",
       "      <td>139.6019</td>\n",
       "      <td>Saitama</td>\n",
       "      <td>Japan</td>\n",
       "      <td>048-458-5055</td>\n",
       "      <td>048-458-5532</td>\n",
       "      <td>https://jp.arrk.com/</td>\n",
       "      <td>-</td>\n",
       "      <td>79,378,900.00</td>\n",
       "      <td>NaN</td>\n",
       "    </tr>\n",
       "  </tbody>\n",
       "</table>\n",
       "</div>"
      ],
      "text/plain": [
       "     Busines Model                                           Category  \\\n",
       "3277           OEM  Precision Machinery, Inspecting & Testing Equi...   \n",
       "3278           OEM                Productronics Machinery & Equipment   \n",
       "3279           OEM                               Industrial Machinery   \n",
       "3280           OEM                                            Casting   \n",
       "3281           OEM                Productronics Machinery & Equipment   \n",
       "3282           OEM                Productronics Machinery & Equipment   \n",
       "3283           OEM                Productronics Machinery & Equipment   \n",
       "3284           OEM                Productronics Machinery & Equipment   \n",
       "3285           OEM                                Packaging Machinery   \n",
       "3286           OEM                               Subcontract Services   \n",
       "3287           OEM                Productronics Machinery & Equipment   \n",
       "\n",
       "                                            Subcategory  \\\n",
       "3277             Digital Modeling, CG, Optical analysis   \n",
       "3278             Product design, Proof of Concept (POC)   \n",
       "3279                         3D Printing, CNC Machining   \n",
       "3280                  Vacuum casting, Microwave molding   \n",
       "3281                    Resin processing, Block molding   \n",
       "3282                             Sheet Metal Processing   \n",
       "3283  Simple mold, Injection molding, Small-scale pr...   \n",
       "3284                       Decoration/Surface treatment   \n",
       "3285                                Packaging Solutions   \n",
       "3286  A combination of design, engineering, prototyp...   \n",
       "3287                             Proof of Concept (POC)   \n",
       "\n",
       "                                Company Name  \\\n",
       "3277          Arrk Corporation - Head Office   \n",
       "3278    Arrk Corporation - Tokyo Head Office   \n",
       "3279          Arrk Corporation - Head Office   \n",
       "3280     Arrk Corporation - Harajuku Factory   \n",
       "3281     Arrk Corporation - Harajuku Factory   \n",
       "3282  Arrk Corporation - Fujiyoshida Factory   \n",
       "3283  Arrk Corporation - Fujiyoshida Factory   \n",
       "3284  Arrk Corporation - Fujiyoshida Factory   \n",
       "3285  Arrk Corporation - Osaka Branch Office   \n",
       "3286  Arrk Corporation - Fujiyoshida Factory   \n",
       "3287    Arrk Corporation - Tokyo Head Office   \n",
       "\n",
       "                                                Address Latitude Longitude  \\\n",
       "3277  11th floor, Tatsuno Minamihonmachi Building, 2...  34.6789  135.5022   \n",
       "3278  1-7-1 Izumi, Asaka City, Saitama Prefecture, 3...  35.8008  139.6019   \n",
       "3279  11th floor, Tatsuno Minamihonmachi Building, 2...  34.6789  135.5022   \n",
       "3280  770 Harajuku Ipponsugi, Hidaka City, Saitama P...  35.9086  139.3432   \n",
       "3281  770 Harajuku Ipponsugi, Hidaka City, Saitama P...  35.9086  139.3432   \n",
       "3282  2-12-8 Mukaihara, Fujiyoshida City, Yamanashi ...  35.4872  138.8067   \n",
       "3283  2-12-8 Mukaihara, Fujiyoshida City, Yamanashi ...  35.4872  138.8067   \n",
       "3284  2-12-8 Mukaihara, Fujiyoshida City, Yamanashi ...  35.4872  138.8067   \n",
       "3285  2-4-3 Kawamocho, Tondabayashi City, Osaka Pref...  34.5004  135.5973   \n",
       "3286  2-12-8 Mukaihara, Fujiyoshida City, Yamanashi ...  35.4872  138.8067   \n",
       "3287  1-7-1 Izumi, Asaka City, Saitama Prefecture, 3...  35.8008  139.6019   \n",
       "\n",
       "          State Country   Contact No.       Fax No.               Website  \\\n",
       "3277      Osaka   Japan                              https://jp.arrk.com/   \n",
       "3278    Saitama   Japan  048-458-5055  048-458-5532  https://jp.arrk.com/   \n",
       "3279      Osaka   Japan                              https://jp.arrk.com/   \n",
       "3280    Saitama   Japan                              https://jp.arrk.com/   \n",
       "3281    Saitama   Japan                              https://jp.arrk.com/   \n",
       "3282  Yamanashi   Japan  0555-24-1811  0555-20-1080  https://jp.arrk.com/   \n",
       "3283  Yamanashi   Japan  0555-24-1811  0555-20-1080  https://jp.arrk.com/   \n",
       "3284  Yamanashi   Japan  0555-24-1811  0555-20-1080  https://jp.arrk.com/   \n",
       "3285      Osaka   Japan  0721-24-0403  0721-24-0455  https://jp.arrk.com/   \n",
       "3286  Yamanashi   Japan  0555-24-1811  0555-20-1080  https://jp.arrk.com/   \n",
       "3287    Saitama   Japan  048-458-5055  048-458-5532  https://jp.arrk.com/   \n",
       "\n",
       "     Email    Annual Sale Employees  \n",
       "3277     -  79,378,900.00       NaN  \n",
       "3278     -  79,378,900.00       NaN  \n",
       "3279     -  79,378,900.00       NaN  \n",
       "3280     -  79,378,900.00       NaN  \n",
       "3281     -  79,378,900.00       NaN  \n",
       "3282     -  79,378,900.00       NaN  \n",
       "3283     -  79,378,900.00       NaN  \n",
       "3284     -  79,378,900.00       NaN  \n",
       "3285     -  79,378,900.00       NaN  \n",
       "3286     -  79,378,900.00       NaN  \n",
       "3287     -  79,378,900.00       NaN  "
      ]
     },
     "execution_count": 31,
     "metadata": {},
     "output_type": "execute_result"
    }
   ],
   "source": [
    "null_rows"
   ]
  },
  {
   "cell_type": "code",
   "execution_count": 32,
   "id": "6a5a770d-521c-4e8f-a44f-bc1bbb28e766",
   "metadata": {},
   "outputs": [],
   "source": [
    "Employees_median = round(C_df['Employees'].str.replace(',', '').astype('Int64').median())\n",
    "Str_Employees_median = str(Employees_median)"
   ]
  },
  {
   "cell_type": "code",
   "execution_count": 33,
   "id": "9cdb79f2-69da-42f1-ba3d-4f3bf611d668",
   "metadata": {},
   "outputs": [],
   "source": [
    "C_df['Employees'] = C_df['Employees'].fillna(Str_Employees_median)"
   ]
  },
  {
   "cell_type": "code",
   "execution_count": 34,
   "id": "a69c5b75-e97b-40dd-89cb-00cb704ae25c",
   "metadata": {},
   "outputs": [],
   "source": [
    "C_df['Employees'] = C_df['Employees'].str.replace(',', '')"
   ]
  },
  {
   "cell_type": "code",
   "execution_count": 35,
   "id": "f469bee7-03fa-49e9-b5de-53065ccd556d",
   "metadata": {},
   "outputs": [],
   "source": [
    "C_df['Employees'] = pd.to_numeric(C_df['Employees'], errors='coerce').astype('Int64')"
   ]
  },
  {
   "cell_type": "markdown",
   "id": "99e6d46e-3c11-4802-8984-3929e2d79510",
   "metadata": {},
   "source": [
    "<h4>Finalize Field Status</h4>"
   ]
  },
  {
   "cell_type": "code",
   "execution_count": 36,
   "id": "6f1be267-1546-436e-bad5-c4ae640701ed",
   "metadata": {},
   "outputs": [
    {
     "data": {
      "text/plain": [
       "Busines Model    False\n",
       "Category         False\n",
       "Subcategory      False\n",
       "Company Name     False\n",
       "Address          False\n",
       "Latitude         False\n",
       "Longitude        False\n",
       "State            False\n",
       "Country          False\n",
       "Contact No.      False\n",
       "Fax No.          False\n",
       "Website          False\n",
       "Email            False\n",
       "Annual Sale      False\n",
       "Employees        False\n",
       "dtype: bool"
      ]
     },
     "execution_count": 36,
     "metadata": {},
     "output_type": "execute_result"
    }
   ],
   "source": [
    "C_df.isnull().any()"
   ]
  },
  {
   "cell_type": "markdown",
   "id": "1ee70284-d8c0-4ae7-b69a-e88bbf66f70d",
   "metadata": {},
   "source": [
    "<h3>⚠️ Fix Formatting Issues</h3>"
   ]
  },
  {
   "cell_type": "markdown",
   "id": "2bb54b01-5eb7-436f-931f-01d801b38a14",
   "metadata": {},
   "source": [
    "<h4>Check DType</h4>"
   ]
  },
  {
   "cell_type": "code",
   "execution_count": 37,
   "id": "52f91c86-68e1-4900-b6db-e9b17090a11a",
   "metadata": {},
   "outputs": [
    {
     "name": "stdout",
     "output_type": "stream",
     "text": [
      "<class 'pandas.core.frame.DataFrame'>\n",
      "RangeIndex: 838 entries, 3042 to 3879\n",
      "Data columns (total 15 columns):\n",
      " #   Column         Non-Null Count  Dtype \n",
      "---  ------         --------------  ----- \n",
      " 0   Busines Model  838 non-null    object\n",
      " 1   Category       838 non-null    object\n",
      " 2   Subcategory    838 non-null    object\n",
      " 3   Company Name   838 non-null    object\n",
      " 4   Address        838 non-null    object\n",
      " 5   Latitude       838 non-null    object\n",
      " 6   Longitude      838 non-null    object\n",
      " 7   State          838 non-null    object\n",
      " 8   Country        838 non-null    object\n",
      " 9   Contact No.    838 non-null    object\n",
      " 10  Fax No.        838 non-null    object\n",
      " 11  Website        838 non-null    object\n",
      " 12  Email          838 non-null    object\n",
      " 13  Annual Sale    838 non-null    object\n",
      " 14  Employees      838 non-null    Int64 \n",
      "dtypes: Int64(1), object(14)\n",
      "memory usage: 99.2+ KB\n"
     ]
    }
   ],
   "source": [
    "C_df.info()"
   ]
  },
  {
   "cell_type": "markdown",
   "id": "4320bbc4-9a0e-47cc-b9ed-99bf1204e3ab",
   "metadata": {},
   "source": [
    "<h4>Change Latitude 'object' to 'float64'</h4>"
   ]
  },
  {
   "cell_type": "code",
   "execution_count": 38,
   "id": "84af4519-2bf6-4e39-879d-70b42d6f1556",
   "metadata": {},
   "outputs": [],
   "source": [
    "C_df['Latitude'] = pd.to_numeric(C_df['Latitude'], errors='coerce').astype('float64')"
   ]
  },
  {
   "cell_type": "markdown",
   "id": "b80218c4-6420-4e9d-adef-09d47e39a749",
   "metadata": {},
   "source": [
    "<h4>Change Longitude 'object' to 'float64'</h4>"
   ]
  },
  {
   "cell_type": "code",
   "execution_count": 39,
   "id": "ec9321be-ff94-45f6-84c2-836e42ae4fa3",
   "metadata": {},
   "outputs": [],
   "source": [
    "C_df['Longitude'] = pd.to_numeric(C_df['Longitude'], errors='coerce').astype('float64')"
   ]
  },
  {
   "cell_type": "markdown",
   "id": "3a95da3f-b77c-450e-9933-ea62779174ec",
   "metadata": {},
   "source": [
    "<h4>Change Annual Sale 'object' to 'float128'</h4>"
   ]
  },
  {
   "cell_type": "code",
   "execution_count": 40,
   "id": "f2cff618-000f-455a-afb3-840576ef326b",
   "metadata": {},
   "outputs": [],
   "source": [
    "C_df['Annual Sale'] = C_df['Annual Sale'].str.replace(',', '')"
   ]
  },
  {
   "cell_type": "code",
   "execution_count": 41,
   "id": "20b06fa0-db5b-4cca-ab54-af0eac04a17b",
   "metadata": {},
   "outputs": [],
   "source": [
    "C_df['Annual Sale'] = pd.to_numeric(C_df['Annual Sale'], errors='coerce').astype('Float64')"
   ]
  },
  {
   "cell_type": "markdown",
   "id": "f55a00c2-c141-44ce-b76e-6be54ddada99",
   "metadata": {},
   "source": [
    "<h4>Format Contact No.</h4>"
   ]
  },
  {
   "cell_type": "code",
   "execution_count": 42,
   "id": "74635ea0-e917-4f47-a84d-20cecedcb063",
   "metadata": {},
   "outputs": [],
   "source": [
    "C_df['Contact No.'] = C_df['Contact No.'].str.replace('-', '').str.replace('(', '').str.replace(')', '').str.replace(' ', '')"
   ]
  },
  {
   "cell_type": "code",
   "execution_count": 43,
   "id": "037dc2c1-0e4a-47bb-858d-58e06eaf5064",
   "metadata": {},
   "outputs": [],
   "source": [
    "C_df['Contact No.'] = C_df['Contact No.'].str.slice(0, 10)"
   ]
  },
  {
   "cell_type": "code",
   "execution_count": 44,
   "id": "3dc5613f-c15d-436d-9ff1-f663a89bccc5",
   "metadata": {},
   "outputs": [],
   "source": [
    "C_df['Contact No.'] = C_df['Contact No.'].str.replace(r'^81', '+81', regex=True)\n",
    "C_df['Contact No.'] = C_df['Contact No.'].str.replace(r'^0', '+81', regex=True)"
   ]
  },
  {
   "cell_type": "code",
   "execution_count": 45,
   "id": "3941040d-4163-40eb-98bc-1d78693f187b",
   "metadata": {},
   "outputs": [],
   "source": [
    "C_df['Contact No.'] = C_df['Contact No.'].str.slice_replace(start = 0, stop = 0, repl = '(')\n",
    "C_df['Contact No.'] = C_df['Contact No.'].str.slice_replace(start = 4, stop = 4, repl = ')')"
   ]
  },
  {
   "cell_type": "code",
   "execution_count": 46,
   "id": "26c629da-40d5-4370-9592-120ea649fafe",
   "metadata": {},
   "outputs": [],
   "source": [
    "C_df['Contact No.'] = C_df['Contact No.'].str.slice_replace(start = 5, stop = 5, repl = ' ')\n",
    "C_df['Contact No.'] = C_df['Contact No.'].str.slice_replace(start = 7, stop = 7, repl = '-')"
   ]
  },
  {
   "cell_type": "code",
   "execution_count": 47,
   "id": "4a94c163-9371-41a1-ae7a-b16156052cd5",
   "metadata": {},
   "outputs": [],
   "source": [
    "C_df['Contact No.'] = C_df['Contact No.'].str.slice_replace(start = 12, stop = 12, repl = '-')"
   ]
  },
  {
   "cell_type": "code",
   "execution_count": 48,
   "id": "8dc2a73f-1121-4ca6-bd35-cdf12a786f50",
   "metadata": {
    "scrolled": true
   },
   "outputs": [
    {
     "data": {
      "text/html": [
       "<div>\n",
       "<style scoped>\n",
       "    .dataframe tbody tr th:only-of-type {\n",
       "        vertical-align: middle;\n",
       "    }\n",
       "\n",
       "    .dataframe tbody tr th {\n",
       "        vertical-align: top;\n",
       "    }\n",
       "\n",
       "    .dataframe thead th {\n",
       "        text-align: right;\n",
       "    }\n",
       "</style>\n",
       "<table border=\"1\" class=\"dataframe\">\n",
       "  <thead>\n",
       "    <tr style=\"text-align: right;\">\n",
       "      <th></th>\n",
       "      <th>Busines Model</th>\n",
       "      <th>Category</th>\n",
       "      <th>Subcategory</th>\n",
       "      <th>Company Name</th>\n",
       "      <th>Address</th>\n",
       "      <th>Latitude</th>\n",
       "      <th>Longitude</th>\n",
       "      <th>State</th>\n",
       "      <th>Country</th>\n",
       "      <th>Contact No.</th>\n",
       "      <th>Fax No.</th>\n",
       "      <th>Website</th>\n",
       "      <th>Email</th>\n",
       "      <th>Annual Sale</th>\n",
       "      <th>Employees</th>\n",
       "    </tr>\n",
       "  </thead>\n",
       "  <tbody>\n",
       "    <tr>\n",
       "      <th>3042</th>\n",
       "      <td>OEM</td>\n",
       "      <td>Electric Machinery</td>\n",
       "      <td>Calibration Systems</td>\n",
       "      <td>Eagle Industry Co., Ltd. - Marine Division Kur...</td>\n",
       "      <td>737-0027 No. 8 1 Showa-cho, Kure City, Hiroshi...</td>\n",
       "      <td>34.2506</td>\n",
       "      <td>132.5651</td>\n",
       "      <td>Hiroshima</td>\n",
       "      <td>Japan</td>\n",
       "      <td>(+81) 8-2325-7121</td>\n",
       "      <td>(0823) 25-7120</td>\n",
       "      <td>https://www.ekkeagle.com/jp</td>\n",
       "      <td>-</td>\n",
       "      <td>1117001501.9</td>\n",
       "      <td>6280</td>\n",
       "    </tr>\n",
       "    <tr>\n",
       "      <th>3043</th>\n",
       "      <td>OEM</td>\n",
       "      <td>Apparatus &amp; Machinery for Chemical Industry</td>\n",
       "      <td>Mechanical seal auxiliary equipment</td>\n",
       "      <td>Eagle Industry Co., Ltd. - Hiroshima Branch Sh...</td>\n",
       "      <td>746-0024 2-20-3 Koizumi, Shunan, Yamaguchi</td>\n",
       "      <td>34.0421</td>\n",
       "      <td>131.8069</td>\n",
       "      <td>Yamaguchi</td>\n",
       "      <td>Japan</td>\n",
       "      <td>(+81) 8-3463-7648</td>\n",
       "      <td>(0834) 61-1054</td>\n",
       "      <td>https://www.ekkeagle.com/jp</td>\n",
       "      <td>-</td>\n",
       "      <td>1117001501.9</td>\n",
       "      <td>6280</td>\n",
       "    </tr>\n",
       "    <tr>\n",
       "      <th>3044</th>\n",
       "      <td>OEM</td>\n",
       "      <td>Piping System</td>\n",
       "      <td>Mechanical seal auxiliary equipment</td>\n",
       "      <td>Eagle Industry Co., Ltd. - Hiroshima Branch Sh...</td>\n",
       "      <td>746-0024 2-20-3 Koizumi, Shunan, Yamaguchi</td>\n",
       "      <td>34.0421</td>\n",
       "      <td>131.8069</td>\n",
       "      <td>Yamaguchi</td>\n",
       "      <td>Japan</td>\n",
       "      <td>(+81) 8-3463-7648</td>\n",
       "      <td>(0834) 61-1054</td>\n",
       "      <td>https://www.ekkeagle.com/jp</td>\n",
       "      <td>-</td>\n",
       "      <td>1117001501.9</td>\n",
       "      <td>6280</td>\n",
       "    </tr>\n",
       "    <tr>\n",
       "      <th>3045</th>\n",
       "      <td>OEM</td>\n",
       "      <td>Industrial Turnkey Plant</td>\n",
       "      <td>Mechanical seal auxiliary equipment</td>\n",
       "      <td>Eagle Industry Co., Ltd. - Hiroshima Branch Sh...</td>\n",
       "      <td>746-0024 2-20-3 Koizumi, Shunan, Yamaguchi</td>\n",
       "      <td>34.0421</td>\n",
       "      <td>131.8069</td>\n",
       "      <td>Yamaguchi</td>\n",
       "      <td>Japan</td>\n",
       "      <td>(+81) 8-3463-7648</td>\n",
       "      <td>(0834) 61-1054</td>\n",
       "      <td>https://www.ekkeagle.com/jp</td>\n",
       "      <td>-</td>\n",
       "      <td>1117001501.9</td>\n",
       "      <td>6280</td>\n",
       "    </tr>\n",
       "    <tr>\n",
       "      <th>3046</th>\n",
       "      <td>OEM</td>\n",
       "      <td>Pollution Control Equipment</td>\n",
       "      <td>Mechanical seal auxiliary equipment</td>\n",
       "      <td>Eagle Industry Co., Ltd. - Hiroshima Branch Sh...</td>\n",
       "      <td>746-0024 2-20-3 Koizumi, Shunan, Yamaguchi</td>\n",
       "      <td>34.0421</td>\n",
       "      <td>131.8069</td>\n",
       "      <td>Yamaguchi</td>\n",
       "      <td>Japan</td>\n",
       "      <td>(+81) 8-3463-7648</td>\n",
       "      <td>(0834) 61-1054</td>\n",
       "      <td>https://www.ekkeagle.com/jp</td>\n",
       "      <td>-</td>\n",
       "      <td>1117001501.9</td>\n",
       "      <td>6280</td>\n",
       "    </tr>\n",
       "  </tbody>\n",
       "</table>\n",
       "</div>"
      ],
      "text/plain": [
       "     Busines Model                                     Category  \\\n",
       "3042           OEM                           Electric Machinery   \n",
       "3043           OEM  Apparatus & Machinery for Chemical Industry   \n",
       "3044           OEM                                Piping System   \n",
       "3045           OEM                     Industrial Turnkey Plant   \n",
       "3046           OEM                  Pollution Control Equipment   \n",
       "\n",
       "                              Subcategory  \\\n",
       "3042                  Calibration Systems   \n",
       "3043  Mechanical seal auxiliary equipment   \n",
       "3044  Mechanical seal auxiliary equipment   \n",
       "3045  Mechanical seal auxiliary equipment   \n",
       "3046  Mechanical seal auxiliary equipment   \n",
       "\n",
       "                                           Company Name  \\\n",
       "3042  Eagle Industry Co., Ltd. - Marine Division Kur...   \n",
       "3043  Eagle Industry Co., Ltd. - Hiroshima Branch Sh...   \n",
       "3044  Eagle Industry Co., Ltd. - Hiroshima Branch Sh...   \n",
       "3045  Eagle Industry Co., Ltd. - Hiroshima Branch Sh...   \n",
       "3046  Eagle Industry Co., Ltd. - Hiroshima Branch Sh...   \n",
       "\n",
       "                                                Address  Latitude  Longitude  \\\n",
       "3042  737-0027 No. 8 1 Showa-cho, Kure City, Hiroshi...   34.2506   132.5651   \n",
       "3043         746-0024 2-20-3 Koizumi, Shunan, Yamaguchi   34.0421   131.8069   \n",
       "3044         746-0024 2-20-3 Koizumi, Shunan, Yamaguchi   34.0421   131.8069   \n",
       "3045         746-0024 2-20-3 Koizumi, Shunan, Yamaguchi   34.0421   131.8069   \n",
       "3046         746-0024 2-20-3 Koizumi, Shunan, Yamaguchi   34.0421   131.8069   \n",
       "\n",
       "          State Country        Contact No.         Fax No.  \\\n",
       "3042  Hiroshima   Japan  (+81) 8-2325-7121  (0823) 25-7120   \n",
       "3043  Yamaguchi   Japan  (+81) 8-3463-7648  (0834) 61-1054   \n",
       "3044  Yamaguchi   Japan  (+81) 8-3463-7648  (0834) 61-1054   \n",
       "3045  Yamaguchi   Japan  (+81) 8-3463-7648  (0834) 61-1054   \n",
       "3046  Yamaguchi   Japan  (+81) 8-3463-7648  (0834) 61-1054   \n",
       "\n",
       "                          Website Email   Annual Sale  Employees  \n",
       "3042  https://www.ekkeagle.com/jp     -  1117001501.9       6280  \n",
       "3043  https://www.ekkeagle.com/jp     -  1117001501.9       6280  \n",
       "3044  https://www.ekkeagle.com/jp     -  1117001501.9       6280  \n",
       "3045  https://www.ekkeagle.com/jp     -  1117001501.9       6280  \n",
       "3046  https://www.ekkeagle.com/jp     -  1117001501.9       6280  "
      ]
     },
     "execution_count": 48,
     "metadata": {},
     "output_type": "execute_result"
    }
   ],
   "source": [
    "C_df.head(5)"
   ]
  },
  {
   "cell_type": "code",
   "execution_count": 49,
   "id": "0620ac5a-01b2-4554-bff2-5f4893234747",
   "metadata": {},
   "outputs": [],
   "source": [
    "C_df['Contact No.'] = C_df['Contact No.'].str.replace('() -', '')"
   ]
  },
  {
   "cell_type": "code",
   "execution_count": 50,
   "id": "dced6cae-8e0f-4721-b477-1ad2a74b74d9",
   "metadata": {},
   "outputs": [],
   "source": [
    "C_df['Contact No.'] = C_df['Contact No.'].str.split('\\r').str[0]"
   ]
  },
  {
   "cell_type": "code",
   "execution_count": 51,
   "id": "1bcf38af-ecd2-4307-aba1-f1e9d6a6846b",
   "metadata": {},
   "outputs": [
    {
     "data": {
      "text/plain": [
       "Busines Model                                           OEM\n",
       "Category                                 Electric Machinery\n",
       "Subcategory                              Electric Machinery\n",
       "Company Name                                       YAMABIKO\n",
       "Address          1-7-2 Suehirocho, Ome City, Tokyo 198-0025\n",
       "Latitude                                            35.7802\n",
       "Longitude                                           139.309\n",
       "State                                                 Tokyo\n",
       "Country                                               Japan\n",
       "Contact No.                               (+81) 4-2832-1005\n",
       "Fax No.                                                    \n",
       "Website            https://www.yamabiko-corp.co.jp/kioritz/\n",
       "Email                                                     -\n",
       "Annual Sale                                     259229538.0\n",
       "Employees                                               476\n",
       "Name: 3268, dtype: object"
      ]
     },
     "execution_count": 51,
     "metadata": {},
     "output_type": "execute_result"
    }
   ],
   "source": [
    "C_df.loc[3268]"
   ]
  },
  {
   "cell_type": "markdown",
   "id": "db3f73ff-c2a7-4172-a067-bfd1babec143",
   "metadata": {},
   "source": [
    "<h4>Format Fax No.</h4>"
   ]
  },
  {
   "cell_type": "code",
   "execution_count": 52,
   "id": "e417b77c-29ea-4189-8e85-81da7e2b96a5",
   "metadata": {},
   "outputs": [],
   "source": [
    "C_df['Fax No.'] = C_df['Fax No.'].str.replace('-', '').str.replace('(', '').str.replace(')', '').str.replace(' ', '')"
   ]
  },
  {
   "cell_type": "code",
   "execution_count": 53,
   "id": "e13cfb2b-d4ff-4633-a928-c62d4ab3cfc8",
   "metadata": {},
   "outputs": [],
   "source": [
    "C_df['Fax No.'] = C_df['Fax No.'].str.slice(0, 10)"
   ]
  },
  {
   "cell_type": "code",
   "execution_count": 54,
   "id": "85cc2823-c898-4cd7-8c01-b47fcda44eec",
   "metadata": {},
   "outputs": [],
   "source": [
    "C_df['Fax No.'] = C_df['Fax No.'].str.replace(r'^81', '+81', regex=True)\n",
    "C_df['Fax No.'] = C_df['Fax No.'].str.replace(r'^0', '+81', regex=True)"
   ]
  },
  {
   "cell_type": "code",
   "execution_count": 55,
   "id": "3406f38e-3a4c-4932-9a7c-55c23507e7ec",
   "metadata": {},
   "outputs": [],
   "source": [
    "C_df['Fax No.'] = C_df['Fax No.'].str.slice_replace(start = 0, stop = 0, repl = '(')\n",
    "C_df['Fax No.'] = C_df['Fax No.'].str.slice_replace(start = 4, stop = 4, repl = ')')"
   ]
  },
  {
   "cell_type": "code",
   "execution_count": 56,
   "id": "acd978ed-d4ac-4020-a4d0-c6e547854655",
   "metadata": {},
   "outputs": [],
   "source": [
    "C_df['Fax No.'] = C_df['Fax No.'].str.slice_replace(start = 5, stop = 5, repl = ' ')\n",
    "C_df['Fax No.'] = C_df['Fax No.'].str.slice_replace(start = 7, stop = 7, repl = '-')"
   ]
  },
  {
   "cell_type": "code",
   "execution_count": 57,
   "id": "2b8a797b-c50a-43e7-953d-0dd3a4180836",
   "metadata": {},
   "outputs": [],
   "source": [
    "C_df['Fax No.'] = C_df['Fax No.'].str.slice_replace(start = 12, stop = 12, repl = '-')"
   ]
  },
  {
   "cell_type": "code",
   "execution_count": 58,
   "id": "3a239081-657c-4537-bec3-3c1fbfb0475f",
   "metadata": {
    "scrolled": true
   },
   "outputs": [
    {
     "data": {
      "text/html": [
       "<div>\n",
       "<style scoped>\n",
       "    .dataframe tbody tr th:only-of-type {\n",
       "        vertical-align: middle;\n",
       "    }\n",
       "\n",
       "    .dataframe tbody tr th {\n",
       "        vertical-align: top;\n",
       "    }\n",
       "\n",
       "    .dataframe thead th {\n",
       "        text-align: right;\n",
       "    }\n",
       "</style>\n",
       "<table border=\"1\" class=\"dataframe\">\n",
       "  <thead>\n",
       "    <tr style=\"text-align: right;\">\n",
       "      <th></th>\n",
       "      <th>Busines Model</th>\n",
       "      <th>Category</th>\n",
       "      <th>Subcategory</th>\n",
       "      <th>Company Name</th>\n",
       "      <th>Address</th>\n",
       "      <th>Latitude</th>\n",
       "      <th>Longitude</th>\n",
       "      <th>State</th>\n",
       "      <th>Country</th>\n",
       "      <th>Contact No.</th>\n",
       "      <th>Fax No.</th>\n",
       "      <th>Website</th>\n",
       "      <th>Email</th>\n",
       "      <th>Annual Sale</th>\n",
       "      <th>Employees</th>\n",
       "    </tr>\n",
       "  </thead>\n",
       "  <tbody>\n",
       "    <tr>\n",
       "      <th>3042</th>\n",
       "      <td>OEM</td>\n",
       "      <td>Electric Machinery</td>\n",
       "      <td>Calibration Systems</td>\n",
       "      <td>Eagle Industry Co., Ltd. - Marine Division Kur...</td>\n",
       "      <td>737-0027 No. 8 1 Showa-cho, Kure City, Hiroshi...</td>\n",
       "      <td>34.2506</td>\n",
       "      <td>132.5651</td>\n",
       "      <td>Hiroshima</td>\n",
       "      <td>Japan</td>\n",
       "      <td>(+81) 8-2325-7121</td>\n",
       "      <td>(+81) 8-2325-7120</td>\n",
       "      <td>https://www.ekkeagle.com/jp</td>\n",
       "      <td>-</td>\n",
       "      <td>1117001501.9</td>\n",
       "      <td>6280</td>\n",
       "    </tr>\n",
       "    <tr>\n",
       "      <th>3043</th>\n",
       "      <td>OEM</td>\n",
       "      <td>Apparatus &amp; Machinery for Chemical Industry</td>\n",
       "      <td>Mechanical seal auxiliary equipment</td>\n",
       "      <td>Eagle Industry Co., Ltd. - Hiroshima Branch Sh...</td>\n",
       "      <td>746-0024 2-20-3 Koizumi, Shunan, Yamaguchi</td>\n",
       "      <td>34.0421</td>\n",
       "      <td>131.8069</td>\n",
       "      <td>Yamaguchi</td>\n",
       "      <td>Japan</td>\n",
       "      <td>(+81) 8-3463-7648</td>\n",
       "      <td>(+81) 8-3461-1054</td>\n",
       "      <td>https://www.ekkeagle.com/jp</td>\n",
       "      <td>-</td>\n",
       "      <td>1117001501.9</td>\n",
       "      <td>6280</td>\n",
       "    </tr>\n",
       "    <tr>\n",
       "      <th>3044</th>\n",
       "      <td>OEM</td>\n",
       "      <td>Piping System</td>\n",
       "      <td>Mechanical seal auxiliary equipment</td>\n",
       "      <td>Eagle Industry Co., Ltd. - Hiroshima Branch Sh...</td>\n",
       "      <td>746-0024 2-20-3 Koizumi, Shunan, Yamaguchi</td>\n",
       "      <td>34.0421</td>\n",
       "      <td>131.8069</td>\n",
       "      <td>Yamaguchi</td>\n",
       "      <td>Japan</td>\n",
       "      <td>(+81) 8-3463-7648</td>\n",
       "      <td>(+81) 8-3461-1054</td>\n",
       "      <td>https://www.ekkeagle.com/jp</td>\n",
       "      <td>-</td>\n",
       "      <td>1117001501.9</td>\n",
       "      <td>6280</td>\n",
       "    </tr>\n",
       "    <tr>\n",
       "      <th>3045</th>\n",
       "      <td>OEM</td>\n",
       "      <td>Industrial Turnkey Plant</td>\n",
       "      <td>Mechanical seal auxiliary equipment</td>\n",
       "      <td>Eagle Industry Co., Ltd. - Hiroshima Branch Sh...</td>\n",
       "      <td>746-0024 2-20-3 Koizumi, Shunan, Yamaguchi</td>\n",
       "      <td>34.0421</td>\n",
       "      <td>131.8069</td>\n",
       "      <td>Yamaguchi</td>\n",
       "      <td>Japan</td>\n",
       "      <td>(+81) 8-3463-7648</td>\n",
       "      <td>(+81) 8-3461-1054</td>\n",
       "      <td>https://www.ekkeagle.com/jp</td>\n",
       "      <td>-</td>\n",
       "      <td>1117001501.9</td>\n",
       "      <td>6280</td>\n",
       "    </tr>\n",
       "    <tr>\n",
       "      <th>3046</th>\n",
       "      <td>OEM</td>\n",
       "      <td>Pollution Control Equipment</td>\n",
       "      <td>Mechanical seal auxiliary equipment</td>\n",
       "      <td>Eagle Industry Co., Ltd. - Hiroshima Branch Sh...</td>\n",
       "      <td>746-0024 2-20-3 Koizumi, Shunan, Yamaguchi</td>\n",
       "      <td>34.0421</td>\n",
       "      <td>131.8069</td>\n",
       "      <td>Yamaguchi</td>\n",
       "      <td>Japan</td>\n",
       "      <td>(+81) 8-3463-7648</td>\n",
       "      <td>(+81) 8-3461-1054</td>\n",
       "      <td>https://www.ekkeagle.com/jp</td>\n",
       "      <td>-</td>\n",
       "      <td>1117001501.9</td>\n",
       "      <td>6280</td>\n",
       "    </tr>\n",
       "  </tbody>\n",
       "</table>\n",
       "</div>"
      ],
      "text/plain": [
       "     Busines Model                                     Category  \\\n",
       "3042           OEM                           Electric Machinery   \n",
       "3043           OEM  Apparatus & Machinery for Chemical Industry   \n",
       "3044           OEM                                Piping System   \n",
       "3045           OEM                     Industrial Turnkey Plant   \n",
       "3046           OEM                  Pollution Control Equipment   \n",
       "\n",
       "                              Subcategory  \\\n",
       "3042                  Calibration Systems   \n",
       "3043  Mechanical seal auxiliary equipment   \n",
       "3044  Mechanical seal auxiliary equipment   \n",
       "3045  Mechanical seal auxiliary equipment   \n",
       "3046  Mechanical seal auxiliary equipment   \n",
       "\n",
       "                                           Company Name  \\\n",
       "3042  Eagle Industry Co., Ltd. - Marine Division Kur...   \n",
       "3043  Eagle Industry Co., Ltd. - Hiroshima Branch Sh...   \n",
       "3044  Eagle Industry Co., Ltd. - Hiroshima Branch Sh...   \n",
       "3045  Eagle Industry Co., Ltd. - Hiroshima Branch Sh...   \n",
       "3046  Eagle Industry Co., Ltd. - Hiroshima Branch Sh...   \n",
       "\n",
       "                                                Address  Latitude  Longitude  \\\n",
       "3042  737-0027 No. 8 1 Showa-cho, Kure City, Hiroshi...   34.2506   132.5651   \n",
       "3043         746-0024 2-20-3 Koizumi, Shunan, Yamaguchi   34.0421   131.8069   \n",
       "3044         746-0024 2-20-3 Koizumi, Shunan, Yamaguchi   34.0421   131.8069   \n",
       "3045         746-0024 2-20-3 Koizumi, Shunan, Yamaguchi   34.0421   131.8069   \n",
       "3046         746-0024 2-20-3 Koizumi, Shunan, Yamaguchi   34.0421   131.8069   \n",
       "\n",
       "          State Country        Contact No.            Fax No.  \\\n",
       "3042  Hiroshima   Japan  (+81) 8-2325-7121  (+81) 8-2325-7120   \n",
       "3043  Yamaguchi   Japan  (+81) 8-3463-7648  (+81) 8-3461-1054   \n",
       "3044  Yamaguchi   Japan  (+81) 8-3463-7648  (+81) 8-3461-1054   \n",
       "3045  Yamaguchi   Japan  (+81) 8-3463-7648  (+81) 8-3461-1054   \n",
       "3046  Yamaguchi   Japan  (+81) 8-3463-7648  (+81) 8-3461-1054   \n",
       "\n",
       "                          Website Email   Annual Sale  Employees  \n",
       "3042  https://www.ekkeagle.com/jp     -  1117001501.9       6280  \n",
       "3043  https://www.ekkeagle.com/jp     -  1117001501.9       6280  \n",
       "3044  https://www.ekkeagle.com/jp     -  1117001501.9       6280  \n",
       "3045  https://www.ekkeagle.com/jp     -  1117001501.9       6280  \n",
       "3046  https://www.ekkeagle.com/jp     -  1117001501.9       6280  "
      ]
     },
     "execution_count": 58,
     "metadata": {},
     "output_type": "execute_result"
    }
   ],
   "source": [
    "C_df.head(5)"
   ]
  },
  {
   "cell_type": "code",
   "execution_count": 59,
   "id": "99da7215-b24a-43e8-a918-dbcf5b55a31a",
   "metadata": {},
   "outputs": [],
   "source": [
    "C_df['Fax No.'] = C_df['Fax No.'].str.replace('() -', '')"
   ]
  },
  {
   "cell_type": "markdown",
   "id": "681cc0a7-55f1-4ff1-ad93-8d62f4f48951",
   "metadata": {},
   "source": [
    "<h4>Format Website</h4>"
   ]
  },
  {
   "cell_type": "code",
   "execution_count": 60,
   "id": "c0ee11b5-25ba-4b51-ad1b-e6c53ddf2f47",
   "metadata": {},
   "outputs": [],
   "source": [
    "C_df['Website'] = C_df['Website'].str.replace('https://', '')\n",
    "C_df['Website'] = C_df['Website'].str.replace('http://', '')"
   ]
  },
  {
   "cell_type": "code",
   "execution_count": 61,
   "id": "0e3ace19-e3a5-4e1f-a30d-c022c1cccd4d",
   "metadata": {},
   "outputs": [
    {
     "data": {
      "text/html": [
       "<div>\n",
       "<style scoped>\n",
       "    .dataframe tbody tr th:only-of-type {\n",
       "        vertical-align: middle;\n",
       "    }\n",
       "\n",
       "    .dataframe tbody tr th {\n",
       "        vertical-align: top;\n",
       "    }\n",
       "\n",
       "    .dataframe thead th {\n",
       "        text-align: right;\n",
       "    }\n",
       "</style>\n",
       "<table border=\"1\" class=\"dataframe\">\n",
       "  <thead>\n",
       "    <tr style=\"text-align: right;\">\n",
       "      <th></th>\n",
       "      <th>Busines Model</th>\n",
       "      <th>Category</th>\n",
       "      <th>Subcategory</th>\n",
       "      <th>Company Name</th>\n",
       "      <th>Address</th>\n",
       "      <th>Latitude</th>\n",
       "      <th>Longitude</th>\n",
       "      <th>State</th>\n",
       "      <th>Country</th>\n",
       "      <th>Contact No.</th>\n",
       "      <th>Fax No.</th>\n",
       "      <th>Website</th>\n",
       "      <th>Email</th>\n",
       "      <th>Annual Sale</th>\n",
       "      <th>Employees</th>\n",
       "    </tr>\n",
       "  </thead>\n",
       "  <tbody>\n",
       "    <tr>\n",
       "      <th>3145</th>\n",
       "      <td>OEM</td>\n",
       "      <td>Machinery for Rubber Industry</td>\n",
       "      <td>Extrusion Molding Machines</td>\n",
       "      <td>Shibaura Machine Co., Ltd. - Chubu branch</td>\n",
       "      <td>465-0025 5-307 Kamisha, Meito-ku, Nagoya</td>\n",
       "      <td>35.1833</td>\n",
       "      <td>136.9000</td>\n",
       "      <td>Aichi</td>\n",
       "      <td>Japan</td>\n",
       "      <td>(+81) 5-2702-7811</td>\n",
       "      <td>(+81) 5-2702-1141</td>\n",
       "      <td>www.shibaura-machine.co.jp/</td>\n",
       "      <td>-</td>\n",
       "      <td>1074278578.35</td>\n",
       "      <td>3507</td>\n",
       "    </tr>\n",
       "    <tr>\n",
       "      <th>3689</th>\n",
       "      <td>OEM</td>\n",
       "      <td>Food Machinery</td>\n",
       "      <td>Food Processing Systems</td>\n",
       "      <td>Shibuya Corp</td>\n",
       "      <td>58, Omameda Honmachi, Kanazawa City, Ishikawa ...</td>\n",
       "      <td>36.5688</td>\n",
       "      <td>136.6558</td>\n",
       "      <td>Ishikawa</td>\n",
       "      <td>Japan</td>\n",
       "      <td>(+81) 7-6262-1201</td>\n",
       "      <td>(+81) 7-6223-1914</td>\n",
       "      <td>www.shibuya.co.jp/</td>\n",
       "      <td>-</td>\n",
       "      <td>766418271.3</td>\n",
       "      <td>3248</td>\n",
       "    </tr>\n",
       "    <tr>\n",
       "      <th>3345</th>\n",
       "      <td>OEM</td>\n",
       "      <td>Semiconductor Machinery</td>\n",
       "      <td>SMT pick and place machines</td>\n",
       "      <td>Fuji Machine Mfg - Toyota Plant</td>\n",
       "      <td>483 Tojiri, Hasama-cho, Toyota, Aichi 470-0452...</td>\n",
       "      <td>35.2080</td>\n",
       "      <td>137.2683</td>\n",
       "      <td>Aichi</td>\n",
       "      <td>Japan</td>\n",
       "      <td>(+81) 5-6576-221</td>\n",
       "      <td>(+81) 5-6576-541</td>\n",
       "      <td>www.fuji.co.jp/</td>\n",
       "      <td>-</td>\n",
       "      <td>843601877.55</td>\n",
       "      <td>2911</td>\n",
       "    </tr>\n",
       "    <tr>\n",
       "      <th>3717</th>\n",
       "      <td>OEM</td>\n",
       "      <td>Automatic Machinery &amp; Equipment</td>\n",
       "      <td>Regenerative medicine systems</td>\n",
       "      <td>Shibuya Corp - Mechatronics Headquarters</td>\n",
       "      <td>2-232 Wakamiya, Kanazawa City, Ishikawa Prefec...</td>\n",
       "      <td>36.5744</td>\n",
       "      <td>136.6301</td>\n",
       "      <td>Ishikawa</td>\n",
       "      <td>Japan</td>\n",
       "      <td>(+81) 7-6262-2202</td>\n",
       "      <td>(+81) 7-6233-4011</td>\n",
       "      <td>www.shibuya.co.jp/</td>\n",
       "      <td>-</td>\n",
       "      <td>766418271.3</td>\n",
       "      <td>3248</td>\n",
       "    </tr>\n",
       "    <tr>\n",
       "      <th>3805</th>\n",
       "      <td>OEM</td>\n",
       "      <td>Automatic Machinery &amp; Equipment</td>\n",
       "      <td>FA Systems</td>\n",
       "      <td>Sinfonia Technology Co., Ltd. - Hiroshima Office</td>\n",
       "      <td>730-0032 IG Ishida Gakuen Building, 2-25 Tatec...</td>\n",
       "      <td>34.3950</td>\n",
       "      <td>132.4608</td>\n",
       "      <td>Hiroshima</td>\n",
       "      <td>Japan</td>\n",
       "      <td>(+81) 8-2218-0211</td>\n",
       "      <td>(+81) 8-2218-0212</td>\n",
       "      <td>www.sinfo-t.jp/company/business-base/</td>\n",
       "      <td>-</td>\n",
       "      <td>681586018.65</td>\n",
       "      <td>3683</td>\n",
       "    </tr>\n",
       "  </tbody>\n",
       "</table>\n",
       "</div>"
      ],
      "text/plain": [
       "     Busines Model                         Category  \\\n",
       "3145           OEM    Machinery for Rubber Industry   \n",
       "3689           OEM                   Food Machinery   \n",
       "3345           OEM          Semiconductor Machinery   \n",
       "3717           OEM  Automatic Machinery & Equipment   \n",
       "3805           OEM  Automatic Machinery & Equipment   \n",
       "\n",
       "                        Subcategory  \\\n",
       "3145     Extrusion Molding Machines   \n",
       "3689        Food Processing Systems   \n",
       "3345    SMT pick and place machines   \n",
       "3717  Regenerative medicine systems   \n",
       "3805                     FA Systems   \n",
       "\n",
       "                                          Company Name  \\\n",
       "3145         Shibaura Machine Co., Ltd. - Chubu branch   \n",
       "3689                                      Shibuya Corp   \n",
       "3345                   Fuji Machine Mfg - Toyota Plant   \n",
       "3717          Shibuya Corp - Mechatronics Headquarters   \n",
       "3805  Sinfonia Technology Co., Ltd. - Hiroshima Office   \n",
       "\n",
       "                                                Address  Latitude  Longitude  \\\n",
       "3145           465-0025 5-307 Kamisha, Meito-ku, Nagoya   35.1833   136.9000   \n",
       "3689  58, Omameda Honmachi, Kanazawa City, Ishikawa ...   36.5688   136.6558   \n",
       "3345  483 Tojiri, Hasama-cho, Toyota, Aichi 470-0452...   35.2080   137.2683   \n",
       "3717  2-232 Wakamiya, Kanazawa City, Ishikawa Prefec...   36.5744   136.6301   \n",
       "3805  730-0032 IG Ishida Gakuen Building, 2-25 Tatec...   34.3950   132.4608   \n",
       "\n",
       "          State Country        Contact No.            Fax No.  \\\n",
       "3145     Aichi    Japan  (+81) 5-2702-7811  (+81) 5-2702-1141   \n",
       "3689  Ishikawa    Japan  (+81) 7-6262-1201  (+81) 7-6223-1914   \n",
       "3345      Aichi   Japan   (+81) 5-6576-221   (+81) 5-6576-541   \n",
       "3717  Ishikawa    Japan  (+81) 7-6262-2202  (+81) 7-6233-4011   \n",
       "3805  Hiroshima   Japan  (+81) 8-2218-0211  (+81) 8-2218-0212   \n",
       "\n",
       "                                    Website Email    Annual Sale  Employees  \n",
       "3145            www.shibaura-machine.co.jp/     -  1074278578.35       3507  \n",
       "3689                     www.shibuya.co.jp/     -    766418271.3       3248  \n",
       "3345                        www.fuji.co.jp/     -   843601877.55       2911  \n",
       "3717                     www.shibuya.co.jp/     -    766418271.3       3248  \n",
       "3805  www.sinfo-t.jp/company/business-base/     -   681586018.65       3683  "
      ]
     },
     "execution_count": 61,
     "metadata": {},
     "output_type": "execute_result"
    }
   ],
   "source": [
    "C_df.sample(5)"
   ]
  },
  {
   "cell_type": "markdown",
   "id": "212b8d33-d849-49e8-8c4c-084185db0a17",
   "metadata": {},
   "source": [
    "<h4>Finalize DType</h4>"
   ]
  },
  {
   "cell_type": "code",
   "execution_count": 62,
   "id": "88707862-604f-4c7b-ae05-ee81df1d88ef",
   "metadata": {},
   "outputs": [
    {
     "name": "stdout",
     "output_type": "stream",
     "text": [
      "<class 'pandas.core.frame.DataFrame'>\n",
      "RangeIndex: 838 entries, 3042 to 3879\n",
      "Data columns (total 15 columns):\n",
      " #   Column         Non-Null Count  Dtype  \n",
      "---  ------         --------------  -----  \n",
      " 0   Busines Model  838 non-null    object \n",
      " 1   Category       838 non-null    object \n",
      " 2   Subcategory    838 non-null    object \n",
      " 3   Company Name   838 non-null    object \n",
      " 4   Address        838 non-null    object \n",
      " 5   Latitude       838 non-null    float64\n",
      " 6   Longitude      838 non-null    float64\n",
      " 7   State          838 non-null    object \n",
      " 8   Country        838 non-null    object \n",
      " 9   Contact No.    838 non-null    object \n",
      " 10  Fax No.        838 non-null    object \n",
      " 11  Website        838 non-null    object \n",
      " 12  Email          838 non-null    object \n",
      " 13  Annual Sale    838 non-null    Float64\n",
      " 14  Employees      838 non-null    Int64  \n",
      "dtypes: Float64(1), Int64(1), float64(2), object(11)\n",
      "memory usage: 100.0+ KB\n"
     ]
    }
   ],
   "source": [
    "C_df.info()"
   ]
  },
  {
   "cell_type": "code",
   "execution_count": 63,
   "id": "35be9fea-3b2c-43c2-85c0-bcfea81b1160",
   "metadata": {},
   "outputs": [
    {
     "data": {
      "text/plain": [
       "Busines Model    False\n",
       "Category         False\n",
       "Subcategory      False\n",
       "Company Name     False\n",
       "Address          False\n",
       "Latitude         False\n",
       "Longitude        False\n",
       "State            False\n",
       "Country          False\n",
       "Contact No.      False\n",
       "Fax No.          False\n",
       "Website          False\n",
       "Email            False\n",
       "Annual Sale      False\n",
       "Employees        False\n",
       "dtype: bool"
      ]
     },
     "execution_count": 63,
     "metadata": {},
     "output_type": "execute_result"
    }
   ],
   "source": [
    "C_df.isnull().any()"
   ]
  },
  {
   "cell_type": "code",
   "execution_count": 64,
   "id": "7d303b57-1c94-4d63-8773-162ddb0c521b",
   "metadata": {},
   "outputs": [
    {
     "data": {
      "text/html": [
       "<div>\n",
       "<style scoped>\n",
       "    .dataframe tbody tr th:only-of-type {\n",
       "        vertical-align: middle;\n",
       "    }\n",
       "\n",
       "    .dataframe tbody tr th {\n",
       "        vertical-align: top;\n",
       "    }\n",
       "\n",
       "    .dataframe thead th {\n",
       "        text-align: right;\n",
       "    }\n",
       "</style>\n",
       "<table border=\"1\" class=\"dataframe\">\n",
       "  <thead>\n",
       "    <tr style=\"text-align: right;\">\n",
       "      <th></th>\n",
       "      <th>Busines Model</th>\n",
       "      <th>Category</th>\n",
       "      <th>Subcategory</th>\n",
       "      <th>Company Name</th>\n",
       "      <th>Address</th>\n",
       "      <th>Latitude</th>\n",
       "      <th>Longitude</th>\n",
       "      <th>State</th>\n",
       "      <th>Country</th>\n",
       "      <th>Contact No.</th>\n",
       "      <th>Fax No.</th>\n",
       "      <th>Website</th>\n",
       "      <th>Email</th>\n",
       "      <th>Annual Sale</th>\n",
       "      <th>Employees</th>\n",
       "    </tr>\n",
       "  </thead>\n",
       "  <tbody>\n",
       "    <tr>\n",
       "      <th>3877</th>\n",
       "      <td>OEM</td>\n",
       "      <td>Industrial Machinery</td>\n",
       "      <td>Industrial Machinery</td>\n",
       "      <td>Seika Corp. - Fukuoka Branch Office</td>\n",
       "      <td>810-0004 Fukuoka City Chuo Ward Watanabedori 2...</td>\n",
       "      <td>33.5828</td>\n",
       "      <td>130.4052</td>\n",
       "      <td>Fukuoka</td>\n",
       "      <td>Japan</td>\n",
       "      <td>(+81) 9-2731-0471</td>\n",
       "      <td>(+81) 9-2731-0955</td>\n",
       "      <td>www.seika.com/</td>\n",
       "      <td>-</td>\n",
       "      <td>576204668.25</td>\n",
       "      <td>1040</td>\n",
       "    </tr>\n",
       "    <tr>\n",
       "      <th>3878</th>\n",
       "      <td>OEM</td>\n",
       "      <td>Industrial Machinery</td>\n",
       "      <td>Industrial Machinery</td>\n",
       "      <td>Seika Corp. - Kitakyushu Branch Office</td>\n",
       "      <td>802-0001 KMM Building 2-14-1 Asano, Kokurakita...</td>\n",
       "      <td>33.8887</td>\n",
       "      <td>130.8835</td>\n",
       "      <td>Fukuoka</td>\n",
       "      <td>Japan</td>\n",
       "      <td>(+81) 9-3541-1127</td>\n",
       "      <td>(+81) 9-3541-1277</td>\n",
       "      <td>www.seika.com/</td>\n",
       "      <td>-</td>\n",
       "      <td>576204668.25</td>\n",
       "      <td>1040</td>\n",
       "    </tr>\n",
       "    <tr>\n",
       "      <th>3879</th>\n",
       "      <td>OEM</td>\n",
       "      <td>Industrial Machinery</td>\n",
       "      <td>Industrial Machinery</td>\n",
       "      <td>Seika Corp. - Oita Branch Office</td>\n",
       "      <td>9th floor, Nissei Oita Ekimae Building, 1-1-18...</td>\n",
       "      <td>33.2347</td>\n",
       "      <td>131.6061</td>\n",
       "      <td>Oita</td>\n",
       "      <td>Japan</td>\n",
       "      <td>(+81) 9-7534-1798</td>\n",
       "      <td>(+81) 9-7533-7494</td>\n",
       "      <td>www.seika.com/</td>\n",
       "      <td>-</td>\n",
       "      <td>576204668.25</td>\n",
       "      <td>1040</td>\n",
       "    </tr>\n",
       "  </tbody>\n",
       "</table>\n",
       "</div>"
      ],
      "text/plain": [
       "     Busines Model              Category           Subcategory  \\\n",
       "3877           OEM  Industrial Machinery  Industrial Machinery   \n",
       "3878           OEM  Industrial Machinery  Industrial Machinery   \n",
       "3879           OEM  Industrial Machinery  Industrial Machinery   \n",
       "\n",
       "                                Company Name  \\\n",
       "3877     Seika Corp. - Fukuoka Branch Office   \n",
       "3878  Seika Corp. - Kitakyushu Branch Office   \n",
       "3879        Seika Corp. - Oita Branch Office   \n",
       "\n",
       "                                                Address  Latitude  Longitude  \\\n",
       "3877  810-0004 Fukuoka City Chuo Ward Watanabedori 2...   33.5828   130.4052   \n",
       "3878  802-0001 KMM Building 2-14-1 Asano, Kokurakita...   33.8887   130.8835   \n",
       "3879  9th floor, Nissei Oita Ekimae Building, 1-1-18...   33.2347   131.6061   \n",
       "\n",
       "         State Country        Contact No.            Fax No.         Website  \\\n",
       "3877  Fukuoka    Japan  (+81) 9-2731-0471  (+81) 9-2731-0955  www.seika.com/   \n",
       "3878  Fukuoka    Japan  (+81) 9-3541-1127  (+81) 9-3541-1277  www.seika.com/   \n",
       "3879     Oita    Japan  (+81) 9-7534-1798  (+81) 9-7533-7494  www.seika.com/   \n",
       "\n",
       "     Email   Annual Sale  Employees  \n",
       "3877     -  576204668.25       1040  \n",
       "3878     -  576204668.25       1040  \n",
       "3879     -  576204668.25       1040  "
      ]
     },
     "execution_count": 64,
     "metadata": {},
     "output_type": "execute_result"
    }
   ],
   "source": [
    "C_df.tail(3)"
   ]
  },
  {
   "cell_type": "markdown",
   "id": "352b61c0-adbe-462a-ba7d-878ebff9daca",
   "metadata": {},
   "source": [
    "<h3>🎏 Remove Duplicate Records</h3>"
   ]
  },
  {
   "cell_type": "markdown",
   "id": "cef03d1b-f604-400d-a40e-ee5684e7e55f",
   "metadata": {},
   "source": [
    "<h4>Check Current Shape of Dataframe</h4>"
   ]
  },
  {
   "cell_type": "code",
   "execution_count": 65,
   "id": "964198a5-c843-403d-9e45-63dc6302cd7c",
   "metadata": {},
   "outputs": [
    {
     "data": {
      "text/plain": [
       "(838, 15)"
      ]
     },
     "execution_count": 65,
     "metadata": {},
     "output_type": "execute_result"
    }
   ],
   "source": [
    "C_df.shape"
   ]
  },
  {
   "cell_type": "markdown",
   "id": "0130be5d-dc1b-489f-a2b5-e05ebd7c54d9",
   "metadata": {},
   "source": [
    "<h4>Count Duplicate Rows for Validation</h4>"
   ]
  },
  {
   "cell_type": "code",
   "execution_count": 66,
   "id": "a9393560-d5be-4de9-8f7c-a57d0ed2b9f9",
   "metadata": {},
   "outputs": [
    {
     "data": {
      "text/plain": [
       "12"
      ]
     },
     "execution_count": 66,
     "metadata": {},
     "output_type": "execute_result"
    }
   ],
   "source": [
    "duplicate_rows = C_df[C_df.duplicated()]\n",
    "duplicate_rows.shape[0]"
   ]
  },
  {
   "cell_type": "code",
   "execution_count": 67,
   "id": "3e4c7ad4-f98e-4d8f-91c7-77e7e55f46ae",
   "metadata": {},
   "outputs": [],
   "source": [
    "C_df = C_df.drop_duplicates(keep = 'first')"
   ]
  },
  {
   "cell_type": "markdown",
   "id": "1f621a86-c25e-4083-8031-ae08c144f950",
   "metadata": {},
   "source": [
    "<h4>Check New Shape of Dataframe</h4>"
   ]
  },
  {
   "cell_type": "code",
   "execution_count": 68,
   "id": "8820317d-819a-46c5-a125-ed45edab2539",
   "metadata": {},
   "outputs": [
    {
     "data": {
      "text/plain": [
       "(826, 15)"
      ]
     },
     "execution_count": 68,
     "metadata": {},
     "output_type": "execute_result"
    }
   ],
   "source": [
    "C_df.shape"
   ]
  },
  {
   "cell_type": "markdown",
   "id": "b43913d4-e329-4203-a0fd-b240451d8f8b",
   "metadata": {},
   "source": [
    "<h3>🌐 Validate Geolocation Data</h3>"
   ]
  },
  {
   "cell_type": "markdown",
   "id": "fcea42f9-77b9-47dc-a61d-e2a8f2de0388",
   "metadata": {},
   "source": [
    "<h4>Get Country Borders</h4>"
   ]
  },
  {
   "cell_type": "code",
   "execution_count": null,
   "id": "785a878b-762f-4d79-983c-e6ea289eec28",
   "metadata": {},
   "outputs": [],
   "source": [
    "geo_df = gpd.read_file(\"https://d2ad6b4ur7yvpq.cloudfront.net/naturalearth-3.3.0/ne_50m_admin_0_countries.geojson\")"
   ]
  },
  {
   "cell_type": "code",
   "execution_count": null,
   "id": "424c078b-23dc-48b6-912d-ea2b2a625150",
   "metadata": {},
   "outputs": [],
   "source": [
    "country = geo_df[geo_df['name'] == 'Japan']"
   ]
  },
  {
   "cell_type": "markdown",
   "id": "e004b2c1-5802-483c-bb84-cb73f1207f63",
   "metadata": {},
   "source": [
    "<h4>Convert To GeoDataFrame</h4>"
   ]
  },
  {
   "cell_type": "code",
   "execution_count": null,
   "id": "b2a3160a-4869-4439-8433-33a6dd08bbba",
   "metadata": {},
   "outputs": [],
   "source": [
    "C_df_copy = C_df"
   ]
  },
  {
   "cell_type": "code",
   "execution_count": null,
   "id": "e8260795-70da-4272-adca-c4018e8962fa",
   "metadata": {},
   "outputs": [],
   "source": [
    "geo_df = gpd.GeoDataFrame(C_df_copy, geometry = gpd.points_from_xy(\n",
    "    C_df_copy['Longitude'], C_df_copy['Latitude']), crs=\"EPSG:4326\")"
   ]
  },
  {
   "cell_type": "markdown",
   "id": "0c535c85-712c-4477-ae2d-54a975da7ba7",
   "metadata": {},
   "source": [
    "<h4>Check Coordinates</h4>"
   ]
  },
  {
   "cell_type": "code",
   "execution_count": null,
   "id": "fc8a5ec3-ece5-4580-8030-3ca479bf1b4c",
   "metadata": {},
   "outputs": [],
   "source": [
    "points_within = gpd.sjoin(geo_df, country, how='inner', predicate='within')"
   ]
  },
  {
   "cell_type": "code",
   "execution_count": null,
   "id": "59ec4c7e-319b-4a21-91f1-43586a2e369c",
   "metadata": {},
   "outputs": [],
   "source": [
    "points_outside = geo_df[~geo_df.index.isin(points_within.index)]"
   ]
  },
  {
   "cell_type": "code",
   "execution_count": null,
   "id": "7732c92a-dd53-4f45-91df-9342b417b4ab",
   "metadata": {
    "scrolled": true
   },
   "outputs": [],
   "source": [
    "print(\"Points inside the country:\\n\")\n",
    "points_within"
   ]
  },
  {
   "cell_type": "code",
   "execution_count": null,
   "id": "348d209d-3ed5-4fd6-a114-38b58a57777d",
   "metadata": {
    "scrolled": true
   },
   "outputs": [],
   "source": [
    "print(\"Coordinates outside the country:\")\n",
    "points_outside"
   ]
  },
  {
   "cell_type": "code",
   "execution_count": null,
   "id": "87a7e313-a552-4e33-bd51-bfa4190201a7",
   "metadata": {},
   "outputs": [],
   "source": [
    "points_within.shape[0]"
   ]
  },
  {
   "cell_type": "code",
   "execution_count": null,
   "id": "3450d41f-0439-4885-9c3a-f90c65a573e3",
   "metadata": {},
   "outputs": [],
   "source": [
    "points_outside.shape[0]"
   ]
  },
  {
   "cell_type": "code",
   "execution_count": null,
   "id": "d3089a8e-c4c6-4cc0-83b8-6cb92e988ae1",
   "metadata": {},
   "outputs": [],
   "source": [
    "C_df.shape[0]"
   ]
  },
  {
   "cell_type": "markdown",
   "id": "c4d2426c-7dab-4ccb-bc91-d447c6a63df0",
   "metadata": {},
   "source": [
    "<h4>Visualization</h4>"
   ]
  },
  {
   "cell_type": "code",
   "execution_count": null,
   "id": "d3f5d460-6806-4c91-b74a-74ddde5a24c3",
   "metadata": {},
   "outputs": [],
   "source": [
    "fig, ax = plt.subplots(figsize=(12, 12))\n",
    "country.plot(ax=ax, color='lightgrey', edgecolor='grey')\n",
    "points_within.plot(ax=ax, color='#67c8fc', markersize=30, label='Inside')\n",
    "geo_df[~geo_df.index.isin(points_within.index)].plot(ax=ax, color='#fc8a67', markersize=60, label='Outside')\n",
    "\n",
    "plt.title(\"Coordinates in Country Borders\")\n",
    "plt.legend()\n",
    "plt.show()"
   ]
  },
  {
   "cell_type": "markdown",
   "id": "f31b9e0b-9d56-4a98-be40-e9a4983bd5c5",
   "metadata": {},
   "source": [
    "<h4>Inspect Rows with Outside Coordinates</h4>"
   ]
  },
  {
   "cell_type": "code",
   "execution_count": null,
   "id": "c40870e2-63a6-4235-b5e3-25fa04233e00",
   "metadata": {},
   "outputs": [],
   "source": [
    "points_outside[['Company Name', 'Latitude', 'Longitude']].drop_duplicates()"
   ]
  },
  {
   "cell_type": "code",
   "execution_count": null,
   "id": "662a735a-207d-42c0-8ae1-88e5a0451957",
   "metadata": {},
   "outputs": [],
   "source": [
    "country_projected = country.to_crs(\"EPSG:3857\")\n",
    "centroid = country_projected.geometry.centroid.to_crs(\"EPSG:4326\")\n",
    "center_lat, center_lon = centroid.y.mean(), centroid.x.mean()"
   ]
  },
  {
   "cell_type": "code",
   "execution_count": null,
   "id": "772ba3e7-49fd-4350-8287-785324d71ab1",
   "metadata": {},
   "outputs": [],
   "source": [
    "m = folium.Map(location=[center_lat, center_lon], zoom_start=5)\n",
    "\n",
    "folium.GeoJson(country).add_to(m)\n",
    "\n",
    "for idx, row in points_outside.iterrows():\n",
    "    color = 'lightblue' if idx in points_within.index else 'lightred'\n",
    "    folium.Marker(\n",
    "        location=[row['Latitude'], row['Longitude']],\n",
    "        popup=row['Company Name'],\n",
    "        icon=folium.Icon(color=color)\n",
    "    ).add_to(m)\n",
    "\n",
    "m.save('map.html')"
   ]
  },
  {
   "cell_type": "code",
   "execution_count": null,
   "id": "4bad5cab-0a0c-43e3-baca-233e73d358ad",
   "metadata": {},
   "outputs": [],
   "source": [
    "webbrowser.open('map.html',new = 2)"
   ]
  },
  {
   "cell_type": "markdown",
   "id": "c71852bd-33b9-4d79-9b37-0191cb64c06e",
   "metadata": {},
   "source": [
    "<h4>Correct Latitude and Longitude</h4>"
   ]
  },
  {
   "cell_type": "markdown",
   "id": "34143fda-96b6-4441-972d-d205892e3ac3",
   "metadata": {},
   "source": [
    "<b>Before correcting the coordinates, check the `map.html` file to confirm. Sometimes, the Python calculations are not accurate.</b>"
   ]
  },
  {
   "cell_type": "code",
   "execution_count": null,
   "id": "553b9b6d-dca6-40f2-9acd-b8021c7629aa",
   "metadata": {},
   "outputs": [],
   "source": [
    "# Sinfonia Technology Co., Ltd. - Shimonoseki Office\n",
    "C_df.loc[C_df['Company Name'] == 'Sinfonia Technology Co., Ltd. - Shimonoseki Office', \n",
    "    ['Latitude', 'Longitude']] = [34.0067, 130.9972]\n",
    "\n",
    "# Sinfonia Technology Co., Ltd. - Hokuriku Office\n",
    "C_df.loc[C_df['Company Name'] == 'Sinfonia Technology Co., Ltd. - Hokuriku Office', \n",
    "    ['Latitude', 'Longitude']] = [36.6977, 137.2162]"
   ]
  },
  {
   "cell_type": "markdown",
   "id": "248288bf-6878-4157-a4c7-02ffd1562b83",
   "metadata": {},
   "source": [
    "<h4>Finalize Coordinates</h4>"
   ]
  },
  {
   "cell_type": "code",
   "execution_count": null,
   "id": "4aede287-d463-45ca-ad32-f9d0029fe50c",
   "metadata": {},
   "outputs": [],
   "source": [
    "C_df_copy = C_df"
   ]
  },
  {
   "cell_type": "code",
   "execution_count": null,
   "id": "96596245-9372-460c-9236-8d4150a2431f",
   "metadata": {},
   "outputs": [],
   "source": [
    "geo_df = gpd.GeoDataFrame(C_df_copy, geometry = gpd.points_from_xy(\n",
    "    C_df_copy['Longitude'], C_df_copy['Latitude']), crs=\"EPSG:4326\")"
   ]
  },
  {
   "cell_type": "code",
   "execution_count": null,
   "id": "a5c75070-1482-412a-b3b1-531de0684314",
   "metadata": {},
   "outputs": [],
   "source": [
    "points_within = gpd.sjoin(geo_df, country, how='inner', predicate='within')\n",
    "points_outside = geo_df[~geo_df.index.isin(points_within.index)]"
   ]
  },
  {
   "cell_type": "code",
   "execution_count": null,
   "id": "800384ee-234f-449c-8102-6840abb4c4b0",
   "metadata": {},
   "outputs": [],
   "source": [
    "country_projected = country.to_crs(\"EPSG:3857\")\n",
    "centroid = country_projected.geometry.centroid.to_crs(\"EPSG:4326\")\n",
    "center_lat, center_lon = centroid.y.mean(), centroid.x.mean()"
   ]
  },
  {
   "cell_type": "code",
   "execution_count": null,
   "id": "681d255d-e550-469e-a8a9-cadf2ef443ab",
   "metadata": {},
   "outputs": [],
   "source": [
    "m = folium.Map(location=[center_lat, center_lon], zoom_start=5)\n",
    "\n",
    "folium.GeoJson(country).add_to(m)\n",
    "\n",
    "for idx, row in points_outside.iterrows():\n",
    "    color = 'lightblue' if idx in points_within.index else 'lightred'\n",
    "    folium.Marker(\n",
    "        location=[row['Latitude'], row['Longitude']],\n",
    "        popup=row['Company Name'],\n",
    "        icon=folium.Icon(color=color)\n",
    "    ).add_to(m)\n",
    "\n",
    "m.save('map_corrected.html')"
   ]
  },
  {
   "cell_type": "code",
   "execution_count": null,
   "id": "58f6c1f6-d2b6-42b9-9478-4ea600c5468d",
   "metadata": {},
   "outputs": [],
   "source": [
    "webbrowser.open('map_corrected.html',new = 2)"
   ]
  },
  {
   "cell_type": "markdown",
   "id": "dd3ffdc9-57d2-43c9-bb2b-a92e5b799bed",
   "metadata": {},
   "source": [
    "<h3>📝 Correct Incorrect Entries</h3>"
   ]
  },
  {
   "cell_type": "markdown",
   "id": "bce84e55-dc1c-4efb-b15f-cd8b28920316",
   "metadata": {},
   "source": [
    "<h4>Resolve Busines Model</h4>"
   ]
  },
  {
   "cell_type": "code",
   "execution_count": null,
   "id": "d5d5dfdd-99ba-48ad-aca5-ba7f27af28c5",
   "metadata": {},
   "outputs": [],
   "source": [
    "C_df['Busines Model'].unique()"
   ]
  },
  {
   "cell_type": "markdown",
   "id": "5296d473-0ceb-4596-8dfb-72e7902f5396",
   "metadata": {},
   "source": [
    "<h4>Resolve Category</h4>"
   ]
  },
  {
   "cell_type": "code",
   "execution_count": null,
   "id": "07f01f3c-bc2f-4861-b7cf-6b43b3c36228",
   "metadata": {},
   "outputs": [],
   "source": [
    "Categories = np.sort(C_df['Category'].unique())\n",
    "Categories"
   ]
  },
  {
   "cell_type": "code",
   "execution_count": null,
   "id": "4d43e1ac-eb26-4c3f-8ab1-020023b96def",
   "metadata": {},
   "outputs": [],
   "source": [
    "C_df.loc[C_df['Category'] == 'Chemical', 'Category'] = 'Apparatus & Machinery for Chemical Industry'\n",
    "C_df['Category'] = C_df['Category'].str.replace('Industrial Turnkey Plant ','Industrial Turnkey Plant')\n",
    "C_df.loc[C_df['Category'] == 'Semiconductor', 'Category'] = 'Semiconductor Machinery'\n",
    "C_df.loc[C_df['Category'] == 'Electronic', 'Category'] = 'Electric Machinery'\n",
    "C_df.loc[C_df['Category'] == 'Energy', 'Category'] = 'Electric Machinery'\n",
    "C_df.loc[C_df['Category'] == 'Food', 'Category'] = 'Food Machinery'\n",
    "C_df['Category'] = C_df['Category'].str.replace('\\n','')\n",
    "C_df.loc[C_df['Category'] == 'Precision Machinery', 'Category'] = 'Precision Machinery, Inspecting & Testing Equipment'"
   ]
  },
  {
   "cell_type": "code",
   "execution_count": null,
   "id": "9f58edb4-2d62-4dce-90e9-6a50e59807bb",
   "metadata": {},
   "outputs": [],
   "source": [
    "Categories = np.sort(C_df['Category'].unique())\n",
    "\n",
    "for i in Categories:\n",
    "    print(i)"
   ]
  },
  {
   "cell_type": "markdown",
   "id": "3f76dea5-5f29-42b8-9657-218b5f648bb2",
   "metadata": {},
   "source": [
    "<h4>Resolve Subcategory</h4>"
   ]
  },
  {
   "cell_type": "code",
   "execution_count": null,
   "id": "947e6ba3-d9bb-4c24-bc17-8151b2127a20",
   "metadata": {},
   "outputs": [],
   "source": [
    "C_df['Subcategory'] = C_df['Subcategory'].str.title()"
   ]
  },
  {
   "cell_type": "code",
   "execution_count": null,
   "id": "1576c0de-5383-4170-9d29-9ae1f6ab636e",
   "metadata": {},
   "outputs": [],
   "source": [
    "C_df['Subcategory'] = C_df['Subcategory'].str.replace(', And',' And')"
   ]
  },
  {
   "cell_type": "code",
   "execution_count": null,
   "id": "17485275-32e3-4b3a-813f-64601265216d",
   "metadata": {
    "scrolled": true
   },
   "outputs": [],
   "source": [
    "Subcategories = np.sort(C_df['Subcategory'].unique())\n",
    "\n",
    "for i in Subcategories:\n",
    "    print(i)"
   ]
  },
  {
   "cell_type": "code",
   "execution_count": null,
   "id": "92b9262f-28df-4363-8637-a7e2c3c05403",
   "metadata": {},
   "outputs": [],
   "source": [
    "C_df.loc[C_df['Subcategory'] == 'Bending Roll', 'Subcategory'] = 'Bending Rolls'\n",
    "C_df.loc[C_df['Subcategory'] == 'Dredge Pump', 'Subcategory'] = 'Dredge Pumps'\n",
    "C_df.loc[C_df['Subcategory'] == 'Power Electonics', 'Subcategory'] = 'Power Electronics'\n",
    "C_df.loc[C_df['Subcategory'] == 'Product Design, Proof Of Concept (Poc)', 'Subcategory'] = 'Product Design'\n",
    "C_df.loc[C_df['Subcategory'] == 'Semiconductor ', 'Subcategory'] = 'Semiconductor'\n",
    "C_df.loc[C_df['Subcategory'] == 'Semiconductors', 'Subcategory'] = 'Semiconductor'\n",
    "C_df.loc[C_df['Subcategory'] == 'Wastewaster Treatment Solution ', 'Subcategory'] = 'Wastewater Treatment Systems'"
   ]
  },
  {
   "cell_type": "code",
   "execution_count": null,
   "id": "34630918-9744-4b35-98ac-91c3f72255cb",
   "metadata": {},
   "outputs": [],
   "source": [
    "C_df['Subcategory'] = C_df['Subcategory'].str.replace('Cnc','CNC')\n",
    "C_df['Subcategory'] = C_df['Subcategory'].str.replace('Co2','CO2')\n",
    "C_df['Subcategory'] = C_df['Subcategory'].str.replace('Hvac','HVAC')\n",
    "C_df['Subcategory'] = C_df['Subcategory'].str.replace('Frp','FRP')\n",
    "C_df['Subcategory'] = C_df['Subcategory'].str.replace('Smt','SMT')"
   ]
  },
  {
   "cell_type": "code",
   "execution_count": null,
   "id": "47b3358f-1966-44db-8a17-1aad1918e017",
   "metadata": {},
   "outputs": [],
   "source": [
    "Subcategories = np.sort(C_df['Subcategory'].unique())\n",
    "\n",
    "for i in Subcategories:\n",
    "    print(i)"
   ]
  },
  {
   "cell_type": "markdown",
   "id": "2806aae4-1c73-43e1-a60e-fecd4e7709d6",
   "metadata": {},
   "source": [
    "<h4>Resolve State</h4>"
   ]
  },
  {
   "cell_type": "code",
   "execution_count": null,
   "id": "8d707978-54fe-4efe-a877-5115bd521ca2",
   "metadata": {},
   "outputs": [],
   "source": [
    "C_df['State'].unique()"
   ]
  },
  {
   "cell_type": "code",
   "execution_count": null,
   "id": "0145086b-2f7e-4277-9bb6-c59baf37fabb",
   "metadata": {},
   "outputs": [],
   "source": [
    "C_df['State'] = C_df['State'].str.replace(' ', '', regex=True)"
   ]
  },
  {
   "cell_type": "code",
   "execution_count": null,
   "id": "f6bd88f0-ba16-40a2-b82e-0a863973eac2",
   "metadata": {},
   "outputs": [],
   "source": [
    "C_df['State'].unique()"
   ]
  },
  {
   "cell_type": "markdown",
   "id": "f675fcb1-2421-4f67-b1c8-51f10f62c0f9",
   "metadata": {},
   "source": [
    "<h4>Resolve Country</h4>"
   ]
  },
  {
   "cell_type": "code",
   "execution_count": null,
   "id": "8c219009-c19c-4214-828f-6bb85adee189",
   "metadata": {},
   "outputs": [],
   "source": [
    "C_df['Country'].unique()"
   ]
  },
  {
   "cell_type": "markdown",
   "id": "00f8a3cd-f580-443c-815e-e830efb4703a",
   "metadata": {},
   "source": [
    "<h3>📈 Detect and Treat Outliers</h3>"
   ]
  },
  {
   "cell_type": "code",
   "execution_count": null,
   "id": "14a95183-f66d-417e-92cd-b81694702f37",
   "metadata": {},
   "outputs": [],
   "source": [
    "plt.style.use('fivethirtyeight')"
   ]
  },
  {
   "cell_type": "markdown",
   "id": "5751a598-2f89-494d-8c9d-cecf63f4430f",
   "metadata": {},
   "source": [
    "<h4>Check Latitude</h4>"
   ]
  },
  {
   "cell_type": "code",
   "execution_count": null,
   "id": "9ae49084-d7a9-4c68-9d9f-d3325ee2da4d",
   "metadata": {},
   "outputs": [],
   "source": [
    "plt.scatter(C_df['Latitude'], C_df['Latitude'], color='#fc67a5')\n",
    "plt.show()"
   ]
  },
  {
   "cell_type": "markdown",
   "id": "81aefccb-be79-4e32-9b6b-e37152ac5bf2",
   "metadata": {},
   "source": [
    "<h4>Check Longitude</h4>"
   ]
  },
  {
   "cell_type": "code",
   "execution_count": null,
   "id": "048bab99-0cc3-4a5b-b991-459469d9d9b6",
   "metadata": {},
   "outputs": [],
   "source": [
    "plt.scatter(C_df['Longitude'], C_df['Longitude'], color='#fc8a67')\n",
    "plt.show()"
   ]
  },
  {
   "cell_type": "markdown",
   "id": "4035715d-aafc-49b5-8ad0-9ebb476ced6a",
   "metadata": {},
   "source": [
    "<h4>Check Annual Sales</h4>"
   ]
  },
  {
   "cell_type": "code",
   "execution_count": null,
   "id": "0c25f6d0-4d30-49f6-bc3e-81f2cd144af5",
   "metadata": {},
   "outputs": [],
   "source": [
    "plt.scatter(C_df['Annual Sale'], C_df['Annual Sale'], color='#67fcc8')\n",
    "plt.show()"
   ]
  },
  {
   "cell_type": "markdown",
   "id": "425dee82-a53b-4411-9889-18fb01b4ad10",
   "metadata": {},
   "source": [
    "<h4>Check Employees</h4>"
   ]
  },
  {
   "cell_type": "code",
   "execution_count": null,
   "id": "18a06ecc-6e13-4db2-93b9-4a6c1c8fcbb9",
   "metadata": {},
   "outputs": [],
   "source": [
    "plt.scatter(C_df['Employees'], C_df['Employees'], color='#67c8fc')\n",
    "plt.show()"
   ]
  },
  {
   "cell_type": "markdown",
   "id": "dbcdf8af-4094-421d-a92b-aeb3f702bd7f",
   "metadata": {},
   "source": [
    "So far, there are <b>no outliers</b> in the dataset."
   ]
  },
  {
   "cell_type": "markdown",
   "id": "456adbf8-ee88-48db-9264-9ee848a234ca",
   "metadata": {},
   "source": [
    "<h2>🔎 Finalize Dataset</h2>"
   ]
  },
  {
   "cell_type": "markdown",
   "id": "48f2ac96-4f9f-4415-a58b-86f5988c72ec",
   "metadata": {},
   "source": [
    "<h3>Check Data Types</h3>"
   ]
  },
  {
   "cell_type": "code",
   "execution_count": null,
   "id": "d8064f12-3816-409c-9d70-cefbd589207d",
   "metadata": {},
   "outputs": [],
   "source": [
    "C_df.info()"
   ]
  },
  {
   "cell_type": "markdown",
   "id": "b21ae3d5-bd37-47ba-b438-1458372deefa",
   "metadata": {},
   "source": [
    "<h3>Check For Null Values</h3>"
   ]
  },
  {
   "cell_type": "code",
   "execution_count": null,
   "id": "3358bab1-6725-49ce-a3de-e692cf246089",
   "metadata": {},
   "outputs": [],
   "source": [
    "C_df.isnull().any()"
   ]
  },
  {
   "cell_type": "markdown",
   "id": "b68d5e1e-9aa7-4d48-823d-4b6a18018d5c",
   "metadata": {},
   "source": [
    "<h3>Summarize Dataset</h3>"
   ]
  },
  {
   "cell_type": "code",
   "execution_count": null,
   "id": "3f62a23c-b6fc-41c7-8282-3a9d4776254c",
   "metadata": {},
   "outputs": [],
   "source": [
    "C_df.describe()"
   ]
  },
  {
   "cell_type": "markdown",
   "id": "8680a20b-3ecf-4fee-9a77-75dbff1b10d4",
   "metadata": {},
   "source": [
    "<h3>Check Random Samples</h3>"
   ]
  },
  {
   "cell_type": "code",
   "execution_count": null,
   "id": "ba75c1be-1806-4dc0-99de-043e80c3565c",
   "metadata": {},
   "outputs": [],
   "source": [
    "C_df.sample(5)"
   ]
  },
  {
   "cell_type": "markdown",
   "id": "dfec6be9-43d8-442a-b2aa-e477a11d9887",
   "metadata": {},
   "source": [
    "<h2>📥 Download Dataset</h2>"
   ]
  },
  {
   "cell_type": "code",
   "execution_count": null,
   "id": "7c1f39d4-8dfd-4dc2-ac78-ac672c1ef2dd",
   "metadata": {},
   "outputs": [],
   "source": [
    "C_df.to_csv('datasets\\output\\Dataset_C_cleaned.csv', index=False)"
   ]
  },
  {
   "cell_type": "markdown",
   "id": "efdcc591-cbad-41c6-8b05-c594cb5b454c",
   "metadata": {},
   "source": [
    "<h2>💌 Credits ✉️</h2>"
   ]
  },
  {
   "cell_type": "markdown",
   "id": "3a8d34dc-38fc-45d0-b4f6-de0ec498a5aa",
   "metadata": {},
   "source": [
    "This project is done by <b>ERMITANO, Kate Justine</b> as a part of the internship tasks under the instructions of <b>Miss Fherlyn Charl Yet</b>."
   ]
  }
 ],
 "metadata": {
  "kernelspec": {
   "display_name": "Python 3 (ipykernel)",
   "language": "python",
   "name": "python3"
  },
  "language_info": {
   "codemirror_mode": {
    "name": "ipython",
    "version": 3
   },
   "file_extension": ".py",
   "mimetype": "text/x-python",
   "name": "python",
   "nbconvert_exporter": "python",
   "pygments_lexer": "ipython3",
   "version": "3.13.5"
  }
 },
 "nbformat": 4,
 "nbformat_minor": 5
}
