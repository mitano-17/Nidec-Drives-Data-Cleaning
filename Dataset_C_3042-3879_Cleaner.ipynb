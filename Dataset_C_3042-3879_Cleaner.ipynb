{
 "cells": [
  {
   "cell_type": "markdown",
   "id": "b79498cd-12b6-4d2b-94bd-c4e41029c65a",
   "metadata": {},
   "source": [
    "<h1>🧽 Data Cleaning - Dataset C (3042-3879) 🧽</h1>"
   ]
  },
  {
   "cell_type": "markdown",
   "id": "89925648-edf6-436f-9862-b290e465d89a",
   "metadata": {},
   "source": [
    "Perform data cleaning on a segment in Dataset C."
   ]
  },
  {
   "cell_type": "markdown",
   "id": "3454fa3c-1e3d-4da5-9878-9f6927211f14",
   "metadata": {},
   "source": [
    "<h2>🗃 Import Libraries</h2>"
   ]
  },
  {
   "cell_type": "code",
   "execution_count": 1,
   "id": "b31c7798-b73c-4301-93eb-fb537ff02313",
   "metadata": {},
   "outputs": [],
   "source": [
    "%matplotlib inline\n",
    "import pandas as pd\n",
    "import numpy as np\n",
    "import matplotlib.pyplot as plt"
   ]
  },
  {
   "cell_type": "markdown",
   "id": "fd5ba2c8-aa3d-4fdf-9a87-7fd84aabeeeb",
   "metadata": {},
   "source": [
    "<h2>📤 Upload Dataset</h2>"
   ]
  },
  {
   "cell_type": "code",
   "execution_count": 2,
   "id": "fc25ba34-0c33-425d-9939-22633a14ccc3",
   "metadata": {},
   "outputs": [],
   "source": [
    "C_Original_df = pd.read_csv(\"datasets\\input\\Dataset_C.csv\")"
   ]
  },
  {
   "cell_type": "markdown",
   "id": "86bdd2e3-4b5c-4f62-81d8-78ac10f3cca0",
   "metadata": {},
   "source": [
    "<h2>🔍 Inspect Dataset</h2>"
   ]
  },
  {
   "cell_type": "code",
   "execution_count": 3,
   "id": "6f6ed489-da0e-4204-9f84-7a43965d15a3",
   "metadata": {},
   "outputs": [
    {
     "name": "stdout",
     "output_type": "stream",
     "text": [
      "<class 'pandas.core.frame.DataFrame'>\n",
      "RangeIndex: 4421 entries, 0 to 4420\n",
      "Data columns (total 16 columns):\n",
      " #   Column         Non-Null Count  Dtype  \n",
      "---  ------         --------------  -----  \n",
      " 0   Busines Model  4292 non-null   object \n",
      " 1   Category       4287 non-null   object \n",
      " 2   Subcategory    4284 non-null   object \n",
      " 3   Company Name   4392 non-null   object \n",
      " 4   Address        4287 non-null   object \n",
      " 5   Latitude       4284 non-null   object \n",
      " 6   Longitude      4284 non-null   object \n",
      " 7   State          4265 non-null   object \n",
      " 8   Country        4342 non-null   object \n",
      " 9   Contact No.    3986 non-null   object \n",
      " 10  Fax No.        2848 non-null   object \n",
      " 11  Website        4392 non-null   object \n",
      " 12  Email          15 non-null     object \n",
      " 13  Annual Sale    4286 non-null   object \n",
      " 14  Annual Sales   0 non-null      float64\n",
      " 15  Employees      4275 non-null   object \n",
      "dtypes: float64(1), object(15)\n",
      "memory usage: 552.8+ KB\n"
     ]
    }
   ],
   "source": [
    "C_Original_df.info()"
   ]
  },
  {
   "cell_type": "code",
   "execution_count": 4,
   "id": "3fd4f44d-799d-418b-ab72-241a68937b15",
   "metadata": {},
   "outputs": [
    {
     "data": {
      "text/plain": [
       "(4421, 16)"
      ]
     },
     "execution_count": 4,
     "metadata": {},
     "output_type": "execute_result"
    }
   ],
   "source": [
    "C_Original_df.shape"
   ]
  },
  {
   "cell_type": "code",
   "execution_count": 5,
   "id": "367ae3d5-2875-4f30-a8f4-0f64cbf23fde",
   "metadata": {},
   "outputs": [
    {
     "data": {
      "text/html": [
       "<div>\n",
       "<style scoped>\n",
       "    .dataframe tbody tr th:only-of-type {\n",
       "        vertical-align: middle;\n",
       "    }\n",
       "\n",
       "    .dataframe tbody tr th {\n",
       "        vertical-align: top;\n",
       "    }\n",
       "\n",
       "    .dataframe thead th {\n",
       "        text-align: right;\n",
       "    }\n",
       "</style>\n",
       "<table border=\"1\" class=\"dataframe\">\n",
       "  <thead>\n",
       "    <tr style=\"text-align: right;\">\n",
       "      <th></th>\n",
       "      <th>Busines Model</th>\n",
       "      <th>Category</th>\n",
       "      <th>Subcategory</th>\n",
       "      <th>Company Name</th>\n",
       "      <th>Address</th>\n",
       "      <th>Latitude</th>\n",
       "      <th>Longitude</th>\n",
       "      <th>State</th>\n",
       "      <th>Country</th>\n",
       "      <th>Contact No.</th>\n",
       "      <th>Fax No.</th>\n",
       "      <th>Website</th>\n",
       "      <th>Email</th>\n",
       "      <th>Annual Sale</th>\n",
       "      <th>Annual Sales</th>\n",
       "      <th>Employees</th>\n",
       "    </tr>\n",
       "  </thead>\n",
       "  <tbody>\n",
       "    <tr>\n",
       "      <th>0</th>\n",
       "      <td>OEM</td>\n",
       "      <td>Apparatus &amp; Machinery for Chemical Industry</td>\n",
       "      <td>Chemical Plants</td>\n",
       "      <td>Mitsubishi Heavy Industries</td>\n",
       "      <td>2-3, Marunouchi 3-chome, Chiyoda-ku, Tokyo, 10...</td>\n",
       "      <td>35.6798</td>\n",
       "      <td>139.7633</td>\n",
       "      <td>Tokyo</td>\n",
       "      <td>Japan</td>\n",
       "      <td>81-3-6275-6200</td>\n",
       "      <td>NaN</td>\n",
       "      <td>www.mhi.com</td>\n",
       "      <td>NaN</td>\n",
       "      <td>30,334,513,270.38</td>\n",
       "      <td>NaN</td>\n",
       "      <td>77,697</td>\n",
       "    </tr>\n",
       "    <tr>\n",
       "      <th>1</th>\n",
       "      <td>OEM</td>\n",
       "      <td>Printing &amp; Binding Machinery</td>\n",
       "      <td>Printing Machines</td>\n",
       "      <td>Mitsubishi Heavy Industries</td>\n",
       "      <td>2-3, Marunouchi 3-chome, Chiyoda-ku, Tokyo, 10...</td>\n",
       "      <td>35.6798</td>\n",
       "      <td>139.7633</td>\n",
       "      <td>Tokyo</td>\n",
       "      <td>Japan</td>\n",
       "      <td>81-3-6275-6200</td>\n",
       "      <td>NaN</td>\n",
       "      <td>www.mhi.com</td>\n",
       "      <td>NaN</td>\n",
       "      <td>30,334,513,270.38</td>\n",
       "      <td>NaN</td>\n",
       "      <td>77,697</td>\n",
       "    </tr>\n",
       "    <tr>\n",
       "      <th>2</th>\n",
       "      <td>OEM</td>\n",
       "      <td>Paper Making &amp; Converting Machinery</td>\n",
       "      <td>Box Making Machine</td>\n",
       "      <td>Mitsubishi Heavy Industries</td>\n",
       "      <td>2-3, Marunouchi 3-chome, Chiyoda-ku, Tokyo, 10...</td>\n",
       "      <td>35.6798</td>\n",
       "      <td>139.7633</td>\n",
       "      <td>Tokyo</td>\n",
       "      <td>Japan</td>\n",
       "      <td>81-3-6275-6200</td>\n",
       "      <td>NaN</td>\n",
       "      <td>www.mhi.com</td>\n",
       "      <td>NaN</td>\n",
       "      <td>30,334,513,270.38</td>\n",
       "      <td>NaN</td>\n",
       "      <td>77,697</td>\n",
       "    </tr>\n",
       "    <tr>\n",
       "      <th>3</th>\n",
       "      <td>OEM</td>\n",
       "      <td>Metal Cutting Tools</td>\n",
       "      <td>Metal Machinery</td>\n",
       "      <td>Mitsubishi Heavy Industries</td>\n",
       "      <td>2-3, Marunouchi 3-chome, Chiyoda-ku, Tokyo, 10...</td>\n",
       "      <td>35.6798</td>\n",
       "      <td>139.7633</td>\n",
       "      <td>Tokyo</td>\n",
       "      <td>Japan</td>\n",
       "      <td>81-3-6275-6200</td>\n",
       "      <td>NaN</td>\n",
       "      <td>www.mhi.com</td>\n",
       "      <td>NaN</td>\n",
       "      <td>30,334,513,270.38</td>\n",
       "      <td>NaN</td>\n",
       "      <td>77,697</td>\n",
       "    </tr>\n",
       "    <tr>\n",
       "      <th>4</th>\n",
       "      <td>OEM</td>\n",
       "      <td>Machinery for Rubber Industry</td>\n",
       "      <td>Rubber &amp; Tire Machine</td>\n",
       "      <td>Mitsubishi Heavy Industries</td>\n",
       "      <td>2-3, Marunouchi 3-chome, Chiyoda-ku, Tokyo, 10...</td>\n",
       "      <td>35.6798</td>\n",
       "      <td>139.7633</td>\n",
       "      <td>Tokyo</td>\n",
       "      <td>Japan</td>\n",
       "      <td>81-3-6275-6200</td>\n",
       "      <td>NaN</td>\n",
       "      <td>www.mhi.com</td>\n",
       "      <td>NaN</td>\n",
       "      <td>30,334,513,270.38</td>\n",
       "      <td>NaN</td>\n",
       "      <td>77,697</td>\n",
       "    </tr>\n",
       "  </tbody>\n",
       "</table>\n",
       "</div>"
      ],
      "text/plain": [
       "  Busines Model                                     Category  \\\n",
       "0           OEM  Apparatus & Machinery for Chemical Industry   \n",
       "1           OEM                 Printing & Binding Machinery   \n",
       "2           OEM          Paper Making & Converting Machinery   \n",
       "3           OEM                          Metal Cutting Tools   \n",
       "4           OEM                Machinery for Rubber Industry   \n",
       "\n",
       "             Subcategory                 Company Name  \\\n",
       "0        Chemical Plants  Mitsubishi Heavy Industries   \n",
       "1      Printing Machines  Mitsubishi Heavy Industries   \n",
       "2     Box Making Machine  Mitsubishi Heavy Industries   \n",
       "3        Metal Machinery  Mitsubishi Heavy Industries   \n",
       "4  Rubber & Tire Machine  Mitsubishi Heavy Industries   \n",
       "\n",
       "                                             Address Latitude Longitude  \\\n",
       "0  2-3, Marunouchi 3-chome, Chiyoda-ku, Tokyo, 10...  35.6798  139.7633   \n",
       "1  2-3, Marunouchi 3-chome, Chiyoda-ku, Tokyo, 10...  35.6798  139.7633   \n",
       "2  2-3, Marunouchi 3-chome, Chiyoda-ku, Tokyo, 10...  35.6798  139.7633   \n",
       "3  2-3, Marunouchi 3-chome, Chiyoda-ku, Tokyo, 10...  35.6798  139.7633   \n",
       "4  2-3, Marunouchi 3-chome, Chiyoda-ku, Tokyo, 10...  35.6798  139.7633   \n",
       "\n",
       "   State Country     Contact No. Fax No.      Website Email  \\\n",
       "0  Tokyo   Japan  81-3-6275-6200     NaN  www.mhi.com   NaN   \n",
       "1  Tokyo   Japan  81-3-6275-6200     NaN  www.mhi.com   NaN   \n",
       "2  Tokyo   Japan  81-3-6275-6200     NaN  www.mhi.com   NaN   \n",
       "3  Tokyo   Japan  81-3-6275-6200     NaN  www.mhi.com   NaN   \n",
       "4  Tokyo   Japan  81-3-6275-6200     NaN  www.mhi.com   NaN   \n",
       "\n",
       "         Annual Sale  Annual Sales Employees  \n",
       "0  30,334,513,270.38           NaN    77,697  \n",
       "1  30,334,513,270.38           NaN    77,697  \n",
       "2  30,334,513,270.38           NaN    77,697  \n",
       "3  30,334,513,270.38           NaN    77,697  \n",
       "4  30,334,513,270.38           NaN    77,697  "
      ]
     },
     "execution_count": 5,
     "metadata": {},
     "output_type": "execute_result"
    }
   ],
   "source": [
    "C_Original_df.head(5)"
   ]
  },
  {
   "cell_type": "code",
   "execution_count": 6,
   "id": "b63bcb99-b32a-427c-9f61-1e4d534ce615",
   "metadata": {},
   "outputs": [
    {
     "data": {
      "text/html": [
       "<div>\n",
       "<style scoped>\n",
       "    .dataframe tbody tr th:only-of-type {\n",
       "        vertical-align: middle;\n",
       "    }\n",
       "\n",
       "    .dataframe tbody tr th {\n",
       "        vertical-align: top;\n",
       "    }\n",
       "\n",
       "    .dataframe thead th {\n",
       "        text-align: right;\n",
       "    }\n",
       "</style>\n",
       "<table border=\"1\" class=\"dataframe\">\n",
       "  <thead>\n",
       "    <tr style=\"text-align: right;\">\n",
       "      <th></th>\n",
       "      <th>Busines Model</th>\n",
       "      <th>Category</th>\n",
       "      <th>Subcategory</th>\n",
       "      <th>Company Name</th>\n",
       "      <th>Address</th>\n",
       "      <th>Latitude</th>\n",
       "      <th>Longitude</th>\n",
       "      <th>State</th>\n",
       "      <th>Country</th>\n",
       "      <th>Contact No.</th>\n",
       "      <th>Fax No.</th>\n",
       "      <th>Website</th>\n",
       "      <th>Email</th>\n",
       "      <th>Annual Sale</th>\n",
       "      <th>Annual Sales</th>\n",
       "      <th>Employees</th>\n",
       "    </tr>\n",
       "  </thead>\n",
       "  <tbody>\n",
       "    <tr>\n",
       "      <th>4416</th>\n",
       "      <td>NaN</td>\n",
       "      <td>NaN</td>\n",
       "      <td>NaN</td>\n",
       "      <td>KTR Japan</td>\n",
       "      <td>NaN</td>\n",
       "      <td>NaN</td>\n",
       "      <td>NaN</td>\n",
       "      <td>NaN</td>\n",
       "      <td>NaN</td>\n",
       "      <td>NaN</td>\n",
       "      <td>NaN</td>\n",
       "      <td>www.ktr.com/jp</td>\n",
       "      <td>NaN</td>\n",
       "      <td>NaN</td>\n",
       "      <td>NaN</td>\n",
       "      <td>NaN</td>\n",
       "    </tr>\n",
       "    <tr>\n",
       "      <th>4417</th>\n",
       "      <td>NaN</td>\n",
       "      <td>NaN</td>\n",
       "      <td>NaN</td>\n",
       "      <td>Takamiya</td>\n",
       "      <td>NaN</td>\n",
       "      <td>NaN</td>\n",
       "      <td>NaN</td>\n",
       "      <td>NaN</td>\n",
       "      <td>NaN</td>\n",
       "      <td>NaN</td>\n",
       "      <td>NaN</td>\n",
       "      <td>www.takamiya.co</td>\n",
       "      <td>NaN</td>\n",
       "      <td>NaN</td>\n",
       "      <td>NaN</td>\n",
       "      <td>NaN</td>\n",
       "    </tr>\n",
       "    <tr>\n",
       "      <th>4418</th>\n",
       "      <td>NaN</td>\n",
       "      <td>NaN</td>\n",
       "      <td>NaN</td>\n",
       "      <td>Asahi-Seiki Manufacturing</td>\n",
       "      <td>NaN</td>\n",
       "      <td>NaN</td>\n",
       "      <td>NaN</td>\n",
       "      <td>NaN</td>\n",
       "      <td>NaN</td>\n",
       "      <td>NaN</td>\n",
       "      <td>NaN</td>\n",
       "      <td>www.asahiseiki-mfg.co.jp</td>\n",
       "      <td>NaN</td>\n",
       "      <td>NaN</td>\n",
       "      <td>NaN</td>\n",
       "      <td>NaN</td>\n",
       "    </tr>\n",
       "    <tr>\n",
       "      <th>4419</th>\n",
       "      <td>NaN</td>\n",
       "      <td>NaN</td>\n",
       "      <td>NaN</td>\n",
       "      <td>Jarvis Japan</td>\n",
       "      <td>NaN</td>\n",
       "      <td>NaN</td>\n",
       "      <td>NaN</td>\n",
       "      <td>NaN</td>\n",
       "      <td>NaN</td>\n",
       "      <td>NaN</td>\n",
       "      <td>NaN</td>\n",
       "      <td>www.jarvis.jp</td>\n",
       "      <td>NaN</td>\n",
       "      <td>NaN</td>\n",
       "      <td>NaN</td>\n",
       "      <td>NaN</td>\n",
       "    </tr>\n",
       "    <tr>\n",
       "      <th>4420</th>\n",
       "      <td>NaN</td>\n",
       "      <td>NaN</td>\n",
       "      <td>NaN</td>\n",
       "      <td>OPTIMA Japan</td>\n",
       "      <td>NaN</td>\n",
       "      <td>NaN</td>\n",
       "      <td>NaN</td>\n",
       "      <td>NaN</td>\n",
       "      <td>NaN</td>\n",
       "      <td>NaN</td>\n",
       "      <td>NaN</td>\n",
       "      <td>www.optima-packaging.jp</td>\n",
       "      <td>NaN</td>\n",
       "      <td>NaN</td>\n",
       "      <td>NaN</td>\n",
       "      <td>NaN</td>\n",
       "    </tr>\n",
       "  </tbody>\n",
       "</table>\n",
       "</div>"
      ],
      "text/plain": [
       "     Busines Model Category Subcategory               Company Name Address  \\\n",
       "4416           NaN      NaN         NaN                  KTR Japan     NaN   \n",
       "4417           NaN      NaN         NaN                   Takamiya     NaN   \n",
       "4418           NaN      NaN         NaN  Asahi-Seiki Manufacturing     NaN   \n",
       "4419           NaN      NaN         NaN               Jarvis Japan     NaN   \n",
       "4420           NaN      NaN         NaN               OPTIMA Japan     NaN   \n",
       "\n",
       "     Latitude Longitude State Country Contact No. Fax No.  \\\n",
       "4416      NaN       NaN   NaN     NaN         NaN     NaN   \n",
       "4417      NaN       NaN   NaN     NaN         NaN     NaN   \n",
       "4418      NaN       NaN   NaN     NaN         NaN     NaN   \n",
       "4419      NaN       NaN   NaN     NaN         NaN     NaN   \n",
       "4420      NaN       NaN   NaN     NaN         NaN     NaN   \n",
       "\n",
       "                       Website Email Annual Sale  Annual Sales Employees  \n",
       "4416            www.ktr.com/jp   NaN         NaN           NaN       NaN  \n",
       "4417           www.takamiya.co   NaN         NaN           NaN       NaN  \n",
       "4418  www.asahiseiki-mfg.co.jp   NaN         NaN           NaN       NaN  \n",
       "4419             www.jarvis.jp   NaN         NaN           NaN       NaN  \n",
       "4420   www.optima-packaging.jp   NaN         NaN           NaN       NaN  "
      ]
     },
     "execution_count": 6,
     "metadata": {},
     "output_type": "execute_result"
    }
   ],
   "source": [
    "C_Original_df.tail(5)"
   ]
  },
  {
   "cell_type": "markdown",
   "id": "26950a76-578e-4473-9438-60d7b44c7028",
   "metadata": {},
   "source": [
    "<h2>🧼 Clean Dataset</h2>"
   ]
  },
  {
   "cell_type": "markdown",
   "id": "f1f4d451-3e6a-43f5-a6f4-bacc13d3af49",
   "metadata": {},
   "source": [
    "<h3>✂️ Remove Irrelevant Data</h3>"
   ]
  },
  {
   "cell_type": "markdown",
   "id": "63080023-5126-4c96-9f90-988b5368d78b",
   "metadata": {},
   "source": [
    "<h4>Slice Dataframe</h4>"
   ]
  },
  {
   "cell_type": "code",
   "execution_count": 11,
   "id": "a8443452-77fa-4daa-8000-efbb1fd8a0eb",
   "metadata": {},
   "outputs": [],
   "source": [
    "C_df = C_Original_df.iloc[3042:3880]"
   ]
  },
  {
   "cell_type": "markdown",
   "id": "56eb6a99-3b95-4249-a73f-425e04e8f7ee",
   "metadata": {},
   "source": [
    "<h4>Confirm Shape</h4>"
   ]
  },
  {
   "cell_type": "code",
   "execution_count": 13,
   "id": "e4ff7462-3136-4f70-9620-87deaa8ce18a",
   "metadata": {},
   "outputs": [
    {
     "data": {
      "text/plain": [
       "(838, 16)"
      ]
     },
     "execution_count": 13,
     "metadata": {},
     "output_type": "execute_result"
    }
   ],
   "source": [
    "C_df.shape"
   ]
  },
  {
   "cell_type": "markdown",
   "id": "38d56b4a-767e-4cf8-a9c8-3173c744b76b",
   "metadata": {},
   "source": [
    "<h4>Peek Dataframe</h4>"
   ]
  },
  {
   "cell_type": "code",
   "execution_count": 17,
   "id": "ce4f3f66-841b-417a-b6ca-a4c48e40abb4",
   "metadata": {},
   "outputs": [
    {
     "data": {
      "text/html": [
       "<div>\n",
       "<style scoped>\n",
       "    .dataframe tbody tr th:only-of-type {\n",
       "        vertical-align: middle;\n",
       "    }\n",
       "\n",
       "    .dataframe tbody tr th {\n",
       "        vertical-align: top;\n",
       "    }\n",
       "\n",
       "    .dataframe thead th {\n",
       "        text-align: right;\n",
       "    }\n",
       "</style>\n",
       "<table border=\"1\" class=\"dataframe\">\n",
       "  <thead>\n",
       "    <tr style=\"text-align: right;\">\n",
       "      <th></th>\n",
       "      <th>Busines Model</th>\n",
       "      <th>Category</th>\n",
       "      <th>Subcategory</th>\n",
       "      <th>Company Name</th>\n",
       "      <th>Address</th>\n",
       "      <th>Latitude</th>\n",
       "      <th>Longitude</th>\n",
       "      <th>State</th>\n",
       "      <th>Country</th>\n",
       "      <th>Contact No.</th>\n",
       "      <th>Fax No.</th>\n",
       "      <th>Website</th>\n",
       "      <th>Email</th>\n",
       "      <th>Annual Sale</th>\n",
       "      <th>Employees</th>\n",
       "    </tr>\n",
       "  </thead>\n",
       "  <tbody>\n",
       "    <tr>\n",
       "      <th>3042</th>\n",
       "      <td>OEM</td>\n",
       "      <td>Electric Machinery</td>\n",
       "      <td>Calibration Systems</td>\n",
       "      <td>Eagle Industry Co., Ltd. - Marine Division Kur...</td>\n",
       "      <td>737-0027 No. 8 1 Showa-cho, Kure City, Hiroshi...</td>\n",
       "      <td>34.2506</td>\n",
       "      <td>132.5651</td>\n",
       "      <td>Hiroshima</td>\n",
       "      <td>Japan</td>\n",
       "      <td>(0823) 25-7121</td>\n",
       "      <td>(0823) 25-7120</td>\n",
       "      <td>https://www.ekkeagle.com/jp</td>\n",
       "      <td>NaN</td>\n",
       "      <td>1,117,001,501.90</td>\n",
       "      <td>6,280</td>\n",
       "    </tr>\n",
       "    <tr>\n",
       "      <th>3043</th>\n",
       "      <td>OEM</td>\n",
       "      <td>Apparatus &amp; Machinery for Chemical Industry</td>\n",
       "      <td>Mechanical seal auxiliary equipment</td>\n",
       "      <td>Eagle Industry Co., Ltd. - Hiroshima Branch Sh...</td>\n",
       "      <td>746-0024 2-20-3 Koizumi, Shunan, Yamaguchi</td>\n",
       "      <td>34.0421</td>\n",
       "      <td>131.8069</td>\n",
       "      <td>Yamaguchi</td>\n",
       "      <td>Japan</td>\n",
       "      <td>(0834) 63-7648</td>\n",
       "      <td>(0834) 61-1054</td>\n",
       "      <td>https://www.ekkeagle.com/jp</td>\n",
       "      <td>NaN</td>\n",
       "      <td>1,117,001,501.90</td>\n",
       "      <td>6,280</td>\n",
       "    </tr>\n",
       "    <tr>\n",
       "      <th>3044</th>\n",
       "      <td>OEM</td>\n",
       "      <td>Piping System</td>\n",
       "      <td>Mechanical seal auxiliary equipment</td>\n",
       "      <td>Eagle Industry Co., Ltd. - Hiroshima Branch Sh...</td>\n",
       "      <td>746-0024 2-20-3 Koizumi, Shunan, Yamaguchi</td>\n",
       "      <td>34.0421</td>\n",
       "      <td>131.8069</td>\n",
       "      <td>Yamaguchi</td>\n",
       "      <td>Japan</td>\n",
       "      <td>(0834) 63-7648</td>\n",
       "      <td>(0834) 61-1054</td>\n",
       "      <td>https://www.ekkeagle.com/jp</td>\n",
       "      <td>NaN</td>\n",
       "      <td>1,117,001,501.90</td>\n",
       "      <td>6,280</td>\n",
       "    </tr>\n",
       "  </tbody>\n",
       "</table>\n",
       "</div>"
      ],
      "text/plain": [
       "     Busines Model                                     Category  \\\n",
       "3042           OEM                           Electric Machinery   \n",
       "3043           OEM  Apparatus & Machinery for Chemical Industry   \n",
       "3044           OEM                                Piping System   \n",
       "\n",
       "                              Subcategory  \\\n",
       "3042                  Calibration Systems   \n",
       "3043  Mechanical seal auxiliary equipment   \n",
       "3044  Mechanical seal auxiliary equipment   \n",
       "\n",
       "                                           Company Name  \\\n",
       "3042  Eagle Industry Co., Ltd. - Marine Division Kur...   \n",
       "3043  Eagle Industry Co., Ltd. - Hiroshima Branch Sh...   \n",
       "3044  Eagle Industry Co., Ltd. - Hiroshima Branch Sh...   \n",
       "\n",
       "                                                Address Latitude Longitude  \\\n",
       "3042  737-0027 No. 8 1 Showa-cho, Kure City, Hiroshi...  34.2506  132.5651   \n",
       "3043         746-0024 2-20-3 Koizumi, Shunan, Yamaguchi  34.0421  131.8069   \n",
       "3044         746-0024 2-20-3 Koizumi, Shunan, Yamaguchi  34.0421  131.8069   \n",
       "\n",
       "          State Country     Contact No.         Fax No.  \\\n",
       "3042  Hiroshima   Japan  (0823) 25-7121  (0823) 25-7120   \n",
       "3043  Yamaguchi   Japan  (0834) 63-7648  (0834) 61-1054   \n",
       "3044  Yamaguchi   Japan  (0834) 63-7648  (0834) 61-1054   \n",
       "\n",
       "                          Website Email       Annual Sale Employees  \n",
       "3042  https://www.ekkeagle.com/jp   NaN  1,117,001,501.90     6,280  \n",
       "3043  https://www.ekkeagle.com/jp   NaN  1,117,001,501.90     6,280  \n",
       "3044  https://www.ekkeagle.com/jp   NaN  1,117,001,501.90     6,280  "
      ]
     },
     "execution_count": 17,
     "metadata": {},
     "output_type": "execute_result"
    }
   ],
   "source": [
    "C_df.head(3)"
   ]
  },
  {
   "cell_type": "code",
   "execution_count": 18,
   "id": "4d6a0245-b70f-44a9-a912-0387224ba7bd",
   "metadata": {},
   "outputs": [
    {
     "data": {
      "text/html": [
       "<div>\n",
       "<style scoped>\n",
       "    .dataframe tbody tr th:only-of-type {\n",
       "        vertical-align: middle;\n",
       "    }\n",
       "\n",
       "    .dataframe tbody tr th {\n",
       "        vertical-align: top;\n",
       "    }\n",
       "\n",
       "    .dataframe thead th {\n",
       "        text-align: right;\n",
       "    }\n",
       "</style>\n",
       "<table border=\"1\" class=\"dataframe\">\n",
       "  <thead>\n",
       "    <tr style=\"text-align: right;\">\n",
       "      <th></th>\n",
       "      <th>Busines Model</th>\n",
       "      <th>Category</th>\n",
       "      <th>Subcategory</th>\n",
       "      <th>Company Name</th>\n",
       "      <th>Address</th>\n",
       "      <th>Latitude</th>\n",
       "      <th>Longitude</th>\n",
       "      <th>State</th>\n",
       "      <th>Country</th>\n",
       "      <th>Contact No.</th>\n",
       "      <th>Fax No.</th>\n",
       "      <th>Website</th>\n",
       "      <th>Email</th>\n",
       "      <th>Annual Sale</th>\n",
       "      <th>Employees</th>\n",
       "    </tr>\n",
       "  </thead>\n",
       "  <tbody>\n",
       "    <tr>\n",
       "      <th>3877</th>\n",
       "      <td>OEM</td>\n",
       "      <td>Industrial Machinery</td>\n",
       "      <td>Industrial Machinery</td>\n",
       "      <td>Seika Corp. - Fukuoka Branch Office</td>\n",
       "      <td>810-0004 Fukuoka City Chuo Ward Watanabedori 2...</td>\n",
       "      <td>33.5828</td>\n",
       "      <td>130.4052</td>\n",
       "      <td>Fukuoka</td>\n",
       "      <td>Japan</td>\n",
       "      <td>092-731-0471</td>\n",
       "      <td>092-731-0955</td>\n",
       "      <td>https://www.seika.com/</td>\n",
       "      <td>NaN</td>\n",
       "      <td>576,204,668.25</td>\n",
       "      <td>1,040</td>\n",
       "    </tr>\n",
       "    <tr>\n",
       "      <th>3878</th>\n",
       "      <td>OEM</td>\n",
       "      <td>Industrial Machinery</td>\n",
       "      <td>Industrial Machinery</td>\n",
       "      <td>Seika Corp. - Kitakyushu Branch Office</td>\n",
       "      <td>802-0001 KMM Building 2-14-1 Asano, Kokurakita...</td>\n",
       "      <td>33.8887</td>\n",
       "      <td>130.8835</td>\n",
       "      <td>Fukuoka</td>\n",
       "      <td>Japan</td>\n",
       "      <td>093-541-1127</td>\n",
       "      <td>093-541-1277</td>\n",
       "      <td>https://www.seika.com/</td>\n",
       "      <td>NaN</td>\n",
       "      <td>576,204,668.25</td>\n",
       "      <td>1,040</td>\n",
       "    </tr>\n",
       "    <tr>\n",
       "      <th>3879</th>\n",
       "      <td>OEM</td>\n",
       "      <td>Industrial Machinery</td>\n",
       "      <td>Industrial Machinery</td>\n",
       "      <td>Seika Corp. - Oita Branch Office</td>\n",
       "      <td>9th floor, Nissei Oita Ekimae Building, 1-1-18...</td>\n",
       "      <td>33.2347</td>\n",
       "      <td>131.6061</td>\n",
       "      <td>Oita</td>\n",
       "      <td>Japan</td>\n",
       "      <td>097-534-1798</td>\n",
       "      <td>097-533-7494</td>\n",
       "      <td>https://www.seika.com/</td>\n",
       "      <td>NaN</td>\n",
       "      <td>576,204,668.25</td>\n",
       "      <td>1,040</td>\n",
       "    </tr>\n",
       "  </tbody>\n",
       "</table>\n",
       "</div>"
      ],
      "text/plain": [
       "     Busines Model              Category           Subcategory  \\\n",
       "3877           OEM  Industrial Machinery  Industrial Machinery   \n",
       "3878           OEM  Industrial Machinery  Industrial Machinery   \n",
       "3879           OEM  Industrial Machinery  Industrial Machinery   \n",
       "\n",
       "                                Company Name  \\\n",
       "3877     Seika Corp. - Fukuoka Branch Office   \n",
       "3878  Seika Corp. - Kitakyushu Branch Office   \n",
       "3879        Seika Corp. - Oita Branch Office   \n",
       "\n",
       "                                                Address Latitude Longitude  \\\n",
       "3877  810-0004 Fukuoka City Chuo Ward Watanabedori 2...  33.5828  130.4052   \n",
       "3878  802-0001 KMM Building 2-14-1 Asano, Kokurakita...  33.8887  130.8835   \n",
       "3879  9th floor, Nissei Oita Ekimae Building, 1-1-18...  33.2347  131.6061   \n",
       "\n",
       "         State Country   Contact No.       Fax No.                 Website  \\\n",
       "3877  Fukuoka    Japan  092-731-0471  092-731-0955  https://www.seika.com/   \n",
       "3878  Fukuoka    Japan  093-541-1127  093-541-1277  https://www.seika.com/   \n",
       "3879     Oita    Japan  097-534-1798  097-533-7494  https://www.seika.com/   \n",
       "\n",
       "     Email     Annual Sale Employees  \n",
       "3877   NaN  576,204,668.25     1,040  \n",
       "3878   NaN  576,204,668.25     1,040  \n",
       "3879   NaN  576,204,668.25     1,040  "
      ]
     },
     "execution_count": 18,
     "metadata": {},
     "output_type": "execute_result"
    }
   ],
   "source": [
    "C_df.tail(3)"
   ]
  },
  {
   "cell_type": "markdown",
   "id": "f63ef34f-dcc9-47b7-8e5c-bb5ba3eb0f45",
   "metadata": {},
   "source": [
    "<h4>Remove <b>Annual Sales</b> Column</h4>"
   ]
  },
  {
   "cell_type": "code",
   "execution_count": 16,
   "id": "87eddd7d-8fb3-4d12-9e45-494ca9695774",
   "metadata": {},
   "outputs": [],
   "source": [
    "C_df = C_df.drop('Annual Sales', axis=1)"
   ]
  },
  {
   "cell_type": "code",
   "execution_count": 20,
   "id": "8e7b3b4b-ade5-42fb-9ecd-19e98ef6d482",
   "metadata": {},
   "outputs": [
    {
     "data": {
      "text/html": [
       "<div>\n",
       "<style scoped>\n",
       "    .dataframe tbody tr th:only-of-type {\n",
       "        vertical-align: middle;\n",
       "    }\n",
       "\n",
       "    .dataframe tbody tr th {\n",
       "        vertical-align: top;\n",
       "    }\n",
       "\n",
       "    .dataframe thead th {\n",
       "        text-align: right;\n",
       "    }\n",
       "</style>\n",
       "<table border=\"1\" class=\"dataframe\">\n",
       "  <thead>\n",
       "    <tr style=\"text-align: right;\">\n",
       "      <th></th>\n",
       "      <th>Busines Model</th>\n",
       "      <th>Category</th>\n",
       "      <th>Subcategory</th>\n",
       "      <th>Company Name</th>\n",
       "      <th>Address</th>\n",
       "      <th>Latitude</th>\n",
       "      <th>Longitude</th>\n",
       "      <th>State</th>\n",
       "      <th>Country</th>\n",
       "      <th>Contact No.</th>\n",
       "      <th>Fax No.</th>\n",
       "      <th>Website</th>\n",
       "      <th>Email</th>\n",
       "      <th>Annual Sale</th>\n",
       "      <th>Employees</th>\n",
       "    </tr>\n",
       "  </thead>\n",
       "  <tbody>\n",
       "    <tr>\n",
       "      <th>3042</th>\n",
       "      <td>OEM</td>\n",
       "      <td>Electric Machinery</td>\n",
       "      <td>Calibration Systems</td>\n",
       "      <td>Eagle Industry Co., Ltd. - Marine Division Kur...</td>\n",
       "      <td>737-0027 No. 8 1 Showa-cho, Kure City, Hiroshi...</td>\n",
       "      <td>34.2506</td>\n",
       "      <td>132.5651</td>\n",
       "      <td>Hiroshima</td>\n",
       "      <td>Japan</td>\n",
       "      <td>(0823) 25-7121</td>\n",
       "      <td>(0823) 25-7120</td>\n",
       "      <td>https://www.ekkeagle.com/jp</td>\n",
       "      <td>NaN</td>\n",
       "      <td>1,117,001,501.90</td>\n",
       "      <td>6,280</td>\n",
       "    </tr>\n",
       "  </tbody>\n",
       "</table>\n",
       "</div>"
      ],
      "text/plain": [
       "     Busines Model            Category          Subcategory  \\\n",
       "3042           OEM  Electric Machinery  Calibration Systems   \n",
       "\n",
       "                                           Company Name  \\\n",
       "3042  Eagle Industry Co., Ltd. - Marine Division Kur...   \n",
       "\n",
       "                                                Address Latitude Longitude  \\\n",
       "3042  737-0027 No. 8 1 Showa-cho, Kure City, Hiroshi...  34.2506  132.5651   \n",
       "\n",
       "          State Country     Contact No.         Fax No.  \\\n",
       "3042  Hiroshima   Japan  (0823) 25-7121  (0823) 25-7120   \n",
       "\n",
       "                          Website Email       Annual Sale Employees  \n",
       "3042  https://www.ekkeagle.com/jp   NaN  1,117,001,501.90     6,280  "
      ]
     },
     "execution_count": 20,
     "metadata": {},
     "output_type": "execute_result"
    }
   ],
   "source": [
    "C_df.head(1)"
   ]
  },
  {
   "cell_type": "markdown",
   "id": "bd2988cc-6e03-46eb-a974-656968028bfb",
   "metadata": {},
   "source": [
    "<h3>🕳 Handle Missing or Incomplete Data</h3>"
   ]
  },
  {
   "cell_type": "markdown",
   "id": "82365922-15fd-42c1-84ff-5dd3e9a17397",
   "metadata": {},
   "source": [
    "<h4>Check Field Status</h4>"
   ]
  },
  {
   "cell_type": "code",
   "execution_count": 31,
   "id": "00db81b8-4ed4-43ee-8ff6-23c1e4ebfb97",
   "metadata": {},
   "outputs": [
    {
     "data": {
      "text/plain": [
       "Busines Model    False\n",
       "Category         False\n",
       "Subcategory      False\n",
       "Company Name     False\n",
       "Address          False\n",
       "Latitude         False\n",
       "Longitude        False\n",
       "State             True\n",
       "Country           True\n",
       "Contact No.       True\n",
       "Fax No.           True\n",
       "Website          False\n",
       "Email             True\n",
       "Annual Sale      False\n",
       "Employees         True\n",
       "dtype: bool"
      ]
     },
     "execution_count": 31,
     "metadata": {},
     "output_type": "execute_result"
    }
   ],
   "source": [
    "C_df.isnull().any()"
   ]
  },
  {
   "cell_type": "code",
   "execution_count": 22,
   "id": "248b4bce-3a3f-46b7-9633-3da87d52308b",
   "metadata": {},
   "outputs": [
    {
     "data": {
      "text/plain": [
       "array(['OEM', 'End-user', nan], dtype=object)"
      ]
     },
     "execution_count": 22,
     "metadata": {},
     "output_type": "execute_result"
    }
   ],
   "source": [
    "C_df['Busines Model'].unique()"
   ]
  },
  {
   "cell_type": "markdown",
   "id": "5696b0ba-b481-438a-ab68-6556dacf7d66",
   "metadata": {},
   "source": [
    "<h4>Resolve Busines Model</h4>"
   ]
  },
  {
   "cell_type": "code",
   "execution_count": 29,
   "id": "0740f684-4d10-41a0-874f-6ab7e06047d8",
   "metadata": {},
   "outputs": [],
   "source": [
    "null_rows = C_df[C_df['Busines Model'].isna()]"
   ]
  },
  {
   "cell_type": "code",
   "execution_count": 30,
   "id": "75b84e0f-b8e5-4d08-8105-aca0dfedd788",
   "metadata": {},
   "outputs": [
    {
     "data": {
      "text/html": [
       "<div>\n",
       "<style scoped>\n",
       "    .dataframe tbody tr th:only-of-type {\n",
       "        vertical-align: middle;\n",
       "    }\n",
       "\n",
       "    .dataframe tbody tr th {\n",
       "        vertical-align: top;\n",
       "    }\n",
       "\n",
       "    .dataframe thead th {\n",
       "        text-align: right;\n",
       "    }\n",
       "</style>\n",
       "<table border=\"1\" class=\"dataframe\">\n",
       "  <thead>\n",
       "    <tr style=\"text-align: right;\">\n",
       "      <th></th>\n",
       "      <th>Busines Model</th>\n",
       "      <th>Category</th>\n",
       "      <th>Subcategory</th>\n",
       "      <th>Company Name</th>\n",
       "      <th>Address</th>\n",
       "      <th>Latitude</th>\n",
       "      <th>Longitude</th>\n",
       "      <th>State</th>\n",
       "      <th>Country</th>\n",
       "      <th>Contact No.</th>\n",
       "      <th>Fax No.</th>\n",
       "      <th>Website</th>\n",
       "      <th>Email</th>\n",
       "      <th>Annual Sale</th>\n",
       "      <th>Employees</th>\n",
       "    </tr>\n",
       "  </thead>\n",
       "  <tbody>\n",
       "  </tbody>\n",
       "</table>\n",
       "</div>"
      ],
      "text/plain": [
       "Empty DataFrame\n",
       "Columns: [Busines Model, Category, Subcategory, Company Name, Address, Latitude, Longitude, State, Country, Contact No., Fax No., Website, Email, Annual Sale, Employees]\n",
       "Index: []"
      ]
     },
     "execution_count": 30,
     "metadata": {},
     "output_type": "execute_result"
    }
   ],
   "source": [
    "null_rows"
   ]
  },
  {
   "cell_type": "code",
   "execution_count": 28,
   "id": "7120f8dd-e205-4b61-97ce-617424e5b683",
   "metadata": {},
   "outputs": [],
   "source": [
    "C_df['Busines Model'] = C_df['Busines Model'].fillna('OEM')"
   ]
  },
  {
   "cell_type": "markdown",
   "id": "1ee70284-d8c0-4ae7-b69a-e88bbf66f70d",
   "metadata": {},
   "source": [
    "<h3>⚠️ Fix Formatting Issues</h3>"
   ]
  },
  {
   "cell_type": "code",
   "execution_count": null,
   "id": "d585e0d4-c8a8-4739-829d-b0d88c16f549",
   "metadata": {},
   "outputs": [],
   "source": []
  },
  {
   "cell_type": "markdown",
   "id": "352b61c0-adbe-462a-ba7d-878ebff9daca",
   "metadata": {},
   "source": [
    "<h3>🎏 Remove Duplicate Records</h3>"
   ]
  },
  {
   "cell_type": "code",
   "execution_count": null,
   "id": "3e4c7ad4-f98e-4d8f-91c7-77e7e55f46ae",
   "metadata": {},
   "outputs": [],
   "source": []
  },
  {
   "cell_type": "markdown",
   "id": "b43913d4-e329-4203-a0fd-b240451d8f8b",
   "metadata": {},
   "source": [
    "<h3>🌐 Validate Geolocation Data</h3>"
   ]
  },
  {
   "cell_type": "code",
   "execution_count": null,
   "id": "785a878b-762f-4d79-983c-e6ea289eec28",
   "metadata": {},
   "outputs": [],
   "source": []
  },
  {
   "cell_type": "markdown",
   "id": "dd3ffdc9-57d2-43c9-bb2b-a92e5b799bed",
   "metadata": {},
   "source": [
    "<h3>📝 Correct Incorrect Entries</h3>"
   ]
  },
  {
   "cell_type": "code",
   "execution_count": null,
   "id": "d5d5dfdd-99ba-48ad-aca5-ba7f27af28c5",
   "metadata": {},
   "outputs": [],
   "source": []
  },
  {
   "cell_type": "markdown",
   "id": "00f8a3cd-f580-443c-815e-e830efb4703a",
   "metadata": {},
   "source": [
    "<h3>📈 Detect and Treat Outliers</h3>"
   ]
  },
  {
   "cell_type": "code",
   "execution_count": null,
   "id": "14a95183-f66d-417e-92cd-b81694702f37",
   "metadata": {},
   "outputs": [],
   "source": []
  },
  {
   "cell_type": "markdown",
   "id": "456adbf8-ee88-48db-9264-9ee848a234ca",
   "metadata": {},
   "source": [
    "<h2>🔎 Finalize Dataset</h2>"
   ]
  },
  {
   "cell_type": "code",
   "execution_count": null,
   "id": "d8064f12-3816-409c-9d70-cefbd589207d",
   "metadata": {},
   "outputs": [],
   "source": []
  },
  {
   "cell_type": "markdown",
   "id": "dfec6be9-43d8-442a-b2aa-e477a11d9887",
   "metadata": {},
   "source": [
    "<h2>📥 Download Dataset</h2>"
   ]
  },
  {
   "cell_type": "code",
   "execution_count": null,
   "id": "7c1f39d4-8dfd-4dc2-ac78-ac672c1ef2dd",
   "metadata": {},
   "outputs": [],
   "source": []
  },
  {
   "cell_type": "markdown",
   "id": "efdcc591-cbad-41c6-8b05-c594cb5b454c",
   "metadata": {},
   "source": [
    "<h2>💌 Credits ✉️</h2>"
   ]
  },
  {
   "cell_type": "markdown",
   "id": "3a8d34dc-38fc-45d0-b4f6-de0ec498a5aa",
   "metadata": {},
   "source": [
    "This project is done by <b>ERMITANO, Kate Justine</b> as a part of the internship tasks under the instructions of <b>Miss Fherlyn Charl Yet</b>."
   ]
  }
 ],
 "metadata": {
  "kernelspec": {
   "display_name": "Python 3 (ipykernel)",
   "language": "python",
   "name": "python3"
  },
  "language_info": {
   "codemirror_mode": {
    "name": "ipython",
    "version": 3
   },
   "file_extension": ".py",
   "mimetype": "text/x-python",
   "name": "python",
   "nbconvert_exporter": "python",
   "pygments_lexer": "ipython3",
   "version": "3.13.5"
  }
 },
 "nbformat": 4,
 "nbformat_minor": 5
}
