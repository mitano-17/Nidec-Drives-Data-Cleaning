{
 "cells": [
  {
   "cell_type": "markdown",
   "id": "b79498cd-12b6-4d2b-94bd-c4e41029c65a",
   "metadata": {},
   "source": [
    "<h1>🧽 Data Cleaning - Dataset C (3042-3879) 🧽</h1>"
   ]
  },
  {
   "cell_type": "markdown",
   "id": "89925648-edf6-436f-9862-b290e465d89a",
   "metadata": {},
   "source": [
    "Perform data cleaning on a segment in Dataset C."
   ]
  },
  {
   "cell_type": "markdown",
   "id": "3454fa3c-1e3d-4da5-9878-9f6927211f14",
   "metadata": {},
   "source": [
    "<h2>🗃 Import Libraries</h2>"
   ]
  },
  {
   "cell_type": "code",
   "execution_count": 1,
   "id": "b31c7798-b73c-4301-93eb-fb537ff02313",
   "metadata": {},
   "outputs": [],
   "source": [
    "%matplotlib inline\n",
    "import pandas as pd\n",
    "import numpy as np\n",
    "import matplotlib.pyplot as plt"
   ]
  },
  {
   "cell_type": "markdown",
   "id": "fd5ba2c8-aa3d-4fdf-9a87-7fd84aabeeeb",
   "metadata": {},
   "source": [
    "<h2>📤 Upload Dataset</h2>"
   ]
  },
  {
   "cell_type": "code",
   "execution_count": 6,
   "id": "fc25ba34-0c33-425d-9939-22633a14ccc3",
   "metadata": {},
   "outputs": [],
   "source": [
    "C_df = pd.read_csv(\"datasets\\Dataset_C.csv\")"
   ]
  },
  {
   "cell_type": "markdown",
   "id": "86bdd2e3-4b5c-4f62-81d8-78ac10f3cca0",
   "metadata": {},
   "source": [
    "<h2>🔍 Inspect Dataset</h2>"
   ]
  },
  {
   "cell_type": "code",
   "execution_count": 7,
   "id": "6f6ed489-da0e-4204-9f84-7a43965d15a3",
   "metadata": {},
   "outputs": [
    {
     "name": "stdout",
     "output_type": "stream",
     "text": [
      "<class 'pandas.core.frame.DataFrame'>\n",
      "RangeIndex: 838 entries, 0 to 837\n",
      "Data columns (total 15 columns):\n",
      " #   Column         Non-Null Count  Dtype  \n",
      "---  ------         --------------  -----  \n",
      " 0   Busines Model  834 non-null    object \n",
      " 1   Category       838 non-null    object \n",
      " 2   Subcategory    838 non-null    object \n",
      " 3   Company Name   838 non-null    object \n",
      " 4   Address        838 non-null    object \n",
      " 5   Latitude       838 non-null    float64\n",
      " 6   Longitude      838 non-null    float64\n",
      " 7   State          819 non-null    object \n",
      " 8   Country        837 non-null    object \n",
      " 9   Contact No.    795 non-null    object \n",
      " 10  Fax No.        455 non-null    object \n",
      " 11  Website        838 non-null    object \n",
      " 12  Email          0 non-null      float64\n",
      " 13  Annual Sale    838 non-null    object \n",
      " 14  Employees      827 non-null    object \n",
      "dtypes: float64(3), object(12)\n",
      "memory usage: 98.3+ KB\n"
     ]
    }
   ],
   "source": [
    "C_df.info()"
   ]
  },
  {
   "cell_type": "code",
   "execution_count": 8,
   "id": "3fd4f44d-799d-418b-ab72-241a68937b15",
   "metadata": {},
   "outputs": [
    {
     "data": {
      "text/html": [
       "<div>\n",
       "<style scoped>\n",
       "    .dataframe tbody tr th:only-of-type {\n",
       "        vertical-align: middle;\n",
       "    }\n",
       "\n",
       "    .dataframe tbody tr th {\n",
       "        vertical-align: top;\n",
       "    }\n",
       "\n",
       "    .dataframe thead th {\n",
       "        text-align: right;\n",
       "    }\n",
       "</style>\n",
       "<table border=\"1\" class=\"dataframe\">\n",
       "  <thead>\n",
       "    <tr style=\"text-align: right;\">\n",
       "      <th></th>\n",
       "      <th>Busines Model</th>\n",
       "      <th>Category</th>\n",
       "      <th>Subcategory</th>\n",
       "      <th>Company Name</th>\n",
       "      <th>Address</th>\n",
       "      <th>Latitude</th>\n",
       "      <th>Longitude</th>\n",
       "      <th>State</th>\n",
       "      <th>Country</th>\n",
       "      <th>Contact No.</th>\n",
       "      <th>Fax No.</th>\n",
       "      <th>Website</th>\n",
       "      <th>Email</th>\n",
       "      <th>Annual Sale</th>\n",
       "      <th>Employees</th>\n",
       "    </tr>\n",
       "  </thead>\n",
       "  <tbody>\n",
       "    <tr>\n",
       "      <th>0</th>\n",
       "      <td>OEM</td>\n",
       "      <td>Heat Treatment Equipment</td>\n",
       "      <td>Mechanical seal auxiliary equipment</td>\n",
       "      <td>Eagle Industry Co., Ltd. - Marine Division Kur...</td>\n",
       "      <td>737-0027 No. 8 1 Showa-cho, Kure City, Hiroshi...</td>\n",
       "      <td>34.2506</td>\n",
       "      <td>132.5651</td>\n",
       "      <td>Hiroshima</td>\n",
       "      <td>Japan</td>\n",
       "      <td>(0823) 25-7121</td>\n",
       "      <td>(0823) 25-7120</td>\n",
       "      <td>https://www.ekkeagle.com/jp</td>\n",
       "      <td>NaN</td>\n",
       "      <td>1,117,001,501.90</td>\n",
       "      <td>6,280</td>\n",
       "    </tr>\n",
       "    <tr>\n",
       "      <th>1</th>\n",
       "      <td>OEM</td>\n",
       "      <td>Precision Machinery, Inspecting &amp; Testing Equi...</td>\n",
       "      <td>Calibration Systems</td>\n",
       "      <td>Eagle Industry Co., Ltd. - Marine Division Kur...</td>\n",
       "      <td>737-0027 No. 8 1 Showa-cho, Kure City, Hiroshi...</td>\n",
       "      <td>34.2506</td>\n",
       "      <td>132.5651</td>\n",
       "      <td>Hiroshima</td>\n",
       "      <td>Japan</td>\n",
       "      <td>(0823) 25-7121</td>\n",
       "      <td>(0823) 25-7120</td>\n",
       "      <td>https://www.ekkeagle.com/jp</td>\n",
       "      <td>NaN</td>\n",
       "      <td>1,117,001,501.90</td>\n",
       "      <td>6,280</td>\n",
       "    </tr>\n",
       "    <tr>\n",
       "      <th>2</th>\n",
       "      <td>OEM</td>\n",
       "      <td>Electric Machinery</td>\n",
       "      <td>Calibration Systems</td>\n",
       "      <td>Eagle Industry Co., Ltd. - Marine Division Kur...</td>\n",
       "      <td>737-0027 No. 8 1 Showa-cho, Kure City, Hiroshi...</td>\n",
       "      <td>34.2506</td>\n",
       "      <td>132.5651</td>\n",
       "      <td>Hiroshima</td>\n",
       "      <td>Japan</td>\n",
       "      <td>(0823) 25-7121</td>\n",
       "      <td>(0823) 25-7120</td>\n",
       "      <td>https://www.ekkeagle.com/jp</td>\n",
       "      <td>NaN</td>\n",
       "      <td>1,117,001,501.90</td>\n",
       "      <td>6,280</td>\n",
       "    </tr>\n",
       "    <tr>\n",
       "      <th>3</th>\n",
       "      <td>OEM</td>\n",
       "      <td>Apparatus &amp; Machinery for Chemical Industry</td>\n",
       "      <td>Mechanical seal auxiliary equipment</td>\n",
       "      <td>Eagle Industry Co., Ltd. - Hiroshima Branch Sh...</td>\n",
       "      <td>746-0024 2-20-3 Koizumi, Shunan, Yamaguchi</td>\n",
       "      <td>34.0421</td>\n",
       "      <td>131.8069</td>\n",
       "      <td>Yamaguchi</td>\n",
       "      <td>Japan</td>\n",
       "      <td>(0834) 63-7648</td>\n",
       "      <td>(0834) 61-1054</td>\n",
       "      <td>https://www.ekkeagle.com/jp</td>\n",
       "      <td>NaN</td>\n",
       "      <td>1,117,001,501.90</td>\n",
       "      <td>6,280</td>\n",
       "    </tr>\n",
       "    <tr>\n",
       "      <th>4</th>\n",
       "      <td>OEM</td>\n",
       "      <td>Piping System</td>\n",
       "      <td>Mechanical seal auxiliary equipment</td>\n",
       "      <td>Eagle Industry Co., Ltd. - Hiroshima Branch Sh...</td>\n",
       "      <td>746-0024 2-20-3 Koizumi, Shunan, Yamaguchi</td>\n",
       "      <td>34.0421</td>\n",
       "      <td>131.8069</td>\n",
       "      <td>Yamaguchi</td>\n",
       "      <td>Japan</td>\n",
       "      <td>(0834) 63-7648</td>\n",
       "      <td>(0834) 61-1054</td>\n",
       "      <td>https://www.ekkeagle.com/jp</td>\n",
       "      <td>NaN</td>\n",
       "      <td>1,117,001,501.90</td>\n",
       "      <td>6,280</td>\n",
       "    </tr>\n",
       "    <tr>\n",
       "      <th>...</th>\n",
       "      <td>...</td>\n",
       "      <td>...</td>\n",
       "      <td>...</td>\n",
       "      <td>...</td>\n",
       "      <td>...</td>\n",
       "      <td>...</td>\n",
       "      <td>...</td>\n",
       "      <td>...</td>\n",
       "      <td>...</td>\n",
       "      <td>...</td>\n",
       "      <td>...</td>\n",
       "      <td>...</td>\n",
       "      <td>...</td>\n",
       "      <td>...</td>\n",
       "      <td>...</td>\n",
       "    </tr>\n",
       "    <tr>\n",
       "      <th>833</th>\n",
       "      <td>OEM</td>\n",
       "      <td>Industrial Machinery</td>\n",
       "      <td>Industrial Machinery</td>\n",
       "      <td>Seika Corp. - Higashihiroshima Branch Office</td>\n",
       "      <td>11265-1 Irino, Kawachi-cho, Higashi-Hiroshima ...</td>\n",
       "      <td>34.4402</td>\n",
       "      <td>132.8718</td>\n",
       "      <td>Hiroshima</td>\n",
       "      <td>Japan</td>\n",
       "      <td>082-420-7001</td>\n",
       "      <td>082-437-0111</td>\n",
       "      <td>https://www.seika.com/</td>\n",
       "      <td>NaN</td>\n",
       "      <td>576,204,668.25</td>\n",
       "      <td>1,040</td>\n",
       "    </tr>\n",
       "    <tr>\n",
       "      <th>834</th>\n",
       "      <td>OEM</td>\n",
       "      <td>Industrial Machinery</td>\n",
       "      <td>Industrial Machinery</td>\n",
       "      <td>Seika Corp. - Hiroshima Branch Office</td>\n",
       "      <td>7F Hiroshima Fukuromachi Building, 5-25 Fukuro...</td>\n",
       "      <td>34.3917</td>\n",
       "      <td>132.4570</td>\n",
       "      <td>Hiroshima</td>\n",
       "      <td>Japan</td>\n",
       "      <td>082-248-5831</td>\n",
       "      <td>082-246-0289</td>\n",
       "      <td>https://www.seika.com/</td>\n",
       "      <td>NaN</td>\n",
       "      <td>576,204,668.25</td>\n",
       "      <td>1,040</td>\n",
       "    </tr>\n",
       "    <tr>\n",
       "      <th>835</th>\n",
       "      <td>OEM</td>\n",
       "      <td>Industrial Machinery</td>\n",
       "      <td>Industrial Machinery</td>\n",
       "      <td>Seika Corp. - Tokuyama Branch Office</td>\n",
       "      <td>745-0036 1-3 Honmachi, Shunan City, Yamaguchi ...</td>\n",
       "      <td>34.0527</td>\n",
       "      <td>131.8036</td>\n",
       "      <td>Yamaguchi</td>\n",
       "      <td>Japan</td>\n",
       "      <td>0834-21-4407</td>\n",
       "      <td>0834-21-4408</td>\n",
       "      <td>https://www.seika.com/</td>\n",
       "      <td>NaN</td>\n",
       "      <td>576,204,668.25</td>\n",
       "      <td>1,040</td>\n",
       "    </tr>\n",
       "    <tr>\n",
       "      <th>836</th>\n",
       "      <td>OEM</td>\n",
       "      <td>Industrial Machinery</td>\n",
       "      <td>Industrial Machinery</td>\n",
       "      <td>Seika Corp. - Yamaguchi Branch Office</td>\n",
       "      <td>Ube Industries Building, 8-1 Aioicho, Ube City...</td>\n",
       "      <td>33.9548</td>\n",
       "      <td>131.2447</td>\n",
       "      <td>Yamaguchi</td>\n",
       "      <td>Japan</td>\n",
       "      <td>0836-22-0191</td>\n",
       "      <td>0836-22-0187</td>\n",
       "      <td>https://www.seika.com/</td>\n",
       "      <td>NaN</td>\n",
       "      <td>576,204,668.25</td>\n",
       "      <td>1,040</td>\n",
       "    </tr>\n",
       "    <tr>\n",
       "      <th>837</th>\n",
       "      <td>OEM</td>\n",
       "      <td>Industrial Machinery</td>\n",
       "      <td>Industrial Machinery</td>\n",
       "      <td>Seika Corp. - Fukuoka Branch Office</td>\n",
       "      <td>810-0004 Fukuoka City Chuo Ward Watanabedori 2...</td>\n",
       "      <td>33.5828</td>\n",
       "      <td>130.4052</td>\n",
       "      <td>Fukuoka</td>\n",
       "      <td>Japan</td>\n",
       "      <td>092-731-0471</td>\n",
       "      <td>092-731-0955</td>\n",
       "      <td>https://www.seika.com/</td>\n",
       "      <td>NaN</td>\n",
       "      <td>576,204,668.25</td>\n",
       "      <td>1,040</td>\n",
       "    </tr>\n",
       "  </tbody>\n",
       "</table>\n",
       "<p>838 rows × 15 columns</p>\n",
       "</div>"
      ],
      "text/plain": [
       "    Busines Model                                           Category  \\\n",
       "0             OEM                           Heat Treatment Equipment   \n",
       "1             OEM  Precision Machinery, Inspecting & Testing Equi...   \n",
       "2             OEM                                 Electric Machinery   \n",
       "3             OEM        Apparatus & Machinery for Chemical Industry   \n",
       "4             OEM                                      Piping System   \n",
       "..            ...                                                ...   \n",
       "833           OEM                               Industrial Machinery   \n",
       "834           OEM                               Industrial Machinery   \n",
       "835           OEM                               Industrial Machinery   \n",
       "836           OEM                               Industrial Machinery   \n",
       "837           OEM                               Industrial Machinery   \n",
       "\n",
       "                             Subcategory  \\\n",
       "0    Mechanical seal auxiliary equipment   \n",
       "1                    Calibration Systems   \n",
       "2                    Calibration Systems   \n",
       "3    Mechanical seal auxiliary equipment   \n",
       "4    Mechanical seal auxiliary equipment   \n",
       "..                                   ...   \n",
       "833                 Industrial Machinery   \n",
       "834                 Industrial Machinery   \n",
       "835                 Industrial Machinery   \n",
       "836                 Industrial Machinery   \n",
       "837                 Industrial Machinery   \n",
       "\n",
       "                                          Company Name  \\\n",
       "0    Eagle Industry Co., Ltd. - Marine Division Kur...   \n",
       "1    Eagle Industry Co., Ltd. - Marine Division Kur...   \n",
       "2    Eagle Industry Co., Ltd. - Marine Division Kur...   \n",
       "3    Eagle Industry Co., Ltd. - Hiroshima Branch Sh...   \n",
       "4    Eagle Industry Co., Ltd. - Hiroshima Branch Sh...   \n",
       "..                                                 ...   \n",
       "833       Seika Corp. - Higashihiroshima Branch Office   \n",
       "834              Seika Corp. - Hiroshima Branch Office   \n",
       "835               Seika Corp. - Tokuyama Branch Office   \n",
       "836              Seika Corp. - Yamaguchi Branch Office   \n",
       "837                Seika Corp. - Fukuoka Branch Office   \n",
       "\n",
       "                                               Address  Latitude  Longitude  \\\n",
       "0    737-0027 No. 8 1 Showa-cho, Kure City, Hiroshi...   34.2506   132.5651   \n",
       "1    737-0027 No. 8 1 Showa-cho, Kure City, Hiroshi...   34.2506   132.5651   \n",
       "2    737-0027 No. 8 1 Showa-cho, Kure City, Hiroshi...   34.2506   132.5651   \n",
       "3           746-0024 2-20-3 Koizumi, Shunan, Yamaguchi   34.0421   131.8069   \n",
       "4           746-0024 2-20-3 Koizumi, Shunan, Yamaguchi   34.0421   131.8069   \n",
       "..                                                 ...       ...        ...   \n",
       "833  11265-1 Irino, Kawachi-cho, Higashi-Hiroshima ...   34.4402   132.8718   \n",
       "834  7F Hiroshima Fukuromachi Building, 5-25 Fukuro...   34.3917   132.4570   \n",
       "835  745-0036 1-3 Honmachi, Shunan City, Yamaguchi ...   34.0527   131.8036   \n",
       "836  Ube Industries Building, 8-1 Aioicho, Ube City...   33.9548   131.2447   \n",
       "837  810-0004 Fukuoka City Chuo Ward Watanabedori 2...   33.5828   130.4052   \n",
       "\n",
       "         State Country     Contact No.         Fax No.  \\\n",
       "0    Hiroshima   Japan  (0823) 25-7121  (0823) 25-7120   \n",
       "1    Hiroshima   Japan  (0823) 25-7121  (0823) 25-7120   \n",
       "2    Hiroshima   Japan  (0823) 25-7121  (0823) 25-7120   \n",
       "3    Yamaguchi   Japan  (0834) 63-7648  (0834) 61-1054   \n",
       "4    Yamaguchi   Japan  (0834) 63-7648  (0834) 61-1054   \n",
       "..         ...     ...             ...             ...   \n",
       "833  Hiroshima   Japan    082-420-7001    082-437-0111   \n",
       "834  Hiroshima   Japan    082-248-5831    082-246-0289   \n",
       "835  Yamaguchi   Japan    0834-21-4407    0834-21-4408   \n",
       "836  Yamaguchi   Japan    0836-22-0191    0836-22-0187   \n",
       "837    Fukuoka   Japan    092-731-0471    092-731-0955   \n",
       "\n",
       "                         Website  Email       Annual Sale Employees  \n",
       "0    https://www.ekkeagle.com/jp    NaN  1,117,001,501.90     6,280  \n",
       "1    https://www.ekkeagle.com/jp    NaN  1,117,001,501.90     6,280  \n",
       "2    https://www.ekkeagle.com/jp    NaN  1,117,001,501.90     6,280  \n",
       "3    https://www.ekkeagle.com/jp    NaN  1,117,001,501.90     6,280  \n",
       "4    https://www.ekkeagle.com/jp    NaN  1,117,001,501.90     6,280  \n",
       "..                           ...    ...               ...       ...  \n",
       "833       https://www.seika.com/    NaN    576,204,668.25     1,040  \n",
       "834       https://www.seika.com/    NaN    576,204,668.25     1,040  \n",
       "835       https://www.seika.com/    NaN    576,204,668.25     1,040  \n",
       "836       https://www.seika.com/    NaN    576,204,668.25     1,040  \n",
       "837       https://www.seika.com/    NaN    576,204,668.25     1,040  \n",
       "\n",
       "[838 rows x 15 columns]"
      ]
     },
     "execution_count": 8,
     "metadata": {},
     "output_type": "execute_result"
    }
   ],
   "source": [
    "C_df"
   ]
  },
  {
   "cell_type": "markdown",
   "id": "26950a76-578e-4473-9438-60d7b44c7028",
   "metadata": {},
   "source": [
    "<h2>🧼 Clean Dataset</h2>"
   ]
  },
  {
   "cell_type": "markdown",
   "id": "f1f4d451-3e6a-43f5-a6f4-bacc13d3af49",
   "metadata": {},
   "source": [
    "<h3>✂️ Remove Irrelevant Data</h3>"
   ]
  },
  {
   "cell_type": "code",
   "execution_count": null,
   "id": "a8443452-77fa-4daa-8000-efbb1fd8a0eb",
   "metadata": {},
   "outputs": [],
   "source": []
  },
  {
   "cell_type": "markdown",
   "id": "bd2988cc-6e03-46eb-a974-656968028bfb",
   "metadata": {},
   "source": [
    "<h3>🕳 Handle Missing or Incomplete Data</h3>"
   ]
  },
  {
   "cell_type": "code",
   "execution_count": null,
   "id": "00db81b8-4ed4-43ee-8ff6-23c1e4ebfb97",
   "metadata": {},
   "outputs": [],
   "source": []
  },
  {
   "cell_type": "markdown",
   "id": "1ee70284-d8c0-4ae7-b69a-e88bbf66f70d",
   "metadata": {},
   "source": [
    "<h3>⚠️ Fix Formatting Issues</h3>"
   ]
  },
  {
   "cell_type": "code",
   "execution_count": null,
   "id": "d585e0d4-c8a8-4739-829d-b0d88c16f549",
   "metadata": {},
   "outputs": [],
   "source": []
  },
  {
   "cell_type": "markdown",
   "id": "352b61c0-adbe-462a-ba7d-878ebff9daca",
   "metadata": {},
   "source": [
    "<h3>🎏 Remove Duplicate Records</h3>"
   ]
  },
  {
   "cell_type": "code",
   "execution_count": null,
   "id": "3e4c7ad4-f98e-4d8f-91c7-77e7e55f46ae",
   "metadata": {},
   "outputs": [],
   "source": []
  },
  {
   "cell_type": "markdown",
   "id": "b43913d4-e329-4203-a0fd-b240451d8f8b",
   "metadata": {},
   "source": [
    "<h3>🌐 Validate Geolocation Data</h3>"
   ]
  },
  {
   "cell_type": "code",
   "execution_count": null,
   "id": "785a878b-762f-4d79-983c-e6ea289eec28",
   "metadata": {},
   "outputs": [],
   "source": []
  },
  {
   "cell_type": "markdown",
   "id": "dd3ffdc9-57d2-43c9-bb2b-a92e5b799bed",
   "metadata": {},
   "source": [
    "<h3>📝 Correct Incorrect Entries</h3>"
   ]
  },
  {
   "cell_type": "code",
   "execution_count": null,
   "id": "d5d5dfdd-99ba-48ad-aca5-ba7f27af28c5",
   "metadata": {},
   "outputs": [],
   "source": []
  },
  {
   "cell_type": "markdown",
   "id": "00f8a3cd-f580-443c-815e-e830efb4703a",
   "metadata": {},
   "source": [
    "<h3>📈 Detect and Treat Outliers</h3>"
   ]
  },
  {
   "cell_type": "code",
   "execution_count": null,
   "id": "14a95183-f66d-417e-92cd-b81694702f37",
   "metadata": {},
   "outputs": [],
   "source": []
  },
  {
   "cell_type": "markdown",
   "id": "456adbf8-ee88-48db-9264-9ee848a234ca",
   "metadata": {},
   "source": [
    "<h2>🔎 Finalize Dataset</h2>"
   ]
  },
  {
   "cell_type": "code",
   "execution_count": null,
   "id": "d8064f12-3816-409c-9d70-cefbd589207d",
   "metadata": {},
   "outputs": [],
   "source": []
  },
  {
   "cell_type": "markdown",
   "id": "dfec6be9-43d8-442a-b2aa-e477a11d9887",
   "metadata": {},
   "source": [
    "<h2>📥 Download Dataset</h2>"
   ]
  },
  {
   "cell_type": "code",
   "execution_count": null,
   "id": "7c1f39d4-8dfd-4dc2-ac78-ac672c1ef2dd",
   "metadata": {},
   "outputs": [],
   "source": []
  },
  {
   "cell_type": "markdown",
   "id": "efdcc591-cbad-41c6-8b05-c594cb5b454c",
   "metadata": {},
   "source": [
    "<h2>💌 Credits ✉️</h2>"
   ]
  },
  {
   "cell_type": "markdown",
   "id": "3a8d34dc-38fc-45d0-b4f6-de0ec498a5aa",
   "metadata": {},
   "source": [
    "This project is done by <b>ERMITANO, Kate Justine</b> as a part of the internship tasks under the instructions of <b>Miss Fherlyn Charl Yet</b>."
   ]
  }
 ],
 "metadata": {
  "kernelspec": {
   "display_name": "Python 3 (ipykernel)",
   "language": "python",
   "name": "python3"
  },
  "language_info": {
   "codemirror_mode": {
    "name": "ipython",
    "version": 3
   },
   "file_extension": ".py",
   "mimetype": "text/x-python",
   "name": "python",
   "nbconvert_exporter": "python",
   "pygments_lexer": "ipython3",
   "version": "3.13.5"
  }
 },
 "nbformat": 4,
 "nbformat_minor": 5
}
